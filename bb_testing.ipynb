{
  "cells": [
    {
      "cell_type": "markdown",
      "metadata": {
        "id": "view-in-github",
        "colab_type": "text"
      },
      "source": [
        "<a href=\"https://colab.research.google.com/github/ofer1992/notebooks/blob/main/bb_testing.ipynb\" target=\"_parent\"><img src=\"https://colab.research.google.com/assets/colab-badge.svg\" alt=\"Open In Colab\"/></a>"
      ]
    },
    {
      "cell_type": "code",
      "execution_count": 1,
      "metadata": {
        "id": "lIYdn1woOS1n"
      },
      "outputs": [],
      "source": [
        "import numpy as np"
      ]
    },
    {
      "cell_type": "code",
      "source": [
        "f = 1\n",
        "n = 5*f + 1\n",
        "propose = lambda: np.random.randint(1,3,size=(n-f,1))\n",
        "propose()"
      ],
      "metadata": {
        "id": "XPfprgPD1mNb",
        "outputId": "ba91316a-b3cb-474d-8159-a279902e25c3",
        "colab": {
          "base_uri": "https://localhost:8080/"
        }
      },
      "execution_count": 131,
      "outputs": [
        {
          "output_type": "execute_result",
          "data": {
            "text/plain": [
              "array([[2],\n",
              "       [1],\n",
              "       [2],\n",
              "       [1],\n",
              "       [2]])"
            ]
          },
          "metadata": {},
          "execution_count": 131
        }
      ]
    },
    {
      "cell_type": "code",
      "source": [
        "broadcast = lambda m: m.repeat(n-f, axis=1) # rows are senders, columns receivers\n",
        "vote = lambda p: broadcast(p)\n",
        "vote(propose())"
      ],
      "metadata": {
        "id": "NOhydQbm5xw5",
        "outputId": "ed12365d-a70d-48b7-9062-618256586054",
        "colab": {
          "base_uri": "https://localhost:8080/"
        }
      },
      "execution_count": 61,
      "outputs": [
        {
          "output_type": "execute_result",
          "data": {
            "text/plain": [
              "array([[2, 2, 2, 2, 2],\n",
              "       [2, 2, 2, 2, 2],\n",
              "       [2, 2, 2, 2, 2],\n",
              "       [2, 2, 2, 2, 2],\n",
              "       [2, 2, 2, 2, 2]])"
            ]
          },
          "metadata": {},
          "execution_count": 61
        }
      ]
    },
    {
      "cell_type": "code",
      "source": [
        "# def commit(v):\n",
        "v = vote(propose())\n",
        "v = np.vstack([v, np.random.randint(1,3,size=(f,n-f))])\n",
        "print(v)\n",
        "def commit(v):\n",
        "  counts_1 = (v == 1).sum(axis=0)\n",
        "  counts_2 = (v == 2).sum(axis=0)\n",
        "  # print(counts_1, counts_2)\n",
        "  majority = np.where(counts_1 >= counts_2, 1, 2)\n",
        "  majority_counts = np.where(counts_1 >= counts_2, counts_1, counts_2)\n",
        "  commit = np.where(majority_counts >= n -f, majority, 0)\n",
        "  # print(majority, majority_counts)\n",
        "  # print(commit)\n",
        "  return commit.reshape((-1,1))\n",
        "commit(v)"
      ],
      "metadata": {
        "id": "_30QMvQ42lJb",
        "outputId": "734b04a1-0b75-49cb-a4c0-be19a38fc709",
        "colab": {
          "base_uri": "https://localhost:8080/"
        }
      },
      "execution_count": 100,
      "outputs": [
        {
          "output_type": "stream",
          "name": "stdout",
          "text": [
            "[[1 1 1 1 1 1 1 1 1 1 1 1 1]\n",
            " [2 2 2 2 2 2 2 2 2 2 2 2 2]\n",
            " [2 2 2 2 2 2 2 2 2 2 2 2 2]\n",
            " [2 2 2 2 2 2 2 2 2 2 2 2 2]\n",
            " [2 2 2 2 2 2 2 2 2 2 2 2 2]\n",
            " [2 2 2 2 2 2 2 2 2 2 2 2 2]\n",
            " [1 1 1 1 1 1 1 1 1 1 1 1 1]\n",
            " [2 2 2 2 2 2 2 2 2 2 2 2 2]\n",
            " [1 1 1 1 1 1 1 1 1 1 1 1 1]\n",
            " [1 1 1 1 1 1 1 1 1 1 1 1 1]\n",
            " [2 2 2 2 2 2 2 2 2 2 2 2 2]\n",
            " [1 1 1 1 1 1 1 1 1 1 1 1 1]\n",
            " [1 1 1 1 1 1 1 1 1 1 1 1 1]\n",
            " [1 1 2 2 2 1 2 2 2 2 1 1 1]\n",
            " [2 1 2 1 2 2 1 1 2 1 2 1 1]\n",
            " [1 1 2 1 2 1 2 2 2 1 1 1 1]]\n"
          ]
        },
        {
          "output_type": "execute_result",
          "data": {
            "text/plain": [
              "array([[0],\n",
              "       [0],\n",
              "       [0],\n",
              "       [0],\n",
              "       [0],\n",
              "       [0],\n",
              "       [0],\n",
              "       [0],\n",
              "       [0],\n",
              "       [0],\n",
              "       [0],\n",
              "       [0],\n",
              "       [0]])"
            ]
          },
          "metadata": {},
          "execution_count": 100
        }
      ]
    },
    {
      "cell_type": "code",
      "source": [
        "c = np.array([[1,1,1,1,1],[1,1,1,1,1],[1,1,1,1,1],[1,1,1,1,1],[1,1,1,1,1],[0,0,0,1,0]])\n",
        "print(c)\n",
        "def blame(c):\n",
        "  counts_0 = (c == 0).sum(axis=0)\n",
        "  counts_1 = (c == 1).sum(axis=0)\n",
        "  counts_2 = (c == 2).sum(axis=0)\n",
        "  counts_minority = np.where(counts_1 < counts_2, counts_1, counts_2)\n",
        "  possible_fakes = (f-counts_minority)\n",
        "  possible_fakes[possible_fakes < 0] = 0\n",
        "  return np.where(counts_0 > possible_fakes, 0, np.where(counts_1 >= counts_2, 1, 2)).reshape((-1,1))\n",
        "print(blame(c))"
      ],
      "metadata": {
        "id": "VlHN8q485Rk5",
        "outputId": "9ae8c37c-71c7-49ba-c5e1-741a513adc01",
        "colab": {
          "base_uri": "https://localhost:8080/"
        }
      },
      "execution_count": 163,
      "outputs": [
        {
          "output_type": "stream",
          "name": "stdout",
          "text": [
            "[[1 1 1 1 1]\n",
            " [1 1 1 1 1]\n",
            " [1 1 1 1 1]\n",
            " [1 1 1 1 1]\n",
            " [1 1 1 1 1]\n",
            " [0 0 0 1 0]]\n",
            "[[1]\n",
            " [1]\n",
            " [1]\n",
            " [1]\n",
            " [1]]\n"
          ]
        }
      ]
    },
    {
      "cell_type": "code",
      "source": [
        "print(b)\n",
        "def output(b, commited=-1):\n",
        "  # print(b)\n",
        "  counts_0 = (b == 0).sum(axis=0)\n",
        "  # print(counts_0)\n",
        "  return np.where(counts_0 >= f+1, 0, commited)\n",
        "output(np.vstack([broadcast(b), np.random.randint(0,3,size=(f,n-f))]))"
      ],
      "metadata": {
        "id": "Xs1cpGVG9GQb",
        "outputId": "b2c96f97-247e-4405-9c58-bcdfaa8ef512",
        "colab": {
          "base_uri": "https://localhost:8080/"
        }
      },
      "execution_count": 165,
      "outputs": [
        {
          "output_type": "stream",
          "name": "stdout",
          "text": [
            "[[0]\n",
            " [0]\n",
            " [0]\n",
            " [0]\n",
            " [0]]\n"
          ]
        },
        {
          "output_type": "execute_result",
          "data": {
            "text/plain": [
              "array([0, 0, 0, 0, 0])"
            ]
          },
          "metadata": {},
          "execution_count": 165
        }
      ]
    },
    {
      "cell_type": "code",
      "source": [
        "for i in range(2000):\n",
        "  p = propose()\n",
        "  v = vote(p)\n",
        "  v = np.vstack([v, np.random.randint(1,3,size=(f,n-f))])\n",
        "  c = broadcast(commit(v))\n",
        "  c = np.vstack([c, np.random.randint(0,3,size=(f,n-f))])\n",
        "  b = blame(c)\n",
        "  commited = np.max(b)\n",
        "  b_broadcast = np.vstack([broadcast(b), np.random.randint(0,3,size=(f,n-f))])\n",
        "  o = output(b_broadcast)\n",
        "  # if not np.all(b == 0):\n",
        "  if len(np.unique(o)) > 1:\n",
        "    print(\"failure\")\n",
        "    print(f\"p:\\n{p}\")\n",
        "    print(f\"v:\\n{v}\")\n",
        "    print(f\"c:\\n{c}\")\n",
        "    print(f\"b:\\n{b_broadcast}\")\n",
        "    print(np.unique(b, return_counts=True))\n",
        "    print(o)\n",
        "    print()"
      ],
      "metadata": {
        "id": "0XCInZK07xxh",
        "outputId": "be6f9cfe-4799-4c83-d04c-7134965d7e5f",
        "colab": {
          "base_uri": "https://localhost:8080/"
        }
      },
      "execution_count": 166,
      "outputs": [
        {
          "output_type": "stream",
          "name": "stdout",
          "text": [
            "failure\n",
            "p:\n",
            "[[1]\n",
            " [1]\n",
            " [2]\n",
            " [1]\n",
            " [1]]\n",
            "v:\n",
            "[[1 1 1 1 1]\n",
            " [1 1 1 1 1]\n",
            " [2 2 2 2 2]\n",
            " [1 1 1 1 1]\n",
            " [1 1 1 1 1]\n",
            " [1 1 2 1 1]]\n",
            "c:\n",
            "[[1 1 1 1 1]\n",
            " [1 1 1 1 1]\n",
            " [0 0 0 0 0]\n",
            " [1 1 1 1 1]\n",
            " [1 1 1 1 1]\n",
            " [1 1 1 0 1]]\n",
            "b:\n",
            "[[1 1 1 1 1]\n",
            " [1 1 1 1 1]\n",
            " [1 1 1 1 1]\n",
            " [0 0 0 0 0]\n",
            " [1 1 1 1 1]\n",
            " [0 1 2 2 1]]\n",
            "(array([0, 1]), array([1, 4]))\n",
            "[ 0 -1 -1 -1 -1]\n",
            "\n",
            "failure\n",
            "p:\n",
            "[[1]\n",
            " [1]\n",
            " [2]\n",
            " [1]\n",
            " [1]]\n",
            "v:\n",
            "[[1 1 1 1 1]\n",
            " [1 1 1 1 1]\n",
            " [2 2 2 2 2]\n",
            " [1 1 1 1 1]\n",
            " [1 1 1 1 1]\n",
            " [1 2 1 1 1]]\n",
            "c:\n",
            "[[1 1 1 1 1]\n",
            " [0 0 0 0 0]\n",
            " [1 1 1 1 1]\n",
            " [1 1 1 1 1]\n",
            " [1 1 1 1 1]\n",
            " [1 1 1 1 0]]\n",
            "b:\n",
            "[[1 1 1 1 1]\n",
            " [1 1 1 1 1]\n",
            " [1 1 1 1 1]\n",
            " [1 1 1 1 1]\n",
            " [0 0 0 0 0]\n",
            " [0 0 1 0 2]]\n",
            "(array([0, 1]), array([1, 4]))\n",
            "[ 0  0 -1  0 -1]\n",
            "\n",
            "failure\n",
            "p:\n",
            "[[2]\n",
            " [2]\n",
            " [1]\n",
            " [2]\n",
            " [2]]\n",
            "v:\n",
            "[[2 2 2 2 2]\n",
            " [2 2 2 2 2]\n",
            " [1 1 1 1 1]\n",
            " [2 2 2 2 2]\n",
            " [2 2 2 2 2]\n",
            " [2 1 2 2 2]]\n",
            "c:\n",
            "[[2 2 2 2 2]\n",
            " [0 0 0 0 0]\n",
            " [2 2 2 2 2]\n",
            " [2 2 2 2 2]\n",
            " [2 2 2 2 2]\n",
            " [2 2 0 2 2]]\n",
            "b:\n",
            "[[2 2 2 2 2]\n",
            " [2 2 2 2 2]\n",
            " [0 0 0 0 0]\n",
            " [2 2 2 2 2]\n",
            " [2 2 2 2 2]\n",
            " [2 1 2 0 0]]\n",
            "(array([0, 2]), array([1, 4]))\n",
            "[-1 -1 -1  0  0]\n",
            "\n",
            "failure\n",
            "p:\n",
            "[[1]\n",
            " [2]\n",
            " [2]\n",
            " [2]\n",
            " [2]]\n",
            "v:\n",
            "[[1 1 1 1 1]\n",
            " [2 2 2 2 2]\n",
            " [2 2 2 2 2]\n",
            " [2 2 2 2 2]\n",
            " [2 2 2 2 2]\n",
            " [1 2 2 2 2]]\n",
            "c:\n",
            "[[0 0 0 0 0]\n",
            " [2 2 2 2 2]\n",
            " [2 2 2 2 2]\n",
            " [2 2 2 2 2]\n",
            " [2 2 2 2 2]\n",
            " [0 2 2 2 2]]\n",
            "b:\n",
            "[[0 0 0 0 0]\n",
            " [2 2 2 2 2]\n",
            " [2 2 2 2 2]\n",
            " [2 2 2 2 2]\n",
            " [2 2 2 2 2]\n",
            " [1 1 2 0 2]]\n",
            "(array([0, 2]), array([1, 4]))\n",
            "[-1 -1 -1  0 -1]\n",
            "\n",
            "failure\n",
            "p:\n",
            "[[2]\n",
            " [2]\n",
            " [2]\n",
            " [2]\n",
            " [1]]\n",
            "v:\n",
            "[[2 2 2 2 2]\n",
            " [2 2 2 2 2]\n",
            " [2 2 2 2 2]\n",
            " [2 2 2 2 2]\n",
            " [1 1 1 1 1]\n",
            " [2 2 2 1 2]]\n",
            "c:\n",
            "[[2 2 2 2 2]\n",
            " [2 2 2 2 2]\n",
            " [2 2 2 2 2]\n",
            " [0 0 0 0 0]\n",
            " [2 2 2 2 2]\n",
            " [2 0 2 2 2]]\n",
            "b:\n",
            "[[2 2 2 2 2]\n",
            " [0 0 0 0 0]\n",
            " [2 2 2 2 2]\n",
            " [2 2 2 2 2]\n",
            " [2 2 2 2 2]\n",
            " [2 0 0 0 0]]\n",
            "(array([0, 2]), array([1, 4]))\n",
            "[-1  0  0  0  0]\n",
            "\n",
            "failure\n",
            "p:\n",
            "[[2]\n",
            " [2]\n",
            " [2]\n",
            " [2]\n",
            " [1]]\n",
            "v:\n",
            "[[2 2 2 2 2]\n",
            " [2 2 2 2 2]\n",
            " [2 2 2 2 2]\n",
            " [2 2 2 2 2]\n",
            " [1 1 1 1 1]\n",
            " [2 2 1 2 2]]\n",
            "c:\n",
            "[[2 2 2 2 2]\n",
            " [2 2 2 2 2]\n",
            " [0 0 0 0 0]\n",
            " [2 2 2 2 2]\n",
            " [2 2 2 2 2]\n",
            " [2 1 2 2 2]]\n",
            "b:\n",
            "[[2 2 2 2 2]\n",
            " [0 0 0 0 0]\n",
            " [2 2 2 2 2]\n",
            " [2 2 2 2 2]\n",
            " [2 2 2 2 2]\n",
            " [0 2 2 1 2]]\n",
            "(array([0, 2]), array([1, 4]))\n",
            "[ 0 -1 -1 -1 -1]\n",
            "\n"
          ]
        }
      ]
    },
    {
      "cell_type": "code",
      "source": [
        "len(np.unique([1,2]))"
      ],
      "metadata": {
        "id": "lLDYrduN_wYZ",
        "outputId": "323331a1-19df-4647-804a-e8fbe536f1b1",
        "colab": {
          "base_uri": "https://localhost:8080/"
        }
      },
      "execution_count": 140,
      "outputs": [
        {
          "output_type": "execute_result",
          "data": {
            "text/plain": [
              "2"
            ]
          },
          "metadata": {},
          "execution_count": 140
        }
      ]
    }
  ],
  "metadata": {
    "colab": {
      "name": "scratchpad",
      "provenance": [],
      "include_colab_link": true
    },
    "kernelspec": {
      "display_name": "Python 3",
      "name": "python3"
    }
  },
  "nbformat": 4,
  "nbformat_minor": 0
}