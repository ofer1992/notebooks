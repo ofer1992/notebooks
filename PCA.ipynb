{
  "cells": [
    {
      "cell_type": "code",
      "execution_count": 1,
      "id": "ef2d6ded",
      "metadata": {
        "id": "ef2d6ded"
      },
      "outputs": [],
      "source": [
        "import numpy as np\n",
        "import matplotlib.pyplot as plt\n",
        "%matplotlib inline\n",
        "plt.rcParams['figure.figsize'] = (10.0, 8.0) # set default size of plots\n",
        "plt.rcParams['image.interpolation'] = 'nearest'\n",
        "plt.rcParams['image.cmap'] = 'gray'\n"
      ]
    },
    {
      "cell_type": "code",
      "source": [
        "# helpers\n",
        "\n",
        "def scatter(pts):\n",
        "  # pts - DxN array\n",
        "  plt.scatter(*pts)\n",
        "  plt.grid(True)\n",
        "  plt.gca().set_aspect('equal')\n",
        "  plt.xlim(-4,4)\n",
        "  plt.ylim(-4,4)\n",
        "  # plt.show()\n",
        "\n",
        "\n",
        "def plot_proj(X, *vs):\n",
        "    s = np.linspace(-100., 100.)\n",
        "    scatter(X)\n",
        "    for v in vs:\n",
        "        proj = v @ X\n",
        "        plt.plot(*(v[:,None] @ s[None,:]),c='black')\n",
        "        scatter(proj * v[:,None])\n",
        "    # print(f\"var of projection onto v={v} is {(v @ X).var()}\")\n",
        "    plt.grid(True)\n",
        "    plt.show()\n"
      ],
      "metadata": {
        "id": "28ezZPqHQP3I"
      },
      "id": "28ezZPqHQP3I",
      "execution_count": 52,
      "outputs": []
    },
    {
      "cell_type": "markdown",
      "source": [
        "# Prinicipal Component Analysis\n",
        "\n",
        "In this post I want to derive and explore a basic _data analysis/machine learning_ technique called PCA - Prinicipal Component Analysis. It is a fun technique that connects optimization with linear algebra, and has a couple of interesting interperations and uses. Let's dive into it."
      ],
      "metadata": {
        "id": "Cfdcx7_0Zqaf"
      },
      "id": "Cfdcx7_0Zqaf"
    },
    {
      "cell_type": "markdown",
      "id": "cb6085f7",
      "metadata": {
        "id": "cb6085f7"
      },
      "source": [
        "## TODO:\n",
        "- why isn't the projection perfect?\n",
        "- isometric graphs\n",
        "- motivation\n",
        "- the noise setting: \n",
        "  - what is the model? $x+n$?\n",
        "  - how does gaussian noise affect the pca?\n",
        "  - is it considered denoising to get rid of "
      ]
    },
    {
      "cell_type": "markdown",
      "source": [
        "## Some Theoretical Exploration"
      ],
      "metadata": {
        "id": "o2krxD2ek75v"
      },
      "id": "o2krxD2ek75v"
    },
    {
      "cell_type": "markdown",
      "id": "2a3bc5f6",
      "metadata": {
        "id": "2a3bc5f6"
      },
      "source": [
        "### Problem Statement and Derivations\n",
        "\n",
        "We start with some dataset $\\mathcal X=\\{x_i\\}_{i=1}^n$ containing $n$ data samples, each with $k$ features [need distribution?]. We can then arrange them in a matrix $\\mathbf X$, stacking each sample horizontaly as column vectors.\n",
        "\n",
        "$$\\mathbf X=\\begin{bmatrix}\n",
        "\\vec{x_1} & \\vec{x_2} &\\cdots & \\vec{x_n}\n",
        "\\end{bmatrix}$$\n",
        "\n",
        "An example when $k=2$ would be:\n",
        "\n"
      ]
    },
    {
      "cell_type": "code",
      "execution_count": 22,
      "id": "516cf13d",
      "metadata": {
        "id": "516cf13d",
        "outputId": "c14f9a4e-5b36-4234-9e9a-89f84113b2ca",
        "colab": {
          "base_uri": "https://localhost:8080/",
          "height": 287
        }
      },
      "outputs": [
        {
          "output_type": "execute_result",
          "data": {
            "application/vnd.google.colaboratory.intrinsic+json": {
              "type": "string"
            },
            "text/plain": [
              "'X dims are (2, 100)'"
            ]
          },
          "metadata": {},
          "execution_count": 22
        },
        {
          "output_type": "display_data",
          "data": {
            "image/png": "[encoded data removed]",
            "text/plain": [
              "<Figure size 432x288 with 1 Axes>"
            ]
          },
          "metadata": {
            "needs_background": "light"
          }
        }
      ],
      "source": [
        "N = 100\n",
        "X = np.random.multivariate_normal([0,0], [[1,-1],[-1,2]], N).T\n",
        "scatter(X)\n",
        "f'X dims are {X.shape}' # TODO: opposite what I expected"
      ]
    },
    {
      "cell_type": "markdown",
      "source": [
        "Given some unit vector $v\\in\\mathbb R^k$ we could project all our samples onto the line spanned by $v$ "
      ],
      "metadata": {
        "id": "EEb9eSVafExT"
      },
      "id": "EEb9eSVafExT"
    },
    {
      "cell_type": "code",
      "source": [
        "v = np.array([1,0])\n",
        "v = v / np.linalg.norm(v)\n",
        "print(\"projecting onto [1,0] after normalization\")\n",
        "plot_proj(X, v)\n",
        "\n",
        "print(\"projecting onto [1,1] after normalization\")\n",
        "v = np.array([1,1])\n",
        "v = v / np.linalg.norm(v)\n",
        "plot_proj(X, v)"
      ],
      "metadata": {
        "id": "9NtdBI-Of2Fv",
        "outputId": "ec9454d2-7a13-4a85-bc04-66ee816c16c3",
        "colab": {
          "base_uri": "https://localhost:8080/",
          "height": 556
        }
      },
      "id": "9NtdBI-Of2Fv",
      "execution_count": 56,
      "outputs": [
        {
          "output_type": "stream",
          "name": "stdout",
          "text": [
            "projecting onto [1,0] after normalization\n"
          ]
        },
        {
          "output_type": "display_data",
          "data": {
            "image/png": "[encoded data removed]",
            "text/plain": [
              "<Figure size 432x288 with 1 Axes>"
            ]
          },
          "metadata": {
            "needs_background": "light"
          }
        },
        {
          "output_type": "stream",
          "name": "stdout",
          "text": [
            "projecting onto [1,1] after normalization\n"
          ]
        },
        {
          "output_type": "display_data",
          "data": {
            "image/png": "[encoded data removed]",
            "text/plain": [
              "<Figure size 432x288 with 1 Axes>"
            ]
          },
          "metadata": {
            "needs_background": "light"
          }
        }
      ]
    },
    {
      "cell_type": "markdown",
      "source": [
        "We can see that in the first direction the points seem to be more spread out than in the second direction. Intuitivly, the data seem to vary more in the first direction, which we might deduce to mean that this direction is more informative or important.\n",
        "\n",
        "To measure the variabilty, we can calculate the empirical variance of the projected points\n",
        "$$\\sum_{i=1}^n (p(x_i)-\\widehat{p(x)})^2$$\n",
        "where $\\widehat{p(x)}$ is the empirical mean of the projections. Let's try to find this maximizing vector:\n"
      ],
      "metadata": {
        "id": "x7z79Fm8h341"
      },
      "id": "x7z79Fm8h341"
    },
    {
      "cell_type": "markdown",
      "source": [
        "### Finding the vector of largest variance"
      ],
      "metadata": {
        "id": "YSUQXVvqlFPv"
      },
      "id": "YSUQXVvqlFPv"
    },
    {
      "cell_type": "code",
      "execution_count": 5,
      "id": "92bf1e97",
      "metadata": {
        "scrolled": true,
        "id": "92bf1e97"
      },
      "outputs": [],
      "source": [
        "# TODO: better parametrization\n",
        "def ascend(X, seed=None):\n",
        "    np.random.seed(seed)\n",
        "    flip = X[0].var() > X[1].var() # hack for numeric instability\n",
        "    if flip:\n",
        "        X = np.flip(X, axis=0)\n",
        "        \n",
        "    a = np.random.uniform(-1,1);\n",
        "    for i in range(1000):\n",
        "        v = np.array([a, np.sqrt(1-a**2)])\n",
        "        proj = v @ X\n",
        "        lr = 7e-4\n",
        "        da = (proj * ([1, -a/np.sqrt(1-a**2)] @ X)).sum() # gradient with respect to a\n",
        "        assert -1 < a + lr * da < 1, \"a out of bounds\"\n",
        "        \n",
        "        #update step\n",
        "        a = a + lr * da\n",
        "    v = np.array([a, np.sqrt(1-a**2)])\n",
        "    if flip:\n",
        "        v = np.array([np.sqrt(1-a**2), a])\n",
        "    return v"
      ]
    },
    {
      "cell_type": "code",
      "execution_count": 46,
      "id": "4e8d333d",
      "metadata": {
        "id": "4e8d333d",
        "outputId": "b361732d-de43-4065-f4d1-2acb73a065c7",
        "colab": {
          "base_uri": "https://localhost:8080/",
          "height": 286
        }
      },
      "outputs": [
        {
          "output_type": "stream",
          "name": "stdout",
          "text": [
            "var of projection onto v=[-0.59355331  0.80479467] is 2.0492135251700625\n"
          ]
        },
        {
          "output_type": "display_data",
          "data": {
            "image/png": "[encoded data removed]",
            "text/plain": [
              "<Figure size 432x288 with 1 Axes>"
            ]
          },
          "metadata": {
            "needs_background": "light"
          }
        }
      ],
      "source": [
        "ev1 = ascend(X)\n",
        "plot_proj(X, ev1)"
      ]
    },
    {
      "cell_type": "markdown",
      "source": [
        "`. Some directions will vary more than others, and we can try to choose some orthogonal [Why orthogonal?] set of such vectors, ordered by variance. Let's give it a try. First we sample some points\n",
        "We can see along one direction the variance is larger. Motivated by the introduction, we try and search for the direction of largest variance. Since this problem is convex [Show!] we can use gradient ascent. Of course, the tricky part is we are actually in a constrained optimization but with a naive parametrization and some tricks we can get it to work`"
      ],
      "metadata": {
        "id": "5RVGBhW_kbyN"
      },
      "id": "5RVGBhW_kbyN"
    },
    {
      "cell_type": "markdown",
      "id": "f90ff234",
      "metadata": {
        "id": "f90ff234"
      },
      "source": [
        "Walla! we (apparently) managed to find what we wanted. How can we go about finding the second direction? If we will eventually get a collection of orthogonal vectors, then each datapoint will be a linear combination of these vectors. Maybe if we subtract our first vector from the dataset and repeat the process, we will get the next vector? [meh, i don't like this reasoning]"
      ]
    },
    {
      "cell_type": "code",
      "execution_count": 47,
      "id": "e2d223b8",
      "metadata": {
        "id": "e2d223b8",
        "outputId": "43f4c2ea-74ae-4d30-917b-39d918b7c159",
        "colab": {
          "base_uri": "https://localhost:8080/",
          "height": 269
        }
      },
      "outputs": [
        {
          "output_type": "display_data",
          "data": {
            "image/png": "[encoded data removed]",
            "text/plain": [
              "<Figure size 432x288 with 1 Axes>"
            ]
          },
          "metadata": {
            "needs_background": "light"
          }
        }
      ],
      "source": [
        "scatter(X)\n",
        "scatter((ev1 @ X * ev1[:, None]))\n",
        "scatter((X - ev1 @ X * ev1[:, None]))"
      ]
    },
    {
      "cell_type": "code",
      "source": [
        "X1 = X - ev1 @ X * ev1[:, None]\n",
        "ev2 = ascend(X1)\n",
        "plot_proj(X1, ev2)"
      ],
      "metadata": {
        "id": "03JkTIv_R77b",
        "outputId": "cffb3d34-f2e2-494e-8c9d-2a9cd449fe92",
        "colab": {
          "base_uri": "https://localhost:8080/",
          "height": 286
        }
      },
      "id": "03JkTIv_R77b",
      "execution_count": 8,
      "outputs": [
        {
          "output_type": "stream",
          "name": "stdout",
          "text": [
            "var of projection onto v=[0.86518018 0.50146113] is 0.39804864250341837\n"
          ]
        },
        {
          "output_type": "display_data",
          "data": {
            "image/png": "[encoded data removed]",
            "text/plain": [
              "<Figure size 432x288 with 1 Axes>"
            ]
          },
          "metadata": {
            "needs_background": "light"
          }
        }
      ]
    },
    {
      "cell_type": "code",
      "execution_count": 48,
      "id": "6ae4e85a",
      "metadata": {
        "id": "6ae4e85a",
        "outputId": "069e25b2-f3a5-4e3a-f947-8e340abc87ac",
        "colab": {
          "base_uri": "https://localhost:8080/",
          "height": 286
        }
      },
      "outputs": [
        {
          "output_type": "stream",
          "name": "stdout",
          "text": [
            "var of projection onto v=[0.86518018 0.50146113] is 0.36763843928132656\n"
          ]
        },
        {
          "output_type": "display_data",
          "data": {
            "image/png": "[encoded data removed]",
            "text/plain": [
              "<Figure size 432x288 with 1 Axes>"
            ]
          },
          "metadata": {
            "needs_background": "light"
          }
        }
      ],
      "source": [
        "ev2 = ev2 / np.linalg.norm(ev2)\n",
        "plot_proj(X, ev1, ev2)"
      ]
    },
    {
      "cell_type": "code",
      "source": [
        "O = np.c_[ev1,ev2]\n",
        "O @  (X @ X.T / N) @ O.T"
      ],
      "metadata": {
        "id": "3pWQVB0ZTAtj",
        "outputId": "99a6e055-e7f3-45da-84fd-495b564887df",
        "colab": {
          "base_uri": "https://localhost:8080/"
        }
      },
      "id": "3pWQVB0ZTAtj",
      "execution_count": 10,
      "outputs": [
        {
          "output_type": "execute_result",
          "data": {
            "text/plain": [
              "array([[ 3.09583316e+00, -4.26998390e-15],\n",
              "       [-4.19366579e-15,  3.99158130e-01]])"
            ]
          },
          "metadata": {},
          "execution_count": 10
        }
      ]
    },
    {
      "cell_type": "markdown",
      "source": [
        "### A closed form solution\n",
        "\n",
        "Theoretically, we could repeat this procedure $k$ times as the number of the features, but it's iterative nature is somewhat problematic. Instead, lets examine what we are calculating more carefully. In the optimization we are trying to minimize the empirical variance of the projection\n",
        "$$\\min_{v,\\|v\\|=1} Var(v^TX)$$\n",
        "it can also be written as\n",
        "$$\\min_{v,\\|v\\|=1} \\frac{v^TXX^Tv}{n}=v^T\\left(\\frac{XX^T}{n}\\right)v$$\n",
        "The matrix $XX^T$ is symmetric and so can be diagonalized, ie, there exists an orthogonal matrix $O$ and diagonal matrix $D$ (holding $XX^T$'s eigenvalues in descending order such that \n",
        "$$XX^T=O D O^T$$\n",
        "Rewriting (and ignoring the constant $n$) we get\n",
        "$$\\min_{v,\\|v\\|=1} v^TODO^Tv$$\n",
        "Since $O$ is orthogonal it keeps the unit circle intact, so if we denote $u=O^Tv$ we can optimize directly on $u$\n",
        "$$\\min_{u,\\|u\\|=1} u^TDu$$\n",
        "You can convince yourself that the minimizing vector will be $e_1$, the first standard basis vector, and thus we get\n",
        "$$v=Oe_1$$\n",
        "which will be the first eigenvector of $XX^T$. This similarly extends to the rest of the principal directions. Thus we really only need to find the eigenvectors of $XX^T$."
      ],
      "metadata": {
        "id": "BBpC4m-ZSxW3"
      },
      "id": "BBpC4m-ZSxW3"
    },
    {
      "cell_type": "code",
      "source": [
        "values, vectors = np.linalg.eig(X@X.T/N)\n",
        "plot_proj(X, *vectors.T)"
      ],
      "metadata": {
        "id": "biFp-rFBUlZd",
        "outputId": "9efa713e-ac33-44f1-a34d-6e7493676ebd",
        "colab": {
          "base_uri": "https://localhost:8080/",
          "height": 286
        }
      },
      "id": "biFp-rFBUlZd",
      "execution_count": 11,
      "outputs": [
        {
          "output_type": "stream",
          "name": "stdout",
          "text": [
            "var of projection onto v=[ 0.50146113 -0.86518018] is 3.0440599817797986\n"
          ]
        },
        {
          "output_type": "display_data",
          "data": {
            "image/png": "[encoded data removed]",
            "text/plain": [
              "<Figure size 432x288 with 1 Axes>"
            ]
          },
          "metadata": {
            "needs_background": "light"
          }
        }
      ]
    },
    {
      "cell_type": "markdown",
      "source": [
        "In practice we actually compute another decomposition called the *Singular Value Decomposition* which operates on $X$ directly (thus saving the matrix multiplication). It is related to the eigenvalue decomposition and gives us the principal components."
      ],
      "metadata": {
        "id": "bmqRJ4MiZJtR"
      },
      "id": "bmqRJ4MiZJtR"
    },
    {
      "cell_type": "code",
      "source": [
        "U, D, Vh = np.linalg.svd(X)"
      ],
      "metadata": {
        "id": "b_wBmEYJX6Pe"
      },
      "id": "b_wBmEYJX6Pe",
      "execution_count": 12,
      "outputs": []
    },
    {
      "cell_type": "code",
      "source": [
        "plot_proj(X, *U.T)"
      ],
      "metadata": {
        "id": "BgzJ4N_EY__3",
        "outputId": "3607b5ea-39ed-47da-8229-a23275ee1171",
        "colab": {
          "base_uri": "https://localhost:8080/",
          "height": 286
        }
      },
      "id": "BgzJ4N_EY__3",
      "execution_count": 13,
      "outputs": [
        {
          "output_type": "stream",
          "name": "stdout",
          "text": [
            "var of projection onto v=[0.86518018 0.50146113] is 0.3980486425034186\n"
          ]
        },
        {
          "output_type": "display_data",
          "data": {
            "image/png": "[encoded data removed]",
            "text/plain": [
              "<Figure size 432x288 with 1 Axes>"
            ]
          },
          "metadata": {
            "needs_background": "light"
          }
        }
      ]
    },
    {
      "cell_type": "markdown",
      "source": [
        "## Uses\n",
        "- Dimensionality reduction\n",
        "- Denoising\n",
        "- Compression\n",
        "- Data exploration\n"
      ],
      "metadata": {
        "id": "RS16FRfDalD0"
      },
      "id": "RS16FRfDalD0"
    },
    {
      "cell_type": "markdown",
      "source": [
        "### PCA in images"
      ],
      "metadata": {
        "id": "RJ9_Z8djaco-"
      },
      "id": "RJ9_Z8djaco-"
    },
    {
      "cell_type": "markdown",
      "source": [
        "running out of ram - used `full_matrices=False`  \n",
        "[Eigenfaces](https://en.wikipedia.org/wiki/Eigenface)"
      ],
      "metadata": {
        "id": "ixu-05wPeFZ6"
      },
      "id": "ixu-05wPeFZ6"
    },
    {
      "cell_type": "code",
      "source": [
        "import torchvision.datasets as dset\n",
        "mnist = dset.MNIST('./mnist/', download=True)\n",
        "train = mnist.data.numpy()\n",
        "labels = mnist.targets\n",
        "N = train.shape[0]"
      ],
      "metadata": {
        "id": "70kJNR0fasKn",
        "outputId": "a43bb5d3-6cc0-4edf-a66c-06c8cacb696e",
        "colab": {
          "base_uri": "https://localhost:8080/",
          "height": 423,
          "referenced_widgets": [
            "5517026ed4c740099d725e5dbe2ff36d",
            "e9887cae21a549b2aa14b394863c8dc9",
            "50bc47524323488eb2208daf7330cf0c",
            "da25219a62c845a1a49c93126cee8186",
            "1f5bc30f7b744d55bcab90cb6acc30b3",
            "aff57023fbda4828a1189c511e4315b9",
            "8a2a2f3c1ef0433f9f6b2b68d4cebd50",
            "b3c8c94ecc01463d9c01c3a44e91c9f0",
            "72d9cb9b67654239a2c5fb8677cf33ae",
            "ec4dd678f79a4cd48d3ba16f5a96c254",
            "b82d1062185c454e8dbf6de436d23a21",
            "3b190de645f34fefa8976c8b1011dcf2",
            "4c7e8a177b544b8cbb84a4c9ffe5290a",
            "fa50c564ce1d41ef9e69728a34b26c8a",
            "f6f3394710f9466abb67c50b6022c24e",
            "f6016cd7c8e847ea8dab105496908daf",
            "7515652dc11445a6b8d8dc8909048266",
            "d48c635b1c77463d99b85fbb90c8ad09",
            "12e646b0ef92434dbc4ffe388b46ca45",
            "5c138a22bbc64b088e3cd809f72be0ab",
            "a71f10b0eac44cc4962c7ece1a7c8823",
            "287efac05dd04875b0feebcc8dfb6d7c",
            "6c20880598e54e068a7089e220071627",
            "bde35c08f74f4980a15174dfc31ecec3",
            "f00c1435f2c94757842b640635bf4934",
            "34f4797a2571413598e34e6b68a8815b",
            "3fde386cd8994619ad5a90950f044476",
            "8e5a43d35f4d4ae98e4c8a8bb6a6ff50",
            "9107cc0d3c1441e2b982a9318b6cd5bf",
            "ded8283e050c4e48849d7d6becdc63f5",
            "0f07ab310ef24bd2b0ef71e1b7da5e88",
            "24c9f84be8be4f2fa9e2f029830bfb9e",
            "7532e5c0ac1c4831b14a4215029256dc",
            "c44ab3db213f476cba39ca809a8137f2",
            "578353b4b05b41118227a8d46034897c",
            "562d06f6be1d4fb3947b996a1b493306",
            "ae7ccbef14714d7a8c56723397d0849b",
            "efc1a2f88eae428ca00cd022019715bf",
            "7f92eaa831164641bfaedd011a9a7be8",
            "2ebaebc0bb6a4e80a0bd1099cde7c950",
            "f47b97c160f2427c8a77e27b1983e54c",
            "3cc3eb80e9654fc2afb27a74948c8ca3",
            "18fc926107b04020ae863a774db4c36c",
            "39cf20029ce94a539c170464276315ed"
          ]
        }
      },
      "id": "70kJNR0fasKn",
      "execution_count": 14,
      "outputs": [
        {
          "output_type": "stream",
          "name": "stdout",
          "text": [
            "Downloading http://yann.lecun.com/exdb/mnist/train-images-idx3-ubyte.gz\n",
            "Downloading http://yann.lecun.com/exdb/mnist/train-images-idx3-ubyte.gz to ./mnist/MNIST/raw/train-images-idx3-ubyte.gz\n"
          ]
        },
        {
          "output_type": "display_data",
          "data": {
            "application/vnd.jupyter.widget-view+json": {
              "model_id": "5517026ed4c740099d725e5dbe2ff36d",
              "version_minor": 0,
              "version_major": 2
            },
            "text/plain": [
              "  0%|          | 0/9912422 [00:00<?, ?it/s]"
            ]
          },
          "metadata": {}
        },
        {
          "output_type": "stream",
          "name": "stdout",
          "text": [
            "Extracting ./mnist/MNIST/raw/train-images-idx3-ubyte.gz to ./mnist/MNIST/raw\n",
            "\n",
            "Downloading http://yann.lecun.com/exdb/mnist/train-labels-idx1-ubyte.gz\n",
            "Downloading http://yann.lecun.com/exdb/mnist/train-labels-idx1-ubyte.gz to ./mnist/MNIST/raw/train-labels-idx1-ubyte.gz\n"
          ]
        },
        {
          "output_type": "display_data",
          "data": {
            "application/vnd.jupyter.widget-view+json": {
              "model_id": "3b190de645f34fefa8976c8b1011dcf2",
              "version_minor": 0,
              "version_major": 2
            },
            "text/plain": [
              "  0%|          | 0/28881 [00:00<?, ?it/s]"
            ]
          },
          "metadata": {}
        },
        {
          "output_type": "stream",
          "name": "stdout",
          "text": [
            "Extracting ./mnist/MNIST/raw/train-labels-idx1-ubyte.gz to ./mnist/MNIST/raw\n",
            "\n",
            "Downloading http://yann.lecun.com/exdb/mnist/t10k-images-idx3-ubyte.gz\n",
            "Downloading http://yann.lecun.com/exdb/mnist/t10k-images-idx3-ubyte.gz to ./mnist/MNIST/raw/t10k-images-idx3-ubyte.gz\n"
          ]
        },
        {
          "output_type": "display_data",
          "data": {
            "application/vnd.jupyter.widget-view+json": {
              "model_id": "6c20880598e54e068a7089e220071627",
              "version_minor": 0,
              "version_major": 2
            },
            "text/plain": [
              "  0%|          | 0/1648877 [00:00<?, ?it/s]"
            ]
          },
          "metadata": {}
        },
        {
          "output_type": "stream",
          "name": "stdout",
          "text": [
            "Extracting ./mnist/MNIST/raw/t10k-images-idx3-ubyte.gz to ./mnist/MNIST/raw\n",
            "\n",
            "Downloading http://yann.lecun.com/exdb/mnist/t10k-labels-idx1-ubyte.gz\n",
            "Downloading http://yann.lecun.com/exdb/mnist/t10k-labels-idx1-ubyte.gz to ./mnist/MNIST/raw/t10k-labels-idx1-ubyte.gz\n"
          ]
        },
        {
          "output_type": "display_data",
          "data": {
            "application/vnd.jupyter.widget-view+json": {
              "model_id": "c44ab3db213f476cba39ca809a8137f2",
              "version_minor": 0,
              "version_major": 2
            },
            "text/plain": [
              "  0%|          | 0/4542 [00:00<?, ?it/s]"
            ]
          },
          "metadata": {}
        },
        {
          "output_type": "stream",
          "name": "stdout",
          "text": [
            "Extracting ./mnist/MNIST/raw/t10k-labels-idx1-ubyte.gz to ./mnist/MNIST/raw\n",
            "\n"
          ]
        }
      ]
    },
    {
      "cell_type": "code",
      "source": [
        "# An important way to gain intuition about how an algorithm works is to\n",
        "# visualize the mistakes that it makes. In this visualization, we show examples\n",
        "# of images that are misclassified by our current system. The first column\n",
        "# shows images that our system labeled as \"plane\" but whose true label is\n",
        "# something other than \"plane\".\n",
        "\n",
        "examples_per_class = 8\n",
        "classes = list(range(10))\n",
        "for cls, cls_name in enumerate(classes):\n",
        "    idxs = np.where((labels == cls))[0]\n",
        "    idxs = np.random.choice(idxs, examples_per_class, replace=False)\n",
        "    for i, idx in enumerate(idxs):\n",
        "        plt.subplot(examples_per_class, len(classes), i * len(classes) + cls + 1)\n",
        "        plt.imshow(train[idx].astype('uint8'))\n",
        "        plt.axis('off')\n",
        "        if i == 0:\n",
        "            plt.title(cls_name)\n",
        "plt.show()"
      ],
      "metadata": {
        "id": "6M0aAk-GbK7l",
        "outputId": "6fec3634-cc4f-4995-f022-3ffc7596a5fc",
        "colab": {
          "base_uri": "https://localhost:8080/",
          "height": 264
        }
      },
      "id": "6M0aAk-GbK7l",
      "execution_count": 15,
      "outputs": [
        {
          "output_type": "display_data",
          "data": {
            "image/png": "[encoded data removed]",
            "text/plain": [
              "<Figure size 432x288 with 80 Axes>"
            ]
          },
          "metadata": {
            "needs_background": "light"
          }
        }
      ]
    },
    {
      "cell_type": "code",
      "source": [
        "train_v = train.reshape(N, -1)"
      ],
      "metadata": {
        "id": "FJknpaG_bmng"
      },
      "id": "FJknpaG_bmng",
      "execution_count": 16,
      "outputs": []
    },
    {
      "cell_type": "code",
      "source": [
        "U, S, Vh = np.linalg.svd(train_v, full_matrices=False)"
      ],
      "metadata": {
        "id": "_ZtrdVY4d5pa"
      },
      "id": "_ZtrdVY4d5pa",
      "execution_count": 17,
      "outputs": []
    },
    {
      "cell_type": "code",
      "source": [
        "size = 5\n",
        "plt.figure(figsize=(10,10))\n",
        "for i, idx in enumerate(range(size**2)):#range(size**2):\n",
        "  plt.subplot(size, size, i+1)\n",
        "  plt.imshow(Vh[idx].reshape(28,28))\n",
        "  plt.axis('off')\n",
        "  plt.title(idx)"
      ],
      "metadata": {
        "id": "sKthdliwfjNO",
        "outputId": "e387e8ea-b9eb-4315-a6a6-4f43dcf646c7",
        "colab": {
          "base_uri": "https://localhost:8080/",
          "height": 591
        }
      },
      "id": "sKthdliwfjNO",
      "execution_count": 18,
      "outputs": [
        {
          "output_type": "display_data",
          "data": {
            "image/png": "[encoded data removed]",
            "text/plain": [
              "<Figure size 720x720 with 25 Axes>"
            ]
          },
          "metadata": {
            "needs_background": "light"
          }
        }
      ]
    },
    {
      "cell_type": "code",
      "source": [
        "size = 8\n",
        "plt.figure(figsize=(15,15))\n",
        "for i, idx in enumerate(sorted(np.random.choice(list(range(Vh.shape[0])), size=size*size, replace=False))):#range(size**2):\n",
        "  plt.subplot(size, size, i+1)\n",
        "  plt.imshow(Vh[idx].reshape(28,28))\n",
        "  plt.axis('off')\n",
        "  plt.title(idx)"
      ],
      "metadata": {
        "id": "UweQ4fgIfRyY",
        "outputId": "541556ae-2294-4c9a-c49a-957554fc5b7f",
        "colab": {
          "base_uri": "https://localhost:8080/",
          "height": 862
        }
      },
      "id": "UweQ4fgIfRyY",
      "execution_count": 19,
      "outputs": [
        {
          "output_type": "display_data",
          "data": {
            "image/png": "[encoded data removed]",
            "text/plain": [
              "<Figure size 1080x1080 with 64 Axes>"
            ]
          },
          "metadata": {
            "needs_background": "light"
          }
        }
      ]
    },
    {
      "cell_type": "code",
      "source": [
        "plt.plot(S)"
      ],
      "metadata": {
        "id": "_815t7iqexq4",
        "outputId": "a2e02d99-b087-4dbe-a20f-f99f0cbcfca2",
        "colab": {
          "base_uri": "https://localhost:8080/",
          "height": 284
        }
      },
      "id": "_815t7iqexq4",
      "execution_count": 20,
      "outputs": [
        {
          "output_type": "execute_result",
          "data": {
            "text/plain": [
              "[<matplotlib.lines.Line2D at 0x7f297cf90110>]"
            ]
          },
          "metadata": {},
          "execution_count": 20
        },
        {
          "output_type": "display_data",
          "data": {
            "image/png": "[encoded data removed]",
            "text/plain": [
              "<Figure size 432x288 with 1 Axes>"
            ]
          },
          "metadata": {
            "needs_background": "light"
          }
        }
      ]
    },
    {
      "cell_type": "markdown",
      "source": [
        "## Where PCA breaks down"
      ],
      "metadata": {
        "id": "X9f6FcVdjLFj"
      },
      "id": "X9f6FcVdjLFj"
    },
    {
      "cell_type": "code",
      "source": [
        ""
      ],
      "metadata": {
        "id": "Em-V8ivpjM1Z"
      },
      "id": "Em-V8ivpjM1Z",
      "execution_count": null,
      "outputs": []
    }
  ],
  "metadata": {
    "kernelspec": {
      "display_name": "Python 3",
      "language": "python",
      "name": "python3"
    },
    "language_info": {
      "codemirror_mode": {
        "name": "ipython",
        "version": 3
      },
      "file_extension": ".py",
      "mimetype": "text/x-python",
      "name": "python",
      "nbconvert_exporter": "python",
      "pygments_lexer": "ipython3",
      "version": "3.8.5"
    },
    "toc": {
      "base_numbering": 1,
      "nav_menu": {},
      "number_sections": true,
      "sideBar": true,
      "skip_h1_title": false,
      "title_cell": "Table of Contents",
      "title_sidebar": "Contents",
      "toc_cell": false,
      "toc_position": {},
      "toc_section_display": true,
      "toc_window_display": false
    },
    "colab": {
      "name": "PCA.ipynb",
      "provenance": [],
      "toc_visible": true
    },
    "widgets": {
      "application/vnd.jupyter.widget-state+json": {
        "5517026ed4c740099d725e5dbe2ff36d": {
          "model_module": "@jupyter-widgets/controls",
          "model_name": "HBoxModel",
          "model_module_version": "1.5.0",
          "state": {
            "_view_name": "HBoxView",
            "_dom_classes": [],
            "_model_name": "HBoxModel",
            "_view_module": "@jupyter-widgets/controls",
            "_model_module_version": "1.5.0",
            "_view_count": null,
            "_view_module_version": "1.5.0",
            "box_style": "",
            "layout": "IPY_MODEL_e9887cae21a549b2aa14b394863c8dc9",
            "_model_module": "@jupyter-widgets/controls",
            "children": [
              "IPY_MODEL_50bc47524323488eb2208daf7330cf0c",
              "IPY_MODEL_da25219a62c845a1a49c93126cee8186",
              "IPY_MODEL_1f5bc30f7b744d55bcab90cb6acc30b3"
            ]
          }
        },
        "e9887cae21a549b2aa14b394863c8dc9": {
          "model_module": "@jupyter-widgets/base",
          "model_name": "LayoutModel",
          "model_module_version": "1.2.0",
          "state": {
            "_view_name": "LayoutView",
            "grid_template_rows": null,
            "right": null,
            "justify_content": null,
            "_view_module": "@jupyter-widgets/base",
            "overflow": null,
            "_model_module_version": "1.2.0",
            "_view_count": null,
            "flex_flow": null,
            "width": null,
            "min_width": null,
            "border": null,
            "align_items": null,
            "bottom": null,
            "_model_module": "@jupyter-widgets/base",
            "top": null,
            "grid_column": null,
            "overflow_y": null,
            "overflow_x": null,
            "grid_auto_flow": null,
            "grid_area": null,
            "grid_template_columns": null,
            "flex": null,
            "_model_name": "LayoutModel",
            "justify_items": null,
            "grid_row": null,
            "max_height": null,
            "align_content": null,
            "visibility": null,
            "align_self": null,
            "height": null,
            "min_height": null,
            "padding": null,
            "grid_auto_rows": null,
            "grid_gap": null,
            "max_width": null,
            "order": null,
            "_view_module_version": "1.2.0",
            "grid_template_areas": null,
            "object_position": null,
            "object_fit": null,
            "grid_auto_columns": null,
            "margin": null,
            "display": null,
            "left": null
          }
        },
        "50bc47524323488eb2208daf7330cf0c": {
          "model_module": "@jupyter-widgets/controls",
          "model_name": "HTMLModel",
          "model_module_version": "1.5.0",
          "state": {
            "_view_name": "HTMLView",
            "style": "IPY_MODEL_aff57023fbda4828a1189c511e4315b9",
            "_dom_classes": [],
            "description": "",
            "_model_name": "HTMLModel",
            "placeholder": "​",
            "_view_module": "@jupyter-widgets/controls",
            "_model_module_version": "1.5.0",
            "value": "",
            "_view_count": null,
            "_view_module_version": "1.5.0",
            "description_tooltip": null,
            "_model_module": "@jupyter-widgets/controls",
            "layout": "IPY_MODEL_8a2a2f3c1ef0433f9f6b2b68d4cebd50"
          }
        },
        "da25219a62c845a1a49c93126cee8186": {
          "model_module": "@jupyter-widgets/controls",
          "model_name": "FloatProgressModel",
          "model_module_version": "1.5.0",
          "state": {
            "_view_name": "ProgressView",
            "style": "IPY_MODEL_b3c8c94ecc01463d9c01c3a44e91c9f0",
            "_dom_classes": [],
            "description": "",
            "_model_name": "FloatProgressModel",
            "bar_style": "success",
            "max": 9912422,
            "_view_module": "@jupyter-widgets/controls",
            "_model_module_version": "1.5.0",
            "value": 9912422,
            "_view_count": null,
            "_view_module_version": "1.5.0",
            "orientation": "horizontal",
            "min": 0,
            "description_tooltip": null,
            "_model_module": "@jupyter-widgets/controls",
            "layout": "IPY_MODEL_72d9cb9b67654239a2c5fb8677cf33ae"
          }
        },
        "1f5bc30f7b744d55bcab90cb6acc30b3": {
          "model_module": "@jupyter-widgets/controls",
          "model_name": "HTMLModel",
          "model_module_version": "1.5.0",
          "state": {
            "_view_name": "HTMLView",
            "style": "IPY_MODEL_ec4dd678f79a4cd48d3ba16f5a96c254",
            "_dom_classes": [],
            "description": "",
            "_model_name": "HTMLModel",
            "placeholder": "​",
            "_view_module": "@jupyter-widgets/controls",
            "_model_module_version": "1.5.0",
            "value": " 9913344/? [00:00&lt;00:00, 18858137.38it/s]",
            "_view_count": null,
            "_view_module_version": "1.5.0",
            "description_tooltip": null,
            "_model_module": "@jupyter-widgets/controls",
            "layout": "IPY_MODEL_b82d1062185c454e8dbf6de436d23a21"
          }
        },
        "aff57023fbda4828a1189c511e4315b9": {
          "model_module": "@jupyter-widgets/controls",
          "model_name": "DescriptionStyleModel",
          "model_module_version": "1.5.0",
          "state": {
            "_view_name": "StyleView",
            "_model_name": "DescriptionStyleModel",
            "description_width": "",
            "_view_module": "@jupyter-widgets/base",
            "_model_module_version": "1.5.0",
            "_view_count": null,
            "_view_module_version": "1.2.0",
            "_model_module": "@jupyter-widgets/controls"
          }
        },
        "8a2a2f3c1ef0433f9f6b2b68d4cebd50": {
          "model_module": "@jupyter-widgets/base",
          "model_name": "LayoutModel",
          "model_module_version": "1.2.0",
          "state": {
            "_view_name": "LayoutView",
            "grid_template_rows": null,
            "right": null,
            "justify_content": null,
            "_view_module": "@jupyter-widgets/base",
            "overflow": null,
            "_model_module_version": "1.2.0",
            "_view_count": null,
            "flex_flow": null,
            "width": null,
            "min_width": null,
            "border": null,
            "align_items": null,
            "bottom": null,
            "_model_module": "@jupyter-widgets/base",
            "top": null,
            "grid_column": null,
            "overflow_y": null,
            "overflow_x": null,
            "grid_auto_flow": null,
            "grid_area": null,
            "grid_template_columns": null,
            "flex": null,
            "_model_name": "LayoutModel",
            "justify_items": null,
            "grid_row": null,
            "max_height": null,
            "align_content": null,
            "visibility": null,
            "align_self": null,
            "height": null,
            "min_height": null,
            "padding": null,
            "grid_auto_rows": null,
            "grid_gap": null,
            "max_width": null,
            "order": null,
            "_view_module_version": "1.2.0",
            "grid_template_areas": null,
            "object_position": null,
            "object_fit": null,
            "grid_auto_columns": null,
            "margin": null,
            "display": null,
            "left": null
          }
        },
        "b3c8c94ecc01463d9c01c3a44e91c9f0": {
          "model_module": "@jupyter-widgets/controls",
          "model_name": "ProgressStyleModel",
          "model_module_version": "1.5.0",
          "state": {
            "_view_name": "StyleView",
            "_model_name": "ProgressStyleModel",
            "description_width": "",
            "_view_module": "@jupyter-widgets/base",
            "_model_module_version": "1.5.0",
            "_view_count": null,
            "_view_module_version": "1.2.0",
            "bar_color": null,
            "_model_module": "@jupyter-widgets/controls"
          }
        },
        "72d9cb9b67654239a2c5fb8677cf33ae": {
          "model_module": "@jupyter-widgets/base",
          "model_name": "LayoutModel",
          "model_module_version": "1.2.0",
          "state": {
            "_view_name": "LayoutView",
            "grid_template_rows": null,
            "right": null,
            "justify_content": null,
            "_view_module": "@jupyter-widgets/base",
            "overflow": null,
            "_model_module_version": "1.2.0",
            "_view_count": null,
            "flex_flow": null,
            "width": null,
            "min_width": null,
            "border": null,
            "align_items": null,
            "bottom": null,
            "_model_module": "@jupyter-widgets/base",
            "top": null,
            "grid_column": null,
            "overflow_y": null,
            "overflow_x": null,
            "grid_auto_flow": null,
            "grid_area": null,
            "grid_template_columns": null,
            "flex": null,
            "_model_name": "LayoutModel",
            "justify_items": null,
            "grid_row": null,
            "max_height": null,
            "align_content": null,
            "visibility": null,
            "align_self": null,
            "height": null,
            "min_height": null,
            "padding": null,
            "grid_auto_rows": null,
            "grid_gap": null,
            "max_width": null,
            "order": null,
            "_view_module_version": "1.2.0",
            "grid_template_areas": null,
            "object_position": null,
            "object_fit": null,
            "grid_auto_columns": null,
            "margin": null,
            "display": null,
            "left": null
          }
        },
        "ec4dd678f79a4cd48d3ba16f5a96c254": {
          "model_module": "@jupyter-widgets/controls",
          "model_name": "DescriptionStyleModel",
          "model_module_version": "1.5.0",
          "state": {
            "_view_name": "StyleView",
            "_model_name": "DescriptionStyleModel",
            "description_width": "",
            "_view_module": "@jupyter-widgets/base",
            "_model_module_version": "1.5.0",
            "_view_count": null,
            "_view_module_version": "1.2.0",
            "_model_module": "@jupyter-widgets/controls"
          }
        },
        "b82d1062185c454e8dbf6de436d23a21": {
          "model_module": "@jupyter-widgets/base",
          "model_name": "LayoutModel",
          "model_module_version": "1.2.0",
          "state": {
            "_view_name": "LayoutView",
            "grid_template_rows": null,
            "right": null,
            "justify_content": null,
            "_view_module": "@jupyter-widgets/base",
            "overflow": null,
            "_model_module_version": "1.2.0",
            "_view_count": null,
            "flex_flow": null,
            "width": null,
            "min_width": null,
            "border": null,
            "align_items": null,
            "bottom": null,
            "_model_module": "@jupyter-widgets/base",
            "top": null,
            "grid_column": null,
            "overflow_y": null,
            "overflow_x": null,
            "grid_auto_flow": null,
            "grid_area": null,
            "grid_template_columns": null,
            "flex": null,
            "_model_name": "LayoutModel",
            "justify_items": null,
            "grid_row": null,
            "max_height": null,
            "align_content": null,
            "visibility": null,
            "align_self": null,
            "height": null,
            "min_height": null,
            "padding": null,
            "grid_auto_rows": null,
            "grid_gap": null,
            "max_width": null,
            "order": null,
            "_view_module_version": "1.2.0",
            "grid_template_areas": null,
            "object_position": null,
            "object_fit": null,
            "grid_auto_columns": null,
            "margin": null,
            "display": null,
            "left": null
          }
        },
        "3b190de645f34fefa8976c8b1011dcf2": {
          "model_module": "@jupyter-widgets/controls",
          "model_name": "HBoxModel",
          "model_module_version": "1.5.0",
          "state": {
            "_view_name": "HBoxView",
            "_dom_classes": [],
            "_model_name": "HBoxModel",
            "_view_module": "@jupyter-widgets/controls",
            "_model_module_version": "1.5.0",
            "_view_count": null,
            "_view_module_version": "1.5.0",
            "box_style": "",
            "layout": "IPY_MODEL_4c7e8a177b544b8cbb84a4c9ffe5290a",
            "_model_module": "@jupyter-widgets/controls",
            "children": [
              "IPY_MODEL_fa50c564ce1d41ef9e69728a34b26c8a",
              "IPY_MODEL_f6f3394710f9466abb67c50b6022c24e",
              "IPY_MODEL_f6016cd7c8e847ea8dab105496908daf"
            ]
          }
        },
        "4c7e8a177b544b8cbb84a4c9ffe5290a": {
          "model_module": "@jupyter-widgets/base",
          "model_name": "LayoutModel",
          "model_module_version": "1.2.0",
          "state": {
            "_view_name": "LayoutView",
            "grid_template_rows": null,
            "right": null,
            "justify_content": null,
            "_view_module": "@jupyter-widgets/base",
            "overflow": null,
            "_model_module_version": "1.2.0",
            "_view_count": null,
            "flex_flow": null,
            "width": null,
            "min_width": null,
            "border": null,
            "align_items": null,
            "bottom": null,
            "_model_module": "@jupyter-widgets/base",
            "top": null,
            "grid_column": null,
            "overflow_y": null,
            "overflow_x": null,
            "grid_auto_flow": null,
            "grid_area": null,
            "grid_template_columns": null,
            "flex": null,
            "_model_name": "LayoutModel",
            "justify_items": null,
            "grid_row": null,
            "max_height": null,
            "align_content": null,
            "visibility": null,
            "align_self": null,
            "height": null,
            "min_height": null,
            "padding": null,
            "grid_auto_rows": null,
            "grid_gap": null,
            "max_width": null,
            "order": null,
            "_view_module_version": "1.2.0",
            "grid_template_areas": null,
            "object_position": null,
            "object_fit": null,
            "grid_auto_columns": null,
            "margin": null,
            "display": null,
            "left": null
          }
        },
        "fa50c564ce1d41ef9e69728a34b26c8a": {
          "model_module": "@jupyter-widgets/controls",
          "model_name": "HTMLModel",
          "model_module_version": "1.5.0",
          "state": {
            "_view_name": "HTMLView",
            "style": "IPY_MODEL_7515652dc11445a6b8d8dc8909048266",
            "_dom_classes": [],
            "description": "",
            "_model_name": "HTMLModel",
            "placeholder": "​",
            "_view_module": "@jupyter-widgets/controls",
            "_model_module_version": "1.5.0",
            "value": "",
            "_view_count": null,
            "_view_module_version": "1.5.0",
            "description_tooltip": null,
            "_model_module": "@jupyter-widgets/controls",
            "layout": "IPY_MODEL_d48c635b1c77463d99b85fbb90c8ad09"
          }
        },
        "f6f3394710f9466abb67c50b6022c24e": {
          "model_module": "@jupyter-widgets/controls",
          "model_name": "FloatProgressModel",
          "model_module_version": "1.5.0",
          "state": {
            "_view_name": "ProgressView",
            "style": "IPY_MODEL_12e646b0ef92434dbc4ffe388b46ca45",
            "_dom_classes": [],
            "description": "",
            "_model_name": "FloatProgressModel",
            "bar_style": "success",
            "max": 28881,
            "_view_module": "@jupyter-widgets/controls",
            "_model_module_version": "1.5.0",
            "value": 28881,
            "_view_count": null,
            "_view_module_version": "1.5.0",
            "orientation": "horizontal",
            "min": 0,
            "description_tooltip": null,
            "_model_module": "@jupyter-widgets/controls",
            "layout": "IPY_MODEL_5c138a22bbc64b088e3cd809f72be0ab"
          }
        },
        "f6016cd7c8e847ea8dab105496908daf": {
          "model_module": "@jupyter-widgets/controls",
          "model_name": "HTMLModel",
          "model_module_version": "1.5.0",
          "state": {
            "_view_name": "HTMLView",
            "style": "IPY_MODEL_a71f10b0eac44cc4962c7ece1a7c8823",
            "_dom_classes": [],
            "description": "",
            "_model_name": "HTMLModel",
            "placeholder": "​",
            "_view_module": "@jupyter-widgets/controls",
            "_model_module_version": "1.5.0",
            "value": " 29696/? [00:00&lt;00:00, 9952.12it/s]",
            "_view_count": null,
            "_view_module_version": "1.5.0",
            "description_tooltip": null,
            "_model_module": "@jupyter-widgets/controls",
            "layout": "IPY_MODEL_287efac05dd04875b0feebcc8dfb6d7c"
          }
        },
        "7515652dc11445a6b8d8dc8909048266": {
          "model_module": "@jupyter-widgets/controls",
          "model_name": "DescriptionStyleModel",
          "model_module_version": "1.5.0",
          "state": {
            "_view_name": "StyleView",
            "_model_name": "DescriptionStyleModel",
            "description_width": "",
            "_view_module": "@jupyter-widgets/base",
            "_model_module_version": "1.5.0",
            "_view_count": null,
            "_view_module_version": "1.2.0",
            "_model_module": "@jupyter-widgets/controls"
          }
        },
        "d48c635b1c77463d99b85fbb90c8ad09": {
          "model_module": "@jupyter-widgets/base",
          "model_name": "LayoutModel",
          "model_module_version": "1.2.0",
          "state": {
            "_view_name": "LayoutView",
            "grid_template_rows": null,
            "right": null,
            "justify_content": null,
            "_view_module": "@jupyter-widgets/base",
            "overflow": null,
            "_model_module_version": "1.2.0",
            "_view_count": null,
            "flex_flow": null,
            "width": null,
            "min_width": null,
            "border": null,
            "align_items": null,
            "bottom": null,
            "_model_module": "@jupyter-widgets/base",
            "top": null,
            "grid_column": null,
            "overflow_y": null,
            "overflow_x": null,
            "grid_auto_flow": null,
            "grid_area": null,
            "grid_template_columns": null,
            "flex": null,
            "_model_name": "LayoutModel",
            "justify_items": null,
            "grid_row": null,
            "max_height": null,
            "align_content": null,
            "visibility": null,
            "align_self": null,
            "height": null,
            "min_height": null,
            "padding": null,
            "grid_auto_rows": null,
            "grid_gap": null,
            "max_width": null,
            "order": null,
            "_view_module_version": "1.2.0",
            "grid_template_areas": null,
            "object_position": null,
            "object_fit": null,
            "grid_auto_columns": null,
            "margin": null,
            "display": null,
            "left": null
          }
        },
        "12e646b0ef92434dbc4ffe388b46ca45": {
          "model_module": "@jupyter-widgets/controls",
          "model_name": "ProgressStyleModel",
          "model_module_version": "1.5.0",
          "state": {
            "_view_name": "StyleView",
            "_model_name": "ProgressStyleModel",
            "description_width": "",
            "_view_module": "@jupyter-widgets/base",
            "_model_module_version": "1.5.0",
            "_view_count": null,
            "_view_module_version": "1.2.0",
            "bar_color": null,
            "_model_module": "@jupyter-widgets/controls"
          }
        },
        "5c138a22bbc64b088e3cd809f72be0ab": {
          "model_module": "@jupyter-widgets/base",
          "model_name": "LayoutModel",
          "model_module_version": "1.2.0",
          "state": {
            "_view_name": "LayoutView",
            "grid_template_rows": null,
            "right": null,
            "justify_content": null,
            "_view_module": "@jupyter-widgets/base",
            "overflow": null,
            "_model_module_version": "1.2.0",
            "_view_count": null,
            "flex_flow": null,
            "width": null,
            "min_width": null,
            "border": null,
            "align_items": null,
            "bottom": null,
            "_model_module": "@jupyter-widgets/base",
            "top": null,
            "grid_column": null,
            "overflow_y": null,
            "overflow_x": null,
            "grid_auto_flow": null,
            "grid_area": null,
            "grid_template_columns": null,
            "flex": null,
            "_model_name": "LayoutModel",
            "justify_items": null,
            "grid_row": null,
            "max_height": null,
            "align_content": null,
            "visibility": null,
            "align_self": null,
            "height": null,
            "min_height": null,
            "padding": null,
            "grid_auto_rows": null,
            "grid_gap": null,
            "max_width": null,
            "order": null,
            "_view_module_version": "1.2.0",
            "grid_template_areas": null,
            "object_position": null,
            "object_fit": null,
            "grid_auto_columns": null,
            "margin": null,
            "display": null,
            "left": null
          }
        },
        "a71f10b0eac44cc4962c7ece1a7c8823": {
          "model_module": "@jupyter-widgets/controls",
          "model_name": "DescriptionStyleModel",
          "model_module_version": "1.5.0",
          "state": {
            "_view_name": "StyleView",
            "_model_name": "DescriptionStyleModel",
            "description_width": "",
            "_view_module": "@jupyter-widgets/base",
            "_model_module_version": "1.5.0",
            "_view_count": null,
            "_view_module_version": "1.2.0",
            "_model_module": "@jupyter-widgets/controls"
          }
        },
        "287efac05dd04875b0feebcc8dfb6d7c": {
          "model_module": "@jupyter-widgets/base",
          "model_name": "LayoutModel",
          "model_module_version": "1.2.0",
          "state": {
            "_view_name": "LayoutView",
            "grid_template_rows": null,
            "right": null,
            "justify_content": null,
            "_view_module": "@jupyter-widgets/base",
            "overflow": null,
            "_model_module_version": "1.2.0",
            "_view_count": null,
            "flex_flow": null,
            "width": null,
            "min_width": null,
            "border": null,
            "align_items": null,
            "bottom": null,
            "_model_module": "@jupyter-widgets/base",
            "top": null,
            "grid_column": null,
            "overflow_y": null,
            "overflow_x": null,
            "grid_auto_flow": null,
            "grid_area": null,
            "grid_template_columns": null,
            "flex": null,
            "_model_name": "LayoutModel",
            "justify_items": null,
            "grid_row": null,
            "max_height": null,
            "align_content": null,
            "visibility": null,
            "align_self": null,
            "height": null,
            "min_height": null,
            "padding": null,
            "grid_auto_rows": null,
            "grid_gap": null,
            "max_width": null,
            "order": null,
            "_view_module_version": "1.2.0",
            "grid_template_areas": null,
            "object_position": null,
            "object_fit": null,
            "grid_auto_columns": null,
            "margin": null,
            "display": null,
            "left": null
          }
        },
        "6c20880598e54e068a7089e220071627": {
          "model_module": "@jupyter-widgets/controls",
          "model_name": "HBoxModel",
          "model_module_version": "1.5.0",
          "state": {
            "_view_name": "HBoxView",
            "_dom_classes": [],
            "_model_name": "HBoxModel",
            "_view_module": "@jupyter-widgets/controls",
            "_model_module_version": "1.5.0",
            "_view_count": null,
            "_view_module_version": "1.5.0",
            "box_style": "",
            "layout": "IPY_MODEL_bde35c08f74f4980a15174dfc31ecec3",
            "_model_module": "@jupyter-widgets/controls",
            "children": [
              "IPY_MODEL_f00c1435f2c94757842b640635bf4934",
              "IPY_MODEL_34f4797a2571413598e34e6b68a8815b",
              "IPY_MODEL_3fde386cd8994619ad5a90950f044476"
            ]
          }
        },
        "bde35c08f74f4980a15174dfc31ecec3": {
          "model_module": "@jupyter-widgets/base",
          "model_name": "LayoutModel",
          "model_module_version": "1.2.0",
          "state": {
            "_view_name": "LayoutView",
            "grid_template_rows": null,
            "right": null,
            "justify_content": null,
            "_view_module": "@jupyter-widgets/base",
            "overflow": null,
            "_model_module_version": "1.2.0",
            "_view_count": null,
            "flex_flow": null,
            "width": null,
            "min_width": null,
            "border": null,
            "align_items": null,
            "bottom": null,
            "_model_module": "@jupyter-widgets/base",
            "top": null,
            "grid_column": null,
            "overflow_y": null,
            "overflow_x": null,
            "grid_auto_flow": null,
            "grid_area": null,
            "grid_template_columns": null,
            "flex": null,
            "_model_name": "LayoutModel",
            "justify_items": null,
            "grid_row": null,
            "max_height": null,
            "align_content": null,
            "visibility": null,
            "align_self": null,
            "height": null,
            "min_height": null,
            "padding": null,
            "grid_auto_rows": null,
            "grid_gap": null,
            "max_width": null,
            "order": null,
            "_view_module_version": "1.2.0",
            "grid_template_areas": null,
            "object_position": null,
            "object_fit": null,
            "grid_auto_columns": null,
            "margin": null,
            "display": null,
            "left": null
          }
        },
        "f00c1435f2c94757842b640635bf4934": {
          "model_module": "@jupyter-widgets/controls",
          "model_name": "HTMLModel",
          "model_module_version": "1.5.0",
          "state": {
            "_view_name": "HTMLView",
            "style": "IPY_MODEL_8e5a43d35f4d4ae98e4c8a8bb6a6ff50",
            "_dom_classes": [],
            "description": "",
            "_model_name": "HTMLModel",
            "placeholder": "​",
            "_view_module": "@jupyter-widgets/controls",
            "_model_module_version": "1.5.0",
            "value": "",
            "_view_count": null,
            "_view_module_version": "1.5.0",
            "description_tooltip": null,
            "_model_module": "@jupyter-widgets/controls",
            "layout": "IPY_MODEL_9107cc0d3c1441e2b982a9318b6cd5bf"
          }
        },
        "34f4797a2571413598e34e6b68a8815b": {
          "model_module": "@jupyter-widgets/controls",
          "model_name": "FloatProgressModel",
          "model_module_version": "1.5.0",
          "state": {
            "_view_name": "ProgressView",
            "style": "IPY_MODEL_ded8283e050c4e48849d7d6becdc63f5",
            "_dom_classes": [],
            "description": "",
            "_model_name": "FloatProgressModel",
            "bar_style": "success",
            "max": 1648877,
            "_view_module": "@jupyter-widgets/controls",
            "_model_module_version": "1.5.0",
            "value": 1648877,
            "_view_count": null,
            "_view_module_version": "1.5.0",
            "orientation": "horizontal",
            "min": 0,
            "description_tooltip": null,
            "_model_module": "@jupyter-widgets/controls",
            "layout": "IPY_MODEL_0f07ab310ef24bd2b0ef71e1b7da5e88"
          }
        },
        "3fde386cd8994619ad5a90950f044476": {
          "model_module": "@jupyter-widgets/controls",
          "model_name": "HTMLModel",
          "model_module_version": "1.5.0",
          "state": {
            "_view_name": "HTMLView",
            "style": "IPY_MODEL_24c9f84be8be4f2fa9e2f029830bfb9e",
            "_dom_classes": [],
            "description": "",
            "_model_name": "HTMLModel",
            "placeholder": "​",
            "_view_module": "@jupyter-widgets/controls",
            "_model_module_version": "1.5.0",
            "value": " 1649664/? [00:00&lt;00:00, 3805637.93it/s]",
            "_view_count": null,
            "_view_module_version": "1.5.0",
            "description_tooltip": null,
            "_model_module": "@jupyter-widgets/controls",
            "layout": "IPY_MODEL_7532e5c0ac1c4831b14a4215029256dc"
          }
        },
        "8e5a43d35f4d4ae98e4c8a8bb6a6ff50": {
          "model_module": "@jupyter-widgets/controls",
          "model_name": "DescriptionStyleModel",
          "model_module_version": "1.5.0",
          "state": {
            "_view_name": "StyleView",
            "_model_name": "DescriptionStyleModel",
            "description_width": "",
            "_view_module": "@jupyter-widgets/base",
            "_model_module_version": "1.5.0",
            "_view_count": null,
            "_view_module_version": "1.2.0",
            "_model_module": "@jupyter-widgets/controls"
          }
        },
        "9107cc0d3c1441e2b982a9318b6cd5bf": {
          "model_module": "@jupyter-widgets/base",
          "model_name": "LayoutModel",
          "model_module_version": "1.2.0",
          "state": {
            "_view_name": "LayoutView",
            "grid_template_rows": null,
            "right": null,
            "justify_content": null,
            "_view_module": "@jupyter-widgets/base",
            "overflow": null,
            "_model_module_version": "1.2.0",
            "_view_count": null,
            "flex_flow": null,
            "width": null,
            "min_width": null,
            "border": null,
            "align_items": null,
            "bottom": null,
            "_model_module": "@jupyter-widgets/base",
            "top": null,
            "grid_column": null,
            "overflow_y": null,
            "overflow_x": null,
            "grid_auto_flow": null,
            "grid_area": null,
            "grid_template_columns": null,
            "flex": null,
            "_model_name": "LayoutModel",
            "justify_items": null,
            "grid_row": null,
            "max_height": null,
            "align_content": null,
            "visibility": null,
            "align_self": null,
            "height": null,
            "min_height": null,
            "padding": null,
            "grid_auto_rows": null,
            "grid_gap": null,
            "max_width": null,
            "order": null,
            "_view_module_version": "1.2.0",
            "grid_template_areas": null,
            "object_position": null,
            "object_fit": null,
            "grid_auto_columns": null,
            "margin": null,
            "display": null,
            "left": null
          }
        },
        "ded8283e050c4e48849d7d6becdc63f5": {
          "model_module": "@jupyter-widgets/controls",
          "model_name": "ProgressStyleModel",
          "model_module_version": "1.5.0",
          "state": {
            "_view_name": "StyleView",
            "_model_name": "ProgressStyleModel",
            "description_width": "",
            "_view_module": "@jupyter-widgets/base",
            "_model_module_version": "1.5.0",
            "_view_count": null,
            "_view_module_version": "1.2.0",
            "bar_color": null,
            "_model_module": "@jupyter-widgets/controls"
          }
        },
        "0f07ab310ef24bd2b0ef71e1b7da5e88": {
          "model_module": "@jupyter-widgets/base",
          "model_name": "LayoutModel",
          "model_module_version": "1.2.0",
          "state": {
            "_view_name": "LayoutView",
            "grid_template_rows": null,
            "right": null,
            "justify_content": null,
            "_view_module": "@jupyter-widgets/base",
            "overflow": null,
            "_model_module_version": "1.2.0",
            "_view_count": null,
            "flex_flow": null,
            "width": null,
            "min_width": null,
            "border": null,
            "align_items": null,
            "bottom": null,
            "_model_module": "@jupyter-widgets/base",
            "top": null,
            "grid_column": null,
            "overflow_y": null,
            "overflow_x": null,
            "grid_auto_flow": null,
            "grid_area": null,
            "grid_template_columns": null,
            "flex": null,
            "_model_name": "LayoutModel",
            "justify_items": null,
            "grid_row": null,
            "max_height": null,
            "align_content": null,
            "visibility": null,
            "align_self": null,
            "height": null,
            "min_height": null,
            "padding": null,
            "grid_auto_rows": null,
            "grid_gap": null,
            "max_width": null,
            "order": null,
            "_view_module_version": "1.2.0",
            "grid_template_areas": null,
            "object_position": null,
            "object_fit": null,
            "grid_auto_columns": null,
            "margin": null,
            "display": null,
            "left": null
          }
        },
        "24c9f84be8be4f2fa9e2f029830bfb9e": {
          "model_module": "@jupyter-widgets/controls",
          "model_name": "DescriptionStyleModel",
          "model_module_version": "1.5.0",
          "state": {
            "_view_name": "StyleView",
            "_model_name": "DescriptionStyleModel",
            "description_width": "",
            "_view_module": "@jupyter-widgets/base",
            "_model_module_version": "1.5.0",
            "_view_count": null,
            "_view_module_version": "1.2.0",
            "_model_module": "@jupyter-widgets/controls"
          }
        },
        "7532e5c0ac1c4831b14a4215029256dc": {
          "model_module": "@jupyter-widgets/base",
          "model_name": "LayoutModel",
          "model_module_version": "1.2.0",
          "state": {
            "_view_name": "LayoutView",
            "grid_template_rows": null,
            "right": null,
            "justify_content": null,
            "_view_module": "@jupyter-widgets/base",
            "overflow": null,
            "_model_module_version": "1.2.0",
            "_view_count": null,
            "flex_flow": null,
            "width": null,
            "min_width": null,
            "border": null,
            "align_items": null,
            "bottom": null,
            "_model_module": "@jupyter-widgets/base",
            "top": null,
            "grid_column": null,
            "overflow_y": null,
            "overflow_x": null,
            "grid_auto_flow": null,
            "grid_area": null,
            "grid_template_columns": null,
            "flex": null,
            "_model_name": "LayoutModel",
            "justify_items": null,
            "grid_row": null,
            "max_height": null,
            "align_content": null,
            "visibility": null,
            "align_self": null,
            "height": null,
            "min_height": null,
            "padding": null,
            "grid_auto_rows": null,
            "grid_gap": null,
            "max_width": null,
            "order": null,
            "_view_module_version": "1.2.0",
            "grid_template_areas": null,
            "object_position": null,
            "object_fit": null,
            "grid_auto_columns": null,
            "margin": null,
            "display": null,
            "left": null
          }
        },
        "c44ab3db213f476cba39ca809a8137f2": {
          "model_module": "@jupyter-widgets/controls",
          "model_name": "HBoxModel",
          "model_module_version": "1.5.0",
          "state": {
            "_view_name": "HBoxView",
            "_dom_classes": [],
            "_model_name": "HBoxModel",
            "_view_module": "@jupyter-widgets/controls",
            "_model_module_version": "1.5.0",
            "_view_count": null,
            "_view_module_version": "1.5.0",
            "box_style": "",
            "layout": "IPY_MODEL_578353b4b05b41118227a8d46034897c",
            "_model_module": "@jupyter-widgets/controls",
            "children": [
              "IPY_MODEL_562d06f6be1d4fb3947b996a1b493306",
              "IPY_MODEL_ae7ccbef14714d7a8c56723397d0849b",
              "IPY_MODEL_efc1a2f88eae428ca00cd022019715bf"
            ]
          }
        },
        "578353b4b05b41118227a8d46034897c": {
          "model_module": "@jupyter-widgets/base",
          "model_name": "LayoutModel",
          "model_module_version": "1.2.0",
          "state": {
            "_view_name": "LayoutView",
            "grid_template_rows": null,
            "right": null,
            "justify_content": null,
            "_view_module": "@jupyter-widgets/base",
            "overflow": null,
            "_model_module_version": "1.2.0",
            "_view_count": null,
            "flex_flow": null,
            "width": null,
            "min_width": null,
            "border": null,
            "align_items": null,
            "bottom": null,
            "_model_module": "@jupyter-widgets/base",
            "top": null,
            "grid_column": null,
            "overflow_y": null,
            "overflow_x": null,
            "grid_auto_flow": null,
            "grid_area": null,
            "grid_template_columns": null,
            "flex": null,
            "_model_name": "LayoutModel",
            "justify_items": null,
            "grid_row": null,
            "max_height": null,
            "align_content": null,
            "visibility": null,
            "align_self": null,
            "height": null,
            "min_height": null,
            "padding": null,
            "grid_auto_rows": null,
            "grid_gap": null,
            "max_width": null,
            "order": null,
            "_view_module_version": "1.2.0",
            "grid_template_areas": null,
            "object_position": null,
            "object_fit": null,
            "grid_auto_columns": null,
            "margin": null,
            "display": null,
            "left": null
          }
        },
        "562d06f6be1d4fb3947b996a1b493306": {
          "model_module": "@jupyter-widgets/controls",
          "model_name": "HTMLModel",
          "model_module_version": "1.5.0",
          "state": {
            "_view_name": "HTMLView",
            "style": "IPY_MODEL_7f92eaa831164641bfaedd011a9a7be8",
            "_dom_classes": [],
            "description": "",
            "_model_name": "HTMLModel",
            "placeholder": "​",
            "_view_module": "@jupyter-widgets/controls",
            "_model_module_version": "1.5.0",
            "value": "",
            "_view_count": null,
            "_view_module_version": "1.5.0",
            "description_tooltip": null,
            "_model_module": "@jupyter-widgets/controls",
            "layout": "IPY_MODEL_2ebaebc0bb6a4e80a0bd1099cde7c950"
          }
        },
        "ae7ccbef14714d7a8c56723397d0849b": {
          "model_module": "@jupyter-widgets/controls",
          "model_name": "FloatProgressModel",
          "model_module_version": "1.5.0",
          "state": {
            "_view_name": "ProgressView",
            "style": "IPY_MODEL_f47b97c160f2427c8a77e27b1983e54c",
            "_dom_classes": [],
            "description": "",
            "_model_name": "FloatProgressModel",
            "bar_style": "success",
            "max": 4542,
            "_view_module": "@jupyter-widgets/controls",
            "_model_module_version": "1.5.0",
            "value": 4542,
            "_view_count": null,
            "_view_module_version": "1.5.0",
            "orientation": "horizontal",
            "min": 0,
            "description_tooltip": null,
            "_model_module": "@jupyter-widgets/controls",
            "layout": "IPY_MODEL_3cc3eb80e9654fc2afb27a74948c8ca3"
          }
        },
        "efc1a2f88eae428ca00cd022019715bf": {
          "model_module": "@jupyter-widgets/controls",
          "model_name": "HTMLModel",
          "model_module_version": "1.5.0",
          "state": {
            "_view_name": "HTMLView",
            "style": "IPY_MODEL_18fc926107b04020ae863a774db4c36c",
            "_dom_classes": [],
            "description": "",
            "_model_name": "HTMLModel",
            "placeholder": "​",
            "_view_module": "@jupyter-widgets/controls",
            "_model_module_version": "1.5.0",
            "value": " 5120/? [00:00&lt;00:00, 8658.49it/s]",
            "_view_count": null,
            "_view_module_version": "1.5.0",
            "description_tooltip": null,
            "_model_module": "@jupyter-widgets/controls",
            "layout": "IPY_MODEL_39cf20029ce94a539c170464276315ed"
          }
        },
        "7f92eaa831164641bfaedd011a9a7be8": {
          "model_module": "@jupyter-widgets/controls",
          "model_name": "DescriptionStyleModel",
          "model_module_version": "1.5.0",
          "state": {
            "_view_name": "StyleView",
            "_model_name": "DescriptionStyleModel",
            "description_width": "",
            "_view_module": "@jupyter-widgets/base",
            "_model_module_version": "1.5.0",
            "_view_count": null,
            "_view_module_version": "1.2.0",
            "_model_module": "@jupyter-widgets/controls"
          }
        },
        "2ebaebc0bb6a4e80a0bd1099cde7c950": {
          "model_module": "@jupyter-widgets/base",
          "model_name": "LayoutModel",
          "model_module_version": "1.2.0",
          "state": {
            "_view_name": "LayoutView",
            "grid_template_rows": null,
            "right": null,
            "justify_content": null,
            "_view_module": "@jupyter-widgets/base",
            "overflow": null,
            "_model_module_version": "1.2.0",
            "_view_count": null,
            "flex_flow": null,
            "width": null,
            "min_width": null,
            "border": null,
            "align_items": null,
            "bottom": null,
            "_model_module": "@jupyter-widgets/base",
            "top": null,
            "grid_column": null,
            "overflow_y": null,
            "overflow_x": null,
            "grid_auto_flow": null,
            "grid_area": null,
            "grid_template_columns": null,
            "flex": null,
            "_model_name": "LayoutModel",
            "justify_items": null,
            "grid_row": null,
            "max_height": null,
            "align_content": null,
            "visibility": null,
            "align_self": null,
            "height": null,
            "min_height": null,
            "padding": null,
            "grid_auto_rows": null,
            "grid_gap": null,
            "max_width": null,
            "order": null,
            "_view_module_version": "1.2.0",
            "grid_template_areas": null,
            "object_position": null,
            "object_fit": null,
            "grid_auto_columns": null,
            "margin": null,
            "display": null,
            "left": null
          }
        },
        "f47b97c160f2427c8a77e27b1983e54c": {
          "model_module": "@jupyter-widgets/controls",
          "model_name": "ProgressStyleModel",
          "model_module_version": "1.5.0",
          "state": {
            "_view_name": "StyleView",
            "_model_name": "ProgressStyleModel",
            "description_width": "",
            "_view_module": "@jupyter-widgets/base",
            "_model_module_version": "1.5.0",
            "_view_count": null,
            "_view_module_version": "1.2.0",
            "bar_color": null,
            "_model_module": "@jupyter-widgets/controls"
          }
        },
        "3cc3eb80e9654fc2afb27a74948c8ca3": {
          "model_module": "@jupyter-widgets/base",
          "model_name": "LayoutModel",
          "model_module_version": "1.2.0",
          "state": {
            "_view_name": "LayoutView",
            "grid_template_rows": null,
            "right": null,
            "justify_content": null,
            "_view_module": "@jupyter-widgets/base",
            "overflow": null,
            "_model_module_version": "1.2.0",
            "_view_count": null,
            "flex_flow": null,
            "width": null,
            "min_width": null,
            "border": null,
            "align_items": null,
            "bottom": null,
            "_model_module": "@jupyter-widgets/base",
            "top": null,
            "grid_column": null,
            "overflow_y": null,
            "overflow_x": null,
            "grid_auto_flow": null,
            "grid_area": null,
            "grid_template_columns": null,
            "flex": null,
            "_model_name": "LayoutModel",
            "justify_items": null,
            "grid_row": null,
            "max_height": null,
            "align_content": null,
            "visibility": null,
            "align_self": null,
            "height": null,
            "min_height": null,
            "padding": null,
            "grid_auto_rows": null,
            "grid_gap": null,
            "max_width": null,
            "order": null,
            "_view_module_version": "1.2.0",
            "grid_template_areas": null,
            "object_position": null,
            "object_fit": null,
            "grid_auto_columns": null,
            "margin": null,
            "display": null,
            "left": null
          }
        },
        "18fc926107b04020ae863a774db4c36c": {
          "model_module": "@jupyter-widgets/controls",
          "model_name": "DescriptionStyleModel",
          "model_module_version": "1.5.0",
          "state": {
            "_view_name": "StyleView",
            "_model_name": "DescriptionStyleModel",
            "description_width": "",
            "_view_module": "@jupyter-widgets/base",
            "_model_module_version": "1.5.0",
            "_view_count": null,
            "_view_module_version": "1.2.0",
            "_model_module": "@jupyter-widgets/controls"
          }
        },
        "39cf20029ce94a539c170464276315ed": {
          "model_module": "@jupyter-widgets/base",
          "model_name": "LayoutModel",
          "model_module_version": "1.2.0",
          "state": {
            "_view_name": "LayoutView",
            "grid_template_rows": null,
            "right": null,
            "justify_content": null,
            "_view_module": "@jupyter-widgets/base",
            "overflow": null,
            "_model_module_version": "1.2.0",
            "_view_count": null,
            "flex_flow": null,
            "width": null,
            "min_width": null,
            "border": null,
            "align_items": null,
            "bottom": null,
            "_model_module": "@jupyter-widgets/base",
            "top": null,
            "grid_column": null,
            "overflow_y": null,
            "overflow_x": null,
            "grid_auto_flow": null,
            "grid_area": null,
            "grid_template_columns": null,
            "flex": null,
            "_model_name": "LayoutModel",
            "justify_items": null,
            "grid_row": null,
            "max_height": null,
            "align_content": null,
            "visibility": null,
            "align_self": null,
            "height": null,
            "min_height": null,
            "padding": null,
            "grid_auto_rows": null,
            "grid_gap": null,
            "max_width": null,
            "order": null,
            "_view_module_version": "1.2.0",
            "grid_template_areas": null,
            "object_position": null,
            "object_fit": null,
            "grid_auto_columns": null,
            "margin": null,
            "display": null,
            "left": null
          }
        }
      }
    }
  },
  "nbformat": 4,
  "nbformat_minor": 5
}