{
  "cells": [
    {
      "cell_type": "markdown",
      "metadata": {
        "id": "view-in-github",
        "colab_type": "text"
      },
      "source": [
        "<a href=\"https://colab.research.google.com/github/ofer1992/notebooks/blob/main/f2c_approximations.ipynb\" target=\"_parent\"><img src=\"https://colab.research.google.com/assets/colab-badge.svg\" alt=\"Open In Colab\"/></a>"
      ]
    },
    {
      "cell_type": "code",
      "execution_count": 2,
      "metadata": {
        "id": "lIYdn1woOS1n"
      },
      "outputs": [],
      "source": [
        "import numpy as np\n",
        "import matplotlib.pyplot as plt\n",
        "from sklearn import linear_model"
      ]
    },
    {
      "cell_type": "code",
      "source": [
        "f = np.arange(32, 500, 1)\n",
        "c = 5*(f-32)/9\n",
        "plt.plot(f,c)"
      ],
      "metadata": {
        "id": "h7qjfgYkVnET",
        "outputId": "d8d58ae4-845f-453b-fd9e-db0c0aca4291",
        "colab": {
          "base_uri": "https://localhost:8080/",
          "height": 282
        }
      },
      "execution_count": 4,
      "outputs": [
        {
          "output_type": "execute_result",
          "data": {
            "text/plain": [
              "[<matplotlib.lines.Line2D at 0x7f8da48d7110>]"
            ]
          },
          "metadata": {},
          "execution_count": 4
        },
        {
          "output_type": "display_data",
          "data": {
            "image/png": "[encoded data removed]",
            "text/plain": [
              "<Figure size 432x288 with 1 Axes>"
            ]
          },
          "metadata": {
            "needs_background": "light"
          }
        }
      ]
    },
    {
      "cell_type": "code",
      "source": [
        "def metrics(a,b):\n",
        "  print(f\"RMSE={np.sqrt(((a-b)**2).sum())}\")\n",
        "  print(f\"maxd={np.abs(a-b).max()}\")\n",
        "\n",
        "metrics(c, .5*f)"
      ],
      "metadata": {
        "id": "5pklwlHcWDxa",
        "outputId": "64db9c5a-8bab-4d78-bae0-4fd02a54feae",
        "colab": {
          "base_uri": "https://localhost:8080/"
        }
      },
      "execution_count": 5,
      "outputs": [
        {
          "output_type": "stream",
          "name": "stdout",
          "text": [
            "RMSE=175.08352504088083\n",
            "maxd=16.0\n"
          ]
        }
      ]
    },
    {
      "cell_type": "code",
      "source": [
        "a1 = .5*f-3\n",
        "a2 = .5*f\n",
        "\n",
        "plt.plot(f,c, label=\"gt\")\n",
        "plt.plot(f,a1, label='a1')\n",
        "plt.plot(f,a2, label='a2')\n",
        "plt.legend()\n",
        "print(\"a1\")\n",
        "metrics(c, a1)\n",
        "print(\"a2\")\n",
        "metrics(c, a2)"
      ],
      "metadata": {
        "id": "qEEL6yD3Wifu",
        "outputId": "4aa5f108-5ae5-4b80-d900-47e040c7b257",
        "colab": {
          "base_uri": "https://localhost:8080/",
          "height": 369
        }
      },
      "execution_count": 25,
      "outputs": [
        {
          "output_type": "stream",
          "name": "stdout",
          "text": [
            "a1\n",
            "RMSE=162.3706892907114\n",
            "maxd=13.0\n",
            "a2\n",
            "RMSE=175.08352504088083\n",
            "maxd=16.0\n"
          ]
        },
        {
          "output_type": "display_data",
          "data": {
            "image/png": "[encoded data removed]",
            "text/plain": [
              "<Figure size 432x288 with 1 Axes>"
            ]
          },
          "metadata": {
            "needs_background": "light"
          }
        }
      ]
    },
    {
      "cell_type": "code",
      "source": [
        "for bias in range(0,32):\n",
        "  print(bias)\n",
        "  metrics(c, .5*f-bias)\n",
        "  print()"
      ],
      "metadata": {
        "id": "dwkaau8DaUYO",
        "outputId": "9d08ff1f-4a44-4046-a1b0-f61cb1da5553",
        "colab": {
          "base_uri": "https://localhost:8080/"
        }
      },
      "execution_count": 24,
      "outputs": [
        {
          "output_type": "stream",
          "name": "stdout",
          "text": [
            "0\n",
            "RMSE=175.08352504088083\n",
            "maxd=16.0\n",
            "\n",
            "1\n",
            "RMSE=168.19108401083793\n",
            "maxd=15.0\n",
            "\n",
            "2\n",
            "RMSE=163.88483987465327\n",
            "maxd=14.0\n",
            "\n",
            "3\n",
            "RMSE=162.3706892907114\n",
            "maxd=13.0\n",
            "\n",
            "4\n",
            "RMSE=163.72611502366\n",
            "maxd=13.944444444444457\n",
            "\n",
            "5\n",
            "RMSE=167.88162716849257\n",
            "maxd=14.944444444444457\n",
            "\n",
            "6\n",
            "RMSE=174.6374551484897\n",
            "maxd=15.944444444444457\n",
            "\n",
            "7\n",
            "RMSE=183.70694254910654\n",
            "maxd=16.944444444444457\n",
            "\n",
            "8\n",
            "RMSE=194.76714492116156\n",
            "maxd=17.944444444444457\n",
            "\n",
            "9\n",
            "RMSE=207.49997768853072\n",
            "maxd=18.944444444444457\n",
            "\n",
            "10\n",
            "RMSE=221.61732951360264\n",
            "maxd=19.944444444444457\n",
            "\n",
            "11\n",
            "RMSE=236.871781225077\n",
            "maxd=20.944444444444457\n",
            "\n",
            "12\n",
            "RMSE=253.0577814269712\n",
            "maxd=21.944444444444457\n",
            "\n",
            "13\n",
            "RMSE=270.00785310938784\n",
            "maxd=22.944444444444457\n",
            "\n",
            "14\n",
            "RMSE=287.58692727719864\n",
            "maxd=23.944444444444457\n",
            "\n",
            "15\n",
            "RMSE=305.68650729258684\n",
            "maxd=24.944444444444457\n",
            "\n",
            "16\n",
            "RMSE=324.21943300909766\n",
            "maxd=25.944444444444457\n",
            "\n",
            "17\n",
            "RMSE=343.11549184019765\n",
            "maxd=26.944444444444457\n",
            "\n",
            "18\n",
            "RMSE=362.317872510784\n",
            "maxd=27.944444444444457\n",
            "\n",
            "19\n",
            "RMSE=381.7803566721849\n",
            "maxd=28.944444444444457\n",
            "\n",
            "20\n",
            "RMSE=401.4651177135328\n",
            "maxd=29.944444444444457\n",
            "\n",
            "21\n",
            "RMSE=421.34100291894305\n",
            "maxd=30.944444444444457\n",
            "\n",
            "22\n",
            "RMSE=441.38219350211756\n",
            "maxd=31.944444444444457\n",
            "\n",
            "23\n",
            "RMSE=461.56715734629637\n",
            "maxd=32.94444444444446\n",
            "\n",
            "24\n",
            "RMSE=481.87782760855555\n",
            "maxd=33.94444444444446\n",
            "\n",
            "25\n",
            "RMSE=502.2989555441468\n",
            "maxd=34.94444444444446\n",
            "\n",
            "26\n",
            "RMSE=522.8175979638987\n",
            "maxd=35.94444444444446\n",
            "\n",
            "27\n",
            "RMSE=543.4227090771426\n",
            "maxd=36.94444444444446\n",
            "\n",
            "28\n",
            "RMSE=564.1048136124534\n",
            "maxd=37.94444444444446\n",
            "\n",
            "29\n",
            "RMSE=584.8557435306084\n",
            "maxd=38.94444444444446\n",
            "\n",
            "30\n",
            "RMSE=605.6684247513161\n",
            "maxd=39.94444444444446\n",
            "\n",
            "31\n",
            "RMSE=626.5367034266553\n",
            "maxd=40.94444444444446\n",
            "\n"
          ]
        }
      ]
    },
    {
      "cell_type": "code",
      "source": [
        "lm1 = linear_model.LinearRegression()\n",
        "lm1.fit(f.reshape(-1,1), c)\n",
        "lm2 = linear_model.LinearRegression(fit_intercept=False)\n",
        "lm2.fit(f.reshape(-1,1), c)\n",
        "plt.plot(f,c, label=\"gt\")\n",
        "plt.plot(f,lm1.predict(f.reshape(-1,1)))\n",
        "plt.plot(f,lm2.predict(f.reshape(-1,1)))\n",
        "plt.legend()\n",
        "metrics(c, lm2.predict(f.reshape(-1,1)))\n",
        "print(lm2.coef_)"
      ],
      "metadata": {
        "id": "xVvj_9PSXYHy",
        "outputId": "6b298738-52d3-4158-8e52-00cb44ef1ba0",
        "colab": {
          "base_uri": "https://localhost:8080/",
          "height": 317
        }
      },
      "execution_count": 22,
      "outputs": [
        {
          "output_type": "stream",
          "name": "stdout",
          "text": [
            "RMSE=174.41732615412428\n",
            "maxd=16.075768398546188\n",
            "[0.50236776]\n"
          ]
        },
        {
          "output_type": "display_data",
          "data": {
            "image/png": "[encoded data removed]",
            "text/plain": [
              "<Figure size 432x288 with 1 Axes>"
            ]
          },
          "metadata": {
            "needs_background": "light"
          }
        }
      ]
    },
    {
      "cell_type": "code",
      "source": [
        "alpha = 5/9 - 320/(9*(f.min()+f.max()))\n",
        "(5/9-alpha)*f.min() - 160/9"
      ],
      "metadata": {
        "id": "huMf3prnZnqB",
        "outputId": "6aff3515-4b1e-46cc-bfed-47965f57390e",
        "colab": {
          "base_uri": "https://localhost:8080/"
        }
      },
      "execution_count": 28,
      "outputs": [
        {
          "output_type": "execute_result",
          "data": {
            "text/plain": [
              "-15.635070098346935"
            ]
          },
          "metadata": {},
          "execution_count": 28
        }
      ]
    }
  ],
  "metadata": {
    "colab": {
      "name": "scratchpad",
      "provenance": [],
      "include_colab_link": true
    },
    "kernelspec": {
      "display_name": "Python 3",
      "name": "python3"
    }
  },
  "nbformat": 4,
  "nbformat_minor": 0
}