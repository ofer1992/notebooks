{
 "cells": [
  {
   "cell_type": "code",
   "execution_count": 3,
   "metadata": {
    "colab": {
     "base_uri": "https://localhost:8080/"
    },
    "id": "lIYdn1woOS1n",
    "outputId": "0c0678ab-66a6-4948-ad28-8580418e64c6"
   },
   "outputs": [
    {
     "data": {
      "text/plain": [
       "IterableDatasetDict({\n",
       "    train: IterableDataset({\n",
       "        features: ['id', 'score', 'translation'],\n",
       "        n_shards: 1\n",
       "    })\n",
       "})"
      ]
     },
     "execution_count": 3,
     "metadata": {},
     "output_type": "execute_result"
    }
   ],
   "source": [
    "from datasets import load_dataset\n",
    "import numpy as np\n",
    "import torch\n",
    "import torch.nn as nn\n",
    "import torch.nn.functional as F\n",
    "from torch.nn.utils.rnn import pack_sequence, PackedSequence, unpack_sequence, pad_sequence\n",
    "from torch.utils.data import DataLoader, Subset\n",
    "from tqdm import tqdm\n",
    "import torch.optim as optim\n",
    "from transformers import AutoTokenizer\n",
    "\n",
    "\n",
    "# ds = load_dataset(\"abisee/cnn_dailymail\", \"3.0.0\")\n",
    "ds = load_dataset(\"yhavinga/ccmatrix\", \"en-de\", streaming=True)\n",
    "ds"
   ]
  },
  {
   "cell_type": "code",
   "execution_count": null,
   "metadata": {
    "id": "c7tEwssseVsI"
   },
   "outputs": [],
   "source": [
    "import gc\n",
    "gc.collect()\n",
    "torch.cuda.empty_cache()"
   ]
  },
  {
   "cell_type": "code",
   "execution_count": 7,
   "metadata": {
    "colab": {
     "base_uri": "https://localhost:8080/"
    },
    "id": "Iwp-4EOC4qQM",
    "outputId": "8314363f-e95d-4d64-db5d-aa36076af67f"
   },
   "outputs": [
    {
     "data": {
      "text/plain": [
       "{'id': 0,\n",
       " 'score': 1.2499472,\n",
       " 'translation': {'en': 'Or do they think that We hear not their secrets and their private counsels?',\n",
       "  'de': 'Oder meinen sie, daß Wir ihre Geheimnisse und heimlichen Beratungen nicht hören?'}}"
      ]
     },
     "execution_count": 7,
     "metadata": {},
     "output_type": "execute_result"
    }
   ],
   "source": [
    "next(iter(ds['train']))"
   ]
  },
  {
   "cell_type": "code",
   "execution_count": 8,
   "metadata": {
    "colab": {
     "base_uri": "https://localhost:8080/"
    },
    "id": "U40cKDxJAxd0",
    "outputId": "b5ad089d-2137-410e-e431-26adfbbc6937"
   },
   "outputs": [
    {
     "data": {
      "text/plain": [
       "1"
      ]
     },
     "execution_count": 8,
     "metadata": {},
     "output_type": "execute_result"
    }
   ],
   "source": [
    "tokenizer = AutoTokenizer.from_pretrained(\"gpt2\")\n",
    "tokenizer.add_special_tokens({'bos_token': '<|beginingoftext|>'})"
   ]
  },
  {
   "cell_type": "code",
   "execution_count": 9,
   "metadata": {
    "colab": {
     "base_uri": "https://localhost:8080/"
    },
    "id": "DAq0pl_WZqOT",
    "outputId": "92156a4e-5907-4ad1-e151-58d171c97713"
   },
   "outputs": [
    {
     "data": {
      "text/plain": [
       "{'bos_token': '<|beginingoftext|>',\n",
       " 'eos_token': '<|endoftext|>',\n",
       " 'unk_token': '<|endoftext|>'}"
      ]
     },
     "execution_count": 9,
     "metadata": {},
     "output_type": "execute_result"
    }
   ],
   "source": [
    "tokenizer.special_tokens_map"
   ]
  },
  {
   "cell_type": "code",
   "execution_count": 7,
   "metadata": {
    "id": "mgGiMfy0CVtk"
   },
   "outputs": [],
   "source": [
    "hl = [(d['highlights']) for d in ds['validation']]"
   ]
  },
  {
   "cell_type": "code",
   "execution_count": 8,
   "metadata": {
    "colab": {
     "base_uri": "https://localhost:8080/"
    },
    "id": "Y_xzRabECz7U",
    "outputId": "2be4bd6f-09e5-4d7b-a5c8-906852dfceb2"
   },
   "outputs": [
    {
     "data": {
      "text/plain": [
       "751"
      ]
     },
     "execution_count": 8,
     "metadata": {},
     "output_type": "execute_result"
    }
   ],
   "source": [
    "len(tokenizer(list(sorted(hl, key=len, reverse=True))[1])['input_ids'])"
   ]
  },
  {
   "cell_type": "code",
   "execution_count": 9,
   "metadata": {
    "colab": {
     "base_uri": "https://localhost:8080/"
    },
    "id": "OJEGjenbA18t",
    "outputId": "36c35e66-3d69-497a-c823-cc14b2322eb3"
   },
   "outputs": [
    {
     "data": {
      "text/plain": [
       "{'input_ids': [43, 47383, 11, 4492, 357, 12637, 8, 1377, 5850, 14179, 3491, 7806, 5325, 33783, 8810, 1895, 284, 257, 2098, 4248, 1238, 1510, 7198, 3901, 13, 16, 1510, 8, 15807, 355, 339, 4962, 1248, 319, 3321, 11, 475, 339, 17424, 262, 1637, 1839, 470, 3350, 257, 4822, 319, 683, 13, 7806, 5325, 33783, 355, 5850, 14179, 287, 366, 18308, 14179, 290, 262, 8284, 286, 262, 9643, 1, 1675, 262, 18641, 286, 30914, 5721, 1023, 1088, 262, 995, 11, 262, 1862, 8674, 1139, 339, 468, 645, 3352, 284, 277, 799, 353, 465, 5003, 1497, 319, 3049, 5006, 11, 4144, 290, 16527, 4671, 13, 366, 40, 836, 470, 1410, 284, 307, 530, 286, 883, 661, 508, 11, 355, 2582, 355, 484, 1210, 1248, 11, 6451, 2822, 2405, 257, 4858, 5701, 1097, 4947, 393, 1223, 2092, 553, 339, 1297, 281, 6638, 39877, 2961, 428, 1227, 13, 366, 40, 836, 470, 892, 314, 1183, 307, 3573, 45997, 13, 366, 464, 1243, 314, 588, 7067, 389, 1243, 326, 1575, 546, 838, 8059, 1377, 3835, 290, 36731, 290, 35962, 526, 1629, 1248, 11, 5325, 33783, 481, 307, 1498, 284, 32385, 287, 257, 21507, 11, 2822, 257, 4144, 287, 257, 2240, 393, 766, 262, 9961, 2646, 366, 17932, 417, 25, 2142, 2873, 553, 3058, 2237, 4113, 2174, 465, 1271, 530, 3807, 319, 262, 3482, 3091, 2607, 8262, 13, 14890, 286, 703, 339, 1183, 1317, 465, 20533, 10955, 389, 739, 27521, 13, 2399, 5797, 290, 1171, 396, 550, 645, 2912, 319, 465, 3352, 13, 366, 40, 1183, 4753, 423, 617, 3297, 286, 2151, 553, 339, 531, 287, 281, 2720, 13, 366, 32365, 4844, 286, 345, 481, 307, 3555, 546, 340, 526, 5325, 33783, 338, 12042, 422, 262, 717, 1936, 14179, 7328, 423, 587, 2714, 287, 257, 3774, 1814, 543, 339, 468, 407, 587, 1498, 284, 3638, 13, 7945, 465, 3957, 16117, 290, 35000, 11, 262, 8674, 1139, 339, 318, 5291, 465, 3625, 14245, 319, 262, 2323, 13, 366, 8061, 389, 1464, 2045, 284, 910, 705, 38439, 3491, 2925, 572, 262, 27587, 16078, 339, 1297, 7638, 938, 1227, 13, 366, 1537, 314, 1949, 845, 1327, 407, 284, 467, 326, 835, 780, 340, 561, 307, 1165, 2562, 329, 606, 526, 2399, 3452, 32922, 355, 262, 2933, 18731, 287, 366, 18308, 14179, 290, 262, 8284, 286, 262, 9643, 1, 318, 7163, 4406, 319, 1111, 5389, 286, 262, 10596, 290, 339, 481, 302, 7919, 262, 2597, 287, 262, 938, 734, 7328, 13, 220, 6305, 314, 12, 6207, 4337, 1577, 607, 2423, 286, 14179, 338, 3452, 13355, 764, 1318, 318, 1204, 3675, 14179, 11, 2158, 13, 383, 3576, 263, 468, 18976, 257, 3195, 3807, 1444, 366, 3666, 6387, 3619, 553, 546, 1772, 17421, 9413, 21927, 11347, 290, 465, 3367, 11, 2233, 329, 2650, 1568, 428, 614, 13, 679, 481, 635, 1656, 287, 366, 20588, 17528, 553, 281, 6638, 2646, 546, 1440, 6510, 508, 6654, 281, 26051, 496, 13, 20635, 428, 614, 11, 339, 925, 465, 3800, 8886, 2712, 257, 22485, 15287, 287, 5613, 911, 31183, 338, 366, 23588, 385, 526, 11214, 11, 339, 318, 865, 2286, 329, 772, 5699, 2056, 14521, 783, 326, 339, 338, 11119, 281, 4044, 25, 366, 40, 655, 892, 314, 1101, 1016, 284, 307, 517, 3297, 286, 3148, 983, 553, 339, 1297, 8428, 13, 412, 12, 4529, 284, 257, 1545, 764, 15069, 4343, 8428, 13, 1439, 2489, 10395, 13, 1212, 2587, 743, 407, 307, 3199, 11, 7025, 11, 30101, 11, 393, 38913, 13], 'attention_mask': [1, 1, 1, 1, 1, 1, 1, 1, 1, 1, 1, 1, 1, 1, 1, 1, 1, 1, 1, 1, 1, 1, 1, 1, 1, 1, 1, 1, 1, 1, 1, 1, 1, 1, 1, 1, 1, 1, 1, 1, 1, 1, 1, 1, 1, 1, 1, 1, 1, 1, 1, 1, 1, 1, 1, 1, 1, 1, 1, 1, 1, 1, 1, 1, 1, 1, 1, 1, 1, 1, 1, 1, 1, 1, 1, 1, 1, 1, 1, 1, 1, 1, 1, 1, 1, 1, 1, 1, 1, 1, 1, 1, 1, 1, 1, 1, 1, 1, 1, 1, 1, 1, 1, 1, 1, 1, 1, 1, 1, 1, 1, 1, 1, 1, 1, 1, 1, 1, 1, 1, 1, 1, 1, 1, 1, 1, 1, 1, 1, 1, 1, 1, 1, 1, 1, 1, 1, 1, 1, 1, 1, 1, 1, 1, 1, 1, 1, 1, 1, 1, 1, 1, 1, 1, 1, 1, 1, 1, 1, 1, 1, 1, 1, 1, 1, 1, 1, 1, 1, 1, 1, 1, 1, 1, 1, 1, 1, 1, 1, 1, 1, 1, 1, 1, 1, 1, 1, 1, 1, 1, 1, 1, 1, 1, 1, 1, 1, 1, 1, 1, 1, 1, 1, 1, 1, 1, 1, 1, 1, 1, 1, 1, 1, 1, 1, 1, 1, 1, 1, 1, 1, 1, 1, 1, 1, 1, 1, 1, 1, 1, 1, 1, 1, 1, 1, 1, 1, 1, 1, 1, 1, 1, 1, 1, 1, 1, 1, 1, 1, 1, 1, 1, 1, 1, 1, 1, 1, 1, 1, 1, 1, 1, 1, 1, 1, 1, 1, 1, 1, 1, 1, 1, 1, 1, 1, 1, 1, 1, 1, 1, 1, 1, 1, 1, 1, 1, 1, 1, 1, 1, 1, 1, 1, 1, 1, 1, 1, 1, 1, 1, 1, 1, 1, 1, 1, 1, 1, 1, 1, 1, 1, 1, 1, 1, 1, 1, 1, 1, 1, 1, 1, 1, 1, 1, 1, 1, 1, 1, 1, 1, 1, 1, 1, 1, 1, 1, 1, 1, 1, 1, 1, 1, 1, 1, 1, 1, 1, 1, 1, 1, 1, 1, 1, 1, 1, 1, 1, 1, 1, 1, 1, 1, 1, 1, 1, 1, 1, 1, 1, 1, 1, 1, 1, 1, 1, 1, 1, 1, 1, 1, 1, 1, 1, 1, 1, 1, 1, 1, 1, 1, 1, 1, 1, 1, 1, 1, 1, 1, 1, 1, 1, 1, 1, 1, 1, 1, 1, 1, 1, 1, 1, 1, 1, 1, 1, 1, 1, 1, 1, 1, 1, 1, 1, 1, 1, 1, 1, 1, 1, 1, 1, 1, 1, 1, 1, 1, 1, 1, 1, 1, 1, 1, 1, 1, 1, 1, 1, 1, 1, 1, 1, 1, 1, 1, 1, 1, 1, 1, 1, 1, 1, 1, 1, 1, 1, 1, 1, 1, 1, 1, 1, 1, 1, 1, 1, 1, 1, 1, 1, 1, 1, 1, 1, 1, 1, 1, 1, 1, 1, 1, 1, 1, 1, 1, 1, 1, 1, 1, 1, 1, 1, 1, 1, 1, 1, 1, 1, 1, 1, 1, 1, 1, 1, 1, 1, 1, 1, 1, 1, 1, 1, 1, 1, 1, 1, 1, 1, 1, 1, 1, 1, 1, 1, 1, 1, 1, 1, 1, 1, 1, 1, 1, 1, 1, 1, 1, 1, 1, 1, 1, 1, 1, 1, 1, 1, 1, 1, 1, 1, 1, 1, 1, 1]}"
      ]
     },
     "execution_count": 9,
     "metadata": {},
     "output_type": "execute_result"
    }
   ],
   "source": [
    "tokenizer(ds['train'][0]['article'])"
   ]
  },
  {
   "cell_type": "markdown",
   "metadata": {
    "id": "6cyRqNBTB5r7"
   },
   "source": [
    "## Model"
   ]
  },
  {
   "cell_type": "code",
   "execution_count": 10,
   "metadata": {
    "colab": {
     "base_uri": "https://localhost:8080/"
    },
    "id": "qoHx1afqDWVi",
    "outputId": "cc99e302-9936-42bf-89c6-ab78e4d40eb9"
   },
   "outputs": [
    {
     "data": {
      "text/plain": [
       "{'bos_token': '<|beginingoftext|>',\n",
       " 'eos_token': '<|endoftext|>',\n",
       " 'unk_token': '<|endoftext|>'}"
      ]
     },
     "execution_count": 10,
     "metadata": {},
     "output_type": "execute_result"
    }
   ],
   "source": [
    "tokenizer.special_tokens_map"
   ]
  },
  {
   "cell_type": "code",
   "execution_count": 11,
   "metadata": {
    "id": "qd5VlsTHCAFg"
   },
   "outputs": [],
   "source": [
    "device = torch.device(\"cuda\" if torch.cuda.is_available() else \"cpu\")\n",
    "SOS_token = tokenizer.special_tokens_map['bos_token']\n",
    "SOS_token = tokenizer.vocab[SOS_token]\n",
    "EOS_token = tokenizer.special_tokens_map['eos_token']\n",
    "EOS_token = tokenizer.vocab[EOS_token]\n",
    "MAX_LENGTH = 800\n",
    "\n",
    "def simple_elementwise_apply(fn, packed_sequence):\n",
    "    \"\"\"applies a pointwise function fn to each element in packed_sequence\"\"\"\n",
    "    return torch.nn.utils.rnn.PackedSequence(fn(packed_sequence.data), packed_sequence.batch_sizes)\n",
    "\n",
    "class EncoderRNN(nn.Module):\n",
    "    def __init__(self, input_size, hidden_size, dropout_p=0.1):\n",
    "        super(EncoderRNN, self).__init__()\n",
    "        self.hidden_size = hidden_size\n",
    "\n",
    "        self.embedding = nn.Embedding(input_size, hidden_size)\n",
    "        self.gru = nn.GRU(hidden_size, hidden_size, batch_first=True)\n",
    "        self.dropout = nn.Dropout(dropout_p)\n",
    "\n",
    "    def forward(self, input):\n",
    "        if isinstance(input, PackedSequence):\n",
    "          embedded = simple_elementwise_apply(lambda x: self.dropout(self.embedding(x)), input)\n",
    "        else:\n",
    "          embedded = self.dropout(self.embedding(input))\n",
    "        output, hidden = self.gru(embedded)\n",
    "        return output, hidden\n",
    "\n",
    "class DecoderRNN(nn.Module):\n",
    "    def __init__(self, hidden_size, output_size):\n",
    "        super(DecoderRNN, self).__init__()\n",
    "        self.embedding = nn.Embedding(output_size, hidden_size)\n",
    "        self.gru = nn.GRU(hidden_size, hidden_size, batch_first=True)\n",
    "        self.out = nn.Linear(hidden_size, output_size)\n",
    "\n",
    "    def forward(self, encoder_outputs, encoder_hidden, target=None):\n",
    "        batch_size = encoder_outputs.size(0)\n",
    "        decoder_input = torch.empty(batch_size, 1, dtype=torch.long, device=device).fill_(SOS_token)\n",
    "        decoder_hidden = encoder_hidden\n",
    "\n",
    "        if target is not None:\n",
    "          decoder_outputs = self.forward_teacher(decoder_input, decoder_hidden, target)\n",
    "          # decoder_outputs = F.log_softmax(decoder_outputs, dim=-1)\n",
    "          decoder_outputs = simple_elementwise_apply(lambda x: F.log_softmax(x, dim=-1), decoder_outputs)\n",
    "          return decoder_outputs, None, None\n",
    "\n",
    "        decoder_outputs = []\n",
    "\n",
    "        for i in range(MAX_LENGTH):\n",
    "            decoder_output, decoder_hidden  = self.forward_step(decoder_input, decoder_hidden)\n",
    "            decoder_outputs.append(decoder_output)\n",
    "\n",
    "            # Without teacher forcing: use its own predictions as the next input\n",
    "            _, topi = decoder_output.topk(1)\n",
    "            decoder_input = topi.squeeze(-1).detach()  # detach from history as input\n",
    "\n",
    "        decoder_outputs = torch.cat(decoder_outputs, dim=1)\n",
    "        decoder_outputs = F.log_softmax(decoder_outputs, dim=-1)\n",
    "        return decoder_outputs, decoder_hidden, None # We return `None` for consistency in the training loop\n",
    "\n",
    "    def forward_teacher(self, decoder_input, decoder_hidden, target_packed):\n",
    "      i = 0\n",
    "      decoder_outputs = []\n",
    "      for batch_size in target_packed.batch_sizes:\n",
    "        # print(batch_size)\n",
    "        decoder_output, decoder_hidden  = self.forward_step(decoder_input, decoder_hidden)\n",
    "        decoder_outputs.append(decoder_output[:batch_size])\n",
    "        # decoder_input = target_tensor[:, i].unsqueeze(1) # Teacher forcing\n",
    "        decoder_input = target_packed.data[i:i + batch_size].unsqueeze(-1)\n",
    "        decoder_hidden = decoder_hidden[:, :batch_size, :]\n",
    "        # end\n",
    "        i += batch_size\n",
    "      decoder_outputs = torch.nn.utils.rnn.PackedSequence(torch.cat(decoder_outputs), target_packed.batch_sizes)\n",
    "      return decoder_outputs\n",
    "\n",
    "\n",
    "    def forward_step(self, input, hidden):\n",
    "        # print(input.shape, hidden.shape)\n",
    "        output = self.embedding(input)\n",
    "        output = F.relu(output)\n",
    "        output, hidden = self.gru(output, hidden)\n",
    "        output = self.out(output)\n",
    "        return output, hidden"
   ]
  },
  {
   "cell_type": "markdown",
   "metadata": {
    "id": "mjWdUcYCFVjN"
   },
   "source": [
    "## Training loop"
   ]
  },
  {
   "cell_type": "code",
   "execution_count": 12,
   "metadata": {
    "id": "mY8zd7lObCkC"
   },
   "outputs": [],
   "source": [
    "def decode(log_probs):\n",
    "  indices = log_probs.topk(k=1, dim=-1).indices.squeeze(-1)\n",
    "  if len(indices.shape) == 1:\n",
    "    return tokenizer.decode(indices)\n",
    "  return [tokenizer.decode(s) for s in indices]\n"
   ]
  },
  {
   "cell_type": "code",
   "execution_count": 13,
   "metadata": {
    "id": "H9DKQXg3LjpD"
   },
   "outputs": [],
   "source": [
    "hidden_size = 1024\n",
    "lr = 1e-4\n",
    "\n",
    "enc = EncoderRNN(len(tokenizer), hidden_size).to(device)\n",
    "dec = DecoderRNN(hidden_size, len(tokenizer)).to(device)\n",
    "enc_optimizer = optim.Adam(enc.parameters(), lr)\n",
    "dec_optimizer = optim.Adam(dec.parameters(), lr)"
   ]
  },
  {
   "cell_type": "code",
   "execution_count": 20,
   "metadata": {
    "colab": {
     "base_uri": "https://localhost:8080/",
     "height": 1000
    },
    "id": "UdAhDHdNLtdk",
    "outputId": "af3d005d-f7cb-4e31-9b53-f619a7107057"
   },
   "outputs": [
    {
     "name": "stderr",
     "output_type": "stream",
     "text": [
      "1it [00:01,  1.33s/it]"
     ]
    },
    {
     "name": "stdout",
     "output_type": "stream",
     "text": [
      "loss=5.454220294952393\n",
      "\n",
      "Article:\n",
      "By. Daily Mail Reporter. Serial philanderer Robert F. Kennedy Jr. is reported to have kept a list of dozens of women filed under the letter ‘G’ in his cell phone, including his soon-to-be-wife actress Cheryl Hines and Chelsea Kirwan, his alleged mistress who is currently involved in a bitter divorce battle. Allegations about a cell phone full of women’s numbers, have emerged at a tricky time for the 60-year-old, twice-married, father-of-six. Later this month he is set to marry Curb Your Enthusiasm star Hines, 48, in a ceremony expected to take place over the weekend of July 25, during the annual Kennedy family reunion in Hyannis Port, Massachusetts. Robert Kennedy Jr, 60, is set to marry Curb Your Enthusiasm star Hines, 48, in a ceremony expected to take place over the weekend of July 25, during the annual Kennedy family reunion in Hyannis Port, Massachusetts. RFK is also in the potentially embarrassing situation of being deposed on July 22 by lawyers for plastic surgeon Laurence Kirwa\n",
      "\n",
      "Target:\n",
      "Robert F. Kennedy Jr. is alleged to have kept a list of.\n",
      "43 women in his cell phone, including.\n",
      "his soon-to-be-wife actress Cheryl Hines.\n",
      "Also on the list was Chelsea Kirwan, his alleged mistress who is currently involved in a bitter divorce battle.\n",
      "RFK is set to marry Hines later this month in Hyannis Port, Massachusetts.\n",
      "The same week he faces the potentially embarrassing situation of.\n",
      "being deposed by lawyers for Chelsea Kirwin's plastic surgeon husband.\n",
      "RFK's second wife Mary Richardson is alleged to shared details about the phone list with a friend just two months before she committed suicide.<|endoftext|>\n",
      "\n",
      "Predicted:\n",
      "The P1S,.S a to have been the'of the\n",
      "The- have the home phone and he a\n",
      "The,,year-two-year was'toudd.\n",
      "He said the'of'in by. but wife victim. was now. in the '...\n",
      "Theesc, a to be inudd's this year. the... but.\n",
      "The pair- was was a first's and. the\n",
      "The's,, the in the and. and '...<|endoftext|>Theesc said father- was's, a to have the of the '.. a '. a weeks. he was suicide.\n",
      "\n"
     ]
    },
    {
     "name": "stderr",
     "output_type": "stream",
     "text": [
      "101it [01:28,  1.10it/s]"
     ]
    },
    {
     "name": "stdout",
     "output_type": "stream",
     "text": [
      "loss=5.671022891998291\n",
      "\n",
      "Article:\n",
      "Notorious'serial stowaway' Marilyn Jean Hartman has struck again. The 63-year-old California resident was arrested Monday in Jacksonville, Florida, after she allegedly snuck onto a flight from Minneapolis Sunday by using someone else's identity. Once in Jacksonville, the woman allegedly used a fake name, Maria Sandgren, to get transportation to Omni Amelia Island Plantation Resort, where she checked into a $300-a-night villa. But her triumph was short-lived: Hartman fled hours later when the real guest showed up at the hotel. She's baaack! Notorious'serial stowaway' Marilyn Jean Hartman, 63, was arrested in Florida after allegedly sneaking onto a flight and then checking into a posh resort using someone else's name. The fleet-footed senior citizen was discovered by security guards the following day hiding in a vacant room that was been renovated, reported NBC News. Hartman has been charged with felony fraud, defrauding an innkeeper and misdemeanor trespassing. She is due back in court \n",
      "\n",
      "Target:\n",
      "Marilyn Jean Hartman, 63, arrested in Jacksonville, Florida, on charges of fraud and trespassing.\n",
      "Police say she snuck onto flight from Minneapolis by using someone else's name.\n",
      "She then checked into Omni Amelia Island Plantation Resort using a false name, but had to flee when the guest returned.\n",
      "In August 2014, she was arrested no fewer than three times, including at Phoenix airport.\n",
      "Hartman has been arrested seven times at San Francisco airport alone.\n",
      "She's blamed her obsession with planes and airports on unrecognized medical condition she calls 'whistleblower trauma syndrome'<|endoftext|>\n",
      "\n",
      "Predicted:\n",
      "Theilit's,,, was who, was on the of Florida, and Tuesday. murder. a..\n",
      "The say the was her's the from the and police a of. death.\n",
      "The was allegedly thein in  ack,,in , inin   the 'and in  in  beenfor-. he man was to\n",
      "The the,, the was found in one of a years in andin in in of .\n",
      "The was said been charged in years in the Franciscoin of in..\n",
      "The was been for to and the and a, the.... was fora''''''<|endoftext|>\n"
     ]
    },
    {
     "name": "stderr",
     "output_type": "stream",
     "text": [
      "201it [02:51,  1.26it/s]"
     ]
    },
    {
     "name": "stdout",
     "output_type": "stream",
     "text": [
      "loss=5.4604973793029785\n",
      "\n",
      "Article:\n",
      "(Budget Travel) -- A more unified Europe has made it simpler to go from one country into another. Driving on the continent, however, remains a challenge because of inconsistent traffic laws and road signs. We asked representatives of several rental-car companies about little-known rules and conventions that visitors should know before hitting the road in Europe. You must pay to enter London, England's congestion zone on weekdays from 7 a.m. to 6 p.m. United Kingdom • On weekdays from 7 a.m. to 6 p.m., London charges a fee to enter the city's congestion zone, which is marked with signs showing a white C in a red circle. The charge may be included in the cost of your rental car, so ask. Otherwise, you can pay online (cclondon.com) or at stores, gas stations, and newsstands where you see the congestion logo. Your car's license-plate number is then registered in an electronic database. Cameras take pictures of your plate when you enter the zone, and a computer system checks the database to\n",
      "\n",
      "Target:\n",
      "On weekdays from 7 a.m. to 6 p.m., there's a fee to enter London's congestion zone.\n",
      "In France, children under 10 are prohibited from riding up front.\n",
      "On Italian roads too narrow for two vehicles, the larger one has the right-of-way.\n",
      "In Spain, if you wear glasses you must have an extra pair in the car.<|endoftext|>\n",
      "\n",
      "Predicted:\n",
      "The the,, the. yearm.2 the..m.) is no new of be the....\n",
      "The the, the, the, in, the, to of\n",
      "The the,,,, the years,000 most is of been most toterm-one.<|endoftext|>The the, the the can the, can be to extra-. the world.<|endoftext|>\n"
     ]
    },
    {
     "name": "stderr",
     "output_type": "stream",
     "text": [
      "301it [04:21,  1.10it/s]"
     ]
    },
    {
     "name": "stdout",
     "output_type": "stream",
     "text": [
      "loss=5.451072692871094\n",
      "\n",
      "Article:\n",
      "Hard task: Shares plunged again today after Tesco's Dave Lewis pledged to turn the supermarket around but kept the plan secret. Tesco's shares plunged again this morning after its new boss refused to reveal how he would tackle the biggest crisis in its 95-year history. The supermarket giant yesterday revealed half-year profits slumped by 91.9 per cent and its £263million accounting scandal was even worse than predicted. The news triggered another dramatic slump in Tesco shares, which closed down 12p at £1.71, and they have continued to dive-bomb today. This morning they were available for £1.65 but a year ago they were worth £3.70, meaning Tesco has had £4billion wiped off its stock market value in just 12 months. Millions of customers have switched to budget rivals like Aldi and Lidl or high-end Waitrose and Marks and Spencer because Tesco has failed to deliver on price, service or quality,. But CEO Dave Lewis yesterday refused to be drawn on what he would do to win back shoppers. He \n",
      "\n",
      "Target:\n",
      "Tesco is in crisis as millions of customers have left for its UK rivals.\n",
      "Profits to August down 91.9% to £112m, compared to £1.3bn a year earlier.\n",
      "Shares are now down to £1.65 - they were worth £3.70 a year ago.\n",
      "New CEO Dave Lewis would not be drawn about how to win them back.\n",
      "He said: 'Everybody's been saying to me: \"Dave, when are you going to reveal your strategy\" - and I won't be doing that'\n",
      "Mr Lewis being urged to cut prices, get more staff and improve food quality.\n",
      "Chairman quit yesterday and fled news conference to avoid questions.\n",
      "Police to launch criminal investigation over £263m accounting scandal.<|endoftext|>\n",
      "\n",
      "Predicted:\n",
      "The,, a the by'of the. been the £ own..\n",
      "The, and be and the and5% of £1,.000 to £1.5m. year..\n",
      "The will now being to be1.5million but can'£1.5m year..\n",
      "Thecastle of £ and be be able to £ to be the..\n",
      "But says it 'I is not'' be you 'I� you it not� to be it''<|endoftext|> but it have't be able. they<|endoftext|>But Cameronon,'to be the and but and than to '...<|endoftext|>Butman: to and'of. to be the.<|endoftext|>But say be £ £ into the1, in for.<|endoftext|>\n"
     ]
    },
    {
     "name": "stderr",
     "output_type": "stream",
     "text": [
      "401it [05:44,  1.21it/s]"
     ]
    },
    {
     "name": "stdout",
     "output_type": "stream",
     "text": [
      "loss=5.419655799865723\n",
      "\n",
      "Article:\n",
      "By. Jade Watkins and Eleanor Gower. PUBLISHED:. 18:50 EST, 6 August 2013. |. UPDATED:. 16:45 EST, 7 August 2013. Custody: Tameka Raymond, pictured in court last August, has re-launched her bid for full custody. Usher's ex-wife Tameka Raymond has filed for custody of their two children following Monday's pool accident which left their five-year-old Usher V in a coma. Tameka, who divorced the 34-year-old singer in November 2009, filed legal documents on Tuesday asking for an emergency hearing on grounds Usher is allegedly creating a 'dangerous environment' for the children. According to TMZ, the documents were filed in Fulton County, Georgia, and ask for the hearing to take place later this week. Tameka is seeking decision-making power over the children's education, healthcare, religion and extracurricular activities. She is allegedly claiming Usher is 'abdicating' his parental responsibilities by letting other people care for their two children,' report the website. She is also said to \n",
      "\n",
      "Target:\n",
      "Tameka accused her ex of raising their sons in a 'dangerous environment.\n",
      "Usher V rushed to intensive care after his arm was trapped in a pool drain.\n",
      "A workman at the house revived him with CPR.\n",
      "Usher V was in the care of the singer's aunt who Tameka has 'issues' with.\n",
      "Incident comes a year after Tameka's son Kile, 11, died following a jet ski crash.<|endoftext|>\n",
      "\n",
      "Predicted:\n",
      "Theiger, was of mother- the, son in the comasuperous''\n",
      "Hees'idal to the the, the wife, found in the coma..\n",
      "He judge of was the scene in in to a and\n",
      "Hees wasettel also the head of the crash's death. wasrav.. beena'\n",
      " the\n",
      "Heident happened after week after theoul was was death washed, who, was in a car...\n",
      "\n"
     ]
    },
    {
     "name": "stderr",
     "output_type": "stream",
     "text": [
      "501it [07:06,  1.23it/s]"
     ]
    },
    {
     "name": "stdout",
     "output_type": "stream",
     "text": [
      "loss=5.852452278137207\n",
      "\n",
      "Article:\n",
      "Against all the odds, Esme is now eight. months old - although she is still battling lung and feeding. complications because of her early birth. A baby has astounded doctors by surviving despite being born four months premature and weighing just 1lb 6oz. Esme Poulsom was given just a one per cent chance of survival when mother Kirsty Barrett's waters broke after just 19 weeks. But Ms Barrett, 24, and partner Gareth Poulsom refused to give up hope and Esme was born so small she could fit into her mother's hand. Baby Esme (pictured with sister Ava, 2, father Gareth Poulsom, 27, and mother Kirsty Barrett, 24) has defied doctors to survive despite being born four months prematurely. Esme was so fragile and Ms Barrett was so ill after the birth that she was not allowed to see her new baby for two agonising days. Doctors warned the couple that the first weeks of Esme's life were 'touch and go' and she may not survive. But against the odds, Esme is now eight months old - although she is still\n",
      "\n",
      "Target:\n",
      "Esme Poulsom was given just a one per cent chance of survival when her mother Kirsty Barrett's waters broke after just 19 weeks.\n",
      "Esme was so fragile and her mother so ill after the birth that she was not allowed to see her for two agonising days.\n",
      "Against all the odds, Esme is now eight.\n",
      "months old - although she is still battling lung and feeding.\n",
      "complications because of her early birth.<|endoftext|>\n",
      "\n",
      "Predicted:\n",
      "The-,ard,, found a £ year- cent of of her. she husband was.,, mother. out she a..\n",
      "She- said found she, she husband- she her she girl of she was'to to be her. her years...\n",
      "She- the two of she and and now being months\n",
      "The-, and of was now in to and her.\n",
      "Sheed, she the daughter and to\n",
      "\n"
     ]
    },
    {
     "name": "stderr",
     "output_type": "stream",
     "text": [
      "601it [08:32,  1.24it/s]"
     ]
    },
    {
     "name": "stdout",
     "output_type": "stream",
     "text": [
      "loss=5.347689628601074\n",
      "\n",
      "Article:\n",
      "By. Harriet Arkell. Chloe Wilkes, 17, who left school last year, was found collapsed at home in Singleton, Kent, and died in hospital later that same day. A father has appeared in court accused of the manslaughter of his 17 year-old daughter who died after taking MDMA at home. Jason Wilkes, 44, has also been charged with conspiracy to supply the illegal drug following the death of Chloe Wilkes. She was found collapsed at her semi-detached home in Ashford, Kent on July 27 and taken to the William Harvey Hospital but pronounced dead later the same day. Wilkes appeared before magistrates in Folkestone two days later and was remanded in custody to appear at Canterbury Crown Court on August 18. Today her teachers and friends paid tribute to the'sweet' teenager on a Facebook page set up in her memory. Jon Whitcombe, headmaster of The North School in Ashford, which Chloe left last year, said: 'These are a desperately sad set of circumstances and our thoughts are with family and friends at thi\n",
      "\n",
      "Target:\n",
      "Chloe Wilkes was found collapsed at her home in Singleton, Kent.\n",
      "Former North School pupil was rushed to hospital in Ashford but died later.\n",
      "Her father, Jason Wilkes, 44, has been charged with manslaughter.\n",
      "He has also been charged with conspiracy to supply the illegal drug, MDMA.\n",
      "Inquest in Folkestone heard teenager had taken the drug before her death.\n",
      "Her former head called the tragedy 'a desperately sad set of circumstances'\n",
      "Chloe's friends set up a Facebook tribute page, calling their friend an 'angel'<|endoftext|>\n",
      "\n",
      "Predicted:\n",
      "Theloe,ts, found in in the home in London., Florida.\n",
      "She England Korean,, found to hospital after the.shire was..\n",
      "Police mother was who,ts, was, was been charged with murder.\n",
      "The was been been charged with murder to be her murder.. but.<|endoftext|>Police a, the,, she to to to same....<|endoftext|>She mother boyfriend, 911'anda-''' the'<|endoftext|>Shearity, mother said to to £ page to. but her home. 'un'<|endoftext|>\n"
     ]
    },
    {
     "name": "stderr",
     "output_type": "stream",
     "text": [
      "701it [09:58,  1.15it/s]"
     ]
    },
    {
     "name": "stdout",
     "output_type": "stream",
     "text": [
      "loss=5.53234338760376\n",
      "\n",
      "Article:\n",
      "By. Stephanie Linning. British diving star Tom Daley and his partner James Denny came agonisingly close to winning a gold for England at the Commonwealth Games today after a near-perfect final dive which left them settling for silver. As there were only four teams competing, there were only two medals awarded, and the pair looked like they were out of contention as they approached the edge of the board for their sixth and final dive. But the 20-year-old partners, who had just seven days to train together after deciding to enter the event last week, delivered a stunning routine, completing a complex four-and-a-half somersault. Unfortunately it was not enough to beat an Australian duo led by Matthew Mitcham, who narrowly beat the English pair by just 0.18 in the nail-biting final round. Scroll down for video. Tom Daley, right, and James Denny, left, smile with their silver medals after narrowly losing out to an Australian duo in the men's 10m synchronised event. The British diving star b\n",
      "\n",
      "Target:\n",
      "Tom Daley and partner James Denny just lost out to Australian pair in the men's 10m synchronised springboard diving.\n",
      "A near-perfect final dive shot the pair to second place after they struggled in the first and second rounds.\n",
      "Earlier today the pair looked focused and relaxed as they warmed up for this evening's competition.\n",
      "They have only had seven days to practise together, after deciding to enter the event last week.\n",
      "It is the first of two appearances for Daley, who will also take part in 10m individual event on Saturday.<|endoftext|>\n",
      "\n",
      "Predicted:\n",
      "Theaszek Blind the have Rodriguezzek was one 2 of the Open. the world. firstth......\n",
      "The third-time was in in in second of the in in the were to the second half a half.\n",
      "The this's first of at on the are a were to to the year. second.<|endoftext|>The are been been a- before the the in but the and the the club. year.<|endoftext|>The is the first time the- for therog Blind who is be be place in the years... Tuesday.<|endoftext|>\n"
     ]
    },
    {
     "name": "stderr",
     "output_type": "stream",
     "text": [
      "801it [11:24,  1.16it/s]"
     ]
    },
    {
     "name": "stdout",
     "output_type": "stream",
     "text": [
      "loss=5.19428825378418\n",
      "\n",
      "Article:\n",
      "These horrifying pictures show the pitiful state of a pet Alsatian that had to be put down after it scratched the skin of its face – because owners didn’t take it to a vet for eight years. Kevin and Agnes Stringfellow, both 51, were both charged with failing to protect their dog Spike, a German Shepherd, and causing him unnecessary suffering. A worried shopper spotted the dog, who had been suffering from chronic facial dermatitis, in a car in Bolton, Greater Manchester, with no fur on its face and its skin was inflamed and infected. WARNING: GRAPHIC CONTENT. Spike, the German Shepherd, had been suffering from chronic facial dermatitis and had to be put to sleep. They alerted officers at the RSPCA who were left shocked, with one inspector describing it as the worst skin condition she had ever seen. Burnley Magistrates Court heard the couple are married but live separately and the dog spent most of his time with Mrs Stringfellow – who is said to have a mental health problem. Spike had la\n",
      "\n",
      "Target:\n",
      "WARNING: CONTAINS GRAPHIC CONTENT.\n",
      "Spike was suffering chronic facial dermatitis but hadn't seen a vet in years.\n",
      "He was spotted in a car by a worried shopper who alerted RSPCA officers.\n",
      "Inspector was called and took dog to vet who said he had to be put down.\n",
      "Owners Kevin and Agnes Stringfellow charged with failing to protect dog.\n",
      "Mr Stringfellow told court he believed the condition 'would sort itself out'\n",
      "He was banned from owning cats and dogs and ordered to pay costs.\n",
      "His wife, who lives separately, did not attend hearing and was adjourned.<|endoftext|>\n",
      "\n",
      "Predicted:\n",
      "The: ', to,APHIC CONTENT.\n",
      "Sheokes was jailed from by and and in was't been. '. the.\n",
      "But was jailed by the coma park a man of to. was.SPCA..\n",
      "Thequest,, jailed to a a to the. was it was been be a down.\n",
      "Buters say to thea said,ica, with a to the the.<|endoftext|>But Cameron was,, police heard was to'wasI the'''<|endoftext|>But was jailed from the to in a to a to be for.<|endoftext|>But family, who was in, and not have the. is a..<|endoftext|>\n"
     ]
    },
    {
     "name": "stderr",
     "output_type": "stream",
     "text": [
      "901it [12:55,  1.16it/s]"
     ]
    },
    {
     "name": "stdout",
     "output_type": "stream",
     "text": [
      "loss=5.4270405769348145\n",
      "\n",
      "Article:\n",
      "By. Daily Mail Reporter. PUBLISHED:. 00:14 EST, 16 October 2013. |. UPDATED:. 05:53 EST, 21 October 2013. A man who shot dead his wife before posting grisly photos of her corpse on Facebook may use Florida's'stand your ground' defense, with new photos taken after the shoot-out showing bruises on his arm. Derek Medina, 31, claimed he shot Jennifer Alfonso, 26, after she viciously attacked him at their South Miami home on August 8. He then posted a picture of her dead body online to notify family members. Now Medina's attorney said his client may use Florida's'stand your ground' self-defense law, with new photos taken eight days after the shooting showing small bruises on his arm. Scroll down for video. Self-defense: Photos taken eight days after the shooting show yellow bruises on Derek Medina's arm, which he claims proves he acted in self-defense. Victim? Derek Medina claims he killed his wife only after years of violence and abuse. These photos show a shirtless Medina with small, yell\n",
      "\n",
      "Target:\n",
      "Derek Medina is accused of killing his wife, Jennifer Alfonso, and posting gruesome photos of her corpse on Facebook in August.\n",
      "He told police he posted the photos online to notify her family.\n",
      "He has pleaded not guilty to second-degree murder with a firearm.\n",
      "Medina's attorney, Saam Zanganeh, said his client acted in self-defense.\n",
      "Photos taken eight days after the shooting shows bruises on Medina's arm.\n",
      "Medina's boss reported the shooting to police.\n",
      "In the 911 recording, the caller said Medina called into work at The Gables Club condominiums confessing to the crime.<|endoftext|>\n",
      "\n",
      "Predicted:\n",
      "Theawn,, accused of raping his wife and who,,, was her her. of her husband. a. a.\n",
      "He was police he was a'of and the him and and\n",
      "The was been not guilty to the timedegree murder and a man.\n",
      "The-, mother says who,,,,,, who he wife was, the-old.\n",
      "The was to months after she incident was a of the. death.<|endoftext|>The-, mother said the man was be officers<|endoftext|>The the case,, was man was she was the a. the Crowniff....... the court.<|endoftext|>\n"
     ]
    },
    {
     "name": "stderr",
     "output_type": "stream",
     "text": [
      "1001it [14:19,  1.26it/s]"
     ]
    },
    {
     "name": "stdout",
     "output_type": "stream",
     "text": [
      "loss=5.170182228088379\n",
      "\n",
      "Article:\n",
      "A team of cadaver dogs will search Plano, Texas, for the body of a 23-year-old woman who was last seen leaving a party three months ago. Christina Morris walked into a shopping mall garage with a male friend on August 30 but she never drove out, surveillance footage showed. Despite searching ponds, lakes, fields, and buildings, and combing through Morris's texts, police and a private investigator have failed to uncover any new information. Scroll down for video. Missing: Cadaver dogs will search for the body of Christina Morris, 23, who went missing on August 30 after a party. She was last seen walking into a garage at 4am that day. This (left) is the last picture taken of her. Morris lives with her boyfriend who failed to report her missing, her parents Ronnie and Jonnie McElroy said. It wasn't until September 3, when Morris didn't turn up to work, that police were alerted to the case by her employer. Police released surveillance footage showing her entering The Shops at Legacy parkin\n",
      "\n",
      "Target:\n",
      "Team of cadaver dogs will search lakes and ponds for Christina Morris.\n",
      "The 23-year-old went missing  after party on August 30 in Plano, Texas.\n",
      "CCTV footage showed her walking into a garage with a friend at 4am.\n",
      "Police don't believe the male friend is a suspect in her disappearance.\n",
      "Morris lives with her boyfriend, who didn't report her missing for four days.<|endoftext|>\n",
      "\n",
      "Predicted:\n",
      "Police, theot,,, be for. a to the..\n",
      "Police couple-year-old was to from  being of the.. the.. Florida.\n",
      "PoliceTV footage shows the husband in the car of a friend of thepm.\n",
      "Police say't know the man was was not '. the.ingr..\n",
      "Policeris was in a husband and who was't have... the years.<|endoftext|>\n"
     ]
    },
    {
     "name": "stderr",
     "output_type": "stream",
     "text": [
      "1101it [15:44,  1.23it/s]"
     ]
    },
    {
     "name": "stdout",
     "output_type": "stream",
     "text": [
      "loss=5.3690571784973145\n",
      "\n",
      "Article:\n",
      "By. Alan Roden. Three trips to the United States saw Alex Salmond stay in some of the country's most luxurious hotels while racking up a bill of more than £20,000 at taxpayers' expense. The Scottish Government has finally published details of the First Minister's foreign jaunts following an eight-month battle over the data. Mr Salmond's travel and subsistence bill for a visit to Chicago for the Ryder Cup in 2012 cost £7,046. Scotland's First Minister Alex Salmond, pictured in Hollywood in 2012, has been criticised for hisglobe-trotting at taxpayers' expense. In 2012, Mr Salmond donned his tartan trousers to attend the Hollywood premier of Disney film Brave. He stayed in a suite in the five-star Peninsula Hotel, popular with celebrities such as Brad Pitt, which included a guest powder room, living room, a dressing area, three TVs, a video games console, a surround-sound stereo system and a marble bathroom. Mr Salmond would have been treated to panoramic views of Michigan Avenue, one of \n",
      "\n",
      "Target:\n",
      "Scottish government releases details of First Minister's globe-trotting.\n",
      "Includes £7,046 for the golf fan to watch the Ryder Cup in 2012.\n",
      "Stayed at five-star Peninsula Hotel in Chicago popular with Brad Pitt.\n",
      "Trip to New York for 'Scotland Week' last year cost taxpayer £4,999.\n",
      "Four-day jaunt to Hollywood to attend Brave premier cost £8,197.<|endoftext|>\n",
      "\n",
      "Predicted:\n",
      "Theish'has of of the's. '.up...\n",
      "He the1.000, £ first of of be the '.. the.\n",
      "Theri to the-year-, in the,, the-.\n",
      "Theory have be York City thethe'' and year. £.1.000.\n",
      "But-year-ockey are be in the the...1m000.<|endoftext|>\n"
     ]
    },
    {
     "name": "stderr",
     "output_type": "stream",
     "text": [
      "1201it [17:04,  1.30it/s]"
     ]
    },
    {
     "name": "stdout",
     "output_type": "stream",
     "text": [
      "loss=5.522064685821533\n",
      "\n",
      "Article:\n",
      "By. Daily Mail Reporter. and Ap. A Hawaii island oral and cosmetic surgeon with 27 formal complaints - including a man's death and a woman in a coma - is no longer allowed to practice in the state. Dr. John Stover voluntarily revoked his license and agreed not to be involved in any medical or dental procedures in Hawaii ever again. The Hawaii Medical Board voted to accept the settlement. Banned: Dr. John Stover has had 27 complaints filed against him in Hawaii - including complaints for the deaths of two people. Voluntary: Stover voluntarily turned over his licenses and agreed to not conduct any medical or dental procedures - the vote just made it official. 'The vote was seven in favor with one abstention,' Hawaii Medical Board Chairman Dr. Danny Takanishi, Jr., told Hawaii News Now. Meanwhile, former patient Kristen Tavares remains in a coma after a wisdom teeth extraction. Her father, Joe Tavares, said he's glad Stover won't work in Hawaii again. Another complaint against Stover invo\n",
      "\n",
      "Target:\n",
      "One of Dr John Stover's former patients - a mother of two - remains in a coma.\n",
      "Homeless military veteran Curtis Wagasky died three days after a procedure with Stover.\n",
      "The Hawaii Medical Board voted 7 to 1 to revoke Stover's license.\n",
      "Stover also will have his revocation entered into a national registry, which will make it incredibly difficult for him to practice anywhere in the U.S.<|endoftext|>\n",
      "\n",
      "Predicted:\n",
      "The of the. Kerry. was father president of a man of the- and in the coma.\n",
      "Theeland was was was he was was was in days later he '. the..\n",
      "The couple was Center was in- the, the the.'s death.\n",
      "Theri was had be been life and and the car attack. but he be the... the. be.. the case.S.<|endoftext|>\n"
     ]
    },
    {
     "name": "stderr",
     "output_type": "stream",
     "text": [
      "1301it [18:28,  1.08it/s]"
     ]
    },
    {
     "name": "stdout",
     "output_type": "stream",
     "text": [
      "loss=5.473250389099121\n",
      "\n",
      "Article:\n",
      "The Fifty Shades Of Grey franchise has been dealt a major blow following claims that leading man Jamie Dornan will not be reprising his role as Christian Grey. The Northern Irish actor was expected to return as the enigmatic corporate executive in Fifty Shades Darker and Fifty Shades Freed, parts two and three in the hugely successful trilogy by British novelist E.L James. But according to Australian magazine NW Jamie, 32, has reportedly walked away from the plum role because wife of two-years Amelia Warner is uncomfortable with the raunchy sex scenes he shares with co-star Dakota Johnson. However, a representative for the screen star has said in a statement to MailOnline: 'All press reports are pure conjecture as the studio has not committed to a sequel as yet.' Scroll down for video. Fade to Grey: Australian magazine NW claim that Jamie Dornan will not be reprising his plum role in the 50 Shades Of Grey franchise because wife of two-years Amelia Warner is uncomfortable with the sex s\n",
      "\n",
      "Target:\n",
      "Fans have taken to Twitter to express disappointment at the shocking news.\n",
      "Jamie Dornan's wife has refused to see the racy S&M-themed movie.\n",
      "Co-star Dakota Johnson doesn't want her family to watch the hit film.\n",
      "Sam Taylor-Johnson is also reportedly keen to pull out of directing the sequels after 'on-going bust ups' with the books' author, E.L. James.\n",
      "The film took £4.6million in the UK on its opening night - the most ever for a certificate 18 film.\n",
      "It also enjoyed the biggest weekend February opening ever in the US with an impressive haul of $93 million.\n",
      "A spokesperson for Dornan dismissed the rumours as 'pure conjecture'<|endoftext|>\n",
      "\n",
      "Predicted:\n",
      "The's been to the to the the for the end of.\n",
      "The's.,, family, been to be the '-.alfE.in..\n",
      "The-year- has has't have to to to be the world..\n",
      "The All'syear- the known a to the the of the. world. ano-in'''\n",
      " the '.\n",
      ". whichriks\n",
      ".\n",
      ".\n",
      "The former is place1.5million in the world. the way.. but first expensive to the '--.<|endoftext|>The is claimed a world of for for, to the past. the hour-. the1,.<|endoftext|>The new- the.,,,'of athe''<|endoftext|>\n"
     ]
    },
    {
     "name": "stderr",
     "output_type": "stream",
     "text": [
      "1401it [19:52,  1.25it/s]"
     ]
    },
    {
     "name": "stdout",
     "output_type": "stream",
     "text": [
      "loss=5.508405685424805\n",
      "\n",
      "Article:\n",
      "By. Daily Mail Reporter. PUBLISHED:. 13:42 EST, 22 November 2012. |. UPDATED:. 14:00 EST, 22 November 2012. A computer hacking gang caused major companies like PayPal and Visa multi-million pound losses with a series of cyber attacks, a court heard. Four members of cyber group Anonymous targeted famous firms with a string of coordinated attacks, causing chaos by flooding them with messages and requests, it is alleged. They are said to have used a Russian-based service provider to carry out the attacks, which permitted 'anything, even CP, child. pornography’, Southwark Crown Court heard. Accused: Ashley Rhodes. Accused: Peter Gibson. Christopher Weatherhead. Under the banner Operation Payback, Anonymous are accused of targeting companies who opposed internet piracy. but later attacked PayPal after it refused to process WikiLeaks. payments. Their actions caused losses totaling £3.5 million at PayPal, while sites belonging to Mastercard and recording industry bodies were also forced offli\n",
      "\n",
      "Target:\n",
      "Christopher Weatherhead, 24, alleged to have masterminded attacks.\n",
      "Rest of gang, including then-17 year old, have admitted roles in conspiracy.\n",
      "Pop star Lily Allen's website was a said target.\n",
      "Gang said to have been protesting against music 'anti-privacy' stance.\n",
      "Case shows 'dark side' of internet.<|endoftext|>\n",
      "\n",
      "Predicted:\n",
      "The of,, who, was to have been to in in\n",
      "Butaur the have000 two,year-,, were been to. the.\n",
      "Butular said,s'to'' to.\n",
      "Butang- he be been'by the.un'life''<|endoftext|>.<|endoftext|>But has theno' of and the and<|endoftext|>\n"
     ]
    },
    {
     "name": "stderr",
     "output_type": "stream",
     "text": [
      "1501it [21:20,  1.03it/s]"
     ]
    },
    {
     "name": "stdout",
     "output_type": "stream",
     "text": [
      "loss=5.526674270629883\n",
      "\n",
      "Article:\n",
      "Visitors flock to Iceland to see its impressive geysers, Blue Lagoon and meandering glaciers. And soon there will be a new way of taking in the country’s second largest ice cap near Reykjavik – from an underground tunnel dug deep beneath the dense ice. Icecave Iceland is due to open in the spring of next year and will enable tourists to take in blue ice at the heart of the Langjökull glacier and understand how it formed. Scroll down for video. Icecave Iceland is due to open in the spring of next year and will enable tourists to take in blue ice at the heart of the Langjökull glacier and understand how it formed. But for now, there's a video enabling people to take a virtual tour so they have an idea of what to expect. A screen shot is pictured. A CGI video has been released to let people take a tour from the comfort of their sofa. It gives potential visitors an idea of what to expect, including tunnels, underground rooms and lit caverns. Engineers are currently carving the 1,640 foot (\n",
      "\n",
      "Target:\n",
      "Icecave Iceland is due to open in the spring 2015 and will enable tourists to take in blue ice at the heart of the Langjökull glacier near Reykjavik.\n",
      "A CGI video offers a sneak peak of the underground tour.\n",
      "Engineers are currently carving the 1,640 foot (500 metre) long tunnel.\n",
      "It shows layers of  subtly coloured ice, showing how the glacier formed.<|endoftext|>\n",
      "\n",
      "Predicted:\n",
      "The-ao's to a to be the the UK.. the be the. the part the.. the end of the world of..... theCory...ori\n",
      "The new- shows the new of of the most of of\n",
      "The to the in and most,000 to and1)) and-.\n",
      "The is the the the tostantial  to  to   and to UK is.\n",
      "\n"
     ]
    },
    {
     "name": "stderr",
     "output_type": "stream",
     "text": [
      "1601it [22:44,  1.34it/s]"
     ]
    },
    {
     "name": "stdout",
     "output_type": "stream",
     "text": [
      "loss=5.1000657081604\n",
      "\n",
      "Article:\n",
      "Alan Knight - who scammed a neighbour out of £40,000 before claiming he was in a coma to avoid justice - has been jailed for four and half years. A fraudster who conned his frail neighbour out of more than £40,000 and thwarted justice for two years by pretending to be in coma has finally been jailed. Alan Knight cleaned out the bank accounts of dementia sufferer Ivor Richards, 86, after the pensioner was taken into a care home, Swansea Crown Court heard. The 47-year-old then falsely blamed his estranged son for the crime and even claimed he was in a vegetative state so couldn't stand trial. But CCTV footage showed him walking around on a shopping trip, prompting him to admit 19 charges of theft and forgery. Jailing him for four and a half years today, a judge said Knight was 'as dishonest a man as I have ever come across' who would'stop at nothing in order to try and save his own skin'. The court heard Knight was living on benefits at his home in Swansea, South Wales, after claiming he\n",
      "\n",
      "Target:\n",
      "Alan Knight, 47, conned his 86-year-old neighbour out of £40,000.\n",
      "He then claimed a garage accident had left him quadriplegic.\n",
      "But he was seen on CCTV shopping at a supermarket with his wife.\n",
      "Attempts to bring him to justice failed when he admitted himself to hospital.\n",
      "Finally  brought to court, he pleaded guilty to 19 charges of theft and forgery.\n",
      "He was jailed for four and half years today when a judge slammed his actions.\n",
      "Judge branded Knight 'as dishonest a man as I have ever come across'<|endoftext|>\n",
      "\n",
      "Predicted:\n",
      "The P, 36, was,, wife-year-old daughter in of his25,000.\n",
      "He was told he'of, been him to.....\n",
      "He he was'in the to to the time in a wife.\n",
      "The he be him to be the to he was to. his.\n",
      "He-  to the in but was guilty to murder.. murder. a a.<|endoftext|>The was jailed for a years two a in. he man.. wife.\n",
      "The said the todis'' '' a was been to to the\n",
      "\n"
     ]
    },
    {
     "name": "stderr",
     "output_type": "stream",
     "text": [
      "1701it [24:07,  1.03it/s]"
     ]
    },
    {
     "name": "stdout",
     "output_type": "stream",
     "text": [
      "loss=5.682750701904297\n",
      "\n",
      "Article:\n",
      "By. Mark Duell. PUBLISHED:. 07:46 EST, 26 January 2014. |. UPDATED:. 09:54 EST, 26 January 2014. Forecasters today warned of more heavy rain for parts of Britain as flood-hit communities in the South West braced themselves for further problems. The Met Office issued an amber warning of severe weather, while the Environment Agency has 130 flood alerts and 12 flood warnings in place. Somerset County Council has declared a ‘major incident’ for all areas affected by flooding in the county - especially on the Somerset Levels. Whiteout: There were blizzards in North Yorkshire, where people tried to walk their dogs outside the exposed Tan Hill Inn near Reeth in the Yorkshire Dales. Wind and snow: The conditions were horrendous in North Yorkshire where people tried to walk their dogs outside the exposed Tan Hill Inn. Examining the scene: Jan King, manager of the Tan Hill Inn, peers out of a snow covered window near Reeth in the Yorkshire Dales. Taking a picture: A tractor fitted with a snow pl\n",
      "\n",
      "Target:\n",
      "Met Office issues amber weather warning and Environment Agency has 142 flood alerts or warnings out.\n",
      "Somerset County Council has declared a'major incident' for all areas affected by flooding in the county.\n",
      "Risk of flooding will continue in Wiltshire, Dorset, Hampshire, West Sussex, West Berkshire and Surrey.\n",
      "Met Office says rain across Britain will be accompanied by strong winds and rain accumulations of 0.8in.\n",
      "'Mini-tornado' sweeps through Surrey and Sussex - bringing down trees and even lifting cats in the air.<|endoftext|>\n",
      "\n",
      "Predicted:\n",
      "Theropolitan of of were in in a-. been... a. of\n",
      "Theays in, Council has been a 'dis''\n",
      " the the.. the. the UK.\n",
      "TheSP of the and be to thetshire, whichorset and and and and Yorkshire. and Midlands and the.\n",
      "Theropolitan of the is the's be used to the.. the... the.5 per.<|endoftext|>TheIt'based-' is, the and the. and to.. a... the UK.<|endoftext|>\n"
     ]
    },
    {
     "name": "stderr",
     "output_type": "stream",
     "text": [
      "1801it [25:29,  1.29it/s]"
     ]
    },
    {
     "name": "stdout",
     "output_type": "stream",
     "text": [
      "loss=5.2027082443237305\n",
      "\n",
      "Article:\n",
      "Baghdad, Iraq (CNN) -- U.S. warplanes on Saturday pounded a series of extremist militant targets in what officials say is part of an effort to retake a key piece of infrastructure in northern Iraq -- Mosul Dam. The airstrikes against fighters of the so-called Islamic State come amid growing concern that the dam is not being properly maintained and could rupture, a U.S. official familiar with the details told CNN. Engineering studies have shown that a failure of the dam would be catastrophic, resulting in flooding all the way to Baghdad, the official said on condition of anonymity. Mosul Dam is Iraq's largest hydroelectric dam, and it sits on the Tigris Rivers about 50 kilometers (31 miles) north of the city of Mosul. ISIS fighters took control of the dam this month following fierce fighting. The United States estimates there may be up to 400 ISIS fighters in and around the dam complex, said the U.S. official. The U.S. military confirmed a mix of fighter jets and drones carried out nine\n",
      "\n",
      "Target:\n",
      "NEW: Growing concern Mosul Dam is not being properly maintained by ISIS, U.S. official says.\n",
      "NEW: U.S. intelligence agencies are watching the Haditha Dam, the official says.\n",
      "U.S. fighter jets and drones carry out airstrikes near Mosul and Irbil, the U.S. military says.\n",
      "Yazidi leader tells a British broadcaster the death toll in Kojo village is at least 350.<|endoftext|>\n",
      "\n",
      "Predicted:\n",
      "NEW: The of a for, a to treated.. the. police.S.\n",
      " says.\n",
      "The: \".S. officials says of investigating the U.... the U says.\n",
      "The.S. officials says, the of are of in the. Syria.. police U.S. officials says.\n",
      "Theemen:'s says CNN \" government, U toll in the... a least one.<|endoftext|>\n"
     ]
    },
    {
     "name": "stderr",
     "output_type": "stream",
     "text": [
      "1901it [26:50,  1.14it/s]"
     ]
    },
    {
     "name": "stdout",
     "output_type": "stream",
     "text": [
      "loss=5.220641136169434\n",
      "\n",
      "Article:\n",
      "A gay couple are to become parents to three children by three women they met via surrogacy websites. For the past 15 years, Daryl Lee, 41, and Luke Harris, 50, had longed to have children and joined a number of online  forums in an attempt to find a suitable surrogate. They made contact with one of the women, Becky Harris, 27, and through her met Bex Harris, 32, and Viktoria Ellis, 32. Scroll down for video. Fatherhood: Daryl Lee, 41, (left) and Luke Harris, 50, (right) from Surrey, are to become parents to three children by three women they met via surrogacy websites. The couple had always dreamed of having a large family, but were shocked to find that this would happen sooner then they expected when all three women, who live in Suffolk, became pregnant. Mr Lee, 41, is the biological father of two of the children, while Mr Harris, 50, gave his sperm for the third. All three babies will be born within seven months of each other, between January and July next year. 'We love each other v\n",
      "\n",
      "Target:\n",
      "Daryl Lee, 41, and Luke Harris, 50, have always wanted to have children.\n",
      "Couple from Surrey, who met in 1999, had considered adopting a child.\n",
      "They tried surrogacy after Elton John had a son by a surrogate mother.\n",
      "Couple met Becky Harris online, and through her met two other mothers.\n",
      "All three babies will be born between January and July next year.\n",
      "Using more than one mother at the same time is rare, says Surrogacy UK.\n",
      "There is a shortage of surrogates in the UK because of laws over payment.<|endoftext|>\n",
      "\n",
      "Predicted:\n",
      "Theuke,, 31, was her Shaw, from, was been been to be a.\n",
      "Sheouple had the, she was with the, and been a. '.\n",
      "She are to and and beingiza and, been'of a '..\n",
      "Sheouple had with for and and and her the husband. days children.\n",
      "She of children- be able in the and the. year.<|endoftext|>She: than £ of of the time time she now, she she-...<|endoftext|>She are no'of the and and the UK. of the. the.<|endoftext|>\n"
     ]
    },
    {
     "name": "stderr",
     "output_type": "stream",
     "text": [
      "2001it [28:16,  1.23it/s]"
     ]
    },
    {
     "name": "stdout",
     "output_type": "stream",
     "text": [
      "loss=4.91782283782959\n",
      "\n",
      "Article:\n",
      "A northeast Ohio man who kept a mentally disabled woman and her daughter, 5, in'modern day slavery' and forced them to live in a snake pit for years has been sentenced to 30 years in prison. For nearly two years, 27-year-old Jordie Callahan and his girlfriend Jessica Hunt, 32, kept Shannon Eckley and her daughter locked up in their squalid Ashland, Ohio, apartment, where they controlled ever aspect of their lives, federal prosecutors say. To keep them in line, Callahan threatened to unleash their terrifying menagerie of pets on them - including a poisonous coral snake, a Burmese python that weighed 130 pounds, lizards, spiders, scorpions and 'numerous' dogs - including pit bulls, authorities say. Callahan and Hunt were convicted in March of forced labor, conspiracy to defraud the U.S. and conspiracy to illegally obtain prescription drugs. Scroll down for video. Jordie Callahan, 27, seen here with one of his many pets, was convicted of forced labor, conspiracy to defraud the U.S. and co\n",
      "\n",
      "Target:\n",
      "Jordie Callahan, along with his girlfriend, imprisoned a mentally disabled woman for nearly two years.\n",
      "He threatened to have his pets - including a venomous coral snake, a 130lb python and pit bulls - attack the woman if she didn't do what he said.\n",
      "She was forced to perform sex acts as well as cook and clean for Callahan.\n",
      "His girlfriend Jessica Hunt, 31, will be sentenced later this week.<|endoftext|>\n",
      "\n",
      "Predicted:\n",
      "Theuryie,,, 29 with a wife, who, week in,. her $ years.\n",
      "She was to the a mother and but the woman-... who man-.. her.. a. woman. she was't know it she was.\n",
      "The was found to be her with on a as a and her her her..\n",
      "She mother, was, who, and be sentenced to this year.<|endoftext|>\n"
     ]
    },
    {
     "name": "stderr",
     "output_type": "stream",
     "text": [
      "2101it [29:40,  1.12it/s]"
     ]
    },
    {
     "name": "stdout",
     "output_type": "stream",
     "text": [
      "loss=5.662624359130859\n",
      "\n",
      "Article:\n",
      "Netflix has announced that they will be postponing Bill Cosby's upcoming standup comedy special. A spokesperson for the company said that Bill Cosby, 77, will be pushed back from its scheduled November 28 air date, this after several woman have come forward to allege that they were 'drugged and raped' by the actor. The most recent woman to make this claim is supermodel Janice Dickinson, who says Cosby 'gave her a pill with wine' back during a dinner date in 1982, and that she'remembers before [she] passed out that [she] had been sexually assaulted by [Cosby].' Scroll down for video. Bad news: Bill Cosby 77, a standup special set to premiere on Netflix, has been postponed. Coming forward: Janice Dickinson (above) claimed in an interview with Entertainment tonight that she was given a pill by Cosby during a dinner in 1982, and that he then sexually assaulted her. Netflix says no: The online streaming giant had originally intended the air the special on November 28. Appearances by Cosby o\n",
      "\n",
      "Target:\n",
      "Netflix has postponed the November 28 air date of the Bill Cosby standup special Bill Cosby 77.\n",
      "This after multiple women, including supermodel Janice Dickinson, have come forward to say Cosby 'drugged and raped' them.\n",
      "Cosby has also had appearances on The Queen Latifah Show and Late Night With David Letterman cancelled amidst these allegations.\n",
      "He did appear on NPR over the weekend with his wife, but refused to respond when asked about these rape allegations.<|endoftext|>\n",
      "\n",
      "Predicted:\n",
      "The's been the samein of   of the most Clinton.....in...\n",
      "The is the-'s the the,,,,, who been from to the..tame' her'\n",
      ".\n",
      "She, has been been a for the 11's and.,. her '.. Cameron......\n",
      "The was not to the and the '. a wife, who the to be to he him her...<|endoftext|>\n"
     ]
    },
    {
     "name": "stderr",
     "output_type": "stream",
     "text": [
      "2201it [31:07,  1.03s/it]"
     ]
    },
    {
     "name": "stdout",
     "output_type": "stream",
     "text": [
      "loss=5.919182300567627\n",
      "\n",
      "Article:\n",
      "By. David Martosko, U.s. Political Editor. PUBLISHED:. 12:03 EST, 14 January 2014. |. UPDATED:. 18:07 EST, 14 January 2014. A contrite Chris Christie today used his State of the State address in Trenton to promise to co-operate with investigators who want to know why his aides plotted to exact revenge on a Democratic mayor by snarling traffic in his town. 'The last week has certainly tested this Administration,' he admitted to a joint session of New Jersey's General Assembly and Senate. 'Mistakes were clearly made. And as a result, we let down the people we are entrusted to serve.' 'I know our citizens deserve better. Much better,' he said. 'I am the governor and I am ultimately responsible for all that happens on my watch – both good and bad. SCROLL DOWN FOR VIDEOS. Head of state: Christie said today that 'I am the governor and I am ultimately responsible for all that happens on my watch - both good and bad' The law breathing down his neck: the Bridgegate scandal is lapping at the Gov\n",
      "\n",
      "Target:\n",
      "Beleaguered New Jersey Governor addresses scandal engulfing his administration and threatening his run at the White House in 2016.\n",
      "Said: 'We let down the people we are entrusted to serve'\n",
      "Democrats in Trenton claim Kevin O'Dowd, Christie's former chief of staff, is next in the firing line.\n",
      "One source claimed: 'Christie runs his office like he ran his U.S. Attorney's office. And it's always \"Do as I say, not as I do\"'\n",
      "New'super investigative committee' will soon subpoena Bridget Kelly and Bill Stepien, two Christie confidantes whom he dismissed on Thursday.\n",
      "Liberal assembly Deputy Speaker John Wisniewski called the 'Bridgegate' episode 'a blatant abuse of power' and hinted that more heads would roll.\n",
      "David Wildstein, a Port Authority official who resigned over the flap in December, refused to testify about it on Jan. 9, drawing a contempt citation.<|endoftext|>\n",
      "\n",
      "Predicted:\n",
      "Theijing's's York's's to to to to '. a to own. the end House. the.\n",
      "He he 'I're the the world' have a of be the\n",
      "He the the,, that is'Briename is is who,'president executive the, he the to the U..\n",
      "He of says that 'I is is a own and a is out life.S.\n",
      "' a'\n",
      "''s not'a you a'm it we a a'm not'' YorkI''' and be the.anson to to the Clinton the. who of and...'s. the.<|endoftext|>He said: the the Kerry the't,'s''wh'' and.I''' the'<|endoftext|> '. the than to be the<|endoftext|>The Cameron:, he former of, says is in the past of the. he to be. the's the.<|endoftext|>.000 of year of.<|endoftext|>\n"
     ]
    },
    {
     "name": "stderr",
     "output_type": "stream",
     "text": [
      "2301it [32:29,  1.23it/s]"
     ]
    },
    {
     "name": "stdout",
     "output_type": "stream",
     "text": [
      "loss=5.222402095794678\n",
      "\n",
      "Article:\n",
      "Fabian Delph looked like he needed a word from a senior player - Wayne Rooney? - to calm him down after his robust early challenges. He should have got a yellow for the first challenge on six minutes and did for the second on nine minutes. Only last week he said: 'I don’t get yellow cards any more – can you believe that? – but if you are fit enough and strong enough you can get to the ball and you don’t have to go to ground.' Put it down to competitive debut nerves. Robust: Fabian Delph, making his competitive England debut, was booked early on after a tough challenge. Chiles and co soaked by the sprinklers. Adrian Chiles did not look too enamoured with the St Jakob-Park ground staff minutes before kick-off when an earnest discussion with Ian Wright, Glenn Hoddle and Lee Dixon was interrupted by the pitch-side ITV team being doused by sprinklers. ‘We’re just calling for towels,’ said Chiles as around £4,000 worth of designer suits were quickly ruined. Proper soaking: The ITV crew led b\n",
      "\n",
      "Target:\n",
      "Aston Villa midfielder Fabian Delph booked early on for a robust challenge.\n",
      "ITV presenter Adrian Chiles was joined on the pitch in Basel by pundits Lee Dixon, Ian Wright and Glenn Hoddle before they were drenched.\n",
      "Roy Hodgson given warm reception by home fans before kick-off.\n",
      "Squad arms around shoulders for national anthem replicating rugby team.\n",
      "John Terry claims Wayne Rooney is the right choice as England captain, whilst working as a pundit for Sky Sports.<|endoftext|>\n",
      "\n",
      "Predicted:\n",
      "Theston Villa has hasreg Va was the on the the '..\n",
      "Themanilla the theie and a by the bench of the.. the... who.. his.udd.. the were onrugged.\n",
      "The Hodgson has the- and the to. the.off.\n",
      "The-ona was the of the team and in...<|endoftext|>The Terry, he Rooney was the first to for the's. the. on a '.. the..<|endoftext|>\n"
     ]
    },
    {
     "name": "stderr",
     "output_type": "stream",
     "text": [
      "2401it [33:58,  1.09s/it]"
     ]
    },
    {
     "name": "stdout",
     "output_type": "stream",
     "text": [
      "loss=5.519651889801025\n",
      "\n",
      "Article:\n",
      "By. Harriet Arkell. PUBLISHED:. 06:42 EST, 7 March 2014. |. UPDATED:. 16:19 EST, 7 March 2014. It's the first time she has accompanied boyfriend Prince Harry on an official engagement, but Cressida Bonas saw no need to dress up for the occasion. Wearing jeans and silver Converse high tops, the 24-year-old dance graduate posed for photographers and later leant in for a kiss with her royal beau at Wembley Arena this morning at the launch of the WE Day UK young people's charity event. Prince Harry, 29, was the star speaker at the 'global youth empowerment' day, with other star billings including singer Ellie Goulding, rap star Dizzee Rascal, and actress Jennifer Hudson. To wild cheers, he told the audience of 12,000 children: 'Some people do not think it is cool to help others - personally I think it is the coolest thing in the world. Scroll down for video. Loving couple: Cressida was happy to pull her boyfriend in close for a kiss despite the public setting. Embrace: Harry put his arm ar\n",
      "\n",
      "Target:\n",
      "Cressida Bonas went to Wembley Arena for the WE Day UK youth event.\n",
      "The 24-year-old dance student dressed down in jeans and silver Converse.\n",
      "Harry was key speaker, while others included Ellie Goulding, Dizzee Rascal and former footballer, Gary Neville.\n",
      "Harry apologised for not being Harry Styles and said he wouldn't sing.\n",
      "29-year-old prince said: 'Helping others is the coolest thing in the world'\n",
      "After his 10-minute speech he joined girlfriend Cressida in the VIP seats.\n",
      "12,000 students attended the London event listen to motivational speakers.\n",
      "They earned their tickets to it by doing charitable acts at home and abroad.<|endoftext|>\n",
      "\n",
      "Predicted:\n",
      "Theoupleley,,, to the in for the first.....\n",
      "She couple-year-old has the's in the the after has to..\n",
      "She Red born to of but he to the of.. andorset and.och. her club. who..\n",
      "She, for the to'by's'he would't be the<|endoftext|>But-year-old has to she 'I is'' a best'' the world'<|endoftext|>The the wifethyear-, was the,isse,, the UK of.<|endoftext|>She-000 followers with the show, in to be..<|endoftext|>The are the first to be out the a and. the. the.<|endoftext|>\n"
     ]
    },
    {
     "name": "stderr",
     "output_type": "stream",
     "text": [
      "2501it [35:23,  1.13it/s]"
     ]
    },
    {
     "name": "stdout",
     "output_type": "stream",
     "text": [
      "loss=5.284117698669434\n",
      "\n",
      "Article:\n",
      "A mother-of-two was today being investigated by police after saying she hoped some of the hundreds of people who drowned off the coast of Italy were Muslims. Housewife Nicky Hutt was branded a racist after posting the slur on Facebook following the tragedy last Thursday, which saw 232 African immigrants die in a desperate bid to reach Lampedusa, Sicily. The 35-year-old from Poole, Dorset, said: ‘News night tonight... Top headline. 200 Africans drown in boat disaster. What a shame, hopefully a few of them were Muslims.’ Criticised: Nicky Hutt (pictured with her husband Daron) was branded a racist after posting the slur on Facebook following the tragedy, which saw 232 African immigrants die in a desperate bid to reach Sicily. Mrs Hutt - who has two children aged two and seven - said she had been drinking when she posted the comment, and had just watched a documentary on last month’s mall massacre in Nairobi, Kenya. Her Facebook post sparked outrage among the Muslim community, with leader\n",
      "\n",
      "Target:\n",
      "Housewife Nicky Hutt, 35, of Poole, branded a racist after posting slur.\n",
      "Follows tragedy last Thursday which saw 232 immigrants die off Sicily.\n",
      "Mother-of-two claims she had been drinking when she wrote comment.\n",
      "Added that she had just watched documentary on Kenya mall massacre.\n",
      "But she later said in text message that she 'can post what the f*** I like'<|endoftext|>\n",
      "\n",
      "Predicted:\n",
      "The of to Cle,utton, who, was the,, was, ', being a.\n",
      "Shes a, week, was her she were in..\n",
      "She-of-two was she was been'in she was a.\n",
      "She to she was been been, and the and..\n",
      "She she was died she the was was she waswould't' happened woman***' was a\n",
      "\n"
     ]
    },
    {
     "name": "stderr",
     "output_type": "stream",
     "text": [
      "2601it [36:48,  1.18it/s]"
     ]
    },
    {
     "name": "stdout",
     "output_type": "stream",
     "text": [
      "loss=5.477884769439697\n",
      "\n",
      "Article:\n",
      "'Critical': Marussia test driver Maria De Villota has lost an eye in the wake of her horrific crash at Duxford Airfield. The female Formula One driver who survived a horrific head-on crash at a British airfield has lost her right eye in the wake of the accident, it was revealed today. Marussia test driver Maria De Villota is described as being in a 'critical but. stable' condition after undergoing considerable overnight surgery at. Addenbrooke's Hospital in Cambridge. Team principal John Booth said: 'Maria emerged from theatre at Addenbrooke's Hospital this morning after a lengthy operation to address the serious head and facial injuries she received in the accident. 'We are grateful for the medical. attention that Maria has been receiving and her family would like to. thank the neurological and plastics surgical teams. 'However, it is with great sadness I must report that, due to the injuries she sustained, Maria has lost her right eye.' De Villota, who joined Marussia as. test driver\n",
      "\n",
      "Target:\n",
      "Maria De Villota 'critical, but stable' after undergoing overnight surgery.\n",
      "Spaniard hit stationary lorry at about 40mph after opening lap.\n",
      "32-year-old was'motionless for 15 minutes' as paramedics treated her for serious head and facial injuries.\n",
      "Spaniard was taking part in first test for F1 team at Duxford Airfield, Cambridgeshire.\n",
      "She has now managed to speak to her family by phone as they rushed to her hospital bedside in London.\n",
      "Anti-stall mechanism of car'may have kicked in when she entered makeshift pit area'<|endoftext|>\n",
      "\n",
      "Predicted:\n",
      "The SharJesus was,a- a the condition\n",
      " being a in.\n",
      "Sheentard, the theorry and the $ minutes. being..\n",
      "The-year-old was founda'' the''\n",
      " she... the injuries. a..\n",
      "Theentard, found part of the time in the1,- the.on. Force. Californiabrid.hire.\n",
      "The was been been to be to the home's the. she were to the.... the.<|endoftext|>The-yeared was the'shad' been' the she was a'''\n",
      "\n"
     ]
    },
    {
     "name": "stderr",
     "output_type": "stream",
     "text": [
      "2701it [38:14,  1.09it/s]"
     ]
    },
    {
     "name": "stdout",
     "output_type": "stream",
     "text": [
      "loss=5.699812412261963\n",
      "\n",
      "Article:\n",
      "They may be one of the world’s best loved and most photographed supercars, but one man has captured Ferraris in a whole new way. British artist Nick Veasey used a giant X-ray machine to show what’s inside a Ferrari, from its powerful engine to elegant interior. He captured 10 of Ferrari’s most iconic models produced in the last 50 years, including a Ferrari 365 GTB/4 Daytona built in 1969. British artist Nick Veasey used a giant X-ray machine to show what’s inside a Ferrari, from its powerful engine to elegant interio. This x-ray image shows a Ferrari 365 GTB/4 Daytona built in 1969. To create his photograph, Mr Veasey X-rayed the cars using an extra-large machine at the Frauenhofer Institute in Fuerth, Germany. The artist suspended the Daytona in the machine for three days, exposing it to a dose of radiation that would prove fatal to humans, Die Welt reported. It is possible to create 3D images and zoom in on details using the high-tech X-ray machine. It measures 1,312 square ft (400 \n",
      "\n",
      "Target:\n",
      "British artist Nick Veasey X-rayed a Ferrari 365 GTB/4 Daytona built in 1969.\n",
      "Its one of 10 models that he has captured using an extra-large X-ray machine at the Frauenhofer Institute in Fuerth, Germany.\n",
      "The Daytona was X-rayed for three days in the machine measuring 1,312 square ft (400 square metres) and 45ft (14 metres) tall.\n",
      "Mr Veasey is interested in the superficiality of objects as well as what’s inside them and has previously X-rayed clothes and everyday objects.<|endoftext|>\n",
      "\n",
      "Predicted:\n",
      "The- has Cle has is has Factorbased and with newreirm   ..11... the.\n",
      "The first- the- in the is been the the '-up..up..in.in ..... the... which.\n",
      "The company is also Factorbased, with the years before the world.s .in. ...1))))\n",
      " the. (2.)\n",
      ".\n",
      "The Cameron, has has a in the world and of the and a as a it�s. the. the been been Factorup... the..<|endoftext|>\n"
     ]
    },
    {
     "name": "stderr",
     "output_type": "stream",
     "text": [
      "2801it [39:38,  1.28it/s]"
     ]
    },
    {
     "name": "stdout",
     "output_type": "stream",
     "text": [
      "loss=5.034603595733643\n",
      "\n",
      "Article:\n",
      "A heavily pregnant woman has died in a car crash - but her baby son has survived thanks to two quick-thinking troopers and a passing nurse. Rebecca Hodge Williams, 24, was driving south along County Line Road in Gastonia, North Carolina at 7.50am on Tuesday shortly after finishing up a night shift when her Suberu Impreza went off the right side of the road and she over-corrected, according to the Highway Patrol. She careened across the road and a Chevrolet Equinox SUV traveling north slammed into her passenger door. The young mother-to-be, who was due to give birth in just two weeks, died at the scene. Saved: Riley Andrew Williams was delivered by c-section on Tuesday morning after his mother was killed when she collided with another vehicle. He was saved after troopers performed CPR on his mother's body. A passerby alerted a trooper who was working a small wreck less than a mile from the scene and the officer went to the Williams' car, pulled her out and started performing CPR. Anothe\n",
      "\n",
      "Target:\n",
      "Rebecca Hodge Williams accidentally veered into the path of oncoming traffic in Gastonia, North Carolina on Tuesday and died at the scene.\n",
      "She was due to give birth in just two weeks.\n",
      "A trooper at a crash site less than a mile away was alerted to the scene by a passerby and started performing CPR on Williams.\n",
      "Another trooper and a passing nurse also helped give CPR for 20 minutes before emergency responders arrived, saving the baby.\n",
      "The baby, Riley Andrew, was later delivered by c-section in hospital.<|endoftext|>\n",
      "\n",
      "Predicted:\n",
      "Thebecca,udd,,, in to a car of the a.. the.. California Carolina. Saturday. was. the scene.\n",
      "The was found to the her to the a weeks after\n",
      "The man- the hospital in in than a week of from found. the hospital. the friend.. a a.. the.\n",
      "The man, her woman-, found her her to the years. the... and the two.\n",
      "The couple was who,, was arrested found the theasketin, the.<|endoftext|>\n"
     ]
    },
    {
     "name": "stderr",
     "output_type": "stream",
     "text": [
      "2901it [41:08,  1.17it/s]"
     ]
    },
    {
     "name": "stdout",
     "output_type": "stream",
     "text": [
      "loss=5.576558589935303\n",
      "\n",
      "Article:\n",
      "A devastating volcanic eruption and two decades of wars have forced this airport into abandonment - and created the best playground a Congolese street child could hope for. Photographer Christopher Michael Brown captured these breathtaking images of Goma Airport, during a visit to the Democratic Republic of the Congo. A brief lapse in security meant that the street children could guide him through the planes and show him how they have been selling the parts at a nearby market. The New York-based photographer said: 'One is generally prohibited from photographing this airport but in mid-December 2012 after the M23 rebel force which occupied Goma left and before the FARDC, military of the Democratic Republic of the Congo, returned to the city, a security vacuum meant that nobody was guarding this section of the airport. 'Children guided me through the planes and I discussed what had happened with my Congolese fixer.' Mount Nyiragongo, just outside Goma, erupted in January 2012 and 400,000\n",
      "\n",
      "Target:\n",
      "Michael Christopher Brown captured these breathtaking images at Goma Airport, Democratic Republic of the Congo.\n",
      "The abandoned planes have become an ideal playground for the Congolese street children.\n",
      "A security lapse meant that the children could guide him though the planes and show him how they sell the parts.\n",
      "The airport was abandoned in 2002 when Mount Nyiragongo erupted and lava covered the runway.\n",
      "Goma's recent history has been dominated by the 1994 Rwandan  Genocide and First and Second Congo Wars.<|endoftext|>\n",
      "\n",
      "Predicted:\n",
      "The Jackson was was the to in of the... New.. the year.\n",
      "The two was was been a investigation of of the first-....\n",
      "The federal guard the to the U were be the to the attack were the.. they were the plane of\n",
      "The two is found in the, he was was,eway.. was to in plane.<|endoftext|>Theang was family years of been killed by the U..- . the. the...<|endoftext|>\n"
     ]
    },
    {
     "name": "stderr",
     "output_type": "stream",
     "text": [
      "3001it [42:31,  1.09it/s]"
     ]
    },
    {
     "name": "stdout",
     "output_type": "stream",
     "text": [
      "loss=5.589268684387207\n",
      "\n",
      "Article:\n",
      "MacIntrye alleges Ford conspired with. Payman Aboodowleh, who coached football with Ford, to have one of their. former players, who was also in jail at the time, to hurt him. Just as you thought things could not get any worse for Rob Ford, Toronto's crack-smoking mayor was ticketed on Friday night for jaywalking in Vancouver --  the same night video and photos emerged of him allegedly partying and posing for pictures with fans. Canada's most notorious public official was in town for the funeral of former staffer David Price's mother when he was stopped by police for crossing the street on a red light. The Global News reported that the mayor was walking on North Road when he was flagged by an officer outside a Shell gas station. Eyewitness Ian Currie told The Global News that. he overheard the mayor tell police officers: 'I f-ed up, boys... I. thought it was looser on the West Coast, I thoughts you were cooler over. here.' Currie. earlier told The Global News that Mr Ford had told them \n",
      "\n",
      "Target:\n",
      "Rob Ford was flagged down by police officers near a Shell gas station.\n",
      "Came to Vancouver to attend family friend's funeral.\n",
      "Eyewitness overheard Ford telling officers he thought police were 'looser' and 'cooler' on West Coast.\n",
      "Video and photos have emerged of Ford allegedly posing with fans inside pub The Foggy Dew.\n",
      "Twitter uses have posted 'Rob Ford is at the foggy dew' and 'Got hammered with Rob Ford tonight'\n",
      "Ford is being sued for allegedly conspired to have sister's ex Scott MacIntyre beaten up in jail.\n",
      "MacIntrye alleges Ford conspired with.\n",
      "Payman Aboodowleh, who coached football with Ford, to have one of their.\n",
      "former players, who was also in jail at the time, to hurt him.<|endoftext|>\n",
      "\n",
      "Predicted:\n",
      "Thebie was shot of by a in in his '- station.\n",
      "Heomes after be his the the's's death.\n",
      "Heewitness,, was his in was he he 'un''\n",
      " 'un''\n",
      " the..\n",
      "He shows his of been that the's'to a... Interview...<|endoftext|>He was the been aun'' a the time''''<|endoftext|> 'I a' a'''<|endoftext|>Heman also held by the'to to the been the death-...... his.<|endoftext|>Heman was Henry was he was, to his<|endoftext|>Heman'sman was's was, who was the, his, who be been of the lives\n",
      "He's to he was shot killed the for the time of the be his.<|endoftext|>\n"
     ]
    },
    {
     "name": "stderr",
     "output_type": "stream",
     "text": [
      "3101it [43:58,  1.05it/s]"
     ]
    },
    {
     "name": "stdout",
     "output_type": "stream",
     "text": [
      "loss=5.32700777053833\n",
      "\n",
      "Article:\n",
      "A mother-of-one launched a frenzied attack on a nurse after spotting her 'kissing' her boyfriend in the back of his van after a night on the town. Faye Burke, from Manchester, punched the 48-year-old victim seven times, leaving her with blood trickling down her face. The 25-year-old is said to have shouted 'I can't believe you're in there with that' before attacking the woman and screaming 'I'm going to kill you, you b****'. Boom: Faye Burke punched the 48-year-old nurse seven times, leaving with blood trickling down her face. The 25-year-old is said to have shouted 'I can't believe you're in there with that' before clobbering the woman and screaming 'I'm going to kill you, you b****' The nurse had been out in a bar in the Deansgate area of the city with Burke's then-boyfriend and another man, Manchester Crown Court heard. After a few drinks, the victim and the boyfriend decided to go into his van, parked outside a bar in the Deansgate area of the city, for a 'kiss'. But Burke, who was\n",
      "\n",
      "Target:\n",
      "Faye Burke found her boyfriend in his van with a 48-year-old nurse.\n",
      "She launched a frenzied attack on the woman, punching her seven times.\n",
      "She yelled 'I can't believe you're in there with that' before the attack.\n",
      "Burke was found guilty but avoided jail because of the effect on her child.\n",
      "She was given a four-month sentence, suspended for two years.<|endoftext|>\n",
      "\n",
      "Predicted:\n",
      "Theiona was, guilty husband in the home and a friend-year-old daughter.\n",
      "The was a woman and and and on the road. but, to-.\n",
      "The was toa'm't be the' going the' a she\n",
      " she death.\n",
      "The- was found in of was to sentence of the incident. the..\n",
      "The was found a '-year- for but sentence the years.<|endoftext|>\n"
     ]
    },
    {
     "name": "stderr",
     "output_type": "stream",
     "text": [
      "3201it [45:23,  1.27it/s]"
     ]
    },
    {
     "name": "stdout",
     "output_type": "stream",
     "text": [
      "loss=5.113228797912598\n",
      "\n",
      "Article:\n",
      "Ed Miliband today faces the biggest crisis of his leadership, amid rising panic that his personal unpopularity will cost Labour victory at the next election. Analysis of voter satisfaction ratings over four decades reveal Mr Miliband is down to minus 34. It means he is less popular than any Prime Minister or opposition leader at this point ahead of an election, except Michael Foot who led Labour to its worst ever defeat. Jim Callaghan, Neil Kinnock, John Major, William Hague, Michael Howard and Gordon Brown all had higher net satisfaction ratings with IpsosMORI six months before being hammered at the ballot box. Analysis of IpsosMORI polling dating back to 1977 by MailOnline shows how only Michael Foot had worse personal satisfaction ratings than Ed Miliband six months before a general election. Mr Miliband has come under growing pressure from his own party to improve his own image and standing with voters, who do not view him as a future Prime Minister. Since becoming leader four year\n",
      "\n",
      "Target:\n",
      "Pollster says Miliband's -34% net satisfaction rating is a'serious problem'\n",
      "Only Michael Foot was worse ahead of Labour's 1983 election drubbing.\n",
      "Brown, Howard, Hague, Major, Kinnock and Callaghan were all better.\n",
      "Growing fears Miliband's unpopularity will cost Labour victory in 2015.\n",
      "Two Labour MPs call on leader to resign now, according to BBC reports.\n",
      "Senior Labour MP: 'People normally grow into the role, but he's shrunk'\n",
      "Left-wing New Statesman labels him an 'old-style Hampstead socialist'<|endoftext|>\n",
      "\n",
      "Predicted:\n",
      "David of said he's'''of'to to''good''\n",
      "He'Brown said a by of the's '.....\n",
      "He said who, and, the, and,, his-, among of.\n",
      "Heer of is'has is be £'over the.<|endoftext|>But-- said the the of be.. but to the..<|endoftext|>But- MP to 'I are'' the UK' but it would not to<|endoftext|>He theyear- York has has the to 'un'class''''<|endoftext|>\n"
     ]
    },
    {
     "name": "stderr",
     "output_type": "stream",
     "text": [
      "3301it [46:49,  1.02it/s]"
     ]
    },
    {
     "name": "stdout",
     "output_type": "stream",
     "text": [
      "loss=5.003183364868164\n",
      "\n",
      "Article:\n",
      "It's becoming increasingly common for people in our ultra-connected society to sleep with their smartphones next to them or even under their pillows so nary an email or instant message will escape our attention. Texan Ariel Tolfree recently learned the consequences of doing just that. The 13-year-old girl was recently awoken by her Samsung Galaxy S4 smartphone smoldering silently but pungently under her pillow. Ariel Tolfree recently awoke from her slumber to find her Samsung Galaxy S4 smoldering underneath her pillow. The battery apparently ignited, creating a small fire that scorched her pillow and bed sheets. Tolfree's father believes the phone's battery ignited during the night, creating a small fire that caused it to begin to melt. This image shows close up the effect of the fire. Samsung blames the use of a battery that wasn't manufactured by the company, which it warns not to do in its 'common warning' This image shows the battery, which appears almost molten. It apparently was \n",
      "\n",
      "Target:\n",
      "Ariel Tolfree, 13, says she placed the phone under her pillow before going to sleep and later awoke to discover it severely charred her pillow and sheets.\n",
      "Her father says the battery must have overheated, igniting a small fire.\n",
      "Samsung blames the use of a third-party battery, which it warns against in its 'common phone' warranty.\n",
      "The phone maker said it offered to replace the device as well as the pillow and the mattress.<|endoftext|>\n",
      "\n",
      "Predicted:\n",
      "The new--- is a, was she was on'and the to to she to the. a.. the her..... a.\n",
      "The parents, she'was be been the to but and and'and.\n",
      "The's the show of the'ofyear- and which is is the the the owns''<|endoftext|>.\n",
      "The couple has has it was a be the'and a as a'of the'of<|endoftext|>\n"
     ]
    },
    {
     "name": "stderr",
     "output_type": "stream",
     "text": [
      "3401it [48:15,  1.31it/s]"
     ]
    },
    {
     "name": "stdout",
     "output_type": "stream",
     "text": [
      "loss=5.363861560821533\n",
      "\n",
      "Article:\n",
      "By. Rob Preece and Emily Allen. PUBLISHED:. 12:00 EST, 30 May 2012. |. UPDATED:. 16:10 EST, 12 February 2013. The parents of six children who died when their house was gutted by fire appeared in court this morning charged with their murder. People in the public gallery shouted 'b******' and'scum' as the charges were read to Mick and Mairead Philpott at Southern Derbyshire Magistrates’ Court, in Derby. They face six counts of murder after prosecutors decided that pressing charges was ‘in the public interest’. Scroll down for video. Mairead Philpott turns away from waiting photographers as she is driven away from Southern Derbyshire Magistrates' Court. Her tattoo with her children's names can be seen on her arm. In court: People in the public gallery shouted 'b******' and'scum' as the charges were read to Mick and Mairead Philpott (pictured in this court artist's drawing) at Southern Derbyshire Magistrates' Court in Derby. Family tragedy: Mick Philpott and his wife Mairead are charged wi\n",
      "\n",
      "Target:\n",
      "People in public gallery shouted 'b*******' and'scum' as charges were read to Mick and Mairead Philpott.\n",
      "They stand accused of murder after fire claimed the lives of Duwayne, 13, Jade, 10, John, nine, Jack, seven, Jessie, six, and Jayden, five.\n",
      "The couple were remanded in custody and will appear at Nottingham Crown Court tomorrow.<|endoftext|>\n",
      "\n",
      "Predicted:\n",
      "Police of the,, ofIizarre''\n",
      " 'I''\n",
      "'of '. be. her......\n",
      "She were to of murdering and being to to couple of the.. who, and. and, and. and, and. and, and, and, and her,, who,\n",
      "The couple were arrestedanded in the of was be in the Crown Court..\n",
      "\n"
     ]
    },
    {
     "name": "stderr",
     "output_type": "stream",
     "text": [
      "3501it [49:40,  1.11s/it]"
     ]
    },
    {
     "name": "stdout",
     "output_type": "stream",
     "text": [
      "loss=5.408047199249268\n",
      "\n",
      "Article:\n",
      "One of Britain’s most senior judges actively campaigned to support a vile paedophile group that tried to legalise sex with children, The Mail on Sunday can reveal. Lord Justice Fulford, named last year as an adviser to the Queen, was a key backer of the notorious Paedophile Information Exchange (PIE) which police suspect of abusing children on an ‘industrial scale’. An investigation by the Mail on Sunday has discovered that Fulford was a founder member of a campaign to defend PIE while it was openly calling for the age of consent to be lowered to just four. Implicated: Lord Justice Fulford, pictured in his full legal regalia, was named last year as an adviser to the Queen. It can also be revealed that the Appeal Court judge and Privy Counsellor:. Fulford was a founder member of an organisation called Conspiracy Against Public Morals set up to defend PIE leaders facing criminal charges. It later published a sickening pamphlet claiming that children would be freed from the oppression of \n",
      "\n",
      "Target:\n",
      "Lord Justice Fulford was named last year as an adviser to the Queen.\n",
      "He was a key backer of the notorious Paedophile Information Exchange.\n",
      "Police suspect the group of abusing children on an 'industrial scale'\n",
      "He is revealed as a founder member of campaign to defend PIE.\n",
      "At the time it was calling for the age of consent to be lowered to just four.\n",
      "Planned demonstrations outside courts where defendants – described by prosecutors as ‘sick’ and a ‘force for evil’ – were on trial.\n",
      "Wrote an article claiming PIE, now under investigation in the wake of the Jimmy Savile scandal, was merely a way for paedophiles to ‘make friends and offer each other mutual support’.\n",
      "Sought help with the campaign from future Labour Minister Patricia Hewitt, then in charge of a controversial civil rights group.\n",
      "Attended meetings to discuss tactics with PIE chairman Tom O’Carroll, who has since been jailed for possessing thousands of pictures of naked children.\n",
      "Was praised by the paedophile group for coming to its defence.\n",
      "Additional reporting: Stephen Johns, Paul Cahalan and Peter Henn.<|endoftext|>\n",
      "\n",
      "Predicted:\n",
      "The B Departmenthamshire found as year after a '. the ''s\n",
      "He was found'to of the'toonzophile in '.\n",
      "He say the'of the the's the 'un''\n",
      "The said now that a'of of the. be theensions.\n",
      "The the bottom, was'for the'of the. be '. the one years\n",
      "Theans to to the, he was'as the. '�a�’<|endoftext|>''��� the’<|endoftext|>�'the.<|endoftext|>Thearn, investigation of thatard was who, the, the UK of the country.ile.. which found.'to theophile.. the�t�� the' other�' for�<|endoftext|><|endoftext|>Theays to students the'of the of,, to., who, the of the '. rights..<|endoftext|>Theacks the- the the of theensions and and,'�s in. which was been been charged for the. of the. the..<|endoftext|>The in for the Uophile, said the days the own.<|endoftext|>The's the '.'s who,,, theborough.,\n",
      "\n"
     ]
    },
    {
     "name": "stderr",
     "output_type": "stream",
     "text": [
      "3601it [51:07,  1.17it/s]"
     ]
    },
    {
     "name": "stdout",
     "output_type": "stream",
     "text": [
      "loss=5.159498691558838\n",
      "\n",
      "Article:\n",
      "By. Katy Winter for MailOnline. Many adults now avoid many foods, believing themselves to be intolerant or allergic. Eating with a group of friends can nowadays be fraught with the difficulties, as more and more people claim to be prey to  food allergies, intolerances and diet specifications. This isn't surprising, given that more than one in five adults is avoiding certain foods because of an allergy or intolerance - even if many of them only think they have it, according to new research. But genuine or not, it means up to a third of households have had to adapt mealtimes to cope with a member of the family who cannot or does not eat certain foods. And that has led to a 'phenomenal' growth for the industry providing foods free from gluten, lactose, nuts or a host of other ingredients affecting millions of Britons. A survey for trade body, the Food and Drink Innovation Nework, found 22 per cent of adults said they had either an allergy or intolerance to certain foods or drink. The poll\n",
      "\n",
      "Target:\n",
      "New study found 22 per cent  said they had either an allergy or intolerance.\n",
      "No proof was required, so many may be incorrectly self-diagnosing.\n",
      "Dairy and gluten are the most popular types of food to be given up.\n",
      "Twice as many women as men say they have an intolerance or allergy.\n",
      "Incidence is also higher in the south of England than the north.<|endoftext|>\n",
      "\n",
      "Predicted:\n",
      "The research shows that% cent of in they are to a '. a.\n",
      "But one of a to but many people have able.-up..\n",
      "Butiscovery, a are now most expensive in of the. be a. to\n",
      "Butelve of a as are they are they are to '. ain..\n",
      "Butident are a a than the UK of the and a UK of<|endoftext|>\n"
     ]
    },
    {
     "name": "stderr",
     "output_type": "stream",
     "text": [
      "3701it [52:32,  1.30it/s]"
     ]
    },
    {
     "name": "stdout",
     "output_type": "stream",
     "text": [
      "loss=5.32269811630249\n",
      "\n",
      "Article:\n",
      "By. Richard Spillett. Police wrongly categorised reports of Andrew Kemp's violence towards his girlfriend, Leighann Wightmann, who he went to kill in a knife attack. Police failed to act on reports that a convicted rapist had attacked his girlfriend, who he then went to kill, a damning report has found. Andrew Kemp, 48, was jailed for life for murdering Leighann Wightman in 2012 after he stabbed her eight times in a vicious attack. But a review of the case was ordered after it emerged at his trial that Kemp was a convicted rapist who had also been prosecuted over the murder of a woman in Scotland. A report by South Nottinghamshire Community Safety Partnership has now found that Ms Wightman had reported Kemp's violence in 2008. It criticised police and seven other agencies, including a local NHS Trust, for failing to share information that could have saved the 24-year-old's life. Fuelled by drink and jealous rage, Kemp burst into Ms Wightman's home in Netherfield, near Nottingham in 201\n",
      "\n",
      "Target:\n",
      "Andrew Kemp stabbed girlfriend Leighann Wightman to death in 2011.\n",
      "She had reported his violence to police three years earlier in 2008.\n",
      "Review ordered after it emerged at his trial that he was convicted rapist.\n",
      "Report criticises eight agencies, including police and NHS, over death.\n",
      "Case was wrongly classified and organisations failed to share information.<|endoftext|>\n",
      "\n",
      "Predicted:\n",
      "The Mc,,,,,aw,, death in court.\n",
      "She was been missing wife and her after months.. the.\n",
      "She- to being was in the home in she was a of.\n",
      "The:ises for months of including a and a. who the.\n",
      "She was arrested of to was of to be her.\n",
      "\n"
     ]
    },
    {
     "name": "stderr",
     "output_type": "stream",
     "text": [
      "3801it [53:55,  1.03it/s]"
     ]
    },
    {
     "name": "stdout",
     "output_type": "stream",
     "text": [
      "loss=5.336091995239258\n",
      "\n",
      "Article:\n",
      "An experimental surgery that implants an electronic device into the brain of people that are profoundly deaf to stimulate an awareness of sound has allowed a little boy in Canada to hear things for the time. And watching the moment that three-year-old Auguste Majkowski responds to music for the first time is sure to melt your heart. The Montreal toddler was born deaf but only properly diagnosed at 18-months-old. Doctors initially gave him bilateral cochlear implants, but following the surgery and six months of therapy, Auguste did not respond whatsoever, according to Fox News. Scroll down for video. Profoundy dead: Auguste Majkowski, 3, from Montreal, was given cochlear implants in both ears after he was diagnosed as at 18-months-old, but they did not work. Smart: Afer his mother Sophia Gareau (left) saw on Facebook that a child in North Carolina had received a brainstem implant to help him hear, she went about researching. Ready to go: In May, Auguste underwent brain surgery as part o\n",
      "\n",
      "Target:\n",
      "Auguste Majkowski, 3, of Montreal, Canada, was born deaf.\n",
      "Doctors put cochlear implants in both of his ears after he was diagnosed at 18-months-old but they did not help him.\n",
      "His mother then heard of a new procedure that implants an electronic device into the brain of deaf people.\n",
      "Auguste underwent the surgery in LA in May.\n",
      "He recently heard music for the first time, with a video of the moment since going viral.<|endoftext|>\n",
      "\n",
      "Predicted:\n",
      "The-,, to 29, was his, was, was born in by\n",
      "He have him- and in to the sides the car. his was a with the-year-old. he were not know him.\n",
      "The mother, got his his'book to he him '-. the car. his..\n",
      "The- was a first to the, the.<|endoftext|>The was returned his and his first time in but his'of his '. he to.<|endoftext|>\n"
     ]
    },
    {
     "name": "stderr",
     "output_type": "stream",
     "text": [
      "3901it [55:20,  1.38it/s]"
     ]
    },
    {
     "name": "stdout",
     "output_type": "stream",
     "text": [
      "loss=5.155011177062988\n",
      "\n",
      "Article:\n",
      "By. Graeme Yorke. Arsenal star Alex-Oxlade Chamberlain has posted a picture of himself playing for Southampton against the Gunners at their former ground Highbury. Alongside the picture the winger posted a message about his rise to current position as one of Arsenal's best players. 'Me aged 11 playing for Saints against Arsenal at Highbury,' Oxlade-Chamberlain said on his Instagram account. VIDEO Scroll down to watch Alex Oxlade-Chamberlain returning to his old school. On the rise: Alex Oxlade-Chamberlain was reminiscing about former times on his Instagram account. Playing in the big leagues: Oxlade-Chamberlain battles against Bayern Munich's David Alaba. Making waves: The Arsenal star faces chases for the ball against Hull City defender Liam Rosenior. 'It's mad, I remember being in the dressing rooms where Thierry Henry sat feeling like I was a premiership player! 'I remember the whole experience so clearly, including the 4-1 defeat, but I set up our goal so was buzzing! Just shows...\n",
      "\n",
      "Target:\n",
      "Alex Oxlade-Chamberlain has posted a picture of himself playing for former club Southampton against current club Arsenal at Highbury aged 11.\n",
      "The midfielder was charting his rise to the position of an Arsenal regular.\n",
      "He reminisces sitting in Thierry Henry's spot in the Highbury dressing room.<|endoftext|>\n",
      "\n",
      "Predicted:\n",
      "Chelseaislade-Chamberlain to been a new of the in with the club.. Leicester... the Court. 16.\n",
      "The striker is a in to first in the club of the hour's with\n",
      "The has hasters the theiagory Henry and side in the Premier Court...\n",
      "\n"
     ]
    },
    {
     "name": "stderr",
     "output_type": "stream",
     "text": [
      "4001it [56:47,  1.22it/s]"
     ]
    },
    {
     "name": "stdout",
     "output_type": "stream",
     "text": [
      "loss=5.4057135581970215\n",
      "\n",
      "Article:\n",
      "By. Iona Kirby. PUBLISHED:. 20:01 EST, 7 December 2012. |. UPDATED:. 17:43 EST, 8 December 2012. Brooke Mueller was rushed to hospital on Friday morning after an overdose, it has been reported. The previous evening she was seen looking glassy-eyed as she stepped out of a car upon her arrival for dinner at Mr Chow. However the troubled ex-wife of Charlie Sheen's publicist has spoken out to claim that no drugs were involved. More trouble: Brooke, pictured on Thursday evening, was rushed to hospital on Friday morning. Instead, Steve Honig said in a statement that Brooke was mistakenly believed to be unresponsive while sleeping. He told MailOnline: 'An assistant thought Brooke was non-responsive while she was napping and hastily called an ambulance. 'As a precaution, Brooke was brought to a local hospital and discharged after an hour. She was diagnosed with exhaustion and dehydration and is now fine and resting at home. That's it.' The 35-year-old, who has a long history of drug abuse, was\n",
      "\n",
      "Target:\n",
      "The ex-wife of Charlie Sheen was taken to hospital on Friday morning but discharged an hour later.\n",
      "Brooke was seen looking glassy-eyed as she arrived at dinner the previous evening.\n",
      "Publicist claims an assistant mistakenly thought Brooke was unresponsive while napping.\n",
      "Star has been 'diagnosed with exhaustion and dehydration', according to her publicist and is now resting at home.\n",
      "Brooke wants to obtain her hospital test results to prove she wasn't on drugs.<|endoftext|>\n",
      "\n",
      "Predicted:\n",
      "A mother-wife was the Hebdo was found to hospital after a.. was was hour..\n",
      "Sheoks, found on for to andof and she was at the. home..\n",
      "She was was she investigation was was she was ahar. sheanny.\n",
      "She was been chargedtooly' the' a' she to the... a now.. the.<|endoftext|>Sheoks, to be her husband after and. her her was't been the.<|endoftext|>\n"
     ]
    },
    {
     "name": "stderr",
     "output_type": "stream",
     "text": [
      "4101it [58:13,  1.19it/s]"
     ]
    },
    {
     "name": "stdout",
     "output_type": "stream",
     "text": [
      "loss=5.225586414337158\n",
      "\n",
      "Article:\n",
      "A Christian school teacher who was caught semi-naked in his car with a 14-year-old student  has admitted to having sex with her multiple times and sending her explicit photos and videos. Eric Beasley, 25, a former biology teacher at Zion Lutheran Christian School in Deerfield Beach, Florida could serve 20 years in federal prison under the plea deal with prosecutors, his lawyers said. He pleaded guilty on Monday to a federal charge of persuading or enticing the girl to have sex with him and he plans to plead guilty this week to sexual battery, his lawyers told the Sun Sentinel. Busted: Eric Beasley, pictured in mug shots from earlier this year, has pleaded guilty to having sex with one of his 14-year-old students. He could get as many as 20 years in federal prison. Beasley, who reportedly had a girlfriend at the time, was arrested on April 1 after police responded to reports of a suspicious vehicle behind a strip mall and found him inside the car with the young girl. Beasley scrambled t\n",
      "\n",
      "Target:\n",
      "Eric Beasley was arrested after he was caught semi-naked with the girl behind a strip mall in Lighthouse Point, Florida in April.\n",
      "They initially claimed to be consenting adults who had met online but the girl later admitted he was her ninth-grade biology teacher.\n",
      "He admitted to having sex with her multiple times over their six-week relationship and to kissing her during school hours.\n",
      "They also texted each other explicit photos.\n",
      "He could serve 20 years in federal prison under the plea deal.<|endoftext|>\n",
      "\n",
      "Predicted:\n",
      "A,,, arrested on being was arrested on-yearaked in a murder's the man-. theille.. Florida. the.\n",
      "He were that he be a to the and had been with. was man was died he was a..year...\n",
      "The was he the a with the husband- and the children-year- with was be his. the..\n",
      "The were found the other and and and\n",
      "The was be a years in prison court for the case..<|endoftext|>\n"
     ]
    },
    {
     "name": "stderr",
     "output_type": "stream",
     "text": [
      "4201it [59:40,  1.02s/it]"
     ]
    },
    {
     "name": "stdout",
     "output_type": "stream",
     "text": [
      "loss=4.995430946350098\n",
      "\n",
      "Article:\n",
      "Nico Rosberg has denied Lewis Hamilton’s accusation that he had bragged about deliberately crashing into him at Sunday’s Belgian Grand Prix, saying his recollection of their chat was ‘very different’. While Rosberg made his first reaction to his title rival’s claims, the Mercedes management were busily applying sticking plaster to their battered team and their conficting stories in an attempt —probably successful —– to avoid punishment for the incident. Rosberg and Mercedes were all responding to the most explosive moment of the 2014 Formula One world championship. It took place over two floors of the Mercedes motorhome — the glistening, portable team hospitality area — in the Spa paddock an hour-and-a-half after the race. VIDEO Scroll down to watch Rosberg respond to claims the Spa crash was deliberate. Damage:  Lewis Hamilton (left) and Nico Rosberg clashed on the second lap as the Brit retires from the race. Debris flies: Part of Hamilton's car takes to the air after the clash durin\n",
      "\n",
      "Target:\n",
      "Nico Rosberg denies Lewis Hamilton's claim that the German bragged about their crash which forced the Brit to retire from the Belgian Grand Prix.\n",
      "Rosberg wrecked Hamilton's race after the German's front right-wing endplate hit the Brit's left-rear tyre to cause a puncture.\n",
      "Hamilton claimed Rosberg told him he did it on purpose after the race.\n",
      "Hamilton: ‘I was gobsmacked. He (Rosberg) basically said he did it on purpose. He said he could have avoided it. He said he did it to prove a point'\n",
      "Rosberg said his recollection of their post-race chat was'very different'\n",
      "Drivers gave press conferences on separate floors of Mercedes motorhome.\n",
      "Rosberg finished second in Spa to extend lead over Hamilton to 29 points.\n",
      "A Mercedes spokesman said the pair would be present at sponsor event in Stuttgart on Wednesday despite the fall-out from the crash.<|endoftext|>\n",
      "\n",
      "Predicted:\n",
      "Theathan Rosberg was the Hamilton in first in he World wasides the the opening. is to firsts win. the World. Prix.\n",
      "Theberg was the in first in the first- first of tohalf win of.. games first-time... the. win-.\n",
      "The's heberg was the to was not's the of his incident.\n",
      "The's '�I am a to and and and I was4))<|endoftext|> and he was not's the.<|endoftext|>'s he was not been him.<|endoftext|>'s he was not's be his '.<|endoftext|>Theberg was he first were the lives-year- was 'a''<|endoftext|>Thevers have the conference in the occasions of the.way.<|endoftext|>Theberg was the in the on the the to the. the-.<|endoftext|>Theston- was he incident were have'for the.. the.gart. Sunday. the end.year. the World.<|endoftext|>\n"
     ]
    },
    {
     "name": "stderr",
     "output_type": "stream",
     "text": [
      "4301it [1:01:07,  1.16it/s]"
     ]
    },
    {
     "name": "stdout",
     "output_type": "stream",
     "text": [
      "loss=5.160704612731934\n",
      "\n",
      "Article:\n",
      "By. Steve Doughty. PUBLISHED:. 04:43 EST, 28 November 2013. |. UPDATED:. 04:55 EST, 29 November 2013. Pledge: The rising numbers suggest David Cameron's promise to keep net migration below 100,000 is running into trouble. Net migration in Britain is on the rise – driven by workers from Spain and other southern Europe countries fleeing the collapse of their eurozone economies, figures have shown. Net migration – the touchstone figure that shows how migration is affecting the population as a whole – went up by 15,000 to 182,000 in the year to June, the Office for National Statistics said yesterday. The increase was the second quarterly rise in a row, suggesting that David Cameron’s pledge to cut net migration to below 100,000 is running into trouble. The breakdown from the ONS showed that ministers are succeeding in reducing the numbers of migrants from outside Europe. But. a new wave of workers are now coming from longstanding southern EU. member countries, with European treaties stoppi\n",
      "\n",
      "Target:\n",
      "182,000 more people came to UK in the year to June 2013 than left.\n",
      "Surprise increase fuelled by a drop in the number of people leaving.\n",
      "But there was a significant rise in people from the EU looking for work.\n",
      "Government has unveiled new curbs on benefits for migrants.\n",
      "European Commissioner Laszlo Andor accused British of being 'nasty'\n",
      "Nick Clegg hit back saying freedom of movement is not freedom to claim.\n",
      "Cameron to challenge other EU countries to follow UK's lead at summit.<|endoftext|>\n",
      "\n",
      "Predicted:\n",
      "The-000 people than are to the in the UK. be.. £.\n",
      "Thevey to in to the'of the UK of the. the\n",
      "The the are no '- of the to the UK. to the.\n",
      "The says been a guidelines in in the. the.<|endoftext|>The Commission also Vegasuk is of says of of''very't'<|endoftext|>The Clegg says the to'to '.''. be.<|endoftext|>Theomes also be the countries, are be the. economy. the.<|endoftext|>\n"
     ]
    },
    {
     "name": "stderr",
     "output_type": "stream",
     "text": [
      "4401it [1:02:32,  1.04it/s]"
     ]
    },
    {
     "name": "stdout",
     "output_type": "stream",
     "text": [
      "loss=5.823034286499023\n",
      "\n",
      "Article:\n",
      "Controversial 'baby hatches' have been proposed for introduction in New South Wales hospitals, following the abandonment of two newborn babies in a week. The naked body of a baby girl was discovered buried in the sand at Maroubra Beach in Sydney's East on Sunday morning,  after a baby boy was found alive in a drain in Quakers Hill just a week ago. In the wake of such events, Police Minister Stuart Ayers called for the introduction of safe drop boxes for babies which allow mothers to anonymously deposit their babies within a certain time frame of the child's birth. Scroll down for video. Police Minister Stuart Ayers called for the introduction of safe drop boxes for babies which allow mothers to anonymously deposit their babies. Minister Ayres said that more options needed to be made available to vulnerable mothers who needed support, reported The ABC. 'I think that everything has to be on the table for us to be able to support particularly mothers but families that are in desperate nee\n",
      "\n",
      "Target:\n",
      "Police Minister Stuart Ayers called for safe-drop boxes to be introduced, after two babies were discovered abandoned in NSW in a week.\n",
      "Minister Ayres said that more options needed to be made available to vulnerable mothers who needed support.\n",
      "The 'baby hatches' have been in use in Germany since 2000, and over 40 babies have been'rescued' and put up for adoption.\n",
      "The president of the Australian Association of Social Workers said the hatches might encourage parents to consider abandoning children, and that more support for vulnerable women was needed.<|endoftext|>\n",
      "\n",
      "Predicted:\n",
      "The found the and,, the a andup- of the '. and the years- found.. the. the car.\n",
      "Theister of was, the the than were to'' in to the.. were to.\n",
      "The coupleperfect of'' and been found the of the, the, and the the years. been foundveryly''\n",
      "'the in the.\n",
      "The couple has the'is of the Security, they'was of have the. the the.. the the the than. the to. '.\n",
      "\n"
     ]
    },
    {
     "name": "stderr",
     "output_type": "stream",
     "text": [
      "4501it [1:03:59,  1.07it/s]"
     ]
    },
    {
     "name": "stdout",
     "output_type": "stream",
     "text": [
      "loss=5.145546913146973\n",
      "\n",
      "Article:\n",
      "By. Rachel Reilly. PUBLISHED:. 06:02 EST, 1 July 2013. |. UPDATED:. 19:46 EST, 1 July 2013. A woman who has battled anorexia since the age of 10 has been left with the body of an elderly woman. Helen Gillespie, 30, has never developed breasts, had a boyfriend or moved out of her parents’ home. As a child she was so frightened of becoming an adult that she dramatically restricted her calorie intake to delay puberty. But ironically, far from maintaining a. childlike appearance, her eating disorder has turned her body into that of into a frail old woman's - her bones are crumbling and she suffers from varicose veins. Helen Gillespie (with mother Rachel), 30, has suffered with anorexia for the past 20 years. As a child she dieted because she thought staying thin would keep her young and delay puberty. But her condition has left her with the body of a 70-year-old - her bones are crumbling and she has varicose veins. 'Doctors tell me I’ve got the bones of an 70-year-old woman,' said Helen, f\n",
      "\n",
      "Target:\n",
      "Helen Gillespie has spent most of the.\n",
      "past 20 years in hospital.\n",
      "At her lightest she weighed 4-and-a-half-stone and was hours from death.\n",
      "She has never grown breasts so must wear a prosthesis usually used by women who have undergone a mastectomy.\n",
      "Her low weight delayed puberty so she didn't have her first period until 26.\n",
      "Ironically her body now resembles that of an elderly woman - her face is gaunt and her bones are in a similar condition to that of a 70-year-old.\n",
      "If you suffer with anorexia or are concerned that someone you know might, visit anorexiabulimiacare.org.uk for help and more information.<|endoftext|>\n",
      "\n",
      "Predicted:\n",
      "Theen,, been five of her most\n",
      "She-- old the.\n",
      "She the husband-, was her,year-a-half yearsyear. she a. her.\n",
      "She was been been to and she be her 'hetic... her. had been. babyectomy.<|endoftext|>She mother- loss, and she was't have to to child. she.<|endoftext|>She was to was has her she the'woman who and hair and a.. she.. now the new.. be the the child.year-old.<|endoftext|>She you know a the 'xia, a now about she else can she be she a hourxia.....<|endoftext|>.<|endoftext|>. a. her than.<|endoftext|>\n"
     ]
    },
    {
     "name": "stderr",
     "output_type": "stream",
     "text": [
      "4601it [1:05:25,  1.20it/s]"
     ]
    },
    {
     "name": "stdout",
     "output_type": "stream",
     "text": [
      "loss=4.938690185546875\n",
      "\n",
      "Article:\n",
      "Halloween is known for its typical American themes of cats, witches and pumpkin lanterns. But move further south and the festival of All Hallows' Eve is somewhat less commercial and brings colour and depth to the morbid holiday. Day Of The Dead (Día de Muertos) originated as an Aztec tradition in Mexico, celebrating the lives of the deceased through preparing sugar skulls, marigolds and  their favourite food and drinks over three days (October 31 - November 2). Scroll down for video. A woman disguised as Catrina poses for a photo in Guadalajara, Mexico on November 2012. La Calavera Nicole (or the Elegant Skeleton), is an early 1900s image by José Guadalupe Posada. These are historically brought to a loved one's  grave, which can be decorated, to pay homage to a deceased relative - a tradition based on Mexico's pre-Hispanic culture. In modern times the Day Of The Dead's themes are adopted in many countries and cultures and is an increasingly popular fancy dress and party theme in the UK\n",
      "\n",
      "Target:\n",
      "Día de Muertos celebrated in Mexico and around the world, Oct 31-Nov 2.\n",
      "Involves honouring the dead with sugar skulls, marigolds, food and drink.\n",
      "Traditionally people would visit graves of loved ones with these as gifts.\n",
      "Modern times have made way for the theme being popular fancy dress.\n",
      "Kate Moss and Sandra Bullock celebrated the festival last year.\n",
      "Femail show you how to get the beauty look this Halloween.<|endoftext|>\n",
      "\n",
      "Predicted:\n",
      "Theucy la,,, the the's is the world's which and,year.-\n",
      "Theolves toands and , the and to and and and and and and the.\n",
      "Theaceyona, are have to to the ones to a.and..\n",
      "The of the been a to the first to sold...<|endoftext|>The's, thei, are the besttheica and..<|endoftext|>Theashion's the can to be the best to at year.<|endoftext|>\n"
     ]
    },
    {
     "name": "stderr",
     "output_type": "stream",
     "text": [
      "4701it [1:06:56,  1.32it/s]"
     ]
    },
    {
     "name": "stdout",
     "output_type": "stream",
     "text": [
      "loss=5.139492511749268\n",
      "\n",
      "Article:\n",
      "By. James Nye. PUBLISHED:. 19:34 EST, 26 September 2013. |. UPDATED:. 08:14 EST, 27 September 2013. It was a sordid affair by any measure of the imagination. Teresa Stone dreamed of running away with her pastor lover, armed with as much as $800,000 in life insurance payouts she imagined they would get after they killed her former Marine husband. Instead, Stone is serving eight years in prison for conspiring to murder Randy Stone, the father of her two children - and the man she called 'Brother Love' is serving a life sentence for shooting his best friend with his own gun at his office in Independence, Missouri. Betrayal: Teresa Stone conspired to kill her husband of 19-years, Randy Stone (right) after she dreamed of running away with her pastor lover, who was Randy's best friend and confidant. A new investigation by ABC's 20/20 has revealed the sheer levels of treachery and betrayal that Stone and Pastor David Love went to in order to not only murder her husband of 19-years, but also t\n",
      "\n",
      "Target:\n",
      "Teresa Stone, 40, pleaded guilty to conspiracy to commit murder.\n",
      "in the March 2010 shooting death of Randy Stone of Independence.\n",
      "Pastor David Love, 51, was charged in 2011 with killing insurance agent and his best friend Randy Stone.\n",
      "The murder exposed their ten-year affair and their hopes of running away together after murdering Love's wife.<|endoftext|>\n",
      "\n",
      "Predicted:\n",
      "Theresa,, 29, was guilty to murder to kill suicide.\n",
      "The- girl of,, of the,, the.\n",
      "The-, Cameron, who, was convicted with the. a her.. her wife friend...\n",
      "The couple of was daughter-year- with was daughter to the. from. the her. death.<|endoftext|>\n"
     ]
    },
    {
     "name": "stderr",
     "output_type": "stream",
     "text": [
      "4801it [1:08:23,  1.22it/s]"
     ]
    },
    {
     "name": "stdout",
     "output_type": "stream",
     "text": [
      "loss=4.973756313323975\n",
      "\n",
      "Article:\n",
      "Jailed: Joshua Sadler, 21, was sentenced to 12 months after admitting dangerous driving. The mother of a teenager who was killed when a friend crashed his car just four days after passing his test has spoken of her shock after the driver was jailed for only 12 months. Joshua Sadler, 21, lost control of his silver Renault Clio on a 60mph country road and smashed into a tree, killing front seat passenger Mikey Maguire, 19. Sadler had previously been convicted of a. string of serious motoring offences and twice banned from the road. before he even had a licence. He was seen on the night of the fatal crash performing handbrake turns and showing off in a car park. Sadler. pleaded guilty to causing death by careless driving and was sentenced. to 12 months in jail and banned him from driving for five years. Afterwards Mr Maguire’s mother Allison Jarman, 43, described the sentence as an ‘insult’. She said: 'When I was in court my head was in my hands and at one point I couldn’t even listen to \n",
      "\n",
      "Target:\n",
      "Joshua Sadler, 21, lost control on 60mph country road and hit a tree.\n",
      "Front seat passenger Mikey Maguire, 19, was killed in the crash.\n",
      "Sadler had previous convictions for a.\n",
      "string of serious motoring offences.\n",
      "He was twice banned from the road.\n",
      "before he even had a licence.\n",
      "Seen on night of the fatal crash performing handbrake turns in a car park.\n",
      "Victim's mother described 12 month sentence as an 'insult' to her son's life.<|endoftext|>\n",
      "\n",
      "Predicted:\n",
      "The was,, 22, was his of the- in in in was a car.\n",
      "He was was in and wasistrates was, who, was jailed in a head.\n",
      "Police was, been convictions for the woman\n",
      "He, the injuries-..\n",
      "Police was jailed in from the hospital in\n",
      "Police was was a a'to\n",
      "He was was the and the incident incident...... the car..<|endoftext|>Policeim was mother was the- and for a 'lult'<|endoftext|> the.. home.<|endoftext|>\n"
     ]
    },
    {
     "name": "stderr",
     "output_type": "stream",
     "text": [
      "4901it [1:09:52,  1.08it/s]"
     ]
    },
    {
     "name": "stdout",
     "output_type": "stream",
     "text": [
      "loss=5.217061996459961\n",
      "\n",
      "Article:\n",
      "Chancellor George Osborne, pictured today at the Tory party conference, said he will spend more than £800million to enable local authorities to avoid painful increases. Council tax is to be frozen again next year as the Government tries to show it understands the mounting pressures on family budgets, it was revealed today. Chancellor George Osborne said he will spend more than £800million to enable local authorities to avoid painful increases. The freeze will save the average family £72 next year, on top of another £72 saved from a similar move this year, and means council tax will not rise before April 2013 at the earliest. 'My message is I am doing everything, this Government is doing everything to help you, your family, to help the economy, to get people into work, to keep people in work,' he told ITV1's Daybreak. 'That is what we are working flat-out on. We reject the idea that governments can't do anything in the face of these global storms. 'My job is to take the difficult decisi\n",
      "\n",
      "Target:\n",
      "David Cameron says there will be no U-turn on cuts.\n",
      "Unfair dismissal claims period will rise to two years.\n",
      "Enterprise zones set up in towns hit by BAE job cuts.\n",
      "The Prime Minister dismissed demands for a referendum on Europe, insisting that the financial crisis must take priority;.\n",
      "Work and Pensions Secretary Iain Duncan Smith prepared to renew his call for marriage tax breaks;.\n",
      "Home Secretary Theresa May called for the Human Rights Act to be scrapped;.\n",
      "Ministers unveiled a radical extension of Margaret Thatcher’s ‘right-to-buy’ policy for council house tenants.<|endoftext|>\n",
      "\n",
      "Predicted:\n",
      "The Cameron has the is be'longer.S by the to\n",
      "Heemployed to of that of be in be years.\n",
      "But% to of to to the for by theerc...<|endoftext|>But new Minister has the to a'in the. but and the UK crisis. be a to it\n",
      "Theers theensions are ofain Duncan�, to be. job. the... it\n",
      "The Secretary of will to for'' Rights Act. the a. it\n",
      "Theisters have a'in to the and's�s.���style-the’<|endoftext|>� the...<|endoftext|>\n"
     ]
    },
    {
     "name": "stderr",
     "output_type": "stream",
     "text": [
      "5001it [1:11:22,  1.15it/s]"
     ]
    },
    {
     "name": "stdout",
     "output_type": "stream",
     "text": [
      "loss=4.716822624206543\n",
      "\n",
      "Article:\n",
      "A middle school teacher whose skull was shattered three months ago when teens allegedly dropped a 5lb rock from a highway overpass onto her car is finally ready to head home. Sharon Budd, her relatives and medical staff appeared outside Geisinger HealthSouth Rehabilitation Hospital in Danville, Pennsylvania on Tuesday to speak about her incredible battle. Helped by two staff members, she grinned as she rang a ceremonial victory bell. The 52-year-old mother and breast cancer survivor plans to return home to Uniontown, Ohio on Wednesday. Celebration: Sharon Budd rings a ceremonial victory bell outside Geisinger HealthSouth Rehabilitation Hospital in Danville, Pennsylvania on Tuesday - signaling that she is ready to return home after three months. On the road to recovery: Mrs Budd has been recovering for three months after a rock was thrown from an Interstate 80 overpass in Pennsylvania and shattered her skull. She lost her right eye in the incident. When previously asked what was the fir\n",
      "\n",
      "Target:\n",
      "Sharon Budd was in the front passenger seat as she traveled through Pennsylvania with her husband and daughter on July 10.\n",
      "Four teens 'threw a massive rock from an overpass and it struck the car'\n",
      "Her skull was crushed, she lost an eye and she suffered brain damage.\n",
      "She is progressing and can do basic math but she still become confused about how many children she has, her husband said.\n",
      "On Tuesday, she stepped out in public for the first time since the crash and will return home to Ohio on Wednesday.<|endoftext|>\n",
      "\n",
      "Predicted:\n",
      "Daron,, found a head of of of a walked to the. a husband. her. the 17.\n",
      "The-,aousands' lot'' the hour-' a' a girl'\n",
      "The mother, found to but was her hour and a was a damage.\n",
      "The was now to her't so of for the was have a. the she people were had been the husband,.\n",
      "The the, she was up of the and the murder time in her incident. her be to. the. the.\n",
      "\n"
     ]
    },
    {
     "name": "stderr",
     "output_type": "stream",
     "text": [
      "5101it [1:12:45,  1.11it/s]"
     ]
    },
    {
     "name": "stdout",
     "output_type": "stream",
     "text": [
      "loss=4.8820695877075195\n",
      "\n",
      "Article:\n",
      "By. David Gardner In Los Angeles  and Daily Mail Reporter. PUBLISHED:. 17:22 EST, 31 August 2012. |. UPDATED:. 17:37 EST, 31 August 2012. The mystery surrounding the death of British director Tony Scott has deepened after his death certificate was released - listing his cause of death as 'deferred'. Instead of the expected verdict of suicide, the Los Angeles Department of Public Health has decided to wait for toxicology and other test results and said the death is 'pending investigation'. The certificate states that an autopsy has been performed, that the 68-year-old died 'Under Vincent Thomas Bridge' - but also indicates that a biopsy was not performed on the dead body. Director Tony Scott's death certificate has been released following his August 19 death - but lists his cause of death as deferred. There has been no confirmation from. the Deparment of Public Health if the famed director of action films. such as 'Top Gun' and 'Crimson Tide' was suffering from cancer as some. reports i\n",
      "\n",
      "Target:\n",
      "LA Department of Public Health have deferred listing the cause of death until after the toxicology results are back.\n",
      "Coroner's office said suicide note offered not motive and didn't mention any health problems.\n",
      "Picture taken in Beverly Hills on July 23 shows Scott looking pained.\n",
      "Taken just weeks before he jumped 'without hesitation' from the Vincent Thomas Bridge as horrified tourists on a harbor cruise watched.\n",
      "For confidential support call the Samaritans in the UK on 08457 90 90 90 or visit a local Samaritans branch, see www.samaritans.org for details. In the U.S. call the.\n",
      "National Suicide Prevention Line on 1-800-273-8255.<|endoftext|>\n",
      "\n",
      "Predicted:\n",
      "The- of the- Organisation beened,'of the in the the incident...'to\n",
      "Theoner said mother said he was was to to to ''t have the other..\n",
      "The was to the and, the 9, the of for..\n",
      "Theold to days after the was fromin a' to the ''s.. a.. the '...\n",
      "The confidential support call the Samaritans on the past, 08457 90 90 90 90 visit a local Samaritans branch or which www.samaritans.org. the.<|endoftext|>. '.S.<|endoftext|> for Samar\n",
      "The and Prevention Lif, the.0-273-273255,<|endoftext|>\n"
     ]
    },
    {
     "name": "stderr",
     "output_type": "stream",
     "text": [
      "5201it [1:14:14,  1.29it/s]"
     ]
    },
    {
     "name": "stdout",
     "output_type": "stream",
     "text": [
      "loss=5.602726459503174\n",
      "\n",
      "Article:\n",
      "By. Dan Bloom. A cash-strapped council has been criticised for handing a rugby team at least £750 for a weekend jaunt to the south of France. It is thought officials in Cumbernauld, North Lanarkshire, have been offering the £50-a-head subsidy for several years despite savage budget cuts. The biennial tour sees players take a 24-hour bus ride to their twin town of Bron, where they enjoy 'festivities' before a match against Bron's rugby club. Controversial: The money was paid to support the town of Cumberland, North Lanarkshire (file photo) The grants were exposed this week and came despite North Lanarkshire Council axing 700 staff over three years to meet £62million of budget cuts. The total handed to the club is likely to be higher than £750 (one grant per player), as council officials were unable to say what amounts were given out in previous years. Rugby club president Jim Cochrane insisted the cash, which is for travel expenses only, showed the council's commitment to Cumbernauld. B\n",
      "\n",
      "Target:\n",
      "Officials in Cumbernauld, North Lanarkshire, topped up rugby team's kitty.\n",
      "Players take a 24-hour bus trip every two years to French twin town of Bron.\n",
      "Council said exchange built links and money was only for travel expenses.\n",
      "But officials are making £62m cuts and shedding 700 jobs over three years.\n",
      "Campaign group said taxes should go on 'public services, not private trips'<|endoftext|>\n",
      "\n",
      "Predicted:\n",
      "The say thehamour, a Wales,,, is the to and. 'ang.\n",
      "The has part £-year operation in to day- ago the... the.\n",
      "The has it'' to'to'' '..<|endoftext|>The the say now a1, to to is... the years.<|endoftext|>Theers says it have be to thethe-' but a''<|endoftext|>\n"
     ]
    },
    {
     "name": "stderr",
     "output_type": "stream",
     "text": [
      "5301it [1:15:41,  1.14it/s]"
     ]
    },
    {
     "name": "stdout",
     "output_type": "stream",
     "text": [
      "loss=5.172757625579834\n",
      "\n",
      "Article:\n",
      "By. Daniel Piotrowski For Daily Mail Australia. The 27-year-old Coogee man who collapsed near the finish line of the City2Surf fun run and later died of a cardiac arrest is Fox Sports employee and Crossfit enthusiast Chris Head. Mr Head's younger brother, Jonathan, posted a brief message on Chris's Facebook wall alerting family and friends of the tragic news. 'I'm very sorry to inform everyone that Chris collapsed yesterday at the finish line of the City 2 Surf,' he wrote. Scroll down for video. Chris Head, 27, who died at the City2Surf. A 27-year-old man has died in hospital after collapsing near the end of the City2Surf fun run in Sydney on Sunday morning. At least half a dozen St John Ambulance officers rushed to the unconscious man as hundreds of runners dashed by towards the finishing line. 'He died of a heart attack shortly afterward.' 'This has been an indescribable shock to us all and we loved him more than we can say.' 'We wish to thank everyone for their kindness, support and\n",
      "\n",
      "Target:\n",
      "Fox Sports employee Chris Head, 27, collapsed and died near the end of annual City2Surf event.\n",
      "Mr Head went into cardiac arrest just metres from the fun run's finish line at Bondi Beach.\n",
      "The man was stablised and taken to hospital but died soon after arrival.\n",
      "Witness described him as'very white' and 'almost crawling' to the end.\n",
      "More than 80,000 people took part in Sunday's 14km City2Surf - the world's biggest fun run.<|endoftext|>\n",
      "\n",
      "Predicted:\n",
      "The-mail, Christie, who, was in his in the road of the a...ica.\n",
      "He B was missing the arrest and before after the same of in home.. the...\n",
      "He boy was found inifted in was from the. was in. he.\n",
      "Thees as as athe'' and 'the''\n",
      " the hospital of\n",
      "The than half,000 people have the in the's hometh....ica a same's largest...<|endoftext|>\n"
     ]
    },
    {
     "name": "stderr",
     "output_type": "stream",
     "text": [
      "5401it [1:17:09,  1.26it/s]"
     ]
    },
    {
     "name": "stdout",
     "output_type": "stream",
     "text": [
      "loss=5.1214423179626465\n",
      "\n",
      "Article:\n",
      "(CNN) -- At midnight last Tuesday, two men were traveling in a black four-wheel drive through the Somali capital, Mogadishu. One was Fazul Abdullah Mohammed, the most wanted terrorist in Africa. Mohammed had survived more than a decade on the run, at least one attempt on his life, and a $5 million price on his head for planning the 1998 attacks on the U.S. embassies in Nairobi, Kenya and Dar es Salaam, Tanzania. But his luck was about to run out in the chaos of Mogadishu, where the frontlines in the battle between the weak transitional government and al Qaeda affiliate al-Shabaab shift almost weekly. His vehicle headed toward a government checkpoint, possibly after taking a wrong turn. According to several accounts it tried to speed through, setting off a firefight with police. Mohammed was killed, but to begin with the Somali security forces had no idea who he was. Only when they discovered cell phones, a South African passport, a substantial amount of cash and a laptop did they reali\n",
      "\n",
      "Target:\n",
      "Fazul Abdullah Mohammed was an elusive and talented bombmaker.\n",
      "U.S. officials confirmed it was Mohammed through DNA tests.\n",
      "Al-Shabaab figure Musa Dheere was also killed, Kenyan officials say.\n",
      "Expert says their deaths \"removed the top half of the al Qaeda network's explosives expertise\" in the region.<|endoftext|>\n",
      "\n",
      "Predicted:\n",
      "NEWiftyirance: was killed attack- the the in in\n",
      "The.S. officials say the was a, the..\n",
      "ThelegShabaab's was to'szhem, killed killed in police officials say.\n",
      "The-: the \" werea\"\" country of of the country Qaeda\" of\".\"<|endoftext|> the U.<|endoftext|>\n"
     ]
    },
    {
     "name": "stderr",
     "output_type": "stream",
     "text": [
      "5501it [1:18:36,  1.14it/s]"
     ]
    },
    {
     "name": "stdout",
     "output_type": "stream",
     "text": [
      "loss=5.1982102394104\n",
      "\n",
      "Article:\n",
      "By. Sarah Griffiths. PUBLISHED:. 09:00 EST, 27 September 2013. |. UPDATED:. 09:00 EST, 27 September 2013. Archaeologists have discovered a leopard trap used by hunters 5,000-years-ago in Israel. Israeli researchers originally thought the trap, which was found in the Negev Desert, was just a few hundred years old, as almost identical devices were used by Bedouins living in the region in the last century. Scientists believe the type of trap, which to non-experts might look like a pile of stones, was used to catch carnivores, possibly by people living in the area who first kept herds of goats and sheep. Israeli researchers originally thought the trap (pictured), which was found in the Negev Desert, was just a few hundred years old. Archaeologists believe it could have been used to catch carnivores since people living in the area first kept herds of goats and sheep. Naomi Porat, a geochronologist with the Geological Survey of Israel, said: 'The most exciting thing is the antiquity of these\n",
      "\n",
      "Target:\n",
      "The trap, found in the Negev Desert, was originally believed to be a few hundred years old, suggesting the design has not changed much.\n",
      "Archaeologists from the Geological Survey of Israel believe it was used by early goat and sheep herders to protect their flocks.\n",
      "It is thought the traps also captured other predators living in the Middle East, including wolves,.\n",
      "hyenas and long-eared cats.<|endoftext|>\n",
      "\n",
      "Predicted:\n",
      "The study of a a the UKs of,, was found from to be a'weeks- ago. but the most of been been the.\n",
      "Theaeologists is the University of to the's the was a to the.. a... the the homes..\n",
      "The is the to most was has the people to in the world East. but a and and\n",
      "The and, and the-term of.\n",
      "\n"
     ]
    },
    {
     "name": "stderr",
     "output_type": "stream",
     "text": [
      "5601it [1:20:05,  1.09it/s]"
     ]
    },
    {
     "name": "stdout",
     "output_type": "stream",
     "text": [
      "loss=5.194361209869385\n",
      "\n",
      "Article:\n",
      "(CNN) -- Both President Obama and Mitt Romney flubbed the big question on jobs at Tuesday night's debate. Moderator Candy Crowley noted that Apple makes its iPhones and iPads in China and asked, \"How do you convince a great American company to bring that manufacturing back here?\" Romney talked about reducing corporate taxes, getting tough with China by making it \"play by the rules,\" and stopping its currency manipulation. Obama said that some jobs are just never going to come back because the labor wages abroad are so much lower than in America. What the president wants to do is to double U.S. exports and create new high-wage jobs to replace the low-wage jobs that have been sent offshore. Obviously, neither debater knows the details of how the dynamics of trade and globalization work. Why Apple will never bring manufacturing jobs back to the U.S. For starters, the iPhones and iPads are not really made in China. They are only assembled there. According to the Asian Development Bank, the\n",
      "\n",
      "Target:\n",
      "Clyde Prestowitz: Debate shows neither candidate understands details of global trade dynamics.\n",
      "Prestowitz: The major value of iPhones is in the semiconductors and other key parts.\n",
      "He says U.S. producers don't know how to make these key components anymore.\n",
      "Prestowitz: If we want high-wage jobs in the U.S., we need a competitive strategy.<|endoftext|>\n",
      "\n",
      "Predicted:\n",
      "Theensus:::: The to that, of, of the warming..\n",
      "Heollss: \" U of of the, a the world of.. other...\n",
      "He says the.S. is of't know what to be a decisions to..\n",
      "Heolls:: \" of need to-profile,, the world.S. with can to better..<|endoftext|>\n"
     ]
    },
    {
     "name": "stderr",
     "output_type": "stream",
     "text": [
      "5701it [1:21:29,  1.02it/s]"
     ]
    },
    {
     "name": "stdout",
     "output_type": "stream",
     "text": [
      "loss=5.554535865783691\n",
      "\n",
      "Article:\n",
      "Giddy fans of the Super Bowl champion New England Patriots chanted 'Brady! Brady!' and leaned on massive snowbanks for better views as players danced and waved their way through Boston in a Wednesday parade celebrating their fourth NFL title. Well-wishers pumped their fists and screamed from behind barriers as the team rolled through downtown aboard the World War II-style amphibious 'duck boat' vehicles that have become a staple of the city's championship parades. Some fans peered from behind giant piles of snow left from last week's blizzard, straining to get a glimpse of quarterback Tom Brady and his son Benjamin, coach Bill Belichick and other players as a truck blew plumes of confetti into the air. No one however was having more fun than Rob Gronkowski, who spent his time on the duck boat chugging beer, showing off some sexy dance moves and no doubt flirting with thousands of Boston ladies on the parade route. Scroll down for videos. Players are allowed one guest each on the parade\n",
      "\n",
      "Target:\n",
      "The Super Bowl champion New England Patriots celebrated their win on Wednesday with a parade in Boston.\n",
      "All the Patriots players, coaches and owner Robert Kraft rode on duck boats for the occasion.\n",
      "Tom Brady was joined by his son Benjamin, daughter Vivian and wife Gisele, with Benjamin riding alongside him on the duck boat.\n",
      "Rob Gronkowski spent the parade showing off his dance moves for the crowd and chugging beers, before changing into 69 jersey.\n",
      "Wide receiver Julian Edelman rode on top of his duck boat for part of the parade and at another point held up a sign to honor Patriots fans.<|endoftext|>\n",
      "\n",
      "Predicted:\n",
      "The former Bowl of has YorkB has    first over the night a 2 of the.\n",
      "The three first of were the the the are W have the the of. the first.\n",
      "Theas and the by the former in, who, and, his,ior,, who the's, the. the ground..\n",
      "Theinson was, the first of the the first in in the first. thethe uese in    the the the,.<|endoftext|>Thes has, Woodward was the the of the team and. the of the World. the the World. in to year of the...<|endoftext|>\n"
     ]
    },
    {
     "name": "stderr",
     "output_type": "stream",
     "text": [
      "5801it [1:22:57,  1.19it/s]"
     ]
    },
    {
     "name": "stdout",
     "output_type": "stream",
     "text": [
      "loss=5.050144672393799\n",
      "\n",
      "Article:\n",
      "By. David Mccormack. and Associated  Press Reporter. The body of a transgender woman found brutally murdered in Baltimore is the sibling of an NBA player. Mia Henderson, 26, was found by police in an alley in the northwest of the city in the early hours of Wednesday morning. Henderson, who was born Kevin Long, was a sibling of Reggie Bullock of the Los Angeles Clippers. Mia Henderson, 26, was found by police in an alley in Baltimore in the early hours of Wednesday morning. Bullock paid tribute to Henderson in two tweets send on Wednesday with the hashtag '#RIPKEVIN.' 'All I can say is my brother showed me how to live your own life. Love you so much man. Gone but not forgotten' he tweeted. And 'At least I sent the last love you to my brother.' Police have not identified any suspects or established a motive, and they don't know yet whether there's any connection to the slaying of another transgender woman last month. 'Love you so much man': LA Clippers player Bullock, right, has paid tri\n",
      "\n",
      "Target:\n",
      "Mia Henderson, 26, was found by police in an alley in northwest Baltimore in the early hours of Wednesday morning.\n",
      "Born Kevin Long, Henderson was a sibling of Reggie Bullock of the Los Angeles Clippers.\n",
      "Bullock paid tribute to Henderson in two tweets send on Wednesday with the hashtag '#RIPKEVIN'\n",
      "'All I can say is my brother showed me how to live your own life. Love you so much man. Gone but not forgotten' he tweeted.\n",
      "A broken necklace and a pool of blood remain in the alley where police found Henderson's body.<|endoftext|>\n",
      "\n",
      "Predicted:\n",
      "Thearily was, 28, was arrested dead a officers a area, a., the last hours of the..\n",
      "The,,, who, arrested'of the,,, the Year Angeles..\n",
      "The, was tribute to the and the days, and the. a police.un'''''\n",
      "TheI the have't it not life, the,' I be with,',','<|endoftext|>,' know I,',' I,' I a,'<|endoftext|> said.<|endoftext|>The judge officer, his man of the pressure in the area, he say the. death.<|endoftext|>\n"
     ]
    },
    {
     "name": "stderr",
     "output_type": "stream",
     "text": [
      "5901it [1:24:25,  1.10it/s]"
     ]
    },
    {
     "name": "stdout",
     "output_type": "stream",
     "text": [
      "loss=4.801395893096924\n",
      "\n",
      "Article:\n",
      "The aunt of convicted rapist Ched Evans has criticised the footballer for not showing any remorse. Nina Evans, 56, urged her disgraced nephew - who has always maintained his innocence - to apologise to his victim. The addiction counsellor from St Albans, Hertfordshire, said: ‘He deserved to go down as he was found guilty - he did rape her.’ Scroll down for video. No remorse: Ched Evans (left) broke his silence this week to apologise to his girlfriend Natasha Massey (right) She told The Sun journalist Ruth Warrander: ‘Ched won’t grasp or listen. He won’t admit he’s done wrong. He’ll never show remorse.’ Ched Evans, 25, has maintained his innocence despite being found guilty of rape and spending two and a half years in jail. The angry attack by his aunt comes just days after he broke his silence for the first time this week to apologise to his girlfriend Natasha Massey, 25. But he was criticised for not mentioning his victim - who had previously been named by trolls on Twitter and forced\n",
      "\n",
      "Target:\n",
      "Nina Evans, 56, urged her disgraced nephew to apologise to his victim.\n",
      "Addiction counsellor from St Albans says: 'He deserved to go down'\n",
      "Ched Evans has maintained innocence despite being found guilty of rape.\n",
      "He broke his silence for first time this week to apologise to his girlfriend.\n",
      "Sheffield United 'ban fans from getting his name and number on shirt'\n",
      "Evans, 25, is 'writing book which he plans to publish if he wins appeal'<|endoftext|>\n",
      "\n",
      "Predicted:\n",
      "Michaelathan Johnson was 22, was to toaced-, be for his home.\n",
      "He- of, was says his Louis's, he 'I is a be to'\n",
      "Heouple Evans to been his for his'in of his.\n",
      "He was out life at the time since year. be. the wife.<|endoftext|>He was,'sI'' the' life' I' a'<|endoftext|>Heans, who, was nowa''' is to be' he is''earance'<|endoftext|>\n"
     ]
    },
    {
     "name": "stderr",
     "output_type": "stream",
     "text": [
      "6001it [1:25:49,  1.39it/s]"
     ]
    },
    {
     "name": "stdout",
     "output_type": "stream",
     "text": [
      "loss=4.846511363983154\n",
      "\n",
      "Article:\n",
      "By. Chris Waugh. Our first Fantasy Football £1,000 weekly winner is revealed (he's an Exeter fan who got lucky with two Hull defenders)... and here's his team. It is the craze that seems to have taken over the world - and sports stars in particular seem to have embraced the Ice Bucket Challenge. Names including Cristiano Ronaldo, Lionel Messi and David Beckham have been doused with freezing water in order to raise money for charity. The Ice Bucket Challenge craze originated in the United States with the intention of raising money for the Amyotrophic lateral sclerosis (ALS) Association. ALS, also known as Motor Neurone Disease, attacks the spinal cord and can lead to speech difficulties, muscle spasms and paralysis. It affects around 30,000 people in the US and 5,000 in the UK. Here, we show you the best sporting Ice Bucket Challenges... CRISTIANO RONALDO. Ronaldo stripped down to his boxers to accept former Manchester United team-mate Darren Fletcher's Ice Bucket Challenge nomination -\n",
      "\n",
      "Target:\n",
      "The Ice Bucket Challenge craze originated in the US to raise money for ALS.\n",
      "Amyotrophic lateral sclerosis Association, or Motor Neurone Disease, attacks the spinal cord and affects around 5,000 people in the UK.\n",
      "People take the challenge, donate to the charity, then nominate others.\n",
      "Ronaldo, Messi and Beckham some of the stars to have done the challenge.<|endoftext|>\n",
      "\n",
      "Predicted:\n",
      "England former- has hasze is in the first Open win money for the.\n",
      "The-elli has has and of the ',uer and, and and and '.. a the the.000.. the first.\n",
      "The are on first to but to the top for but'the to\n",
      "Thealdo has who, his, of the Year were be been in best.<|endoftext|>\n"
     ]
    },
    {
     "name": "stderr",
     "output_type": "stream",
     "text": [
      "6101it [1:27:15,  1.16it/s]"
     ]
    },
    {
     "name": "stdout",
     "output_type": "stream",
     "text": [
      "loss=5.200453281402588\n",
      "\n",
      "Article:\n",
      "(CNN) -- The winner of the 82nd annual Scripps National Spelling Bee said Friday she is \"pretty excited\" but a little tired. Kavya Shivashankar of Olathe, Kansas, reacts to winning the Scripps National Spelling Bee on Thursday night. \"This has been my dream for so long; I've always wanted to win the bee,\" Kavya Shivashankar, 13, of Olathe, Kansas, told CNN. \"I was just really excited when I was able to go up and spell the last word.\" The eighth-grader won $40,000 in cash and prizes for nailing the final word, \"Laodicean,\" which means lukewarm or indifferent, particularly in matters of politics or religion. This year's bee -- an event that has skyrocketed in popularity thanks to exposure on television and in movies -- started Tuesday in Washington with a record 293 spellers. Kavya endured 15 rounds. In an event that has seen contestants crack under the strain of the national spotlight, Kavya -- competing in her fourth national finals -- appeared composed throughout.  Watch the poised wi\n",
      "\n",
      "Target:\n",
      "Kavya Shivashankar of Olathe, Kansas, wins in fourth trip to national finals.\n",
      "The 13-year-old eighth-grader will receive $40,000 in cash and prizes.\n",
      "Focus on task keeps cameras and media from distracting her, Kavya says.\n",
      "Girl may return to scene if younger sister does well in future competitions.<|endoftext|>\n",
      "\n",
      "Predicted:\n",
      "NEWatherineie's,ire the, the,, California, and a the.. the..\n",
      "The \"-year-old is heryearader is be a1 million000 in a. is.\n",
      "The is the,,, is to the.. \"akaa..<|endoftext|>\"'s be to the, they is is not. the..<|endoftext|>\n"
     ]
    },
    {
     "name": "stderr",
     "output_type": "stream",
     "text": [
      "6201it [1:28:39,  1.07s/it]"
     ]
    },
    {
     "name": "stdout",
     "output_type": "stream",
     "text": [
      "loss=4.840106010437012\n",
      "\n",
      "Article:\n",
      "A two-year-old boy was one of four children who miraculously survived a terrifying place crash in Taiwan, after the aircraft clipped a motorway overpass and crashed into a river,. So far 15 survivors have been pulled from the wreckage of the plane, as more than 1,000 rescue personnel scramble to try and save people trapped in the aircraft which crashed into the Keeling River in the capital city of Taipei. Dramatic footage of the rescue operation, which is still ongoing, shows the child being carried out on the aeroplane with by emergency workers with barely a scratch on him. Once the dinghy reaches dry land, he is rushed away to be looked over by medics. Scroll down for video. Miracle: A rescue worker hands over a two-year-old boy after survivor a devastating plane crash in Taiwan. The aircraft clipped a motorway shortly after take off and crashed into the Keeling River. Safe: The toddler and a Taiwanese official rush to safety once they reach dry land, after the little boy is rescued \n",
      "\n",
      "Target:\n",
      "Two-year-old boy one of four children pulled from the wreckage after surviving the horror crash on Wednesday.\n",
      "TransAsia GE235 passenger plane with 58 people on board plunged into Keeling River in capital city Taipei.\n",
      "At least 25 people have been confirmed dead, according to Taiwanese Civil Aviation Authority, and 18 are missing.\n",
      "An emergency rescue operation with over 1000 personnel, including military troops, continues throughout the night.\n",
      "There were 53 passengers and five crew on board, 31 of whom were tourists from mainland China.\n",
      "It crushed a taxi, injuring the driver, before clipping a freeway overpass and plunging into the river.\n",
      "An emergency rescue operation with more than 1,000 personnel, including military troops, is under way.\n",
      "Investigators are examining the plane's blackbox retrieved from the wreckage to outline the cause of the accident.<|endoftext|>\n",
      "\n",
      "Predicted:\n",
      "The menthirds-old man was of the people in out the crash. the. crash.. the.\n",
      "Theport,,,, was the, in the the and the-.. the....\n",
      "The least 10 people were been arrested to, the to the and,.. the the- injured.\n",
      "The estimated landing,, the the,, including a and, and to the coast.\n",
      "The were no, and the people members the the the, the, killed. the..<|endoftext|>The is the day of the a water and and the and day and the, a.. the air.<|endoftext|>The estimated landing,, the than 100,000 people in including a and, and now investigation to<|endoftext|>The have investigating the most, most,,. the city. the. streets of the crash.<|endoftext|>\n"
     ]
    },
    {
     "name": "stderr",
     "output_type": "stream",
     "text": [
      "6301it [1:30:05,  1.20it/s]"
     ]
    },
    {
     "name": "stdout",
     "output_type": "stream",
     "text": [
      "loss=5.269257068634033\n",
      "\n",
      "Article:\n",
      "By. Elizabeth Sanderson and Dominic Prince. PUBLISHED:. 17:19 EST, 7 December 2013. |. UPDATED:. 17:19 EST, 7 December 2013. Art of the matter: Petra Ecclestone and her husband James Stunt, who want to take the Van Dyck to LA. It seems an unlikely place to hang an Old Master. Dubbed ‘Candyland’ by locals, Petra Ecclestone’s vast Los Angeles mansion has 14 bedrooms, three hair salons and a walk-in wardrobe so large it has a second level accessed by an internal staircase. And that’s not to mention the nightclub, bowling alley and ‘motor court’ for 100 vehicles, including her family’s white Ferrari, white Rolls-Royce Ghost and a black Lamborghini. Yet, extraordinarily, this is the intended home of Anthony Van Dyck’s last known self-portrait, a £12.5million painting regarded as one of Britain’s greatest cultural treasures. The Government and the National Portrait Gallery are currently trying to save it for the nation. The Mail on Sunday can reveal the Van Dyck has been bought by Petra’s 28\n",
      "\n",
      "Target:\n",
      "Mail on Sunday can reveal the Van Dyck has been bought by Petra’s 28-year-old husband, James Stunt.\n",
      "Petra Ecclestone's vast LA mansion, dubbed.\n",
      "Candyland, is intended home of Anthony Van Dyck's last known.\n",
      "self-portrait.\n",
      "Painting is regarded as one of Britain's greatest cultural.\n",
      "treasures.\n",
      "Government places temporary export ban on Mr Stunt taking it out of Britain.\n",
      "National Portrait Gallery and Government now trying to save it for nation.<|endoftext|>\n",
      "\n",
      "Predicted:\n",
      "TheOnline the, be the'Gaalke's been'by the.�s.-year-old.. who,.,\n",
      "Theer,lestone has £'Galaxy in which '\n",
      "Comes for, who'to to the's Gaalan,. year as\n",
      "The-year- in\n",
      "Thetingham a as a of the's most--\n",
      "But also to<|endoftext|>The has to for of on the Cameron.'s... the.<|endoftext|>But Audito, in £ for in to pay the. £.<|endoftext|>\n"
     ]
    },
    {
     "name": "stderr",
     "output_type": "stream",
     "text": [
      "6401it [1:31:31,  1.14s/it]"
     ]
    },
    {
     "name": "stdout",
     "output_type": "stream",
     "text": [
      "loss=5.012627601623535\n",
      "\n",
      "Article:\n",
      "Two men are  halfway up what has been called the hardest rock climb in the world - a free climb up a half-mile section of exposed granite in California's Yosemite National Park. Tommy Caldwell, 36, of Estes Park, Colorado, and Keven Jorgeson, 30, of Santa Rosa, California, have been scaling their way up the face of the 3,000 feet granite monolith of El Capitan in Yosemite using only their hands and feet. Most ascents up the imposing rock face use an approach known as aid climbing, where ropes and metal pins are used to assist the climbers. Don't look down: Jorgeson calculates his next move up the mountain in this photo posted on Instagram on Sunday. However, the Caldwell and Jorgeson are instead attempting to cleanly free climb a route that has never before been climbed without aid. Their progress up the 32 sections, or pitches, of climbing is being chronicled by climber and photographer Tom Evans and filmmaker Brett Lowell. The two men eat, stretch and sleep in hanging tents suspended\n",
      "\n",
      "Target:\n",
      "Climbers Kevin Jorgeson, 30, and Tommy Caldwell, 36, are making their way up El Capitan - the largest monolith of granite in the world - in a single push without pulling on any  equipment to aid their ascent.\n",
      "Many have climbed El Capitan before, but if successful, the pair would be the first to 'free climb' a route known as the Dawn Wall in what is considered to be the most difficult multipitch climb in the world.\n",
      "Caldwell is doing the climb despite cutting off much of the index finger of his left hand in a DIY accident with a saw.\n",
      "Razor sharp holds on the rock have taken their toll on the pair and they are now climbing with their fingertips taped.\n",
      "Free climbing involves using ropes and clips to protect in case of a fall, but does not aid the actual ascent.\n",
      "Jorgeson and Caldwell hope to reach the summit of El Capitan as by Friday or Saturday to end a six year project.<|endoftext|>\n",
      "\n",
      "Predicted:\n",
      "Theouplein and,edin,, 27, and his,, both, and among a own to to Salvadoro. and world of of of the. the world. and the New-. a. the of in. the. own.\n",
      "The of been to Salvador and and the the the they are the most were be the first time betake''\n",
      " '. as a ''s Streetin the they the a be the first popular.... the world.\n",
      "Theomesan, the a most of the- the of the world and and the home.. the bid-. a new-\n",
      "Theesc the and the the island of been to own. the island of the are the being. the own..<|endoftext|>The and and the the to the of the the the. the year. and the not have to world-.<|endoftext|>Theury,, the are to have the world of the Salvador,, the the. the. the the $-..<|endoftext|>\n"
     ]
    },
    {
     "name": "stderr",
     "output_type": "stream",
     "text": [
      "6501it [1:32:56,  1.20it/s]"
     ]
    },
    {
     "name": "stdout",
     "output_type": "stream",
     "text": [
      "loss=4.776974678039551\n",
      "\n",
      "Article:\n",
      "A witness says he heard the sarcastic final words of a Texas student moments before he was shot dead by a college police officer. Robert Cameron Redus, 23, was killed. when Corporal Chris Carter, 35, opened fire on him in the early hours of. Friday morning a few blocks away from the University of the Incarnate. Word in San Antonio where Redus studied, set to graduate in May. Neighbour Mohammad Haidaras told My San Antonio  that he heard a tense exchange between Redus and Carter sixty seconds before shots rang out. He told the website: 'I heard (a man) say, 'Oh, you're gonna shoot me?' like sarcastic almost.' The 22-year-old claims he heard gunshots less than a minute later and jumped into his closet. Investigators say an altercation began when Carter tried to pull Redus over for speeding and driving erratically. College shooting: Cameron Redus was killed after a campus cop shot him multiple times during a traffic stop. Under investigation: The parking lot of Redus' apartment block wher\n",
      "\n",
      "Target:\n",
      "University student Cameron Redus, 23, was shot and killed by a campus police officer.\n",
      "According to police, the officer tried to pull Redus over for driving erratically and speeding.\n",
      "The two pulled into the parking lot of Redus' apartment block.\n",
      "Minutes later, Redus was shot 'four to six times' by Carter.\n",
      "Redus was a straight-A student set to graduate in May.\n",
      "Alamo Heights police and Texas Rangers are investigating the shooting.\n",
      "Carter is on administrative leave during the investigation.<|endoftext|>\n",
      "\n",
      "Predicted:\n",
      "The of was was Bull, who, was arrested in charged in a man in officer.\n",
      "He to the, he boy was to be him Sox, the the... his.\n",
      "The boy- out the car lot of the Bull and and..\n",
      "Theister, died who Bull, shot inin' the''\n",
      " the.\n",
      "The Bull was shot '-year man and to be in the.\n",
      "Heleg's a and he him of '. incident.<|endoftext|>The was the the with of the incident.<|endoftext|>\n"
     ]
    },
    {
     "name": "stderr",
     "output_type": "stream",
     "text": [
      "6601it [1:34:24,  1.08it/s]"
     ]
    },
    {
     "name": "stdout",
     "output_type": "stream",
     "text": [
      "loss=5.072696208953857\n",
      "\n",
      "Article:\n",
      "By. Candace Sutton. There's a neat weatherboard house in far western Melbourne where the five members of the Van Den Hende family were supposed return after a wonderful holiday together in Europe. The home is still full of their belongings but the family will never return, and now the town of the Eynesbury, 50km west of Melbourne, is struggling to come to terms with their loss. 'It's a difficult thing to comprehend,' close family friend, Tanya Willmott told Daily Mail Australia. 'The house where they were living is there with their belongings, but they have just disappeared. 'We just hope that with what's going on over there [in Ukraine] that all five members of the family are able to be found and returned.' Scroll down for video. Much liked, never forgotten: The five members of the Van Den Hende family (pictured), Mum Shaliza, 45, Margot, 8, Dad Hans, 48, elder son Piers, 15, and Marnix, 12, tragically died in the MH17 disaster when they were returning from Europe on a family holiday.\n",
      "\n",
      "Target:\n",
      "In the wake of MH17 the Victorian town of Eynesbury is mourning the Van Den Hende family.\n",
      "Hans, Shaliza and Piers, 15, Marnix, 12, and Margaux, 8, died in the crash.\n",
      "Friends and locals are left as guardians of the family house but keenly feel the absence of all five family members.\n",
      "Bewildered schoolkids told the family memorial 'We don’t know what to do. We are all heartbroken'\n",
      "A soccer team mate said, 'I can't understand they are gone. It's such a disaster'<|endoftext|>\n",
      "\n",
      "Predicted:\n",
      "The the past of the17, children of of the.,, the. same Gaal....\n",
      "Theus have who,, theard, who, wereiley,, who, were the,, were, were in the head.\n",
      "The of the were now the a as the women.. were to.. '. the the...\n",
      "Thearcs's the and and the couple of servicet are't�t have what they do it\n",
      "' not the''<|endoftext|>The judge of of to the theI'm't be what are not to I's a as lot'<|endoftext|>\n"
     ]
    },
    {
     "name": "stderr",
     "output_type": "stream",
     "text": [
      "6701it [1:35:51,  1.18it/s]"
     ]
    },
    {
     "name": "stdout",
     "output_type": "stream",
     "text": [
      "loss=5.469889163970947\n",
      "\n",
      "Article:\n",
      "Estée Lauder Creative Director Donald Robertson, who moonlights as the popular Instagram artist Donald Drawbertson, has painted the fashion industry's most notable faces onto walnuts for his nutty project inspired by the holiday snack. The 53-year-old fashion illustrator and father of five from Larchmont, New York, has cleverly rendered portraits of Anna Wintour, Karl Lagerfeld, Coco Chanel, Kanye West, Grace Coddington and more onto the shells of walnuts for his aptly-titled new book Fashion is Nuts. 'Whether it's Edie Campbell dressed in nothing but body paint and a headdress, or Iris Apfel sitting front row wearing her signature glasses and dressed in red fur, fashion is, and has always been wondrously mad,' he explained on his website. Top dog: Instagram artist Donald Robertson painted Vogue Editor-in-Chief Anna Wintour's face onto a walnut for his new book Fashion is Nuts, in which her portrait is labeled as 'Alpha nut' Suited up: The 53-year-old used walnuts, paint and duct tape \n",
      "\n",
      "Target:\n",
      "Estée Lauder Creative Director Donald Robertson painted the faces onto the shells of walnuts for his new book Fashion is Nuts.\n",
      "The 53-year-old illustrator came up with the concept while staring at a bowl of walnuts that were left over from Christmas.\n",
      "His 40-page collection of portraits retails for $40 and has a limited print run of 1,000 copies.<|endoftext|>\n",
      "\n",
      "Predicted:\n",
      "Theablished of,, and,,,'of the show. the.. the first book.. a..\n",
      "The new-year-old has has has from with a'for she on the time. the.. he'with the the.\n",
      "The mother-year-, the,ires, the1, $ a'to.. the.000 times.<|endoftext|>\n"
     ]
    },
    {
     "name": "stderr",
     "output_type": "stream",
     "text": [
      "6801it [1:37:17,  1.17it/s]"
     ]
    },
    {
     "name": "stdout",
     "output_type": "stream",
     "text": [
      "loss=4.686427593231201\n",
      "\n",
      "Article:\n",
      "A Philadelphia woman has pleaded guilty to involuntary manslaughter and child endangerment after her 2-year-old son picked up a loaded.357 revolver and fatally shot his 11-year-old sister. The toddler found the gun under a bed and shot Jamara Stevens while their mother, 31-year-old Tiffany Goldwire, was in the bathroom on April 5, prosecutors said. Goldwire told police that a male friend she knew only as Mark left the loaded gun on top of the refrigerator the night before. Tiffany Goldwire, 31 of Philadelphia pleaded guilty on Thursday to involuntary manslaughter and child endangerment after her 2-year-old son picked up a gun and shot his sister Jamara Stevens, right. Her 14-year-old son moved it to what he thought was a safer place in her bedroom and told his mother. But Goldwire told police she was drunk and high that night, according to Assistant District Attorney Joanne Pescatore. 'It's a very, very big gun,' Pescatore said. 'How irresponsible. She just lets this man come in — on m\n",
      "\n",
      "Target:\n",
      "Tiffany Goldwire, 31 of Philadelphia pleaded guilty on Thursday to involuntary manslaughter and child endangerment.\n",
      "Her 2-year-old son picked up a loaded.357 revolver and fatally shot his 11-year-old sister Jamara Stevens on April 5.\n",
      "Goldwire told police that a male friend she knew only as Mark left the loaded gun on top of the refrigerator the night before.\n",
      "She admitted she was 'drunk and high' at the time and didn't realize her 14-year-old son had moved the gun to underneath her bed.<|endoftext|>\n",
      "\n",
      "Predicted:\n",
      "Therialords,,, 21, the, guilty to Thursday. death manslaughter. her abusement.\n",
      "The father-year-old daughter was up a $ with\n",
      " in. her shot her wife-year-old daughter.... Thursday..\n",
      "Theman was police she she woman girl was was her had she was her girl.. her of the girl. girl. she\n",
      "The was to was aa'' a' and the scene. was't know her.-year-old daughter. been to girl. her the..<|endoftext|>\n"
     ]
    },
    {
     "name": "stderr",
     "output_type": "stream",
     "text": [
      "6901it [1:38:43,  1.07it/s]"
     ]
    },
    {
     "name": "stdout",
     "output_type": "stream",
     "text": [
      "loss=5.37322998046875\n",
      "\n",
      "Article:\n",
      "By. Snejana Farberov. A Canadian man was sentenced to 60 days in jail this week for slapping his 13-year-old daughter so hard that she later died. Moussa Sidime, 74, from Quebec, had pleaded guilty to a manslaughter charge stemming from a 2010 confrontation with his teenage daughter, which ultimately resulted in her death. According to court documents, the man got into a heated argument over chores with 13-year-old Noutene Sidime and slapped her on both sides of her face. Moussa Sidime (left) was sentenced to 60 days in his daughter's 2010 death; Noutene Sidime (right), 13, died from brain hemorrhaging after being slapped twice in the face with great force. The girl collapsed to the floor unconscious with blood trickling from her nose. Mr Sidime called 911 and Noutene was rushed to a hospital, CTV News reported. The 13-year-old girl spent three days in a coma at the Montreal Children's Hospital before succumbing to her injures. A medical examiner determined that the teenager died from \n",
      "\n",
      "Target:\n",
      "Moussa Sidime, 74, will serve his 60-day sentence on weekends over 30 weeks followed by two years' probation.\n",
      "Noutene Sidime, 13, was pronounced dead from brain hemorrhage three days after her father struck her in the face during argument over chores.\n",
      "Autopsy found Mr Sidime's blows caused his daughter's neck to turn in a way that an artery was ruptured.\n",
      "Father said in court that October 6, 2010, was the first time he struck his daughter, and he had no idea a slap could be fatal.<|endoftext|>\n",
      "\n",
      "Predicted:\n",
      "Kannyie,son, 29, was be a wife-year- for Thursday. the years.. a-.\n",
      ".\n",
      "Theixonhend,son, who, was found dead at the injury,. times ago she death's her. a head. a. the of\n",
      "Theopsy was her Wson, mother and by mother and home and her up a car to he accident. found..\n",
      "The- he the heard he the,000, was found first time to was her mother and but her was been idea to child. be heard.\n",
      "\n"
     ]
    },
    {
     "name": "stderr",
     "output_type": "stream",
     "text": [
      "7001it [1:40:10,  1.08it/s]"
     ]
    },
    {
     "name": "stdout",
     "output_type": "stream",
     "text": [
      "loss=5.309045791625977\n",
      "\n",
      "Article:\n",
      "Friends of the Georgia man accused of killing his infant son earlier this month by leaving the boy in his hot car as he went to work say that before the child's death, Justin Ross Harris lived a happy life with his wife and his young son. Friends describe Harris - whose friends refer to as Ross - and his wife, Leanna, as being the'most proud parents there ever could have been' when their son Cooper was born about two years ago. Other friends echo the praise for the young couple, who use words like 'nice' and 'friendly' to describe the man of intentionally killing his own son by leaving him in a scorching vehicle on a hot summer day. Suspicions are growing about what role Leanna Harris, the wife of Justin Ross Harris, may have played in the death of their 22-month-old son Cooper in the wake of her husband's preliminary hearing on Thursday. 'Very nice, normal, mannered person. We'd. see each other passing, say hi,' Cathy Ferguson, a neighbor in couple's. Marietta, Georgia neighborhood, t\n",
      "\n",
      "Target:\n",
      "Her husband Justin is accused of leaving his 22-month-old son Cooper in SUV for seven hours.\n",
      "His wife insists their son's death was a terrible accident and she isn't angry with her husband.\n",
      "Justin Harris has already admitted researching child deaths to officers.\n",
      "Friends describe both Harris and his wife as being the'most proud parents there ever could have been'\n",
      "Harris' wife also revealed that she, too, had researched children dying in hot cars.<|endoftext|>\n",
      "\n",
      "Predicted:\n",
      "The father, Bieber accused of murdering her wife-year-old daughter.. the. her years.\n",
      "The mother, he son was mother was''-. was was't been. her..\n",
      "The, was been been to a abuse of be.\n",
      "The of the men and her wife,'' victims''''' be been a\n",
      "The was mother was had that he was who, and been her to. the..\n",
      "\n"
     ]
    },
    {
     "name": "stderr",
     "output_type": "stream",
     "text": [
      "7101it [1:41:31,  1.22it/s]"
     ]
    },
    {
     "name": "stdout",
     "output_type": "stream",
     "text": [
      "loss=4.860249042510986\n",
      "\n",
      "Article:\n",
      "The former Marine who shot dead famed Navy SEAL sniper Chris Kyle is still receiving $2,800 a month in Veterans Affairs benefits, it emerged in court on Tuesday. Eddie Ray Routh, 27, is on trial for gunning down Kyle and his friend, Chad Littlefield, at a Texas shooting range two years ago. He has pleaded not guilty by reason of insanity. Routh received $30,000 in back-pay benefits after he was arrested and will continue to get his monthly payout unless he is convicted of murder - and then he'll receive 10 per cent, around $280 a month, the New York Post reported. On Tuesday, prosecutors quizzed his mother, Jodi Routh, on the money, which he began receiving after the VA determined he was disabled following the shootings. Payouts: The government continues to pay accused murderer Eddie Ray Routh, pictured in court on Tuesday, $2,800 a month in Veterans Affairs disability payments, it emerged in court. Mrs Routh said it is being held in a bank account that she manages with her husband. Pr\n",
      "\n",
      "Target:\n",
      "Routh is on trial for gunning down Chris Kyle and his friend Chad Littlefield in 2013 as he struggled with post-traumatic stress disorder.\n",
      "In court on Tuesday, it emerged that he still receives $2,800 a month in disability and will continue to do so unless he is convicted of murder.\n",
      "If he is convicted of murder, he will still receive $280 a month.\n",
      "The prosecution quizzed their final witness on Tuesday and now Routh's lawyers are mounting their defense.<|endoftext|>\n",
      "\n",
      "Predicted:\n",
      "Theaf, accused trial for the on his to Christie and his wife.... the. he was to his-traumatic stress disorder.\n",
      "The the, the, he was that he was had a1,000, year. prison. a be to prison. he he was not of murder.\n",
      "The he was not of murdering, including said be be a1, month.\n",
      "The court wased the son to and the. the facesodd, wife say not. own.<|endoftext|>\n"
     ]
    },
    {
     "name": "stderr",
     "output_type": "stream",
     "text": [
      "7201it [1:42:54,  1.28it/s]"
     ]
    },
    {
     "name": "stdout",
     "output_type": "stream",
     "text": [
      "loss=5.01438570022583\n",
      "\n",
      "Article:\n",
      "Oslo, Norway (CNN) -- Norway mass killer Anders Breivik should be considered sane and acquitted for the attacks that left 77 people dead, his lawyer said in closing arguments Friday. Breivik has admitted carrying out the July 22 attack on a Labour Party youth camp on Utoya Island that killed 69 people and a bombing targeting government workers in Oslo that killed eight. But Breivik, who boasts of being an ultranationalist who killed his victims to fight multiculturalism in Norway, says he acted out of \"necessity.\" Defense lawyer Geir Lippestad argued that Breivik should be fully acquitted on the charges of voluntary homicide and committing acts of terror in Norway -- and that this should be on the grounds of necessity, not insanity. If Breivik is not acquitted, he should be given the lightest possible sentence, Lippestad said as he wrapped up his closing arguments. He asked the judges to discount the claim by prosecutors that Breivik is mentally ill and should be transferred to a psych\n",
      "\n",
      "Target:\n",
      "The trial ends, and judges say the verdict will be delivered on August 24.\n",
      "A survivor says he is relieved Breivik's trial has been \"dignified, thorough, proper\"\n",
      "As Anders Breivik addresses the court, relatives of some of the 77 victims walk out in protest.\n",
      "Prosecutors say they believe he is mentally ill and should be transferred to a mental institution.<|endoftext|>\n",
      "\n",
      "Predicted:\n",
      "NEW former of in a the of they case is be sentenced. the..\n",
      "The judge says he is a of ofik's death for been aaiving\"\"\"\" and\"\n",
      "He a of,ik,, case is he, the of the case.... the.\n",
      "The say the are the is not ill to not not able to the federal health.<|endoftext|>\n"
     ]
    },
    {
     "name": "stderr",
     "output_type": "stream",
     "text": [
      "7301it [1:44:20,  1.22it/s]"
     ]
    },
    {
     "name": "stdout",
     "output_type": "stream",
     "text": [
      "loss=5.293057918548584\n",
      "\n",
      "Article:\n",
      "The National Trust aids the acquisition and. protection of threatened coastline, countryside and buildings. By. Deni Kirkova. PUBLISHED:. 07:21 EST, 23 June 2013. |. UPDATED:. 08:03 EST, 23 June 2013. With rain-soaked summers like these, us Brits are lucky to have such glamorous heritage to brighten even the dullest days. Dolled-up 1940s style singers and energetic burlesque dancers kept the crowd's spirits up as they huddled beneath their umbrellas in the garden at Killerton House, near Exeter. Events company Crikey its Vintage and National Trust's Killerton House teamed up for the first time ever to put on the two day vintage experience. The House's parkland, garden and house were the backdrop to the blast from the past this 22 and 23 June. 1940s style singer Lola Lamour sings in a marque erected in the gardens at Killerton House yesterday. The two day event gave men, women and. children the chance to step back in time and fall in love with vintage. One. of the largest vintage events\n",
      "\n",
      "Target:\n",
      "Crikey It's Vintage events company host weekend at National rust property Killerton House this weekend.\n",
      "Sixty stalls of retro fashion, homeware, antiques and paraphernalia erected beneath marquees.\n",
      "Nostalgic festival features fashion shows, classic car displays, food, drink, live music and burlesque.\n",
      "The National Trust aids the acquisition and.\n",
      "protection of threatened coastline, countryside and buildings.<|endoftext|>\n",
      "\n",
      "Predicted:\n",
      "Theoupleker and's first in in in the. the Park..... weekend.\n",
      "Theaysie have the and,000 and and and, and thehern......\n",
      "Theasaee and and has a and and and and and and and and and and and and and the...\n",
      "The couple Geographic has to Queen of the\n",
      "the in the of to including and the.\n",
      "\n"
     ]
    },
    {
     "name": "stderr",
     "output_type": "stream",
     "text": [
      "7401it [1:45:46,  1.20it/s]"
     ]
    },
    {
     "name": "stdout",
     "output_type": "stream",
     "text": [
      "loss=5.280332088470459\n",
      "\n",
      "Article:\n",
      "Getting to work before it is light and leaving after it is dark during winter months can lead to serious mental health problems, a charity has warned. Going without daily sunlight can lead to feelings of lethargy and depression which may develop into seasonal affective disorder (SAD), Mental Health Research UK (MHRUK) said. The warning comes as a poll found that three in 10 adults rise before sunrise during the winter months and return home from work after sunset. Mental Health Research UK has warned that people who go to work in the dark and get home after the sun has set risk serious mental health problems. The charity’s survey of 2,000 British adults also found that half were concerned that their workplace had little natural light. And almost one in 10 said they had no access to natural light at all while at work. Dr Laura Davidson, mental health barrister and trustee of MHRUK, said: ‘It is estimated that one million working hours are lost each year due to SAD. ‘The common unhealthy\n",
      "\n",
      "Target:\n",
      "Mental Health Research UK says people who go without daily sunlight risk developing lethargy, depression and seasonal affective disorder (SAD)\n",
      "Three in 10 adults say they got to work before sunrise and get home after sunset during the winter - and half think their office lacks natural light.\n",
      "One in 10 people say they have no access to natural light while at work.\n",
      "It's estimated a million working hours are lost to SAD each year in the UK.<|endoftext|>\n",
      "\n",
      "Predicted:\n",
      "Thearksers Organisation, has the are have to a,...... which. a....2.)\n",
      "The people the- have they are a be with the. is a. the. the time. which the a they lives.. causes.\n",
      "The of the, have they are been idea to the the and they the.\n",
      "The is the to year people in of a in theains and other. the UK.<|endoftext|>\n"
     ]
    },
    {
     "name": "stderr",
     "output_type": "stream",
     "text": [
      "7501it [1:47:14,  1.20it/s]"
     ]
    },
    {
     "name": "stdout",
     "output_type": "stream",
     "text": [
      "loss=5.338537216186523\n",
      "\n",
      "Article:\n",
      "It takes dedication to follow in the footsteps of your hero - particularly if that hero happens to be global explorer and adventurer Sir Francis Drake. But after 30 years travelling thousands of miles and at an estimated cost of £100,000, Michael Turner says he has re-traced almost every journey taken by the famous Elizabethan. The 57-year-old teacher has visited 42 countries over three decades since becoming obsessed with Drake as a schoolboy. Adventure: Michael Turner has spent his adult life re-tracing the journey's of Sir Francis Drake all over the globe. He claims to have ticked off 98 per. cent of the destinations reached by Drake in the 16th century and has. just two trips left to complete his mission - the Western Sahara and. Cape Horn off South America. Since the start of his adventures, Mr. Turner has been jailed in Guatemala, almost lost his ear to a knife. attack in Colombia, hacked through jungles and dived 170 feet off the. coast of Panama in a bid to see Drake's final re\n",
      "\n",
      "Target:\n",
      "Michael Turner visited 42 countries and travelled thousands of miles.\n",
      "The 57-year-old supply teacher has been on 98% of Drakes adventures.\n",
      "Has just two trips left - to the Western Sahara and Cape Horn, Chile.\n",
      "Mr Turner wanted to copy his hero by following in his footsteps.\n",
      "He became obsessed with Drake when he was a child, learning a new story each year as he grew up.<|endoftext|>\n",
      "\n",
      "Predicted:\n",
      "The Clarke, the- to a to of the from\n",
      "The two-year-old is of is been named the with of the...\n",
      "The been one days to in and be UK of of the Towni which.\n",
      "The Abbott has to be the own to the a the home.<|endoftext|>The was a with the and he was in'in and to year.... a was up.<|endoftext|>\n"
     ]
    },
    {
     "name": "stderr",
     "output_type": "stream",
     "text": [
      "7601it [1:48:40,  1.19it/s]"
     ]
    },
    {
     "name": "stdout",
     "output_type": "stream",
     "text": [
      "loss=5.1381683349609375\n",
      "\n",
      "Article:\n",
      "By. Emma Innes. PUBLISHED:. 07:15 EST, 27 August 2013. |. UPDATED:. 07:16 EST, 27 August 2013. A grandmother has told how she had to beg doctors to remove a surgical clip which had migrated across her body from her groin to her chest. Cheryl Osborne, 51, had the metal device fitted to her fallopian tubes when she was sterilised 12 years ago. However, three years ago she started suffering back, stomach and chest pain and an X-ray revealed a foreign body on the right side of her chest. Cheryl Osborne had clips fitted to her fallopian tubes when she was sterilised in 2001. In 2010 she started to suffer pain in her back, stomach and chest which she thinks was caused by one of the clips moving around. But Mrs Osborne claims she was left in agony for a further four months until she finally convinced doctors to carry out keyhole surgery to remove the clip. She believes it could have been travelling around her body since she first noticed the pain as she remembers a medic spotting it on a scan\n",
      "\n",
      "Target:\n",
      "Cheryl Osborne was sterilised at Conquest Hospital, East Sussex, in 2001.\n",
      "In 2010 she started experiencing pain in her back, stomach and chest.\n",
      "X-rays showed one of the surgical clips had moved from her fallopian tube.\n",
      "It had travelled around her body and become lodged near her liver.\n",
      "She says she had to beg surgeons to remove the clip which they thought was 'harmless'<|endoftext|>\n",
      "\n",
      "Predicted:\n",
      "Doupleyl,, born the by the's in where Sussex. and London.\n",
      "Shequest, was a her and the mouth home but and her.\n",
      "Sheieyear of her of the most and and been to her....\n",
      "She is been to £ to and has a of her..\n",
      "She was she is a be her and her her disease. she were she aa a'<|endoftext|>\n"
     ]
    },
    {
     "name": "stderr",
     "output_type": "stream",
     "text": [
      "7701it [1:50:08,  1.00it/s]"
     ]
    },
    {
     "name": "stdout",
     "output_type": "stream",
     "text": [
      "loss=5.252163410186768\n",
      "\n",
      "Article:\n",
      "By. Richard Hartley-parkinson. PUBLISHED:. 03:09 EST, 13 June 2012. |. UPDATED:. 04:44 EST, 13 June 2012. A retired police officer who. investigated the scene of a baby snatched by a dingo has said he still. has doubts about the case, despite the child's mother being acquitted of. murder and a coroner's ruling in her favour. Frank Morris went. to Uluru the night nine-week-old Azaria Chamberlain disappeared but he. says there must have been some human intervention. Speaking. about the result of the fourth inquest he said: 'If you go to. court enough times, you are bound to get a win sooner or later.' Scroll down for video. Lindy Chamberlain-Creighton said there was nothing she or her then husband, Michael could have done to change people's minds. Azaria went missing from an Outback. campsite near Ayers Rock 32 years ago and the case divided Australia. with half the country believing Lindy Chamberlain-Creighton's account that a dingo or wild dog. took the baby from their tent and the oth\n",
      "\n",
      "Target:\n",
      "Officer who went to the scene and examined family's tent said: 'If you go to court enough times, you are bound to get a win sooner or later.'\n",
      "Mother served three years of life sentence for murder after baby disappeared.\n",
      "Family had been camping at Ayers Rock in 1980 when tragedy struck.\n",
      "Parents have always maintained that a wild dog snatched their child.\n",
      "Body was never found despite extensive searches around Uluru.\n",
      "Her clothing was later found beside a dingo's lair at the base of the rock.\n",
      "Coroner fought back tears while delivering verdict at fourth inquest.<|endoftext|>\n",
      "\n",
      "Predicted:\n",
      "Theer was was to the hospital of was her members death in she 'I you know to the''' I're not' be the child'' a'\n",
      "' of as days ago the in and the and the's.\n",
      "The said been in by the's in in thes she. her<|endoftext|>The say been been the the woman was was was lives.<|endoftext|>The of found seen in the in in the people.<|endoftext|>The father was found found in a 'oused in death and the time. the school.<|endoftext|>Theoner said for to after she was was the time.<|endoftext|>\n"
     ]
    },
    {
     "name": "stderr",
     "output_type": "stream",
     "text": [
      "7801it [1:51:34,  1.03it/s]"
     ]
    },
    {
     "name": "stdout",
     "output_type": "stream",
     "text": [
      "loss=5.438740253448486\n",
      "\n",
      "Article:\n",
      "By. Nick Enoch. Pit boss Malcolm Fyfield (pictured outside court today) was one of seven people working inside the Gleision mine, near Pontardawe, South Wales, when a shaft flooded in 2011. He has pleaded not guilty to four counts of manslaughter. Miners working at a coal mine where four men died following flooding heard an explosion 'like a jet engine' moments before the sudden whooshing sound of water, a jury has heard. Pit boss Malcolm Fyfield was one of seven people working inside the Gleision drift mine, near Pontardawe, South Wales, when a shaft flooded in 2011. He survived after crawling out through sludge and dirt. As he was being treated by paramedics, Swansea Crown Court heard he told paramedics: 'They’ve gone. There is no hope for the others.' Following hours of searches, the. bodies of Charles Breslin, 62, Philip Hill, 44, Garry Jenkins, 39, and. David Powell, 50, were discovered. Father-of-two Fyfield has pleaded not guilty to four counts of manslaughter. MNS. Mining Ltd, \n",
      "\n",
      "Target:\n",
      "Pit boss Malcolm Fyfield was one of.\n",
      "seven working in Gleision drift mine, near Pontardawe,.\n",
      "South Wales, when shaft flooded in 2011.\n",
      "Charles Breslin, 62, Philip Hill, 44, Garry Jenkins, 39, and.\n",
      "David Powell, 50, all died in the tragedy.\n",
      "Father-of-two Fyfield has pleaded not guilty to four counts of manslaughter.\n",
      "MNS Mining Ltd, which ran mine, denies four charges of corporate manslaughter by failing to.\n",
      "ensure safe system of work was in place.\n",
      "Jury was told defendant found Mr Powell and tried to give.\n",
      "him mouth-to-mouth in flooded stall where there was only.\n",
      "10cm of headroom.<|endoftext|>\n",
      "\n",
      "Predicted:\n",
      "Theair was was,1 was, found of the\n",
      "the- in the and,,. a Wales.,.. Essex\n",
      "Heampton, a he was, the,\n",
      "Heedony was, 31, was and and was, and and and and, and his\n",
      "Police Cameron, who, and the in the head.\n",
      "He ofof-two was1 was, been not guilty to the years of indecent.<|endoftext|>Heour, was in who is out, was the- of indecent.. a to kill\n",
      "He of,,, the in found the.<|endoftext|>Policeailed was arrested to to guilty Cle was his to take him\n",
      "He to toto-two was the. of he was no.\n",
      "Police- he the injuries,\n",
      "\n"
     ]
    },
    {
     "name": "stderr",
     "output_type": "stream",
     "text": [
      "7901it [1:53:02,  1.17it/s]"
     ]
    },
    {
     "name": "stdout",
     "output_type": "stream",
     "text": [
      "loss=5.215927600860596\n",
      "\n",
      "Article:\n",
      "By. Sara Smyth. PUBLISHED:. 03:41 EST, 28 April 2013. |. UPDATED:. 15:10 EST, 28 April 2013. A fire has broken out among the wreckage of a collapsed garment factory in Bangladesh, bringing the search for survivors to a partial halt. The blaze comes after rescuers found nine people alive inside the rubble of the multi-storey building, which collapsed five days ago killing hundreds of people. Owner Mohammed Sohel Rana was also found and arrested today on the border with West Bengal. Scroll down for video. Blaze: A soldier is evacuated from the fire which broke out this evening at the collapsed garment factory. Hampered: Rescue workers react to the fire among the rubble, where the search for survivors was disrupted. Partial halt: A rescue worker is given oxygen as he is evacuated from the fire at the collapsed building. Tragedy: Rescuers carrying out a dead body from the rubble this evening, almost 92 hours after the collapse. Ongoing: Efforts to pull survivors from the building continue \n",
      "\n",
      "Target:\n",
      "Rescuers forced to retreat from flames sparked as they tried to cut through a steel rod.\n",
      "Property tycoon who owns building found and arrested on border with West Bengal state.\n",
      "Nine survivors pulled from rubble five days after building collapsed.\n",
      "Woman miraculously gave birth while trapped under crumbled steel and concrete.\n",
      "Building owner today found and arrested on border with West Bengal state.\n",
      "Heavy equipment to drill into wreckage used as time to find remaining alive runs out.\n",
      "Six under arrest, including building owners, architects and wife of owner who is on the run.<|endoftext|>\n",
      "\n",
      "Predicted:\n",
      "Theiskuers were to flee in the to by part were to stop off the flight..\n",
      "The,coon, was the, in killed on the. a Midlands..\n",
      "The- were out the to days before the in in\n",
      "The,ulously have the to the in fireick.. a.\n",
      "The of of, in killed on the. a Midlands..<|endoftext|>Police-, the, the of to'as be out....<|endoftext|>The- fire, including the,, and, two, the. were in the ground.<|endoftext|>\n"
     ]
    },
    {
     "name": "stderr",
     "output_type": "stream",
     "text": [
      "8001it [1:54:28,  1.34it/s]"
     ]
    },
    {
     "name": "stdout",
     "output_type": "stream",
     "text": [
      "loss=4.941686153411865\n",
      "\n",
      "Article:\n",
      "By. Daily Mail Repoter. A bus driver in Canada had a'soul-touching' moment on Saturday when he watched as one selfless passenger gave his shoes and socks to a perfect stranger whose only footwear was a couple of plastic hairnets. Bus driver Surjit Singh Virk - a 16-year veteran driver for the Coast Mountain Bus Co. in Vancouver - was off duty and returning from the Surrey B.C.’s Vaisakhi parade when he witnessed the random act of kindness. Singh Virk managed to snap a few photos of the exchange and shared them on social media. The man on the right noticed that the man on the left had no shoes when he saw him on a bus in Canada. So he gave him the shoes he was wearing and walked home barefoot. 'It made my heart melt,' he told QMI Agency, a Canadian media company. 'He just took his shoes and. socks off and said, \"You can take these, don't worry about me — I live. close by and can walk.\" 'People usually don't care or even look. at other people on the bus, they didn't even want to sit besi\n",
      "\n",
      "Target:\n",
      "The generous man did not want to be identified because his Muslim faith teaches that acts of charity are to be done anonymously.\n",
      "The recipient of the shoes was in'shock' and asked the bus driver, 'did that just happen?'\n",
      "The unidentified Good Samaritan later explained, 'I was only about a two-minute walk.\n",
      "from home, so I thought I could give him my shoes'<|endoftext|>\n",
      "\n",
      "Predicted:\n",
      "The man- was not know to be the as he father was was. he. his. being blame the..\n",
      "He pair was the car, a thethe' and'to'to to butThe not he a to\n",
      "The couple--itans, was in heI'm a a the man-year''\n",
      "He the' he he have he was have him a life and<|endoftext|>\n"
     ]
    },
    {
     "name": "stderr",
     "output_type": "stream",
     "text": [
      "8101it [1:55:53,  1.18it/s]"
     ]
    },
    {
     "name": "stdout",
     "output_type": "stream",
     "text": [
      "loss=5.1768341064453125\n",
      "\n",
      "Article:\n",
      "By. Snejana Farberov. PUBLISHED:. 10:41 EST, 17 October 2013. |. UPDATED:. 14:57 EST, 17 October 2013. A New York City preservationist is convinced that he has found the exact location of a legendary 18th century watering hole where General George Washington is believed to have stopped for a drink to celebrate his army's victory over the British. Adam Woodward told the radio station WCBS that the future first president of the United State and New York Governor George Clinton ducked into the Bull's Head Tavern at 50 Bowery after enemy troops had retreated from the city in 1783. The historic building located at the entrance to the Manhattan Bridge has housed many businesses over the centuries, including most recently a Duane Reade pharmacy and a popular Chinese restaurant. But now the structure is slated for demolition to make room for a new hotel - a move that Adam Woodward is hoping to halt. Doomed landmark: Preservationist Adam Woodward claims he has found evidence that 50 Bowery, whi\n",
      "\n",
      "Target:\n",
      "Adam Woodward says he discovered hand-hewn joints and Colonial-area brick in basement of 50 Bowery, suggesting it may have been site of Bull's Head Tavern.\n",
      "On November 25, 1783, General Washington and Governor George Clinton stopped by the pub before entering the city on the heels of routed British forces.\n",
      "Bull's Head Tavern opened around 1755 as a watering hole catering to cattle merchants and farmers.\n",
      "Site later housed a stove shop and popular German beer hall called Atlantic Garden that closed in 1911.\n",
      "Building is set to be razed in coming months to make way for 20-story, 220-room Hotel Bowery.<|endoftext|>\n",
      "\n",
      "Predicted:\n",
      "The L, he was the overtoing to of the 'life.. the. thesali.. California the was be been a. the. death..\n",
      "The Monday,, was, in the Eric, the, W, the the National of the the world. the island. the. Legion.\n",
      "The,'was has the the, of a result in in. the and's the.\n",
      "The the, the'to, was with to.. for.. he the the.<|endoftext|>The of the to be theammed in the days to be it to the yearsyear.000 andup..ali..<|endoftext|>\n"
     ]
    },
    {
     "name": "stderr",
     "output_type": "stream",
     "text": [
      "8201it [1:57:23,  1.07it/s]"
     ]
    },
    {
     "name": "stdout",
     "output_type": "stream",
     "text": [
      "loss=5.24329948425293\n",
      "\n",
      "Article:\n",
      "By. Snejana Farberov. and Meghan Keneally. PUBLISHED:. 09:37 EST, 24 December 2013. |. UPDATED:. 09:45 EST, 24 December 2013. A college student who was abused by her biological parents has now found a surrogate mother for the holidays after posting a Craigslist ad. Jackie Turner, 26, posted an ad on the online marketplace 'looking to rent a mom and dad who can give me attention and make me feel like the light of their life just for a couple of days because I really need it'. The response she received was overwhelming and she was flooded with letters from both prospective parents and other children who felt neglected and in need of some caring attention. SCROLL DOWN FOR VIDEO. Happy outcome: Jackie Turner has paired up with Anita Hermsmeier who works in student services at her school, William Jessup University. Looking for some love: Jackie received letters from dozens of would-be parents and other students who wanted similar experiences with caring adult mentors. Now she was not only a\n",
      "\n",
      "Target:\n",
      "Jackie Turner wrote in her ad she would be willing to pay $8 per hour for a family to sit with her and listen.\n",
      "She has received replies from dozens of families eager to take her in.\n",
      "Turner is a straight-A student with a 4.0 GPA at William Jessup University.\n",
      "Comes from a broken home where she was sexually molested and beaten as a child.\n",
      "Turner held a mixer for all the people who responded to her ad and was able to pair up six other matches as well as finding her own mentor.\n",
      "Comes as orphan Davion Only in Florida has been matched up with prospective parents for the holidays and was spotted at a football game.<|endoftext|>\n",
      "\n",
      "Predicted:\n",
      "Theie,,, the home- was be a to her for1... her year. be. her. she to\n",
      "She has been a of the of her and to the her. the\n",
      "She,, a '-year- and the student-5.. the....\n",
      "Sheouple after the new home in she was diagnosed assaultedested her her. a result.\n",
      "Sheed, a week to her the latest who had to the.. her a to have her. months children. she as a.. life.<|endoftext|>Sheouple after a of and,, the, been in by. the.. the first. is a. the time..<|endoftext|>\n"
     ]
    },
    {
     "name": "stderr",
     "output_type": "stream",
     "text": [
      "8301it [1:58:51,  1.23it/s]"
     ]
    },
    {
     "name": "stdout",
     "output_type": "stream",
     "text": [
      "loss=5.372225284576416\n",
      "\n",
      "Article:\n",
      "By. Lyle Brennan. PUBLISHED:. 06:44 EST, 12 May 2012. |. UPDATED:. 20:55 EST, 12 May 2012. Victory: Diane Holliday, who has won a six-year court battle for a share of Ramadan Guney's estate. The former lover of a millionaire businessman has inherited Britain's largest cemetery after she spent six years locked in a vicious court battle with his children. Diane Holliday, 50, is now the owner of Brookwood Cemetery near Woking, Surrey, after the High Court ruled she is entitled to a share of Ramadan Guney's fortune, which she claims is worth £28million. She said that, because she was in a relationship with the rich Turkish Cypriot for eight years and had a son with him, she is entitled to'reasonable provision' from his estate. But after he died aged 74 in 2006 his six grown children were adamant that she did not deserve a penny of his wealth. The ensuing court dispute with Miss Holliday - who once claimed to have given birth to the lovechild of Dodi Fayed - grew increasingly bitter. At one\n",
      "\n",
      "Target:\n",
      "Diane Holliday has been awarded ownership of Britain's biggest cemetery after bid for Ramadan Guney's assets.\n",
      "She had eight-year relationship with the wealthy Cypriot businessman and gave birth to a son.\n",
      "Miss Holliday claimed she gave birth to the lovechild of Dodi Fayed - then met Mr Guney at his funeral.<|endoftext|>\n",
      "\n",
      "Predicted:\n",
      "Davidawn,,, been charged a in murder's death death. being. his.Ps.. death.\n",
      "The was been monthsmonth- with a family andpri,elli. a birth to the child.\n",
      "Theiss,, she was birth to the crime of of his..att. and she him Johnsonough.. the home.\n",
      "\n"
     ]
    },
    {
     "name": "stderr",
     "output_type": "stream",
     "text": [
      "8401it [2:00:15,  1.38it/s]"
     ]
    },
    {
     "name": "stdout",
     "output_type": "stream",
     "text": [
      "loss=5.057096481323242\n",
      "\n",
      "Article:\n",
      "Athens, Greece (CNN) -- Greek President Karolos Papoulias is to hold talks in the next day with party leaders in a bid to create a national unity government, his office said Saturday. Evangelos Venizelos, leader of the country's socialist party, PASOK, met with the president Saturday after it became the third party to fail to form a coalition, a week after parliamentary elections gave no one a majority. Speaking after the meeting, Venizelos said PASOK, New Democracy and the Democratic Left have said they would be willing to go into a grand coalition on the condition of remaining in the euro, offering a possible way out of the impasse. But this could still be problematic as the Democratic Left has previously said it will only join a coalition if the party which placed second in Sunday's election, the Coalition of the Radical Left, or Syriza, also joined. Papoulias described this as a \"grain of hope.\" He said he hoped he could help form a unity government, adding that \"things in Greece a\n",
      "\n",
      "Target:\n",
      "NEW: Greece's president will meet with party leaders on Sunday.\n",
      "Socialist leader Venizelos says three pro-euro parties may be willing to form a grand coalition.\n",
      "President Karolos Papoulias says this offers a \"grain of hope\" for Greece.\n",
      "The three top-placed parties in Sunday's election have each failed to form a coalition.<|endoftext|>\n",
      "\n",
      "Predicted:\n",
      "The: The of new says be with the's. the.\n",
      "The media says says the says says: the--Russian is are be a to the. new slam.\n",
      "The Barackzai says says says says says the is the newvery- the\"\n",
      " the.\n",
      "He U- oftime group will the's election. been other to the. new.<|endoftext|>\n"
     ]
    },
    {
     "name": "stderr",
     "output_type": "stream",
     "text": [
      "8501it [2:01:42,  1.05s/it]"
     ]
    },
    {
     "name": "stdout",
     "output_type": "stream",
     "text": [
      "loss=5.365283966064453\n",
      "\n",
      "Article:\n",
      "President Barack Obama affirmed on Wednesday his administration's belief that the religion of violent extremists savaging Iraq and Syria is not relevant and should not matter. There is 'no one profile of a violent extremist or terrorist,' Obama said at the White House's summit on counter-terror measures. 'There is no way to predict who will come radicalized.' 'We are not at war with Islam,' Obama asserted. 'We are at war with people who have perverted Islam.' SCROLL DOWN FOR VIDEO. President Barack Obama speaks at the White House Summit on Countering Violent Extremism on Wednesday. Obama used the speech to explain his administration's position that the religion of ISIS terrorists doesn't matter. The White House on Wednesday was blitzed by reporters demanding to know when it believes that religion is meaningful in violent attacks. The Obama administration has been loathe to refer to ISIS as 'Islamic radicals,' arguing that the terrorist group's religion doesn't matter. Furthermore, it h\n",
      "\n",
      "Target:\n",
      "There is 'no one profile of a violent extremist or terrorist,' Obama said. 'There is no way to predict who will come radicalized'\n",
      "Obama made the remarks at the White House's summit on counter-terror.\n",
      "The Obama administration has been loathe to refer to ISIS as 'Islamic radicals,' arguing that the terrorist group's religion doesn't matter.\n",
      "With the confab taking place next door, new life was given to the controversy during a White House briefing with reporters on Wednesday.\n",
      "At one point a reporter told Obama's spokesman: 'It just seems like you're tiptoeing through the tulips here' during a back and forth.<|endoftext|>\n",
      "\n",
      "Predicted:\n",
      "President are noa to of' the woman-' a' he said.\n",
      "I are no longer to do the do be to.'\n",
      "The said the'about the White House and office in the-fire.\n",
      "The government administration has been a for by the in the. aa of' he said. government group said '.'t want.\n",
      "The thethe ,,  in week to he government-'to be U. the decade House.. the. the.\n",
      "The least point, week, the that'said 'I's a to a're going.'' the the country'''\n",
      " the speech of the.\n",
      "\n"
     ]
    },
    {
     "name": "stderr",
     "output_type": "stream",
     "text": [
      "8601it [2:03:09,  1.39it/s]"
     ]
    },
    {
     "name": "stdout",
     "output_type": "stream",
     "text": [
      "loss=5.0580525398254395\n",
      "\n",
      "Article:\n",
      "An HIV scare involving a porn movie actor has spurred another call to halt production in California's adult film industry. The Free Speech Coalition, a California-based trade group representing the industry is calling for a three-day production moratorium following a possible HIV exposure on an out-of-state film set. The Los Angeles Times reports the group called for the halt on Wednesday but didn't name the state where the film set was located. The Free Speech Coalition, a California-based trade group representing the industry is calling for a three-day production moratorium following a possible HIV exposure on an out-of-state film set. The coalition last called for an industry moratorium in August after a report that a performer tested positive for HIV. However, it lifted the two-day ban after determining the test result was a false positive. The group's CEO, Diane Duke, says she's working with public health officials, the production company and the performer to investigate the incid\n",
      "\n",
      "Target:\n",
      "Calls for 3-day production moratorium following a possible HIV exposure.\n",
      "Follows similar call in August after reports that a performer tested positive.\n",
      "That ban was lifted after the test result proved a false positive.\n",
      "California  law requiring actors to wear condoms was passed in 2012.\n",
      "Production has now shifted to Nevada, Florida, and Eastern Europe.<|endoftext|>\n",
      "\n",
      "Predicted:\n",
      "Theomes for the-year- of in the new-..\n",
      "Thes to to for the, the of the'was positive.\n",
      "The's on a by the first was of. '..<|endoftext|>The's  enforcement to to the a to a away the.<|endoftext|>The to been been the be the the and and the-.<|endoftext|>\n"
     ]
    },
    {
     "name": "stderr",
     "output_type": "stream",
     "text": [
      "8701it [2:04:36,  1.26it/s]"
     ]
    },
    {
     "name": "stdout",
     "output_type": "stream",
     "text": [
      "loss=5.420233726501465\n",
      "\n",
      "Article:\n",
      "A Marine from New York narrowly escaped with his life after bitten by a rattlesnake while on a hike with two friends in Oklahoma. Anthony Kemp, 23, ended up losing half of his leg as a result of the incident that happened during the first week of February. 2nd Lt. Kemp was bitten on his left calf during his hike in the Wichita Mountains Wildlife Refuge near Fort Sill. Scroll down for video... Close call: A large rattlesnake bit 2nd Lt. Anthony Kemp, 23, almost killing him. His leg was later amputated. Manic: Once back down the hill, they were met with a wildlife officer and AMT who quickly transported Kemp to an open field to be flown to OU Medical. His leg was later amputated. No laughing matter: After being bitten Kemp said he became nauseated, his leg swelled and his heart began to pound. He thought he might not survive. The three men had just completed a tough week of testing and wanted to get out and enjoy the terrain in the Wichita Mountains Wildlife Refuge, a 59,000-acre expanse\n",
      "\n",
      "Target:\n",
      "Second Lt. Anthony Kemp was bitten by a rattlesnake while he and two other Marines were hiking in the Wichita Mountains.\n",
      "Kemp heard a hiss, not a rattle, then felt excruciating pain.\n",
      "As the rattlesnake's fangs sank into his calf, Kemp fell and then began having a seizure.\n",
      "His fellow Marines rushed to his aid, one helping him to stand while the other dialed 911.\n",
      "Doctors say he is extremely lucky to be alive.<|endoftext|>\n",
      "\n",
      "Predicted:\n",
      "The- ofcom was, a by a man- inour in he was his friends men. injured. the car..\n",
      "Theiller was the man car and but a manuse, and he his his and\n",
      "He a man, were, was fathereline was in the car, but, into a he to a car.\n",
      "The father was, to the car and he of him and the and he man man...\n",
      "The say he was'the to be the and<|endoftext|>\n"
     ]
    },
    {
     "name": "stderr",
     "output_type": "stream",
     "text": [
      "8801it [2:06:01,  1.12it/s]"
     ]
    },
    {
     "name": "stdout",
     "output_type": "stream",
     "text": [
      "loss=5.197129249572754\n",
      "\n",
      "Article:\n",
      "By. Peter Lewis. IN MONTMARTE by Sue Roe (Fig Tree £20) Montmartre. Two syllables which still pack a little shimmer of magic. It was a hill apart – la Butte – where life felt different from in the rest of Paris. Here most of the famous names of modern art from Picasso downwards had at some time lived and gone hungry. Sue Roe knows every inch of Montmartre then and now. Starting in 1900 she follows its inhabitants’ adventures and hardships, triumphs and disasters, from street to street and bar to bar till she reaches 1910. A little shimmer of magic: Most of the famous names of modern art have at some time lived in Montmarte. Her narrative is like watching a newsreel of clips of old footage, some of which you’ll have seen before but never assembled in one continuous loop to scroll down. Many books of art history get boring because they proceed endlessly from picture to picture or get tangled in knots of theory. This book skates lightly over such matters as Cubism, saying what usefully ca\n",
      "\n",
      "Target:\n",
      "Most of the famous names of modern art from Picasso downwards have at some time live in montmarte.\n",
      "Starting in 1900, Sue Roe follows its inhabitants’ adventures and hardships, triumphs and disasters, from street to street and bar to bar.\n",
      "Pablo Picasso was 19 when he paid his first visit from Barcelona.\n",
      "There, in his squalid bachelor pad, he painted one muse for seven years - even after she found a white mouse in his drawer.<|endoftext|>\n",
      "\n",
      "Predicted:\n",
      "The of the most,of of   are theasso, to a the ofof . the...\n",
      "The of the, the,,, own in�s and is of but and and even. and the, the. the. the.\n",
      "Theair isasso, ath he was a own- to the.\n",
      "The are the the firstalid,,, has was the of of the years. and though the was a '.. the own.\n",
      "\n"
     ]
    },
    {
     "name": "stderr",
     "output_type": "stream",
     "text": [
      "8901it [2:07:26,  1.12it/s]"
     ]
    },
    {
     "name": "stdout",
     "output_type": "stream",
     "text": [
      "loss=5.135342121124268\n",
      "\n",
      "Article:\n",
      "A housewife died cradling her one-month-old baby and three-year-old toddler in her arms after a private jet crashed into three houses in Maryland's Montgomery County on Monday morning. Montgomery County Fire and Rescue spokesman Pete Piringer says the Embraer EMB-500/Phenom 100 twin-engine jet came down around 10.45 am and exploded in a fireball when it hit the quiet cul-de-sac. Three people were aboard the jet when it crashed Monday into the home in Gaithersburg, a Washington, D.C., suburb. The two-story, wood-frame home was gutted by the impact of the crash and ensuing blaze. Scroll Down for Video. Tragic: Ken and Marie Gemmell with their son, Cole and daughter Arabelle before the birth of their baby Devin in October. Traumatic: Baby Devin, (left) is pictured alongside his older brother, Cole (right with his father, Ken) Struck: The Gemmells with Arabelle and Cole before they welcomed their baby son Devin into the world in October. The crash centered around 19733 Drop Forge Lane and \n",
      "\n",
      "Target:\n",
      "Mother and her two children among six dead after a private jet crashes on their Maryland home on Monday morning.\n",
      "Three others died when the Embraer EMB-500/Phenom 100 twin-engine jet came down in the Washington D.C. suburb.\n",
      "Huge fire engulfed the cul-de-sac setting three properties on fire before blaze brought under control.\n",
      "Mother is survived by her daughter and husband who were at work and school respectively.\n",
      "Neighbors and property records identify the home's residents as Ken and Marie Gemmell.\n",
      "According to the NTSB, there have been 14 plane crashes at Gaitheresburg in 19 years.\n",
      "Reports of flocks of birds around the approach to the airport on Monday.<|endoftext|>\n",
      "\n",
      "Predicted:\n",
      "The- two husband daughters were the people at the crash jet in in the way.. Friday..\n",
      "The people were after they plane were was was.,year-11ilot,,, theyear- was from. the crash.orsetC.\n",
      ".\n",
      "Theus- was the car toup-old and a- in the. the. to the.\n",
      "The- now by the mother and the, was in the. then..\n",
      "Theb say the were were the scene in death. they. the.maoor.\n",
      "The to the scene,, the was been a- and. the20.,, the..<|endoftext|>The of theiers have the have the world. be scene. the.<|endoftext|>\n"
     ]
    },
    {
     "name": "stderr",
     "output_type": "stream",
     "text": [
      "9001it [2:08:53,  1.28it/s]"
     ]
    },
    {
     "name": "stdout",
     "output_type": "stream",
     "text": [
      "loss=5.511464595794678\n",
      "\n",
      "Article:\n",
      "By. Rebecca English. PUBLISHED:. 13:09 EST, 30 April 2012. |. UPDATED:. 07:07 EST, 1 May 2012. He is already recognised as one of the greatest artists of the Renaissance period. Now a stunning new exhibition at Buckingham Palace demonstrates how Leonardo da Vinci was also one of the most ground-breaking anatomists of all time. Indeed his findings dating from the late 1490s and early 1500s were so revolutionary that some could not be conclusively proved until the development of MRI (Magnetic Resonance Imaging) scanners in the 1980s, which use radio waves to take detailed pictures of the body. Among the 24 sketches never before seen included a detailed study of the right ventricle and valves of the heart. A closer examination of the right ventricle and tricuspid valve, left, and far right, Da Vinci pens his analysis of the movement inside the heart. Da Vanci explores the vessels of the neck and shoulder, left, and right, the bones and muscles of the shoulder. Da Vinci's fascination with \n",
      "\n",
      "Target:\n",
      "Da Vinci's fascination with the human body led him to embark on a 'campaign of dissection' in hospitals.\n",
      "Some of his findings were so revolutionary some could not be proved until the development of MRI scanners.\n",
      "The artist came tantalisingly close to discovering the science of blood circulation - a century before it was achieved.\n",
      "If his findings had been published, his discoveries would have transformed European knowledge on the subject.<|endoftext|>\n",
      "\n",
      "Predicted:\n",
      "Theisy--'is a '- of to to the in the'massive' the''\n",
      " the.\n",
      "The of the family were'far, of be be seen. the show. the..\n",
      "The company was from to a and to the the '. the vessels. and '. the was a.<|endoftext|>The it family, a a by but mother said be a the. of the internet of<|endoftext|>\n"
     ]
    },
    {
     "name": "stderr",
     "output_type": "stream",
     "text": [
      "9101it [2:10:21,  1.33it/s]"
     ]
    },
    {
     "name": "stdout",
     "output_type": "stream",
     "text": [
      "loss=5.03861665725708\n",
      "\n",
      "Article:\n",
      "By. Julian Robinson. ITV has been caught up in a fakery row after actor Michael Le Vell appeared in Coronation Street’s official cast photograph - even though he was not there for the shoot. Bosses released a new picture yesterday with the cast posing in the sun outside the Rovers Return. But the image also features 49-year-old Mr Le Vell, even though he was in rehab at the time and did not attend the photo session. Where's Michael? The official Coronation Street cast picture featured actor Michael Le Vell - even though he was not there for the photo session. Instead, an image of him was inserted afterwards, as shown in the enlarged image, top left. It has emerged that an individual picture of the actor, who plays Kevin Webster, was inserted afterwards between his co-stars Bruno Langley and Sue Cleaver. An insider at the long-running soap told the Daily Star that show organisers were not trying to deceive viewers as they had never stated Mr Le Vell was there on the day. The source said\n",
      "\n",
      "Target:\n",
      "Coronation Street bosses have released new official picture of cast.\n",
      "Image includes Michael Le Vell, though he was not there at the time.\n",
      "Actor, 49, was having treatment in rehab at the time of the shoot.\n",
      "An individual photo was inserted between two other actors afterwards.\n",
      "Insider says show organisers never tried to claim he was there and did not want to exclude him.<|endoftext|>\n",
      "\n",
      "Predicted:\n",
      "Formeroneration Street, was been a book for. his.\n",
      "He was a Brownvesinson, who he was'a. the time.\n",
      "He was who, was a a in the after the time of the year.\n",
      "He inquest was of told in the and and..<|endoftext|>Heistsman he was'have to get the was '. no not know to be..<|endoftext|>\n"
     ]
    },
    {
     "name": "stderr",
     "output_type": "stream",
     "text": [
      "9201it [2:11:45,  1.35it/s]"
     ]
    },
    {
     "name": "stdout",
     "output_type": "stream",
     "text": [
      "loss=5.110950946807861\n",
      "\n",
      "Article:\n",
      "By. Suzannah Hills. PUBLISHED:. 13:18 EST, 8 March 2013. |. UPDATED:. 13:24 EST, 8 March 2013. Former British Army officer Robert Jolleys has been jailed for 12 months for defrauding the taxpayers out of nearly £200,000. An Army officer who defrauded taxpayers of nearly £200,000 to educate his children at a top private school was jailed for 12 months today. Lieutenant Colonel Robert Henry Jolleys, 53, claimed the cash  from the Army's continuing education allowance (CEA) to send his three sons to the exclusive £28,000-per-year Roman Catholic Stonyhurst College in Lancashire. The CEA financially helps service personnel to send. their children to boarding school to prevent disruption to schooling caused by. postings around the UK and abroad. But Jolleys, who is known as Henry, had actually separated from his wife Judith but told his superiors they were still together and she lived with him in his Army quarters so he could claim the money. His ruse was only rumbled when his now ex-wife ra\n",
      "\n",
      "Target:\n",
      "Lieutenant Colonel Robert Henry Jolleys was today jailed for 12 months.\n",
      "He claimed cash from Army's continuing education allowance (CEA)\n",
      "Fund financially helps service personnel to send children to boarding schools to prevent disruption to their education from army postings.\n",
      "But Swindon Crown Court heard he had separated from his wife and was therefore no longer entitles to claim the money.<|endoftext|>\n",
      "\n",
      "Predicted:\n",
      "Formerutenant,,on,ie, jailed when for five years in\n",
      "He was he and his and home to..and))\n",
      "Hes was to to and pay a to pay.. pay the. £ home. the..\n",
      "He heindon, Court heard he was been from his home and a jailed. longer... the. case.\n",
      "\n"
     ]
    },
    {
     "name": "stderr",
     "output_type": "stream",
     "text": [
      "9301it [2:13:08,  1.25it/s]"
     ]
    },
    {
     "name": "stdout",
     "output_type": "stream",
     "text": [
      "loss=5.011059284210205\n",
      "\n",
      "Article:\n",
      "Move over Princess Anna and Elsa, this singing police officer means business. Carl Pendleton, 30, from the Norman Police Department in Oklahoma decided to create his own version of the Frozen track, For The First Time in Forever, in a bid to recruit new members to the force. For more than a minute he prances through the corridors at work, attempting to sing in tune while performing pirouettes and high-energy leaps. Scroll down for video. Born performer: Carl Pendleton, 30, from the Norman Police Department in Oklahoma decided to create his own version of the Frozen track For The First Time in Forever in a bid to recruit new members to the force. Lost in the moment: For more than a minute he prances through the corridors at work, attempting to sing in tune while performing pirouettes and high-energy leaps. At one point Pendleton performs a few bounces on a workout ball. 'For the first in forever we're hiring... don't know if I'm elated or gassy but I'm somewhere in that zone,' he chimes\n",
      "\n",
      "Target:\n",
      "Carl Pendleton, 30, from the Norman Police Department created his own version of the Frozen track, For The First Time in Forever.\n",
      "He thought it would be a fun way to recruit new members to the force.\n",
      "'For the first in forever we're hiring... don't know if I'm elated or gassy but I'm somewhere in that zone,' he chimes.\n",
      "Pendleton says he's been inundated with calls from potential recruits since the video went online this week.<|endoftext|>\n",
      "\n",
      "Predicted:\n",
      "Theosleton's who, was his New,,, the wife life of the Year.. his, Beatles Lady. the.\n",
      "He was he was be a'of to the his film of the U.\n",
      "HeI the first time the, have going,\n",
      "<|endoftext|>\n",
      "'t know what you'm going.,' aaff,' I'm not,' the he,' he saidipped.<|endoftext|>Heairy's he is'aated with his for his to. he '. viral. week.<|endoftext|>\n"
     ]
    },
    {
     "name": "stderr",
     "output_type": "stream",
     "text": [
      "9401it [2:14:38,  1.19it/s]"
     ]
    },
    {
     "name": "stdout",
     "output_type": "stream",
     "text": [
      "loss=5.01104736328125\n",
      "\n",
      "Article:\n",
      "Joe Lentini went to dinner at Bobby Flay Steak not knowing much about wine. He left having learned a harsh lesson. Lentini and his companions were taking a business dinner at the Atlantic City restaurant in the Borgata Hotel, and while ordering the wine he asked the server for a recommendation. 'I asked the waitress if she could recommend something decent because I don't have experience with wine,' Lentini told NJ.com. Scroll down for video. Sticker shock: When the diners received the bill, with a wine they thought was only $37.50, they were shocked to find it was more than $4,000 thanks to the bottle of Screaming Eagle. 'She pointed to a bottle on the menu,' a 2011 Screaming Eagle. 'I didn't have my glasses. I asked how much and she said, \"Thirty-seven fifty.\"' In the words of Lentini, he thought he meant $37.50, the table approved and the wine was ordered. When the bill came, the host who had agreed to cover the dinner was shocked to find it totaled over $4,000. At the top of the lis\n",
      "\n",
      "Target:\n",
      "Joe Lentini asked the waitress at Bobby Flay Steak in Atlantic City for a wine recommendation for a business dinner.\n",
      "He and other diners thought the waitress said the bottle was 'thirty-seven fifty' and assumed that meant $37.50.\n",
      "When they received the bill, they found out that the wine was actually a $3,750 bottle.\n",
      "The restaurant dropped the price after the party complained - to $2,200.<|endoftext|>\n",
      "\n",
      "Predicted:\n",
      "They's has for new to the $ushingoren's the.. the year.. the year..\n",
      "The was his childreners have to'is it'was 'notousands'up''\n",
      "'the the it1,5 million\n",
      "The the were a same, but say the of the'was'' '1 million000,.\n",
      "The company is the $ of the $'s of the be1.000,\n",
      "\n"
     ]
    },
    {
     "name": "stderr",
     "output_type": "stream",
     "text": [
      "9501it [2:16:04,  1.28it/s]"
     ]
    },
    {
     "name": "stdout",
     "output_type": "stream",
     "text": [
      "loss=5.359452724456787\n",
      "\n",
      "Article:\n",
      "The U.S. federal government spent more than $5.3 million that it shouldn't have on food stamps and other nutrition assistance programs during the 2014 fiscal year, according to an inspection report published this month. The spending, called 'improper payments' in government-speak, were totaled up through the end of August and accounted for 11 months of the fiscal year that concluded on September 30. The number is on pace to eclipse the total for 2013. The government defines 'improper payments' as disbursements'made to an ineligible recipient, a payment for an ineligible good or service, or a payment for goods or services not received.' Most shocking in the November 7 audit was that more than one-fourth of the money spent by the National School Breakfast Program met that definition. The US Department of Agriculture pays out billions unnecessarily each year in one of the world's most sprawling food distribution schemes. Working poor: Food stamp benefits are paid by the states through fed\n",
      "\n",
      "Target:\n",
      "'They could triple the national debt on these programs and it would still be impossible to challenge them,' complains a Republican congressional aide.\n",
      "Food stamp program paid out 2.4 billion is shouldn't have between October 2013 and August 2014.\n",
      "National School Lunch Program doled out $1.7 billion extra.\n",
      "National School Breakfast Program spent $923 million unnecessarily – accounting for more than one-quarter of its expenses.\n",
      "The popular Women, Infants and Children nutrition assistance program also misspent $206 million.<|endoftext|>\n",
      "\n",
      "Predicted:\n",
      "TheThe are be a same to of the,'' the's be be a to be,',' says said. says..\n",
      "The the to is $ of.5 million in a't be to the and and the..\n",
      "The Audit has said torugged and of10.5 million in $\n",
      "The Audit for for and $2 billion, in for the to $ than $ millionyear. the own.<|endoftext|>The new is has whichirm and the's,,, said the.10,.<|endoftext|>\n"
     ]
    },
    {
     "name": "stderr",
     "output_type": "stream",
     "text": [
      "9601it [2:17:32,  1.19it/s]"
     ]
    },
    {
     "name": "stdout",
     "output_type": "stream",
     "text": [
      "loss=5.42177152633667\n",
      "\n",
      "Article:\n",
      "By. Mark Duell. These eerie scenes show soldiers rehearsing in the fog for a reburial ceremony after the bodies of 20 British First World War soldiers were found. The only man of those discovered to have been identified by name is Private William McAleer, from the 7th Battalion the Royal Scottish Fusiliers. His relatives will be represented at the service tomorrow in Loos-en-Gohelle, France, by his step-great-nephew - almost 100 years after he died. The 20 bodies were found at a construction site of a new prison being built in October 2010, where the Battle of Loos took place in September 1915. Soldiers of The 2nd Battalion The Royal Regiment of Scotland are rehearsing in Loos, with 19 unidentified men set to be buried as ‘Known Unto God’. Practising: Members of The 2nd Battalion The Royal Regiment of Scotland  rehearse for a re-burial ceremony amongst World War One headstones in Loos. Getting ready: Corporal Stuart Gillies of The 2nd Battalion The Royal Regiment of Scotland practises \n",
      "\n",
      "Target:\n",
      "Only man identified by name was Private William McAleer, from the 7th Battalion the Royal Scottish Fusiliers.\n",
      "His relatives will be represented at tomorrow's service tomorrow in Loos-en-Gohelle by his step-great-nephew.\n",
      "Bodies discovered on site of new prison in October 2010, where Battle of Loos took place in September 1915.\n",
      "Eerie photos show soldiers of The 2nd Battalion The Royal Regiment of Scotland rehearsing today in Loos.\n",
      "Commonwealth War Graves Commission says there are 20 cases of discovered remains of soldiers each year.<|endoftext|>\n",
      "\n",
      "Predicted:\n",
      "The one, as the of 'ed andIl,. who London UK- century. day Navy of1...\n",
      "The family, be held by the of Hospital in. the.,style-a.. the wifefatherin-yearaked..\n",
      "Theodies of the the of the evidence in the 2013. but he of thes. place in the..\n",
      "Theb- of the who the Sun, of in Sun Navy. the Yard... the..\n",
      "The- have II, and the are'per of'in in the. other.<|endoftext|>\n"
     ]
    },
    {
     "name": "stderr",
     "output_type": "stream",
     "text": [
      "9701it [2:19:00,  1.17it/s]"
     ]
    },
    {
     "name": "stdout",
     "output_type": "stream",
     "text": [
      "loss=5.120089054107666\n",
      "\n",
      "Article:\n",
      "He might be less than impressed by the Chinese record on human rights but that wasn't enough to stop Prince Charles from visiting London's Chinatown to help usher in the Year of the Sheep. The Prince of Wales was on cheerful form and joked with performers dressed as dragons as he took in the colourful scene. With him was the Duchess of Cornwall, who cut an elegant figure in a pretty cream cashmere skirt and jacket by Anna Valentine and a delicate printed silk scarf. Scroll down for video. Nice to meet you: Charles sidles up to a man celebrating Chinese New Year while dressed as a dragon. What did he say? Charles bursts into laughter after sharing a joke with the performer. As well as taking in the sights, the royal couple were in Chinatown to open the China Exchange, a purpose-built exhibition space destined to become a hub for theatrical and arts performances. During the visit, Prince and Duchess were introduced to a number of Chinese traditions, including calligraphy and dumpling mak\n",
      "\n",
      "Target:\n",
      "Charles and Camilla were in Chinatown to celebrate Chinese New Year.\n",
      "The royal couple were met by  dancers and performers dressed as dragons.\n",
      "The Duchess later tried her hand at calligraphy and making dim sum.\n",
      "2015 is the Year of the Sheep which is said to bring good fortune.\n",
      "Charles himself was born in the Year of the Rat, which confers charm.\n",
      "He showed it when he took the opportunity to try out his Cantonese.<|endoftext|>\n",
      "\n",
      "Predicted:\n",
      "The- Duchessilla were born the for be the London York's\n",
      "The couple couple were taken with the , a. as a.\n",
      "The pair of was to to to the to.. a it..\n",
      "Theed the first's the most's is the to be the..<|endoftext|>The the in a in the UK's the World. which is-..\n",
      "The was the's the was a'to be to of own...\n",
      "\n"
     ]
    },
    {
     "name": "stderr",
     "output_type": "stream",
     "text": [
      "9801it [2:20:26,  1.16it/s]"
     ]
    },
    {
     "name": "stdout",
     "output_type": "stream",
     "text": [
      "loss=5.272802352905273\n",
      "\n",
      "Article:\n",
      "A former U.S. Navy submarine warfare specialist has been sentenced to 30 years in prison for trying to sell state secrets to FBI agents posing as Russian spies. Virginia Beach resident Robert Patrick Hoffman II, 40, faced the possibility of life in prison for trying to pass classified information to people he believed worked for the Russian government. Hoffman was sentenced in federal court in Norfolk Monday by U.S. District Judge Robert Doumar. Traitor: Robert Hoffman II, 40, pictured here at the time of his arrest in December 2012, was sentenced to 30 years for attempted espionage after trying to sell state secrets of FBI agents posing as Russian spies. Prosecutors said Hoffman gave sensitive documents about tracking ships to people he believed were Russian operatives, but in reality were FBI agents working undercover. ‘He was willing to place American lives at risk for personal gain,’ said Dana J. Boente, acting U.S. attorney for the Eastern District of Virginia. ‘Today’s sentence s\n",
      "\n",
      "Target:\n",
      "Prosecutors said Robert Hoffman II, 40, a cryptologic technician in Navy, dropped off thumb drivers with top secret documents about tracking ships.\n",
      "FBI used two female agents dubbed 'Tracey Tea' and 'Olga' to lure Hoffman.\n",
      "Federal investigators first became suspicious when he traveled to Belarus to reconnect with women he met in a Bahrain club.\n",
      "Hoffman was in email communication with his Russian spy 'handler' named Vladimir, asking him for a job that paid at least $45,000.<|endoftext|>\n",
      "\n",
      "Predicted:\n",
      "The say he Mug was'who, was former of,, the, was to the.. a of.. his..\n",
      "He: to-- to 'unacy'' and 'univer'\n",
      " be the.\n",
      "He judge say time a of he was to the. the. a. was. the bid..\n",
      "Heernandez's was arrested the to with a wife and andun'\n",
      " as Putin who for to a '. he $ least one2,000.<|endoftext|>\n"
     ]
    },
    {
     "name": "stderr",
     "output_type": "stream",
     "text": [
      "9901it [2:21:52,  1.06it/s]"
     ]
    },
    {
     "name": "stdout",
     "output_type": "stream",
     "text": [
      "loss=5.255871772766113\n",
      "\n",
      "Article:\n",
      "Gang members in Mexico have admitted to massacring 43 students who went missing in September after the local mayor demanded they be 'taught a lesson' so they didn't interrupt a speech by his wife. Attorney General Jesus Murillo said on Friday that three detainees revealed that they set fire to the group - some of whom were still alive - at a rubbish dump near Iguala in the state of Guerrero, close to where the students went missing. So far, 19 mass graves have been discovered around Iguala and more than 70 people have been arrested. Scroll down for video. The 43 students, pictured, went missing as they travelled to a protest in Iguala, Guerrero State  in September. Residents have held demonstrations calling for a full investigation into the fate of the 43 missing students. Jose Luis Abarca, who was previously mayor of Iguala, left, and his wife Maria de los Angeles Pineda right, were found and arrested in Mexico City on Monday and are believed to have masterminded the massacre. Investi\n",
      "\n",
      "Target:\n",
      "Three Mexican gang members admit burning alive some of the students.\n",
      "Some of the fires lasted more than 15 hours according to eyewitness reports.\n",
      "Gang members waded into the ashes to remove remaining teeth and bone.\n",
      "Investigators have found 19 mass graves round Iguala, in Guerrero State.\n",
      "So far 70 people have been arrested including the former mayor and his wife.\n",
      "Mayor allegedly demanded that the police 'taught a lesson' to the students.\n",
      "It came after he was concerned they were to interrupt a speech by his wife.<|endoftext|>\n",
      "\n",
      "Predicted:\n",
      "The men officers were were to in in of the victims.\n",
      "The of the victims were the than 20,. to the..\n",
      "Theangir arearden guilty the attack of be the and. a.\n",
      "The say been a- in in of and. including the..\n",
      "The far, people were been arrested in the murder police of the family.\n",
      "The of told the the man arecouldried' man'<|endoftext|> the incident.<|endoftext|>The is after a was arrested about were'be. man. the family.<|endoftext|>\n"
     ]
    },
    {
     "name": "stderr",
     "output_type": "stream",
     "text": [
      "10001it [2:23:21,  1.06it/s]"
     ]
    },
    {
     "name": "stdout",
     "output_type": "stream",
     "text": [
      "loss=5.00067138671875\n",
      "\n",
      "Article:\n",
      "The husband of a teacher who spent the night with a 16-year-old pupil has told how she seduced the boy as revenge after he had an affair. Bernadette Smith, 35, narrowly avoided a prison sentence this week after confessing her infatuation with her student Gary Ralston. The court heard how she called the boy into her classroom at Banockburn High School in Stirling, and confessed her feelings for him. The pair later kissed passionately in a park, and spent the night in bed, where Smith wore just jeans and a bra. Abuse of trust: Sheriff Wyllie Robertson told Smith (left), 35,. who kissed Gary, then 16, (right) and lay beside him wearing only jeans and a. bra, that she had committed a serious abuse of trust. She was spared jail. Waived anonymity: Gary, now 17, in his bedroom where one of the incidents took place. He said his relationship with Smith, who was his teacher during third, fourth and fifth year, began during secret meetings  at school. Now Brian Smith, 35, has revealed how. his wi\n",
      "\n",
      "Target:\n",
      "Teacher Bernadette Smith kissed and shared a bed with Gary Ralston.\n",
      "She narrowly escaped jail after admitting sexual activity with a pupil.\n",
      "Her husband Brian Smith, 35, has told how she said the affair was payback.\n",
      "She sent a break-up text to Mr Smith, with whom she has three children.\n",
      "Smith then switched off her phone and spent the night in bed with Gary.\n",
      "Returned the next morning to admit what she did, shocking her husband.\n",
      "Obsession cost her job and her reputation, Stirling Sheriff Court heard.\n",
      "Gary said: 'I was thinking I was quite lucky. A lot of the boys fancied her'\n",
      "Smith under supervision for two years as part of community payback order.<|endoftext|>\n",
      "\n",
      "Predicted:\n",
      "Jresa,abe,,, her his a woman in her-ochke.\n",
      "He was said from after she to assault with her friend.\n",
      "She father, was was 20, was been her he had he boy was '..\n",
      "He was a letter-up to messages the P's who a he had been children.\n",
      "She was told to her and and was £ money out the. her.\n",
      "Sheed to woman day, be the she was not but and..\n",
      "Sheer was £ to and has mother was sayingacey,,..<|endoftext|>She Neville: 'I'm not to'm not a' I.' my child''''\n",
      "She was investigation of the years and a of the service for..<|endoftext|>\n"
     ]
    },
    {
     "name": "stderr",
     "output_type": "stream",
     "text": [
      "10101it [2:24:50,  1.08it/s]"
     ]
    },
    {
     "name": "stdout",
     "output_type": "stream",
     "text": [
      "loss=5.237492084503174\n",
      "\n",
      "Article:\n",
      "By. David Martosko, U.s. Political Editor. Hillary Clinton has accepted her husband Bill's philandering ways but told him that 'when we are back in the White House, he'll have to behave,' according to a new book by former Newsweek editor Ed Klein. That's 'when,' not 'if.' But Hillary's apparent certainty about her presidential plans has taken a back seat in reviews of the book, 'Blood Feud,' to accounts of vicious backbiting between the Clintons and the Obamas. Even tales of exploits of the former 'first cheater' have garnered little notice. According to Klein, Hillary told friends that Bill is 'having another of his middle-age crises.' And she doesn't seem to mind. No more 'Slick Willie': 'I've told him that when we are back in the White House he'll have to behave,' Hillary Clinton told her friends last year, Ed Klein writes in Blood Feud. During one of Bill Clinton's whirlwind trips across the world, he met with 'the playboy king of Spain' King Juan Carlos I in Madrid. 'We accept. ea\n",
      "\n",
      "Target:\n",
      "The former secretary of state has made her peace with Bill Clinton's bed-hopping, according to Ed Klein's latest tell-all book.\n",
      "At a boozy dinner with friends in 2013 she allegedly rattled off a list of famous women her husband had been with.\n",
      "'This guy is unstoppable,' she said in Klein's account.\n",
      "She also laid into President Obama that night, calling him 'incompetent and feckless' and saying there's 'no hand on the f***ing tiller' in his administration.<|endoftext|>\n",
      "\n",
      "Predicted:\n",
      "The former president of the's been a own to the Clinton's comments.in.. she to the Miliband. comments book.up..\n",
      "The the letter- a, the and the, was'the the'of the.... a a a\n",
      "TheI is' a and he said. the. '.\n",
      "The said said a the Obama's he out but her anot the''' I'''\n",
      "'he are nono'' the world****''''\n",
      " the own.<|endoftext|>\n"
     ]
    },
    {
     "name": "stderr",
     "output_type": "stream",
     "text": [
      "10201it [2:26:17,  1.06it/s]"
     ]
    },
    {
     "name": "stdout",
     "output_type": "stream",
     "text": [
      "loss=4.800266742706299\n",
      "\n",
      "Article:\n",
      "Brendan Rodgers has confirmed Mario Balotelli was right to take the penalty that secured Liverpool a crucial Europa League win as he clarified the moment of controversy. The Italy striker was accused of being a little bit disrespectful by Steven Gerrard after he took the ball off Jordan Henderson in the dying moments of their last 32 clash with Besiktas. But Rodgers, who feels 'a drama' has been made out of the incident, explained the system that is in place for what happens if Liverpool get a penalty. VIDEO Scroll down to watch Brendan Rodgers: Mario Balotelli right choice to take penalty. Liverpool manager Brendan Rodgers surveys training on Friday, having defended Mario Balotelli. Balotelli (right) shares a laugh with Raheem Sterling after his penalty spat at Anfield on Thursday night. Henderson (right) was also back in training at Melwood on Friday with Emre Can and Daniel Sturridge. Gerrard is the No1 taker but, in his absence last night, Henderson was designated to take over, giv\n",
      "\n",
      "Target:\n",
      "Brendan Rodgers' side beat Besiktas 1-0 at Anfield in the Europa League.\n",
      "Mario Balotelli insisted on taking their crucial penalty late on at Anfield.\n",
      "Steven Gerrard accused Mario Balotelli of 'disrespect' to Jordan Henderson.\n",
      "Stand-in skipper saw his authority questioned by Balotelli's behaviour.\n",
      "But Gerrard previously made it clear Italian was second pick for penalties.\n",
      "Jamie Redknapp: Balotelli doesn't have a long-term future at Liverpool, his team-mates don't like him and he lacks respect.\n",
      "CLICK HERE for all the latest Liverpool news.<|endoftext|>\n",
      "\n",
      "Predicted:\n",
      "Arsenalan Rodgers has side have Liverpooliktas to-0 in the. the FA League.\n",
      "The Balotelli has he the the own to. on the the.\n",
      "The Gerrard has of Balotelli's thetheg'\n",
      " the Henderson.\n",
      "The-year-ipper has the side to as theotelli. side.<|endoftext|>The the has said the to to club not in. the.<|endoftext|>The Carrknapp has 'otelli is't want to good-term deal. the. but manager-mates.'t want to. he is..<|endoftext|>TheICK HERE for all the latest Manchester news.<|endoftext|>\n"
     ]
    },
    {
     "name": "stderr",
     "output_type": "stream",
     "text": [
      "10301it [2:27:39,  1.22it/s]"
     ]
    },
    {
     "name": "stdout",
     "output_type": "stream",
     "text": [
      "loss=4.774540424346924\n",
      "\n",
      "Article:\n",
      "President-turned-painter George W. Bush has unveiled his portraits of world leaders - as his wife Laura revealed she encouraged him to unleash his inner artist after he mastered a drawing app. The new collection by the former president, who picked up the paintbrush after leaving the White House, includes Tony Blair, Afghanistan's President Hamid Karzai, Germany's Chancellor Angela Merkel and the Dalai Lama. Most striking is a stern-looking Russian President Vladimir Putin, but Bush said his favorite was the painting of his father, George H. W. Bush. The oil paintings, which were shared on the Today show in an interview with his daughter Jenna Bush Hager, show an improvement in Bush's skills since the self portraits of him in the bath were leaked last year. Scroll down for videos. Self portrait: George W. Bush shows his daughter Jenna his self portrait at his presidential library as he unveils two dozen images of world leaders he has painted. The images were shared on the Today show on \n",
      "\n",
      "Target:\n",
      "Bush has painted 24 images of world leaders that are part of an exhibition at his presidential library in Texas.\n",
      "The paintings, including his father George H.W. Bush, Vladimir Putin, Tony Blair and the Dalai Lama, were revealed on the Today show on Friday.\n",
      "His mother Barbara said she liked the image her son had painted of her husband - but that he would 'absolutely not' be allowed to paint her.\n",
      "Bush says he hopes the leaders take the images 'in the spirit of friendship'\n",
      "The former president, who started painting when he left the White House, said that he does not think he is a good artist but that he's improving.<|endoftext|>\n",
      "\n",
      "Predicted:\n",
      "The of been a- of the's in he'of the American. the home candidate. the.\n",
      "The president is who the wife,,.S.uk, is Putin, who Abbott, his Daily Lama. the released. the show show. the.\n",
      "The wife is Walters he was the'of ''s been a the ''s and he he was havebe a'\n",
      " able to be..\n",
      "The of he's to'are on'tothe the right of the'\n",
      "The president president said who has the, he was the same House, he he he was not know the's a'thing. the he is not to<|endoftext|>\n"
     ]
    },
    {
     "name": "stderr",
     "output_type": "stream",
     "text": [
      "10401it [2:29:02,  1.16it/s]"
     ]
    },
    {
     "name": "stdout",
     "output_type": "stream",
     "text": [
      "loss=5.152254581451416\n",
      "\n",
      "Article:\n",
      "Magnus Peterson has been jailed for 13 years after being found guilty of a string of fraud offences having duped investors out of hundreds of millions of pounds. A hedge fund boss whose investors lost £350million when his Mayfair firm collapsed as a result of his rogue trading has been jailed for 13 years. Magnus Peterson forged relatives' signatures, wrote fraudulent IOU's and lied to auditors to keep the Macro Fund afloat while he extracted millions from the company for himself. The fund collapsed in 2009 in an 'emblematic' example of the financial crash, with 51-year-old Peterson convicted of eight counts of  years later. Today the Swedish national was jailed for 13 years at Southwark Crown Court. The father-of-four was previously ruled against in a High Court action launched by creditors of one of his companies. It was this ruling which prompted the Serious Fraud Office to criminally investigate the financier after previously fearing there was no'realistic prospect of conviction'. \n",
      "\n",
      "Target:\n",
      "Magnus Peterson was jailed in one of the first prosecutions of 2008 crash.\n",
      "From 2003, he used one company to mask flailing accounts of another.\n",
      "Swedish born Peterson then launched Ponzi-like scheme amid 2008 crisis.\n",
      "He used fresh investments from 'pensioners' to repay out-of-pocket clients.\n",
      "In 2009 he was arrested by Serious Fraud Office but charges were dropped.\n",
      "A 2012 High Court case launched by creditors saw financier bankrupted.\n",
      "Criminal case was reopened as a result and Peterson found guilty of fraud.<|endoftext|>\n",
      "\n",
      "Predicted:\n",
      "David of,, jailed for a of the last time in the..\n",
      "He the, he was his of to his andapping to. the child\n",
      "Heedish Crown in and sent arycei'sstyle.. fears..\n",
      "He was his- to hispossible'' and'a ofof-hours..\n",
      "Hequest, was jailed in police and and for he of not.<|endoftext|>Mr judge of Court heard has a the of the.....<|endoftext|>Mromesed has jailed for a'of a. in of fraud.<|endoftext|>\n"
     ]
    },
    {
     "name": "stderr",
     "output_type": "stream",
     "text": [
      "10501it [2:30:26,  1.25it/s]"
     ]
    },
    {
     "name": "stdout",
     "output_type": "stream",
     "text": [
      "loss=5.183252811431885\n",
      "\n",
      "Article:\n",
      "By. Sarah Griffiths. PUBLISHED:. 10:58 EST, 30 August 2013. |. UPDATED:. 11:21 EST, 30 August 2013. Scientists have captured the remarkable moment a boa constrictor attacked a fully-grown howler monkey to claim it as a substantial snack. The incident, which took place deep in the Amazon rainforest in Western Brazil, is rare, as monkeys are usually adept at protecting themselves from predators. But the video shows the huge snake crushing the hapless monkey before swallowing it whole. The video has caused scientists to rethink how vulnerable primates can be to skilled predators like the boa constrictor, that usually stick to smaller meals like rodents and birds, LiveScience reported. Scroll down for video. Scientists have captured the harrowing moment a boa constrictor attacked a fully-grown howler monkey to claim it as a substantial snack. Here the female howler monkeys clings to a branch in a futile attempt to pull herself from the crushing jaws of the snake. Júlio César Bicca-Marques,\n",
      "\n",
      "Target:\n",
      "Júlio César Bicca-Marques, a.\n",
      "researcher at Pontifical Catholic University of Rio Grande do Sul witnessed the incident in the Amazon rainforest.\n",
      "The video has caused scientists to rethink how vulnerable primates can be to skilled predators like the boa constrictor.\n",
      "Primatologist Paul Garber said the monkey might have escaped its fate if it had stayed with its group.<|endoftext|>\n",
      "\n",
      "Predicted:\n",
      "Theury in waspl, wasower was wasinried, a rare\n",
      "the-,,, the,,, Church. the..... night. the world...\n",
      "The video was been a to the the to to to be used be the. a animalss.able..<|endoftext|>The of is said McCartneyan has the'was be been the own. they was been. a own.<|endoftext|>\n"
     ]
    },
    {
     "name": "stderr",
     "output_type": "stream",
     "text": [
      "10601it [2:31:49,  1.18it/s]"
     ]
    },
    {
     "name": "stdout",
     "output_type": "stream",
     "text": [
      "loss=5.158348560333252\n",
      "\n",
      "Article:\n",
      "Dhanuson Dharmasena is on trial for FGM charges in the first case of its kind. Southwark Crown Court heard the alleged offence took place at the Whittington Hospital in north London. A British doctor performed female genital mutilation on a young mother after she gave birth in hospital, a court has heard. Dhanuson Dharmasena, 32, is standing trial accused of carrying out the illegal procedure at the Whittington Hospital in north London in the first prosecution of its kind in the UK. A second man, Hasan Mohamed, 41, denies encouraging and abetting the offence. The woman, 24 at the time, first underwent female genital mutilation (FGM) aged six in Somalia, London's Southwark Crown Court heard. The highly dangerous procedure left her at risk of infection, haemorrhage and even death. The woman, who cannot be identified, now lives in Britain and went to hospital  in labour in 2012. During labour, her FGM stitches were torn. Dharmasena, the junior registrar in obstetrics and gynaecology, sewe\n",
      "\n",
      "Target:\n",
      "Woman had undergone female genital mutilation in Somalia as a child.\n",
      "When she gave birth at London hospital, her FGM stitches were torn.\n",
      "Court heard doctor was encouraged to sew her up in 'FGM procedure'\n",
      "Man who allegedly encouraged procedure is also standing trial.\n",
      "Doctor had worked at the hospital for a month before the incident.\n",
      "He denies the charge - which carries a maximum 14-year sentence.\n",
      "FGM  risks the health of tens of millions of women worldwide.<|endoftext|>\n",
      "\n",
      "Predicted:\n",
      "The, been in in toilation in the. she result.\n",
      "She she was birth to the's, she motherarrow,, found.\n",
      "She heard she was found to be her to to afurious''\n",
      "She, was told her to'a in.\n",
      "She is been at the hospital in the year. she death.<|endoftext|>She was the charges of and is the £ of-year-.<|endoftext|>Theears has , pair care the of the of sexual..<|endoftext|>\n"
     ]
    },
    {
     "name": "stderr",
     "output_type": "stream",
     "text": [
      "10701it [2:33:13,  1.18it/s]"
     ]
    },
    {
     "name": "stdout",
     "output_type": "stream",
     "text": [
      "loss=5.623195648193359\n",
      "\n",
      "Article:\n",
      "Using a minimum of eight body measurements, forensic teams were able to correctly identify people by their unique shape - even through clothes. Grainy CCTV footage in which a criminal’s face is obscured can make it difficult to identify perpetrators, and this job is even harder if no fingerprints are left at the scene. But, in what’s been dubbed a biometric breakthrough, researchers have discovered that a person’s body shape could equally give them away. Using just eight measurements, forensic teams were able to correctly identify people - even through clothes. Dubbed ‘body recognition’, the technique was developed at the University of Adelaide, and is said to be comparable with facial and fingerprint analysis. A team of researchers, led by PhD student Teghan Lucas, studied the anatomical measurements of 4,000 US armed services personnel from a national database. In particular, they compared eight facial and eight body measurements to see if a person’s body shape could be used for iden\n",
      "\n",
      "Target:\n",
      "'Body recognition' technique was developed at the University of Adelaide.\n",
      "Experts studied  anatomical measurements of 4,000 services personnel.\n",
      "They compared eight facial and eight body measurements for each.\n",
      "Results found that, compared with the face, fewer body measurements are needed to identify a person.\n",
      "This could help identify criminals  on CCTV when the face is obscured.\n",
      "Researcher Teghan Lucas said: ‘With eight measurements it is possible to reduce the probability of finding a duplicate to one in a quintillion’\n",
      "This makes the results comparable with fingerprint analysis, she continued.<|endoftext|>\n",
      "\n",
      "Predicted:\n",
      "TheIt of' isto  of  by the University of the.\n",
      "The say the  and of the,000 miles and.\n",
      "The are to times- a-.. the other\n",
      "The found in the the to the disease of but and and. not. be the human.\n",
      "The is be students the to  the and they dog of a.<|endoftext|>Theearcher canvez is is it '�I a� of� a to be the problem of the� human� be of the few�’<|endoftext|>The is it first of to the, and and says to<|endoftext|>\n"
     ]
    },
    {
     "name": "stderr",
     "output_type": "stream",
     "text": [
      "10801it [2:34:42,  1.16it/s]"
     ]
    },
    {
     "name": "stdout",
     "output_type": "stream",
     "text": [
      "loss=5.063511848449707\n",
      "\n",
      "Article:\n",
      "This is the terrifying moment a tiger tamer was mauled mid-act at a circus in Spain. Hundreds of spectators could only stare in shock as the beast pounced on Danny Gottani's back and tried to rip him apart. Mobile phone footage filmed by an audience member on Friday shows the big cat slashing at the 35-year-old's throat, legs and back. An audience member took this mobile phone footage of the big cat slashing at the 35-year-old's throat, legs and back. Savage attack: The tiger pounces on the tamers holding him with its paws and mauling him. The tamer's 60-year-old mother, who was watching the show from the audience, suffered a severe panic attack. Circus workers sprinted into the ring with sticks to try and fend off the animal. Gottani, part of the family who'd just set up the Gottani Circus in the Aluche neighbourhood of Madrid, was then rushed to hospital. He's currently being treated for his injuries, which doctors believe are non life-threatening as they did not affect his vital org\n",
      "\n",
      "Target:\n",
      "Hundreds of spectators in Madrid could only stare in shock.\n",
      "The beast pounced on Danny Gottani's back and tried to rip him apart.\n",
      "The big cat slashing at the 35-year-old's throat, legs and back.\n",
      "The tamer's 60-year-old mother was.\n",
      "watching the show from the audience.\n",
      "She also needed medical.\n",
      "attention after suffering a severe panic attack.<|endoftext|>\n",
      "\n",
      "Predicted:\n",
      "The of the from the's be be to the.\n",
      "The driver wasounced on the Island in, car to was to get...\n",
      "The driver- was to the scene-year-old man body and a and a to<|endoftext|>The driver-lan body-year-old was was found\n",
      "The- man, the scene to\n",
      "The was had to treatment<|endoftext|>Theempt, the from stroke brain..<|endoftext|>\n"
     ]
    },
    {
     "name": "stderr",
     "output_type": "stream",
     "text": [
      "10901it [2:36:11,  1.19it/s]"
     ]
    },
    {
     "name": "stdout",
     "output_type": "stream",
     "text": [
      "loss=5.0937981605529785\n",
      "\n",
      "Article:\n",
      "The widower of right-to-die advocate Brittany Maynard has spoken of his wife's final hours with terminal brain cancer, saying a seizure reinforced her decision to take her own life later that day. Speaking on The Meredith Vieira Show, Dan Diaz, 43, said his 29-year-old spouse had already decided to  take a lethal prescription of drugs at her Oregon home  to end months of suffering. But he said a'small seizure' she suffered on the morning of November 1 - the planned date of her death - reminded her of the painful and downhill struggle she was facing if she chose not to do so. 'It was a reminder of what she was risking because what was coming next was losing her eyesight, becoming paralyzed, inability to speak and she’d be essentially trapped in her own body,' he said. SCROLL DOWN FOR VIDEOS. Opening up: Dan Diaz (pictured), 43, the grieving widower of Brittany Maynard, has spoken of his wife's final hours with terminal brain cancer, saying a'seizure' reinforced her decision to take her \n",
      "\n",
      "Target:\n",
      "Dan Diaz, 43, spoke of late wife's final hours on The Meredith Vieira Show.\n",
      "Revealed Miss Maynard suffered'small seizure' on November 1.\n",
      "This reminded her of the painful and downhill struggled she faced, he said.\n",
      "Added that 29-year-old had never had any second thoughts on ending life.\n",
      "Miss Maynard died surrounded by her family and friends at Oregon home.\n",
      "She hit headlines around the world and became face of right-to-die action.<|endoftext|>\n",
      "\n",
      "Predicted:\n",
      "Die, 43, was out her on's mother after after her Year....\n",
      "Sheveals her Universenard,inered herin to' and her 22.\n",
      "She is she husband her couple, her of to had. and was.\n",
      "She that she,year-old had been been a other-. her..<|endoftext|>Sheissnard, in by her husband in said. the..<|endoftext|>She was her and the world and had a of her todegree-be..<|endoftext|>\n"
     ]
    },
    {
     "name": "stderr",
     "output_type": "stream",
     "text": [
      "11001it [2:37:35,  1.14it/s]"
     ]
    },
    {
     "name": "stdout",
     "output_type": "stream",
     "text": [
      "loss=4.734684467315674\n",
      "\n",
      "Article:\n",
      "By. Leesa Smith. In the same week that a family signed a 20-year lease to live on St Bees Island, one woman was so desperate to get off the private oasis that her friends made a huge SOS sign in the sand. The 62-year-old woman fell out of a coconut tree on Thursday and had to be airlifted off the island with spinal injuries after landing on a rock. Her friends made the SOS sign along with a cross and and arrow to help rescue choppers easily locate them on the island just off the coast of Mackay, north Queensland. Scroll down for video. Desperate measures: The injured woman's friends resorted to writing SOS in the sand after she fell from a coconut tree. The RACQ-CQ was so impressed with the forethought of the group that they were praised on Twitter. ‘Landing spot on #StBeesIsland made much easier to find by a big SOS in the sand. 2nd time this has helped this year!’. In April, five people left stranded after their boat broke anchor 30km's north-east of Mackay were also rescued after em\n",
      "\n",
      "Target:\n",
      "A 62-year-old woman fell out of a coconut tree and landed on a rock on St Bees Island in Queensland.\n",
      "She was airlifted off the island after friends made an SOS sign in the sand to help the chopper locate them.\n",
      "This comes as a Gold Coast family signed a 20-year lease for the Island which is just off Mackay, north of Brisbane.\n",
      "The lease was advertised for $985,000 but the real estate agent could not reveal the final figure.\n",
      "It features three sea shanty style cottages, a 100,000-litre water supply and a power generator.\n",
      "A woman will be relocating to the island with her son and partner.<|endoftext|>\n",
      "\n",
      "Predicted:\n",
      "The man-year-old man was from of the car- in was on the beach of the.'s. the.\n",
      "The was foundlifted to the coast of the in the hour- of the water. the her carpper...\n",
      "The is after the result Coast Guard has a new-year- of the first. was now a theay. and of the.\n",
      "The video of taken in the1,000 in it only estate was is be be the cause..<|endoftext|>The is a days,rapnel and andabsages in but second-000-foot-.. and a half..<|endoftext|>The second's be theishing the the hospital of the family and the.<|endoftext|>\n"
     ]
    },
    {
     "name": "stderr",
     "output_type": "stream",
     "text": [
      "11101it [2:39:03,  1.04s/it]"
     ]
    },
    {
     "name": "stdout",
     "output_type": "stream",
     "text": [
      "loss=4.305172443389893\n",
      "\n",
      "Article:\n",
      "By. Daily Mail Reporter. PUBLISHED:. 11:03 EST, 7 March 2014. |. UPDATED:. 17:56 EST, 7 March 2014. Suspect: This booking photo released by the Volusia County Division of Corrections shows Ebony Wilkerson, 32, who is accused of driving a minivan carrying her three young children into the ocean in an attempt to kill them. The pregnant South Carolina mother who drove a minivan containing her three children into the ocean in Florida has been arrested and charged with attempted murder, investigators said Friday. The woman, 32-year-old Ebony Wilkerson, from Cross, South Carolina, was booked into Volusia County Jail after undergoing a mental evaluation in a hospital Thursday. Her children are currently in state custody. Volusia County Sheriff Ben Johnson announced this afternoon that Wilkerson is facing three counts of first-degree attempted murder and three counts of aggravated child abuse involving great injury. ‘She did intentionally try to kill the children,’ the sheriff’s told reporters\n",
      "\n",
      "Target:\n",
      "Ebony Wilkerson, 32, charged with three counts of first-degree attempted murder and three counts of aggravated child abuse.\n",
      "Volusia County Sheriff Ben Johnson said she told her kids to close their eyes and go to sleep as she drove into the surf.\n",
      "Police say they found no evidence that Wilkerson had any mental issues.\n",
      "Wilkerson's relatives were alarmed on Tuesday when she started talking 'about Jesus and how there were demons in her house'\n",
      "Police pulled her over and did a welfare check but she told them she feared her husband and was going to a domestic violence safe house.\n",
      "Rescuers pulled her three children- ages 3, 9, and 10- from the car.\n",
      "Wilkerson's husband,. Lutful Ronjon, was charged with battery against his wife in 2005.\n",
      "Wilkerson was involved in 2007 car crash that left a woman dead.<|endoftext|>\n",
      "\n",
      "Predicted:\n",
      "Theddola,ts,, 25, was with murder counts of murder-degree murder murder. a counts of murder assault..\n",
      "Theunteband,,'s,, she was her she were be to daughter and was to her. she was to a home.\n",
      "The say they were the evidence of theyts was, been other illness.\n",
      "Thekinsonerson, mother, found in the after she was a aboutin'' her to were no' the''\n",
      "The say out to the a not'of on they was her she was she. was her found to be hospital violence...<|endoftext|>Theescue was out to- andlong,,000,000 a,year the house.\n",
      "Thekinsonerson, mother says,oughal,,, who arrested with aggravated and the mother and a.<|endoftext|>Thekinsonerson, found in a and and in she her'in.<|endoftext|>\n"
     ]
    },
    {
     "name": "stderr",
     "output_type": "stream",
     "text": [
      "11201it [2:40:27,  1.09it/s]"
     ]
    },
    {
     "name": "stdout",
     "output_type": "stream",
     "text": [
      "loss=4.798553943634033\n",
      "\n",
      "Article:\n",
      "By. Reuters. PUBLISHED:. 22:36 EST, 24 January 2014. |. UPDATED:. 00:42 EST, 25 January 2014. The U.S. Supreme Court said on Friday that, while litigation continues, an order of Roman Catholic nuns need not comply with a part of President Barack Obama's healthcare law requiring employers to provide insurance that covers contraception. In the latest skirmish over religious objections to providing government-mandated contraception, the four-sentence court order was a partial victory for the Little Sisters of the Poor, a Baltimore-based order of nuns that runs nursing homes, and Illinois-based Christian Brothers Services, which manages healthcare plans for Catholic groups. The unusually worded order by the court did impose a requirement on the groups before they can claim the exemption. First, they must send written notification to the Department of Health and Human Services saying they object to the contraception mandate. A group of Roman Catholic nuns in Baltimore (not pictured here) do\n",
      "\n",
      "Target:\n",
      "Religious groups can claim exemption from providing contraceptive insurance by sending a written notification to the Department of Health saying they object to the contraception mandate.\n",
      "As long as the groups send the letters,.\n",
      "they are effectively exempt while litigation continues in lower courts,.\n",
      "putting off for now any conclusive decision on this latest legal test of.\n",
      "Obamacare, as the president's 2010 Affordable Care Act has become.\n",
      "known.\n",
      "The Obamacare law requires employers to.\n",
      "provide health insurance policies that cover preventive services for.\n",
      "women, including contraception and sterilization.<|endoftext|>\n",
      "\n",
      "Predicted:\n",
      "Theatives- say't the to the to,. the the '.. the U of the. that are to the U..\n",
      "The a as a'of a law, he\n",
      "The, the in, the. to the than. but\n",
      "The,, the the, other.. the year. battle. the\n",
      "Theamacare, which a'of ', Care Act, been a\n",
      "the,\n",
      "The government is is the to the\n",
      "theoked, care,. the the.. the\n",
      "The, which a, a,,<|endoftext|>\n"
     ]
    },
    {
     "name": "stderr",
     "output_type": "stream",
     "text": [
      "11301it [2:41:50,  1.26it/s]"
     ]
    },
    {
     "name": "stdout",
     "output_type": "stream",
     "text": [
      "loss=4.71446418762207\n",
      "\n",
      "Article:\n",
      "(CNN)  -- Two-time defending Fed Cup champions Italy battled back to level at 1-1 against Australia in Saturday's first-round tie in the women's tennis teams competition, while 2010 runners-up the United States went 2-0 behind against Belgium. In the two other World Group ties to be completed this weekend, France took at 2-0 lead over four-time champions Russia while the Czech Republic gained a 2-0 advantage over 2002 winners Slovakia, with two more singles and one doubles match left to play. There will be everything to play for at Hobart's Domain tennis center on Sunday, after wins for Australia's Jarmila Groth and Italy's Flavia Pennetta in the opening singles matches left the first-round tie finely poised. World number 31 Groth got the home side off to a good start in the Tasmanian city, fighting her way to an impressive 6-7 (4-7) 6-3 6-3 victory over reigning French Open champion Francesca Schiavone. \"It is my first Fed Cup singles and it is very important and exciting, and I beat \n",
      "\n",
      "Target:\n",
      "Italy level at 1-1 with Australia after opening day of 2011 Fed Cup competition.\n",
      "Belgium go 2-0 up against 2010 runners-up the U.S. after Saturday's singles matches.\n",
      "France lead Russia 2-0, Czech Republic have 2-0 advantage over Slovakia.\n",
      "The two remaining singles and one doubles matches in each tie will be played on Sunday.<|endoftext|>\n",
      "\n",
      "Predicted:\n",
      "World's of the-1 in a in a round. the.erer..\n",
      "Thegianium is through-1 in to Argentina in-up in lead.S. Open a's first..\n",
      "The's to's-1 in 6 Republic and been-1 win. the.\n",
      "The Argentine- will is the- win in the year. be held for Sunday.<|endoftext|>\n"
     ]
    },
    {
     "name": "stderr",
     "output_type": "stream",
     "text": [
      "11401it [2:43:14,  1.05it/s]"
     ]
    },
    {
     "name": "stdout",
     "output_type": "stream",
     "text": [
      "loss=4.543993949890137\n",
      "\n",
      "Article:\n",
      "A Harvard law professor who was named alongside Prince Andrew in his'sex slave' case has insisted he has never even met his accuser. Alan Dershowitz, who was part of O.J. Simpson's 'dream team', was named in court documents by a woman who says she was forced to have sex with friends of U.S. billionaire and convicted pedophile Jeffrey Epstein, including Prince Andrew. The woman, identified as Virginia Roberts, was just 17 at the time, making her a minor. But on Monday, Alan Dershowitz appeared on the Today show to speak out against the claims, which have resurfaced in a civil suit against the U.S. government for how it handled Epstein's case. Speaking from Miami, Dershowitz insisted the woman's claims against him are 'totally false and made up' and he is 'completely and absolutely' innocent. Scroll down for video. Anger: Prominent attorney Alan Dershowitz spoke out on the Today show on Monday morning to deny claims he had sex with an underage girl, as she has claimed in a civil lawsuit.\n",
      "\n",
      "Target:\n",
      "Alan Dershowitz has been named in a suit filed against the government for its handling of billionaire and convicted pedophile Jeffrey Epstein's case.\n",
      "Virginia Roberts claims she was just 17 when she was forced to have sex with Prince Andrew and law professor Alan Dershowitz, among others.\n",
      "The royal and Dershowitz have both denied any wrongdoing.\n",
      "On Monday, Dershowitz appeared on the Today show and said he did not even know who the woman is and had never met her.\n",
      "He said her two lawyers had failed to contact him or properly investigate the woman's claims against him, and said they should be disbarred.\n",
      "The attorneys said they fully investigated the claims and that Dershowitz has avoided their deposition requests.\n",
      "His wife also spoke out in his defense, calling the accusations 'laughable'<|endoftext|>\n",
      "\n",
      "Predicted:\n",
      "The P.,,, been charged as the statement that for the state. the murder of the. his..... wife.\n",
      "The is has he was'a years she was found to leave sex with her George. his enforcement. Pzh... who the.\n",
      "The couple couple herzhfield were, been the the wrongdoing.\n",
      "The Wednesday, the. said said said to the show show. said it was not know if if was ''s'' a been..\n",
      "The was he son children were been to get the. '.. case. '. him. but her she would not 'used..\n",
      "The couple has the were'the'that that the. had were. been a relationship..<|endoftext|>The lawyer, said to about court room and saying her'toto to'<|endoftext|>\n"
     ]
    },
    {
     "name": "stderr",
     "output_type": "stream",
     "text": [
      "11501it [2:44:41,  1.13s/it]"
     ]
    },
    {
     "name": "stdout",
     "output_type": "stream",
     "text": [
      "loss=5.252570152282715\n",
      "\n",
      "Article:\n",
      "By. Simon Walters. and Glen Owen. and Mike Browne. Shady: Tony Caplin was made chairman of the Public Works Loan Board by David Cameron. A vineyard owner cheated out of £100,000 by the Tory crony put in charge of billions of pounds of public money has denounced the bankrupt businessman as a  ‘devious b******’. Bill Hulme, who owns the Fleur Fields vineyard in Northamptonshire, backed calls for an inquiry into disgraced ex-Tory chief Tony Caplin, who was put in charge of Public Works Loan Board by David Cameron. ‘There is something wrong with the judgment of a Government that puts a bad man like that in charge of public money when he has duped innocent people like me and others out of enormous sums,’ said 71-year-old Mr Hulme. ‘The man is a devious b****** and had all the hallmarks of a conman. There should be an inquiry to establish the truth.’ Meanwhile, another businessman today speaks of how Caplin conned him out of another £250,000. The Mail on Sunday revealed last week how Caplin,\n",
      "\n",
      "Target:\n",
      "Vineyard owner tells how Tony Caplin cheated him out of £100,000.\n",
      "Bankrupt former Public Works Loan Board chief exposed by MoS last week.\n",
      "So why did David Cameron trust a conman with a budget of £60billion?\n",
      "Boasted of his ‘close links’ to Chancellor George Osborne, Cabinet Minister Oliver Letwin and Northern Ireland Secretary Theresa Villiers.\n",
      "Was rebuked by the Stock Exchange along with his ally, Tory Minister Francis Maude.\n",
      "Told a court he paid earnings from quangos into the account of his wife, Angela.\n",
      "Is linked to a banned Northern Ireland property developer once charged with fraud, but the case was dropped.\n",
      "Faces eviction from his £2.4 million London penthouse over rent arrears.<|endoftext|>\n",
      "\n",
      "Predicted:\n",
      "Formerincent was, of MPs he Blaires was to to of his1,000.\n",
      "He of said BBC-, him of executive. the-. year.\n",
      "He far he not Cameron's,'of for his £. £1,.\n",
      "The of said £ wife�c�’s be his Osborne's who,.... his Ireland.. May..comThe accuseduked to the BBC Exchange of with the wife of which MP,.ureen,<|endoftext|>Theory, £ to was £ for thearant,, the UK of his £. who Merkel<|endoftext|>He the to the £ from Ireland and in, in with the. and he judge was not by<|endoftext|>Heirm the of the wife1.5million�.. to. in the of...<|endoftext|>\n"
     ]
    },
    {
     "name": "stderr",
     "output_type": "stream",
     "text": [
      "11601it [2:46:04,  1.20it/s]"
     ]
    },
    {
     "name": "stdout",
     "output_type": "stream",
     "text": [
      "loss=5.259567737579346\n",
      "\n",
      "Article:\n",
      "By. Jack Doyle, Home Affairs Correspondent. PUBLISHED:. 20:27 EST, 5 March 2014. |. UPDATED:. 05:02 EST, 6 March 2014. Forcing your spouse to wear particular clothes, deciding which friends they can see and ‘excessive jealousy’ could become crimes as part of changes to domestic violence laws, it emerged last night. Ministers are considering whether to make forms of ‘psychological abuse’ which do not involve violence into criminal offences punishable by law. It follows a campaign from women’s groups who say there is too much focus on specific incidents in which someone was hurt by their partner. Ministers are considering whether to make forms of 'psychological abuse' which do not involve violence into criminal offence sas part of changes to domestic violence laws. Instead, they said, crimes of domestic abuse should include non-violent acts against wives or husbands. But last night, criminologists warned that any definition of abuse that included non-violent acts would hand huge ‘arbitra\n",
      "\n",
      "Target:\n",
      "Ministers considering making 'psychological abuse' punishable by law.\n",
      "Too much focus on incidents in which someone was hurt, say campaigners.\n",
      "Domestic Violence Law Reform Campaign said existing laws fail to take into account ‘power and control’ in relationships.\n",
      "Criminologists warn definition.\n",
      "of abuse including non-violent acts would hand ‘arbitrary’\n",
      "power to the police.<|endoftext|>\n",
      "\n",
      "Predicted:\n",
      "Theisters have the aun''' and to the.\n",
      "Thes of on the to the they to '. and..\n",
      "Butestic of says said said'it'were to'' '.�un��’\n",
      " the.\n",
      "Butomesinals said say of of\n",
      "They- of '-shirts and and be.�unrest�’\n",
      "The'be UK said\n",
      "\n"
     ]
    },
    {
     "name": "stderr",
     "output_type": "stream",
     "text": [
      "11701it [2:47:30,  1.10it/s]"
     ]
    },
    {
     "name": "stdout",
     "output_type": "stream",
     "text": [
      "loss=5.226963520050049\n",
      "\n",
      "Article:\n",
      "By. Daily Mail Reporter. PUBLISHED:. 08:35 EST, 18 June 2013. |. UPDATED:. 19:57 EST, 18 June 2013. Brady, sketched at the tribunal yesterday taking notes, is not allowed a pen while in the secure hospital in Merseyside, after he used it as a potential weapon. Moors Murderer Ian Brady walked out of his mental health tribunal yesterday, complaining he had 'listened to this ad nauseam'. But he was quickly slapped down by the judge who warned him 'we will hear the evidence.' The child killer even suggested a panel member had fallen asleep at one point during the hearing. The tribunal is being held because Brady wants to be judged sane and moved from maximum security Ashworth Hospital on Merseyside, where he is being force fed, to a prison, where he believes he will be free to starve himself to death. The 75-year-old complained that he had heard all the evidence before as a criminal psychologist was questioned over several hours about his mental health. At the end of Dr Adrian Grounds's ev\n",
      "\n",
      "Target:\n",
      "Ian Brady's pen taken away last year after he used it as a 'potential weapon'\n",
      "Murderer claimed he was 'afraid' of being attacked by other patients.\n",
      "Hospital lawyer says it shows he has delusions linked with schizophrenia.\n",
      "He walked out of the hearing claiming he had 'listened to this ad nauseam'\n",
      "Child killer's mental health tribunal began yesterday.\n",
      "He wants to get out of his high security hospital and die in jail.\n",
      "Brady has been on hunger strike for a decade and is force-fed via a tube.<|endoftext|>\n",
      "\n",
      "Predicted:\n",
      "Johnie, father was to from month after he was his to a 'f'''\n",
      "Heiliberer was he was 'araid' and his'by a men.\n",
      "Heanded was says he was'was not to to his.\n",
      "He was out of his car and he was beenno'' the''''<|endoftext|>He was has death health care has to.<|endoftext|>He was to be a of his life school and. is in a.<|endoftext|>Heanded said been jailed bail since in a month in is now.year. a child.<|endoftext|>\n"
     ]
    },
    {
     "name": "stderr",
     "output_type": "stream",
     "text": [
      "11801it [2:48:55,  1.30it/s]"
     ]
    },
    {
     "name": "stdout",
     "output_type": "stream",
     "text": [
      "loss=4.947793006896973\n",
      "\n",
      "Article:\n",
      "The Cyprus bailout crisis could lead to yet another country’s banks being put in peril. The cost of borrowing in Slovenia tripled last week amid market fears for the future of eurozone countries. Government bond rates soared from 1.2per cent to 4.26per cent, putting the future of the country’s nationally owned banks at risk. People waited in line outside the Laiki Bank branch in Nicosia, Cyprus, today as economists feared Slovenia would be the next country in need of a bailout. ‘Slovenia is now inevitably heading to a bailout, the eurozone shot itself completely in the foot following the Cyprus issue,’ said Tim Ash, head of European research at Standard Bank. The International Monetary Fund said the country’s banks ‘are under severe distress’ due to the size of bad loans sitting on their books. ‘The country has lost competitiveness since joining the euro in 2007 and it’s leading to slow economic collapse,’ said analyst Lars Christensen from Danske Bank. ‘The banks need recapitalisation\n",
      "\n",
      "Target:\n",
      "Government bond rates in Slovenia soared from 1.2per cent to 4.26per cent.\n",
      "The IMF said the country's banks were 'under severe distress'\n",
      "Slovenia needs to find £2.5bn over the course of the year to keep running.\n",
      "Cypriot banks refusing to release UK pension payments to expat Britons.\n",
      "President of Cyprus says there is 'no intention' of leaving the eurozone.<|endoftext|>\n",
      "\n",
      "Predicted:\n",
      "The has in of the and in £.7% cent. the.7% cent.\n",
      "But UK is the UK is most are 'a-''\n",
      "Theaysan's is to be a1.7million in the weekend of the country. £ the.\n",
      "Theclotelli are to build the'sers to beise-.<|endoftext|>But Obama the will it is noa'' to the the country.<|endoftext|>\n"
     ]
    },
    {
     "name": "stderr",
     "output_type": "stream",
     "text": [
      "11901it [2:50:18,  1.30it/s]"
     ]
    },
    {
     "name": "stdout",
     "output_type": "stream",
     "text": [
      "loss=5.173958778381348\n",
      "\n",
      "Article:\n",
      "Online greeting card service Moonpig has suspended its mobile apps following claims that a security flaw allowed access to any of its three million customer accounts. Mobile app developer Paul Price discovered the apparent bug while examining the security settings of the code Moonpig uses in its Android and iOS applications. He claimed that when submitting requests to the website through its app, it failed to authenticate the customers username and password. Scroll down for video. A warning on Moonpig's mobile app tells customers to use its main website after the company suspended access while investigating claims of a security flaw in the software the apps use to communicate with servers. Instead he said he found it was possible to put in any customer ID to access their account. This would allow potential hackers to place orders, retrieve portions of their credit card details and obtain other personal information from their account. 18 August 2013: Paul Price says he emailed Moonpig t\n",
      "\n",
      "Target:\n",
      "App developer Paul Price claims to have found a flaw in the software used by Moonpig's mobile apps to communicate with the company's servers.\n",
      "Loophole would give hackers access to credit card details and personal information of Moonpig's customers simply by using their customer ID.\n",
      "Moonpig is investigating the claims and has shut down its mobile apps.\n",
      "Moonpig's Android and iOS apps are used by 1.5 million customers.<|endoftext|>\n",
      "\n",
      "Predicted:\n",
      "Theroximately to Ryan to to be been a'of the UK. to the.... phone. the. the '. '.\n",
      "The'siles, be the to to the card to to the data. the...... the the own..\n",
      "The toiesations theinvestigation in  of  a down the own phone.\n",
      "The toiesations new is the are are not to the.5%..<|endoftext|>\n"
     ]
    },
    {
     "name": "stderr",
     "output_type": "stream",
     "text": [
      "12001it [2:51:46,  1.20it/s]"
     ]
    },
    {
     "name": "stdout",
     "output_type": "stream",
     "text": [
      "loss=4.740608215332031\n",
      "\n",
      "Article:\n",
      "Nigel Farage said Ukip could see victory  next year as he hit the campaign trail for Tory defector Mark Reckless today. The party leader looked confident as he spoke with voters in Rochester and Strood this morning after suggesting Ukip had 'enough momentum' behind it to sway the general election in May. Mr Farage, who faced criticism this week for saying HIV-carriers should not be allowed in Britain, added he would not consider a pre-election pact with the Conservative party. Scroll down for video. Nigel Farage was flanked by Tory defectors Mark Reckless (left) and Douglas Carswell (right) as he spoke in Rochester and Strood where the former is standing as a Ukip candidate in a by-election. 'I think that Ukip's in a position now (where) we've got momentum behind us, we've shown we can win under first past the post,' he said. 'An awful lot can happen in seven months for all of us, bu there is a possibility, if we get this right, that we could get enough MPs into Westminster next year t\n",
      "\n",
      "Target:\n",
      "Ukip leader said party had'momentum' behind it while campaigning.\n",
      "Shot down suggestion of a pre-election pact with the Conservatives.\n",
      "Said it was 'a possibility' Ukip will win in May's General Election.\n",
      "Mr Farage added he 'didn't believe a word' said by David Cameron.\n",
      "Joined Mark Reckless at by-election in Rochester and Strood.\n",
      "Tory defector campaigning for re-election in constituency after joining Ukip.<|endoftext|>\n",
      "\n",
      "Predicted:\n",
      "Formerip leader says he should beenno''' to the's '.\n",
      "He to to of''-election campaign with the PM.\n",
      "He he was 'no very of to'be the the. election Election.\n",
      "But Cameron says that waswould't be' job'\n",
      " he the Cameron's\n",
      "He the Reck to and the theelection in the. '.grass\n",
      "Heory MPector and to '-election to the. he the.\n",
      "\n"
     ]
    },
    {
     "name": "stderr",
     "output_type": "stream",
     "text": [
      "12101it [2:53:14,  1.10s/it]"
     ]
    },
    {
     "name": "stdout",
     "output_type": "stream",
     "text": [
      "loss=4.931375980377197\n",
      "\n",
      "Article:\n",
      "The BBC is a profligate and inept organisation that has lost public trust after a series of scandals, MPs will say today. In a landmark report, the MPs paint a devastating picture of an organisation that has blown millions and tries to be ‘all things to all people’. Bosses are also accused of blaming others for their blunders and showing ‘a mind-set completely out of kilter with public sector principles’. The MPs, who sit on the Commons culture committee, say the £145.50-a-year licence fee is anachronistic and failure to pay it should no longer be a criminal offence. Scroll down for video. Dark past: Former BBC star Jimmy Savile in 2006 with Helen Boaden, now Director of BBC Radio. Their 166-page report, Future of the BBC, says the corporation has squandered hundreds of millions of pounds, handing out sky-high pay-offs to sacked staff and wasting massive sums on vanity projects. And they highlight a ‘bleak period’ in the 1970s and 1980s when presenters including Jimmy Savile carried ou\n",
      "\n",
      "Target:\n",
      "Landmark report blasts BBC as inept and say it has lost public confidence.\n",
      "They say corporation has wasted hundreds of millions of pounds.\n",
      "Senior bosses accused of blaming others for their blunders.\n",
      "Highlights period in 70s and 80s when some presenters preyed on teens.\n",
      "The corporation’s governing body, the BBC Trust, be replaced with a more rigorous public service broadcasting commission;.\n",
      "The National Audit Office be given unfettered access to the BBC’s books to ensure it spends wisely;.\n",
      "Bosses should start taking responsibility for their mistakes;.\n",
      "The corporation should stop trying to do everything and drop services that threaten to crowd out rivals;.\n",
      "BBC cash should help pay for public service content on rival platforms.\n",
      "The Public Accounts Committee yesterday separately raised questions over Rona Fairhead’s role as chairman of the BBC Trust, as she has also sat on the board of the scandal-hit HSBC bank since 2004.<|endoftext|>\n",
      "\n",
      "Predicted:\n",
      "Themark, reveals to's'' the they will been control interest.\n",
      "The say the of been the of thousands of dollars.\n",
      "The Tory say of'' to''unders.\n",
      "The Court include of thes and the% of they ofers... the.\n",
      "The BBC of�s £ body is which BBC's, isheading by the £ than......\n",
      "The company Crime Office has used aaith to as to the UK.�s �. the the's...\n",
      "Thees say be the the for the own..\n",
      "The BBC of be the to pay the from the.. the to the. of..\n",
      "The has in be pay £ the money.. the..<|endoftext|>The BBC Health is has. for the about theBS's..�s � in a of the BBC.. which well said been been on the NHS. the BBC.based... the.<|endoftext|>\n"
     ]
    },
    {
     "name": "stderr",
     "output_type": "stream",
     "text": [
      "12201it [2:54:40,  1.07it/s]"
     ]
    },
    {
     "name": "stdout",
     "output_type": "stream",
     "text": [
      "loss=4.8824334144592285\n",
      "\n",
      "Article:\n",
      "With its walls left to crumble, and ivy winding its way through grandiose halls and staircases, it's easy to imagine how Overstone Hall might have fallen into disrepair because of a lack of funds for its upkeep. However, the Northamptonshire stately home's troubles run far deeper than that. Right from its first owner - Lord Overstone - it has been a resolutely unloved place and, since a fire ravaged the upper floors a decade ago, it has been up for sale for a mere £1million but without any interest. Scroll down for video. Overstone Hall in Northamptonshire was hated by Lord Overstone whose wife commissioned the vast property in 1860 and has never been wanted by any of its owners. The stately home boasts  114 rooms, occupying 20,000sq ft and sits on 50 acres of country parkland in Overstone, Northamptonshire. The 19th century stately home boasts 114 rooms in 50 acres of  country parkland in Overstone, Northamptonshire. Lady Overstone commissioned the  Elizabethan and Renaissance  style \n",
      "\n",
      "Target:\n",
      "Overstone Hall in Northamptonshire has been reclaimed by nature after a devastating fire in 2001.\n",
      "It was commissioned in 1860 by Lady Overstone, but was never wanted or admired by its owners.\n",
      "The Victorian stately home is now up for sale and boasts 114 rooms, occupying 20,000sq ft in 50 acres.\n",
      "It did not sell when it went on the market in 2010 for £1million, but the owners are asking for the same amount.\n",
      "Photographer Mathew Growcoot, 25, described the 19th century building as'surreal and haunting'<|endoftext|>\n",
      "\n",
      "Predicted:\n",
      "The the, of the Yorkshireptonshire, been founded the of the night.. the.\n",
      "The was found by the, a Gaga,, a the found seen to a. a owner.\n",
      "The pair- of was was now a to auction in is a in. and and years000... the years.\n",
      "The is not have the the was to to market for the, the1,. but it company will now for the first time.<|endoftext|>Theographer hashewsley,ao, who, was the 'th anniversary of in aa-' the'<|endoftext|>\n"
     ]
    },
    {
     "name": "stderr",
     "output_type": "stream",
     "text": [
      "12301it [2:56:03,  1.22it/s]"
     ]
    },
    {
     "name": "stdout",
     "output_type": "stream",
     "text": [
      "loss=4.5819268226623535\n",
      "\n",
      "Article:\n",
      "David Cameron has told fellow Nato leaders not to pay ransoms for hostages as it only increases kidnappings and funds further terrorism. The Prime Minister used the military alliance's two-day summit in Wales to hit out at countries who hand over multi-million pound sums to Islamist jihadis. His warning came as a Syrian translator for the charity employing British hostage David Haines described the moment when ISIS fighters sprang from two cars to kidnap the Briton last year. Scroll down for video. Speaking at the Nato summit in Wales, David Cameron today hit out at countries who pay multi-million pound ransoms to Islamic militants, insisting the payments only fund more terror. The UK has a policy of not paying ransoms to terrorists, but France and Italy are believed to have handed over large amounts to the groups for the release of their nationals. Mr Cameron used an address at the lavish official dinner in Cardiff Castle to remind fellow leaders of commitments signed up to at last ye\n",
      "\n",
      "Target:\n",
      "Cameron tells fellow leaders not to give huge sums to terror groups.\n",
      "He says payments increase threat to West and encourage kidnappings.\n",
      "PM was speaking to Western leaders at two-day Nato summit in Wales.\n",
      "Comes as British aid worker David Haines remains hostage of ISIS.\n",
      "A witness to his capture has now told of the moment militants took him.\n",
      "He says 'professional' gunmen seized Briton during car journey.<|endoftext|>\n",
      "\n",
      "Predicted:\n",
      "Primeameron has MPs Secretary are to be up'to the attacks.\n",
      "The said it will in to'Africa Syria 'appings.\n",
      "He said'to the Australia in the-day-.. Syria.\n",
      "Butomes after a troops workers in Cameronodgei, in. the.<|endoftext|>Hegency says be death, been been the the country.. place.<|endoftext|>The said itI' is are ins and the..<|endoftext|>\n"
     ]
    },
    {
     "name": "stderr",
     "output_type": "stream",
     "text": [
      "12401it [2:57:27,  1.11it/s]"
     ]
    },
    {
     "name": "stdout",
     "output_type": "stream",
     "text": [
      "loss=5.023590564727783\n",
      "\n",
      "Article:\n",
      "The girlfriend of a man who shot and killed a German exchange student in his garage broke down in tears as her 911 call was re-played to a court. Janelle Pflager's  distraught voice was heard by the court during the 911 call she made after her boyfriend, Markus Kaarma, allegedly shot and killed Diren Dede, 17. She described how the teenager was lying face down 'barely breathing' and bleeding from 'everywhere' in their Missoula, Montana home. Scroll down for video. Family: Marcus Kaarma, right, is followed into Missoula District Court by his girlfriend Janelle Pflager with their child, the court heard a 911 call made by Pflager about the events that unfolded. Fear: Kaarma allegedly felt targeted and increasingly anxious for the safety of Pflager and their infant son. She told dispatchers that Kaarma didn't help her as she tried to aid the  wounded high school student, who died a short time later at a Missoula hospital. Kaarma is charged with baiting the teenager into sneaking into his M\n",
      "\n",
      "Target:\n",
      "Janelle Pflager's distraught voice could be heard on the 911 call.\n",
      "Pflager said Diren Dede,17, was lying face down and 'barely breathing'\n",
      "Homeowner Markus Kaarma allegedly shot and killed the 17-year-old.\n",
      "He  had been burglarized twice in the days leading up to the shooting.\n",
      "He is charged with baiting the teenager into sneaking into his garage.\n",
      "Montana's'stand your ground' law allows homeowners to use deadly force.<|endoftext|>\n",
      "\n",
      "Predicted:\n",
      "Jet Dardan, mother was was not charged in the run of for\n",
      "Theaira was hezh-zh was who, was'to on in wasl'''\n",
      "The was tofor   was, told her killed her woman-year-old.\n",
      "The was  a inled and in in the back after to to a murder.\n",
      "The was now with murder and and murder to the. the death.\n",
      "They was motherl'''\n",
      " was the of the him-.\n",
      "\n"
     ]
    },
    {
     "name": "stderr",
     "output_type": "stream",
     "text": [
      "12501it [2:58:53,  1.10it/s]"
     ]
    },
    {
     "name": "stdout",
     "output_type": "stream",
     "text": [
      "loss=5.418099880218506\n",
      "\n",
      "Article:\n",
      "Balls were plucked out of thin air and hit onto the roof of Africa as the world's highest ever cricket match was played in a freezing ice crater near the summit of Mount Kilimanjaro  on Friday. The match, featuring past and present stars of the game including England limited overs coach Ashley Giles and South African fast bowling legend Makhaya Ntini, took place not far from the 19,341ft (5,895m) Tanzanian summit known as the roof of Africa. A group of more than 30 players, official umpires and support crew trekked almost 20,000 feet to the top of the great African peak over eight days in a bid to surpass the record set in 2009 on Mount Everest. Former England spinner Ashley Giles stands at slip during play in the world's highest cricket match near the summit of of Mount Kilimanjaro in Tanzania. The match was played on the ice-covered crater of Kilimanjaro, breaking the previous record set in 2009 on Mount Everest. The two teams, also including former England women's captain Clare Conn\n",
      "\n",
      "Target:\n",
      "Cricket match played near the summit of Mount Kilimanjaro in Tanzania beat world record for highest game.\n",
      "Ashley Giles and Makhaya Ntini were among the stars who took on the eight-day 20,000 feet trek in Africa.\n",
      "The group played a full Twenty20 match with official umpires just below the mountain's 5,895 metre summit.\n",
      "'This is absolutely incredible! We are playing cricket on the summit of Africa!' Giles tweeted from the mountain.<|endoftext|>\n",
      "\n",
      "Predicted:\n",
      "Theristet is is in the World of the Everest in in.. the. Australia.. the-.\n",
      "Theley Cole and theerta Touemanas and also the most in have the the run-day tour-000-.. the.\n",
      "The pair of in new- in in in the and andic and before the first. first-000km...\n",
      "TheI is the the and,'' the in,' the world of the,'<|endoftext|>'' the world,\n",
      "\n"
     ]
    },
    {
     "name": "stderr",
     "output_type": "stream",
     "text": [
      "12601it [3:00:22,  1.06s/it]"
     ]
    },
    {
     "name": "stdout",
     "output_type": "stream",
     "text": [
      "loss=5.0918378829956055\n",
      "\n",
      "Article:\n",
      "By. Daniel Miller. PUBLISHED:. 13:51 EST, 31 May 2012. |. UPDATED:. 07:28 EST, 1 June 2012. Smiling killer: Ensar Gol, 22, was found guilty of murdering his new bride and mother-in-law in a horrifying attack. A Turkish man, who knifed to death his new bride and mother-in-law in a prolonged and vicious attack, was today jailed for 36 years. Ensar Gol, 22, grinned in court again as he was jailed to two life sentences a day after he smirked at being told he would be going to prison for a long time. There were cheers in court when he was told of his fate by High Court Judge Mr Justice Supperstone. Gol repeatedly stabbed Michala, his. wife of six months, as she lay sleeping in their bed in Thame,. Oxfordshire, because he was unhappy in the marriage. Michala's mother Julie Sahin, who was watching television downstairs with a friend, rushed up to find Gol perched over her daughter repeatedly plunging the knife into her neck. As she tried to pull Gol away, she slipped to the floor where she wa\n",
      "\n",
      "Target:\n",
      "Smirking Ensar Gol, 22, repeatedly.\n",
      "stabbed his wife of six months.\n",
      "as she lay sleeping in their marital bed.\n",
      "He then turned the knife on her mother Julie Sahin as she desperately tried to pull him away from her daughter.\n",
      "Arrested after carrying his three-year-old daughter through the streets with the.\n",
      "murder weapon still in his hand.\n",
      "He had earlier bragged on Facebook: 'All the English papers will talk of me tomorrow.\n",
      "The crazy wolf Kurdish Turk who covered London in blood'\n",
      "Couple had met in the Turkish holiday resort of Bodrum in 2007.<|endoftext|>\n",
      "\n",
      "Predicted:\n",
      "Soke Khan,,,, 28, was charged\n",
      "Heed in wife and her years after\n",
      "He, was in with the home home and\n",
      "He was stabbed into girl and the head's,,, he was. to kill him.. his..\n",
      "Herested in he out mother-year-old daughter, the door. a family\n",
      "He-,, in the death.\n",
      "He was been thisaced his his and 'I my boy'' be him my''\n",
      "He family was was was, was in, the,\n",
      "Heouple were been with the last after in of the-, the.\n",
      "\n"
     ]
    },
    {
     "name": "stderr",
     "output_type": "stream",
     "text": [
      "12701it [3:01:50,  1.25s/it]"
     ]
    },
    {
     "name": "stdout",
     "output_type": "stream",
     "text": [
      "loss=4.761316776275635\n",
      "\n",
      "Article:\n",
      "By. David Kent. While this summer's World Cup has been heralded as one of the best ever, for many the most memorable moments come from the 1970s - the decade that football came to life. Television was finally allowing football stars to emerge - years before the age of Sky and BT Sport, Wayne Rooney and Lionel Messi - and it helped to establish what was an exciting period for the game. Taschen's new book The Age of Innocence: Football in the 1970s, shows off some of the most memorable names in football in all their glory: from George Best to Johan Cruyff, Pele to Dino Zoff. Victorious: World Cup-winning West Germany captain Franz Beckenbauer. celebrates a 2-1 victory over Holland. Delight: Pele embraces Brazilian goalkeeper Ado at the Estadio Azteca, in Mexico City, after Brazil beat Italy 4-1 to win the 1970 World Cup. International playboy: Manchester United's George Best stands outside his boutique in Manchester during the heyday of his career. Stunning shot: Brazil goalkeeper Emerso\n",
      "\n",
      "Target:\n",
      "The Age of Innocence: Football in the 1970s is a photographic study of the period where football came to life.\n",
      "Book shows off some stunning photography from football's most memorable decade.\n",
      "Essays from notable football writers accompany the beautiful photographs on show.\n",
      "The 70s saw the emergence of the footballing celebrity, with George Best at the fore.\n",
      "Colour television helped bring football to the public eye, shining into family homes.<|endoftext|>\n",
      "\n",
      "Predicted:\n",
      "The new World the,co is The is the worlds and a big of. the world. theyers. the.\n",
      "The, the the of of in theers World famous..\n",
      "The- in the toers,, World and. the.<|endoftext|>The former- have the World of the Yearers in in which the W. the end World<|endoftext|>Theombinho and the theers the top.. the. the..<|endoftext|>\n"
     ]
    },
    {
     "name": "stderr",
     "output_type": "stream",
     "text": [
      "12801it [3:03:16,  1.18it/s]"
     ]
    },
    {
     "name": "stdout",
     "output_type": "stream",
     "text": [
      "loss=4.87667989730835\n",
      "\n",
      "Article:\n",
      "I'm not mad at Tiger Woods, or Nike. Those people who are up-in-arms that Woods has climbed back to his standing as the world's No. 1 golfer and that he is no longer asking for our forgiveness are hypocrites. \"Winning Takes Care of Everything,\" proclaims his most recent Nike ad, as a focused Tiger crouches in the background. When I first saw the ad, I thought: Wow, bold move by Nike. It's an in-your-face, unapologetic statement. Back in 2009, when Woods took his public plunge into disgrace by cheating on his wife with a long list of silicone-enhanced beauties, we criticized him for being a fake. We said he'd lied not only to his wife but also to his adoring public, who apparently thought he was a near-God. We said he was the role model for our kids. But I never thought it was Tiger's job to teach my son how to be a responsible, loving husband or father. That's a job for parents. Of course, I'm not excusing his behavior, but I am not his judge. His wife and family -- and Tiger himself -\n",
      "\n",
      "Target:\n",
      "Nike's new ad about Tiger Woods proclaims \"winning takes care of everything\"\n",
      "Roxanne Jones: We criticized Woods for his infidelity, but he never cheated his sport.\n",
      "She says in the world of competitive sports you are only as good as your last big win.\n",
      "Jones: For me, nothing is better than someone who can get back up after a knockout.<|endoftext|>\n",
      "\n",
      "Predicted:\n",
      "Theiger is first book is the Woods's is,a\"\"\" the\"\n",
      "Heio is his says \" need for is the roleidelity, he he was met. career.\n",
      "He says he the world's the,, can not one a as a thoughts year..<|endoftext|>He: I of, I, a than ever else can't rid to. he good.<|endoftext|>\n"
     ]
    },
    {
     "name": "stderr",
     "output_type": "stream",
     "text": [
      "12901it [3:04:43,  1.11it/s]"
     ]
    },
    {
     "name": "stdout",
     "output_type": "stream",
     "text": [
      "loss=5.426982402801514\n",
      "\n",
      "Article:\n",
      "Four Jaguar car adverts have been banned for glorifying high speeds and ‘encouraging dangerous driving’. Advertising watchdogs were unhappy that Jaguar’s ‘irresponsible’ focus on the speed and acceleration of their cars was emphasised by the sound of engines being revved and high tempo music. But the rap could prove a blessing in disguise for the British sports and luxury car firm whose latest slogan is: ‘It’s good to be bad.’ Scroll down for video. 'Encouraging dangerous driving': Four Jaguar car adverts have been banned for glorifying high speeds. Ruling: Advertising watchdogs were unhappy that Jaguar's 'irresponsible' focus on the speed and acceleration of their cars was emphasised by the sound of engines being revved and high tempo music. The four banned video adverts on Jaguar's website showed a car driving at speed through a tunnel in Switzerland and crossing over the single white lines in the middle of a road, before driving across a mountain road at night. Another scene showed \n",
      "\n",
      "Target:\n",
      "Focus on speed 'emphasised by engine revving and high tempo music'\n",
      "Car shown driving at speed through a tunnel in Switzerland in advert.\n",
      "Another scene from ad shows car driving on open land at high speed.\n",
      "Ads end with logo alongside text saying: 'Jaguar. How alive are you?'\n",
      "Meanwhile Jaguar has launched its fastest and most powerful car ever.\n",
      "F-Type 'Project 7' comes with 186mph top speed and £140,000 price-tag.<|endoftext|>\n",
      "\n",
      "Predicted:\n",
      "The in the offotional'' the'amp' the- of'\n",
      "Thelo in from the of the'to the. the.\n",
      "The man, theverts the park into the to. the speed.\n",
      "Themitted are of a and the messages''Iturly'com is' not.\n",
      "The,, been a doors- the expensive-..\n",
      "Theirmshirts isreal'' and from a, and of of a1,000..a.<|endoftext|>\n"
     ]
    },
    {
     "name": "stderr",
     "output_type": "stream",
     "text": [
      "13001it [3:06:06,  1.22it/s]"
     ]
    },
    {
     "name": "stdout",
     "output_type": "stream",
     "text": [
      "loss=4.562810897827148\n",
      "\n",
      "Article:\n",
      "By. Tom Gardner. PUBLISHED:. 08:37 EST, 9 August 2013. |. UPDATED:. 11:31 EST, 9 August 2013. Sting and Sir Richard Branson have been accused of using Uruguay as a 'laboratory' for the drug reform after backing a campaign to legalise cannabis in the country. Uruguay is set to become the first nation in the world to allow anyone to grow, sell and consume cannabis freely. The legal changes were brought about after a high-profile lobbying and TV campaign by pressure group the Drug Policy Alliance, on which both Sting and Sir Richard Branson are honorary international board members. Meddling: Pop star Sting, left, and Sir Richard Branson, right, are honorary members of the international board of pro-reform pressure group Drug Policy Alliance which has been accused of meddling in Uruaguay's politics. But the involvement of this influential American drug law reform organisation has been branded as'meddling' and prompted a fierce backlash from critics of the legal changes. Gerardo Amarilla, o\n",
      "\n",
      "Target:\n",
      "Uruguay is set to become first country in the world to legalise marijuana.\n",
      "Pop star Sting is on board of pro-reform organisation Drug Policy Alliance.\n",
      "Liberalisation came after lobbying from the pressure group.\n",
      "Opponent of reform blasts Sting and Branson for'meddling'\n",
      "Branson said: 'This is a global problem, not a national issue'<|endoftext|>\n",
      "\n",
      "Predicted:\n",
      "The.uay, being to be the- in the UK. be action..\n",
      "Heular has to a the to the-Qaeda-ers....\n",
      "The is to to a of the UK on of\n",
      "Theonents of the and in to 'anson. theun of''\n",
      "Butitt and the 'I is the lot way of we a good security'<|endoftext|>\n"
     ]
    },
    {
     "name": "stderr",
     "output_type": "stream",
     "text": [
      "13101it [3:07:31,  1.35it/s]"
     ]
    },
    {
     "name": "stdout",
     "output_type": "stream",
     "text": [
      "loss=4.73981237411499\n",
      "\n",
      "Article:\n",
      "By. Emma Innes. PUBLISHED:. 06:18 EST, 3 May 2013. |. UPDATED:. 06:18 EST, 3 May 2013. You might view your weekly commute as nothing more than a routine part of your day, but new research suggests it is actually fraught with danger. The study has revealed that Britons typically risk serious injury 32 times during their weekly commute and 1.7 million have had to take time off work after getting hurt. Accidents most commonly occur due to crossing roads without looking properly, running down escalators and eating on the move. Britons typically risk serious injury 32 times during their weekly commute and 1.7 million have had to take time off work after getting hurt. Other hazards include jumping. onto a bus or train as the doors close, which 40 per cent of commuters admit. to doing - and nipping into the road to overtake slow walkers,. which 39 per cent do. Commuters also confess to waiting in the middle of the road for traffic to clear and 35 per cent say they duck and weave through crowd\n",
      "\n",
      "Target:\n",
      "1.7 million Britons have taken time off work due to a commuting injury.\n",
      "Dangers include crossing roads without looking and running down stairs.\n",
      "40 per cent jump onto trains, tubes and buses as the doors are closing.\n",
      "39 per cent walk in the road to avoid slow pedestrians on the pavement.\n",
      "Most dangerous time for train-users is 8.29am as the stations are busiest.<|endoftext|>\n",
      "\n",
      "Predicted:\n",
      "The,5% people have been to to the in to the new..\n",
      "Theiscovery of a the and a for more...\n",
      "But% cent of in the in but and other. well result. now.<|endoftext|>But- cent ofers the UK, be the-. the market.<|endoftext|>The of driving in the,related- a,5 per, a average of now.<|endoftext|>\n"
     ]
    },
    {
     "name": "stderr",
     "output_type": "stream",
     "text": [
      "13201it [3:08:55,  1.12it/s]"
     ]
    },
    {
     "name": "stdout",
     "output_type": "stream",
     "text": [
      "loss=4.849254608154297\n",
      "\n",
      "Article:\n",
      "The attorney for an 18-year-old man featured laughing and joking over the fate of the alleged Ohio rape victim in a leaked YouTube video described the teenager's behaviour as, 'disappointing, insensitive and unfortunate' on Monday night. Speaking at a brief press conference Dennis McNamara sought to distance his client, Michael Nodianos, from the horrific events alleged to have taken place in Steubenville Ohio last August. Mr McNamara said, 'After some sober reflection he is ashamed and embarrassed himself. He's sorry to victims and his family. He was not raised to act in this manner.' It also emerged on Monday that Mr Nodianos has been forced to drop out of Ohio State University, where he was on athletic scholarship, after receiving numerous threats. Scroll down for video. Laughing: A video from the night of the alleged attack shows Michael Nodianos, a former Steubenville student, laughing callously and referring to a girl getting raped while she was reportedly drunk. Tension: Many in\n",
      "\n",
      "Target:\n",
      "Rape case in Steubenville, Ohio drawing national attention.\n",
      "High school football stars allegedly raped teenage girl when she was 'unconscious' and they physically carried her to different parties.\n",
      "YouTube boy's attorney insists his client was not in the house when the alleged assault took place.\n",
      "Protest draws crowd of nearly 1,000 as sheriff says no further arrests will be made.\n",
      "Defense attorney wants trial moved to different town because he feels his client won't get a fair chance: 'This is a legal lynching'\n",
      "Similarities drawn to horrific gang rape in India of a 23-year-old student.<|endoftext|>\n",
      "\n",
      "Predicted:\n",
      "Theio's was theenville, California,, security in\n",
      "The-girlsers in shot the girls. he was shotaacceptable'\n",
      "'were. out. the..\n",
      "The of was father said he brother was'allowed the case. he incident attack. place.\n",
      "Thesecutionors to of the two,000 people a's. one evidence. be released.<|endoftext|>The Secretary general to to to the in of of was''.'t be any '.. 'I is a great'''\n",
      "The the, the the, members and the, the man-year-old girl.<|endoftext|>\n"
     ]
    },
    {
     "name": "stderr",
     "output_type": "stream",
     "text": [
      "13301it [3:10:22,  1.35it/s]"
     ]
    },
    {
     "name": "stdout",
     "output_type": "stream",
     "text": [
      "loss=5.144625186920166\n",
      "\n",
      "Article:\n",
      "Claims: Mass killer Elliot Rodger may have been addicted to Xanax, it has been claimed. Mass killer Elliot Rodger may have been dependent on the anti-anxiety drug Xanax which made him 'isolated and anxious' before his murder spree, it has been claimed. His family's spokesman previously said Rodger, who stabbed three students and shot another three dead before killing himself, was believed to have been taking the medication for around six months. Today a police source in Santa Barbara, California, told Radar Online that investigators are 'being told that he was likely addicted to Xanax'. The source said Rodger's parents, Hunger Games assistant director Peter and his wife Li Chin, had been doing 'basic research' on the prescription drug, whose medical name is alprazolam. 'Based on what they have read, they believe the tranquilizer made him more withdrawn, lonely, isolated, and anxious,' the source said. The drug's rarer side effects - experienced by more than one in 1,000 patients - incl\n",
      "\n",
      "Target:\n",
      "22-year-old mass shooter was thought to be taking drug for six months.\n",
      "Rare side effects include hallucinations, hostility and hyperactivity.\n",
      "Police source: 'Xanax isn’t blamed for causing Elliot to go on his rampage, but it probably wasn’t the best decision to have someone like him on it'\n",
      "Rodger's rampage killed seven including himself in Santa Barbara, California.<|endoftext|>\n",
      "\n",
      "Predicted:\n",
      "The-year-old man was was found to have a part- the years.\n",
      "He was were of the, and and a..\n",
      "The say said 'We is is''t�t know out the death' be to the life' but I's not't�\n",
      " know boy of to be a' a' the'\n",
      "Therig said lawyer, the people children in the Barbara, California,\n",
      "\n"
     ]
    },
    {
     "name": "stderr",
     "output_type": "stream",
     "text": [
      "13401it [3:11:44,  1.32it/s]"
     ]
    },
    {
     "name": "stdout",
     "output_type": "stream",
     "text": [
      "loss=4.826850891113281\n",
      "\n",
      "Article:\n",
      "By. James Rush. A derelict police station which used to house scores of police officers and dozens of prisoners is expected to fetch up to £1.5million after going up for sale. The three-storey building used to serve as the main police station for Poole, Dorset, until 2009 when the force moved to a state-of-the-art HQ nearby. The 1930s building, that sits on a 0.89 of an acre site, has lain mostly empty since then, at a cost of hundreds of thousands of pounds a year to the taxpayer. It has now gone on the market with interested parties invited to make sealed bids. The property includes the large L-shaped police station that has a front desk, offices, cafeteria and social club. There is also a separate custody suite with 18 cells, interview rooms, an enclosed exercise yard for prisoners and a car park. For sale: The derelict building, which used to serve as the main police station for Poole, Dorset, until 2009 when the force moved to a new HQ nearby, has gone up for sale. Interior: The p\n",
      "\n",
      "Target:\n",
      "Three-storey building used to serve as main police station for Poole, Dorset, until 2009 when force moved to new HQ.\n",
      "The 1930s building has lain mostly empty since then at a cost of hundreds of thousands of pounds a year to taxpayer.\n",
      "The property, which features cells and interview rooms, has gone on market with parties invited to make sealed bids.<|endoftext|>\n",
      "\n",
      "Predicted:\n",
      "The-bedroomy- in to be a a'station. £le. whichorset. and the. it. to the home.\n",
      "The £s, a beenorry and the and the, the £ of £ of thousands of dollars. year. the.\n",
      "The £ is which is a, a,, and been viral the. £.. the it..\n",
      "\n"
     ]
    },
    {
     "name": "stderr",
     "output_type": "stream",
     "text": [
      "13501it [3:13:08,  1.22it/s]"
     ]
    },
    {
     "name": "stdout",
     "output_type": "stream",
     "text": [
      "loss=4.517006874084473\n",
      "\n",
      "Article:\n",
      "By. Daily Mail Reporter. PUBLISHED:. 17:43 EST, 12 March 2014. |. UPDATED:. 12:06 EST, 13 March 2014. A federal judge Wednesday dismissed charges against an Indian diplomat whose New York arrest and strip search spurred an international scandal. A ruling filed today said Devyani Khobragade, India's former deputy consul-general, had diplomatic immunity when she was indicted on charges of fraudulently obtaining a work visa for her housekeeper and lying about the maid's pay January 9. But the ruling leaves open the possibility prosecutors could bring a new indictment against her. The U.S. attorney's office in Manhattan hasn't commented on its plans. Scroll down for video. Cleared: A federal judge dismissed charges against Devyani Khobragade, 39, saying she had diplomatic immunity when she was indicted on charges of fraudulently obtaining a work visa for her housekeeper. Khobragade's attorney, Daniel Arshack, said she feels the rule of law prevailed. ‘The law requires that any prosecution \n",
      "\n",
      "Target:\n",
      "Devyani Khobragade left the U.S. in January after being charged with visa fraud in trying to obtain a work visa for her NYC housekeeper.\n",
      "Her husband, a U.S. citizen, and two daughters - aged seven and four - remain in New York.\n",
      "Federal judge ruled Wednesday that the 39-year-old embassy official had diplomatic immunity at the time of her indictment.\n",
      "Khobragade's attorney said his client feels that rule of law prevailed.<|endoftext|>\n",
      "\n",
      "Predicted:\n",
      "Theast McC,aledan,, her dead.S. Supreme the 2012 being convicted with murder.. the to kill her $ in. her....\n",
      "The lawyer, who former.S. and, was her daughters were the 12 and a months and in the York.\n",
      "The judge ruled that that the woman-year-old was was was been been. the time of the..\n",
      "The-rag said- lawyer said she client was'she was her enforcement was<|endoftext|>\n"
     ]
    },
    {
     "name": "stderr",
     "output_type": "stream",
     "text": [
      "13601it [3:14:33,  1.20it/s]"
     ]
    },
    {
     "name": "stdout",
     "output_type": "stream",
     "text": [
      "loss=5.026278495788574\n",
      "\n",
      "Article:\n",
      "(CNN) -- The purpose of terror is to terrorize. Though questions remain about those responsible for the attack, the horrendous bombing attack on the Boston Marathon sought to instill paralyzing fear, inflict debilitating trauma and force us to forfeit our freedom. We cannot let terror win. We -- Americans and Israelis -- live in open societies that enable us to celebrate our freedom. Whether in arts festivals, sporting events, craft fairs or merely playing with our kids in the park, we are upholding those liberties in the face of those seeking to deny them. At the same time, we know that our freedoms must be defended, sometimes by men and women in uniform but most poignantly by people refusing to succumb to fear. We beat terror by refusing to submit. The people of Boston, who on the day of the bombing were celebrating liberty's birthday, will not submit. Our experience in Israel has taught us that communities and caregivers, police and security forces, elected leaders and volunteers ca\n",
      "\n",
      "Target:\n",
      "Michael Oren: Bombing in Boston sought to instill fear and inflict trauma.\n",
      "He says Boston and other communities threatened by terrorism refuse to submit.\n",
      "Israeli ambassador to U.S. says both nations know the pain terrorism causes.\n",
      "Oren: Remember the victims and refuse to be victimized by terrorism.<|endoftext|>\n",
      "\n",
      "Predicted:\n",
      "The Brown': The. the the, to be,, of the a.\n",
      "He says the Marathon the people are to the, to be.\n",
      "He:: the.S. military he sides are how U,..\n",
      "Hebe: It is U of the to be a, the,<|endoftext|>\n"
     ]
    },
    {
     "name": "stderr",
     "output_type": "stream",
     "text": [
      "13701it [3:16:00,  1.35it/s]"
     ]
    },
    {
     "name": "stdout",
     "output_type": "stream",
     "text": [
      "loss=4.8145599365234375\n",
      "\n",
      "Article:\n",
      "The second-in-command of al Qaeda in the Arabian Peninsula was killed in a recent counter-terrorism operation, the Yemeni government confirmed Thursday. Abu Sufyan al-Azdi, also known as Saeed al-Shahri, died after being wounded in the governorate of Saadah on November 28, said the Supreme National Security Committee of Yemen. He was also one of the most wanted men in Saudi Arabia. Al-Azdi was buried by militants linked to al Qaeda at an undisclosed location inside Yemen, the government said in a statement. Read more: Drone kills 6 suspected militants in Yemen. The confirmation comes a day after a prominent jihadist announced that al-Azdi died \"after a long journey in fighting the Zio-Crusader campaign.\" That jihadist was Abdulla bin Muhammad, who used his Twitter account to report the purported death. The tweet was reported by SITE Intelligence Group, which monitors global terrorism. Al-Azdi was co-founder and deputy emir of al Qaeda in the Arabian Peninsula and had \"survived multiple\n",
      "\n",
      "Target:\n",
      "Al Qaeda's No. 2 leader in Arabia was Abu Sufyan al-Azdi, also named Saeed al-Shahri.\n",
      "Yemen confirms he was killed in a November counter-terrorism operation.\n",
      "A jihadist had tweeted the death earlier this week, SITE Intelligence Group says.\n",
      "Al-Azdi was buried by militants at an undisclosed place in Yemen, officials say.<|endoftext|>\n",
      "\n",
      "Predicted:\n",
      "NEW- leader president. 1 killed was the was killed-ura.-Assad.. a killed.eed.-Assadabairi.\n",
      "Heemen was the was killed in the U attack,fire border.\n",
      "He U official been the attack of this year. theotom says says says.<|endoftext|>The-Sh,ed killed in the in the airport- in the. Texas say.<|endoftext|>\n"
     ]
    },
    {
     "name": "stderr",
     "output_type": "stream",
     "text": [
      "13801it [3:17:23,  1.13it/s]"
     ]
    },
    {
     "name": "stdout",
     "output_type": "stream",
     "text": [
      "loss=5.1926374435424805\n",
      "\n",
      "Article:\n",
      "The PM knows that Nando’s — the fast food chain that’s spreading across the country like wildfire — crosses class, political and ethnic divisions. Forget the NHS, tax cuts or TV debates. The way to win British people’s hearts at the next election is through their stomachs. When David Cameron told a hip youth radio station this week he’d like to take world leaders to lunch at Nando’s — rather than a Harvester or a Gordon Ramsay restaurant — he knew what he was talking about. Not only has he visited a Bristol outlet of Nando’s — the fast food chicken chain that’s spreading across the country like wildfire — but he also knows that the restaurant crosses class, political and ethnic divisions. Whoever gets the Nando’s vote at the election will sweep the nation. There are 333 Nando’s outlets in Britain; 1,000 in all, in 35 countries. Main markets are Britain, Australia and South Africa. But Nando’s is big in America, too. When President Obama spoke at the University of Cape Town in 2013, he \n",
      "\n",
      "Target:\n",
      "Cameron told radio station he would like to take world leaders to Nando's.\n",
      "He was spotted dining at Bristol branch in May 2013 and posed for selfie.\n",
      "Whoever get Nando's election vote will sweep nation - there are 333 outlets.\n",
      "Success of chicken shop is down to its secret ingredient peri-peri sauce.\n",
      "Also has the Black Card, which entitles exclusive owners to meals for life.\n",
      "Nando’s made a £58.2 million profit in Britain in 2013 and is snowballing.<|endoftext|>\n",
      "\n",
      "Predicted:\n",
      "Theameron's Mail show to would be to be a's in beairo..\n",
      "But says a by by the's in London.. the. the.\n",
      "Heerawayasser, ', in be inof ofelection. ..\n",
      "Butful the-, a to the own,, cent.based-..<|endoftext|>It said a highestpool,000 is in,,, be. the.<|endoftext|>TheHS says�s most by £1m8m in in the� the, has now in a<|endoftext|>\n"
     ]
    },
    {
     "name": "stderr",
     "output_type": "stream",
     "text": [
      "13901it [3:18:47,  1.21it/s]"
     ]
    },
    {
     "name": "stdout",
     "output_type": "stream",
     "text": [
      "loss=5.190968990325928\n",
      "\n",
      "Article:\n",
      "By. Lucy Crossley. An NHS worker defrauded a leading cancer hospital out of more than £640,000 and spent the money meant for life-saving drugs on Gucci handbags and her wedding, a court heard. Stacey Tipler, 32, is accused of exploiting her position in the accounts department of the Royal Marsden Hospital Trust in London to alter invoices and divert £642,827.98 that should have been paid to the hospital’s suppliers. Tipler changed the bank details of genuine suppliers for the hospital, one of the world's top cancer units, to a group of people recruited by her 33-year-old fiancé Scott Chaplin, Southwark Crown Court was told. Hospital: Stacey Tipler, 32, is accused of defrauding the Royal Marsden Hospital Trust in London (pictured) out of more than £640,000 and spending the money on handbags and her wedding. It is alleged that once the money had been transferred it was then withdrawn and split among gang members, with Tipler using her share to buy Gucci handbags and a model helicopter, a\n",
      "\n",
      "Target:\n",
      "Stacey Tipler accused of exploiting her role at Royal Marsden Hospital Trust.\n",
      "She used her position in accounts department to alter invoices, court told.\n",
      "Accused of diverting funds to a group recruited by her fiance Scott Chaplin.\n",
      "Money paid into other accounts and withdrawn in alleged laundering scam.\n",
      "Tipler spent her money on handbags and paying for her wedding, court told.\n",
      "The couple and three others deny fraud charges during ongoing trial.<|endoftext|>\n",
      "\n",
      "Predicted:\n",
      "Kuart's, was of havinging daughter in a Collegeden Hospital..\n",
      "She was to to to a for, pay her... a..\n",
      "Sheused of'andham to pay'of to her mothere...\n",
      "She- £ the patients of has for court to..\n",
      "Buted has £ £ for aouts to is £ £.. court heard.\n",
      "She judge had her children were the charges. the..<|endoftext|>\n"
     ]
    },
    {
     "name": "stderr",
     "output_type": "stream",
     "text": [
      "13964it [3:19:42,  1.17it/s]\n"
     ]
    },
    {
     "ename": "KeyboardInterrupt",
     "evalue": "",
     "output_type": "error",
     "traceback": [
      "\u001b[0;31m---------------------------------------------------------------------------\u001b[0m",
      "\u001b[0;31mKeyboardInterrupt\u001b[0m                         Traceback (most recent call last)",
      "Cell \u001b[0;32mIn[20], line 34\u001b[0m\n\u001b[1;32m     28\u001b[0m dec_out, _, _ \u001b[38;5;241m=\u001b[39m dec(enc_out, enc_hid, target_packed)\n\u001b[1;32m     30\u001b[0m loss \u001b[38;5;241m=\u001b[39m loss_f(\n\u001b[1;32m     31\u001b[0m         dec_out\u001b[38;5;241m.\u001b[39mdata\u001b[38;5;241m.\u001b[39mview(\u001b[38;5;241m-\u001b[39m\u001b[38;5;241m1\u001b[39m, dec_out\u001b[38;5;241m.\u001b[39mdata\u001b[38;5;241m.\u001b[39msize(\u001b[38;5;241m-\u001b[39m\u001b[38;5;241m1\u001b[39m)),\n\u001b[1;32m     32\u001b[0m         target_packed\u001b[38;5;241m.\u001b[39mdata\u001b[38;5;241m.\u001b[39mview(\u001b[38;5;241m-\u001b[39m\u001b[38;5;241m1\u001b[39m)\n\u001b[1;32m     33\u001b[0m )\n\u001b[0;32m---> 34\u001b[0m loss\u001b[38;5;241m.\u001b[39mbackward()\n\u001b[1;32m     35\u001b[0m enc_optimizer\u001b[38;5;241m.\u001b[39mstep()\n\u001b[1;32m     36\u001b[0m dec_optimizer\u001b[38;5;241m.\u001b[39mstep()\n",
      "File \u001b[0;32m~/miniconda3/envs/nlp/lib/python3.12/site-packages/torch/_tensor.py:525\u001b[0m, in \u001b[0;36mTensor.backward\u001b[0;34m(self, gradient, retain_graph, create_graph, inputs)\u001b[0m\n\u001b[1;32m    515\u001b[0m \u001b[38;5;28;01mif\u001b[39;00m has_torch_function_unary(\u001b[38;5;28mself\u001b[39m):\n\u001b[1;32m    516\u001b[0m     \u001b[38;5;28;01mreturn\u001b[39;00m handle_torch_function(\n\u001b[1;32m    517\u001b[0m         Tensor\u001b[38;5;241m.\u001b[39mbackward,\n\u001b[1;32m    518\u001b[0m         (\u001b[38;5;28mself\u001b[39m,),\n\u001b[0;32m   (...)\u001b[0m\n\u001b[1;32m    523\u001b[0m         inputs\u001b[38;5;241m=\u001b[39minputs,\n\u001b[1;32m    524\u001b[0m     )\n\u001b[0;32m--> 525\u001b[0m torch\u001b[38;5;241m.\u001b[39mautograd\u001b[38;5;241m.\u001b[39mbackward(\n\u001b[1;32m    526\u001b[0m     \u001b[38;5;28mself\u001b[39m, gradient, retain_graph, create_graph, inputs\u001b[38;5;241m=\u001b[39minputs\n\u001b[1;32m    527\u001b[0m )\n",
      "File \u001b[0;32m~/miniconda3/envs/nlp/lib/python3.12/site-packages/torch/autograd/__init__.py:267\u001b[0m, in \u001b[0;36mbackward\u001b[0;34m(tensors, grad_tensors, retain_graph, create_graph, grad_variables, inputs)\u001b[0m\n\u001b[1;32m    262\u001b[0m     retain_graph \u001b[38;5;241m=\u001b[39m create_graph\n\u001b[1;32m    264\u001b[0m \u001b[38;5;66;03m# The reason we repeat the same comment below is that\u001b[39;00m\n\u001b[1;32m    265\u001b[0m \u001b[38;5;66;03m# some Python versions print out the first line of a multi-line function\u001b[39;00m\n\u001b[1;32m    266\u001b[0m \u001b[38;5;66;03m# calls in the traceback and some print out the last line\u001b[39;00m\n\u001b[0;32m--> 267\u001b[0m _engine_run_backward(\n\u001b[1;32m    268\u001b[0m     tensors,\n\u001b[1;32m    269\u001b[0m     grad_tensors_,\n\u001b[1;32m    270\u001b[0m     retain_graph,\n\u001b[1;32m    271\u001b[0m     create_graph,\n\u001b[1;32m    272\u001b[0m     inputs,\n\u001b[1;32m    273\u001b[0m     allow_unreachable\u001b[38;5;241m=\u001b[39m\u001b[38;5;28;01mTrue\u001b[39;00m,\n\u001b[1;32m    274\u001b[0m     accumulate_grad\u001b[38;5;241m=\u001b[39m\u001b[38;5;28;01mTrue\u001b[39;00m,\n\u001b[1;32m    275\u001b[0m )\n",
      "File \u001b[0;32m~/miniconda3/envs/nlp/lib/python3.12/site-packages/torch/autograd/graph.py:744\u001b[0m, in \u001b[0;36m_engine_run_backward\u001b[0;34m(t_outputs, *args, **kwargs)\u001b[0m\n\u001b[1;32m    742\u001b[0m     unregister_hooks \u001b[38;5;241m=\u001b[39m _register_logging_hooks_on_whole_graph(t_outputs)\n\u001b[1;32m    743\u001b[0m \u001b[38;5;28;01mtry\u001b[39;00m:\n\u001b[0;32m--> 744\u001b[0m     \u001b[38;5;28;01mreturn\u001b[39;00m Variable\u001b[38;5;241m.\u001b[39m_execution_engine\u001b[38;5;241m.\u001b[39mrun_backward(  \u001b[38;5;66;03m# Calls into the C++ engine to run the backward pass\u001b[39;00m\n\u001b[1;32m    745\u001b[0m         t_outputs, \u001b[38;5;241m*\u001b[39margs, \u001b[38;5;241m*\u001b[39m\u001b[38;5;241m*\u001b[39mkwargs\n\u001b[1;32m    746\u001b[0m     )  \u001b[38;5;66;03m# Calls into the C++ engine to run the backward pass\u001b[39;00m\n\u001b[1;32m    747\u001b[0m \u001b[38;5;28;01mfinally\u001b[39;00m:\n\u001b[1;32m    748\u001b[0m     \u001b[38;5;28;01mif\u001b[39;00m attach_logging_hooks:\n",
      "\u001b[0;31mKeyboardInterrupt\u001b[0m: "
     ]
    }
   ],
   "source": [
    "loss_f = nn.NLLLoss()\n",
    "bs = 8\n",
    "train_dataloader = DataLoader(ds['train'], batch_size=bs, shuffle=True)\n",
    "\n",
    "epochs = 1\n",
    "for e in range(epochs):\n",
    "  for i, data in tqdm(enumerate(train_dataloader)):\n",
    "    enc_optimizer.zero_grad()\n",
    "    dec_optimizer.zero_grad()\n",
    "    art, summ = data['article'], data['highlights']\n",
    "    art = tokenizer(art)['input_ids']\n",
    "    summ = tokenizer(summ)['input_ids']\n",
    "    for s in summ:\n",
    "      s.append(EOS_token)\n",
    "    art_lens_desc_idx = np.argsort([len(a) for a in art])[::-1]\n",
    "    reverse_art_sort = np.argsort(art_lens_desc_idx) \n",
    "    summ_lens_desc_idx = np.argsort([len(a) for a in summ])[::-1]\n",
    "    art_to_summ_indexes = reverse_art_sort[summ_lens_desc_idx]\n",
    "    art_packed = pack_sequence([torch.tensor(art[i]) for i in art_lens_desc_idx]).to(device)\n",
    "    target_packed = pack_sequence([torch.tensor(summ[i]) for i in summ_lens_desc_idx]).to(device)\n",
    "\n",
    "    enc_out, enc_hid = enc(art_packed)\n",
    "    enc_out = unpack_sequence(enc_out)\n",
    "    enc_out = torch.stack([o[-1] for o in enc_out])\n",
    "    enc_out = enc_out[art_to_summ_indexes]\n",
    "    enc_hid = enc_hid[:, art_to_summ_indexes, :]\n",
    "      \n",
    "    dec_out, _, _ = dec(enc_out, enc_hid, target_packed)\n",
    "      \n",
    "    loss = loss_f(\n",
    "            dec_out.data.view(-1, dec_out.data.size(-1)),\n",
    "            target_packed.data.view(-1)\n",
    "    )\n",
    "    loss.backward()\n",
    "    enc_optimizer.step()\n",
    "    dec_optimizer.step()\n",
    "      \n",
    "    with torch.no_grad():\n",
    "      if i % 100 == 0:\n",
    "        print(f\"loss={loss}\")\n",
    "        print(\"\\nArticle:\")\n",
    "        print(tokenizer.decode(unpack_sequence(art_packed)[art_to_summ_indexes[0]])[:1000])\n",
    "        print(\"\\nTarget:\")\n",
    "        print(tokenizer.decode(unpack_sequence(target_packed)[0]))\n",
    "        print(\"\\nPredicted:\")\n",
    "        print(decode(unpack_sequence(dec_out)[0][:,0,:]))\n"
   ]
  },
  {
   "cell_type": "code",
   "execution_count": 22,
   "metadata": {},
   "outputs": [],
   "source": [
    "torch.save(dec, \"dec.w\")"
   ]
  }
 ],
 "metadata": {
  "accelerator": "GPU",
  "colab": {
   "gpuType": "T4",
   "provenance": []
  },
  "kernelspec": {
   "display_name": "nlp",
   "language": "python",
   "name": "nlp"
  },
  "language_info": {
   "codemirror_mode": {
    "name": "ipython",
    "version": 3
   },
   "file_extension": ".py",
   "mimetype": "text/x-python",
   "name": "python",
   "nbconvert_exporter": "python",
   "pygments_lexer": "ipython3",
   "version": "3.12.4"
  }
 },
 "nbformat": 4,
 "nbformat_minor": 4
}
